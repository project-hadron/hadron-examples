{
 "cells": [
  {
   "cell_type": "markdown",
   "id": "5b295924",
   "metadata": {
    "tags": []
   },
   "source": [
    "# Logistic Regression\n",
    "Logistic regression is a type of statistical analysis used to predict the probability of an event occurring based on certain independent variables. In logistic regression, a logistic function is used to model the probability of a certain class or event existing such as a customer buying a product or a patient having a disease. The independent variables are then used to predict the probability of the event occurring.\n",
    "\n",
    "## with Regularisation\n",
    "\n",
    "Logistic regression with gradient descent is an effective and efficient algorithm that can be used to solve a wide variety of classification problems, from binary (yes/no) to multi-class. It is a supervised learning algorithm that uses a sigmoid or logistic function to map the inputs to the class labels. Gradient descent is used to minimize the cost function associated with logistic regression, which is based on the sum of the squared errors of the predicted values. This allows the algorithm to learn the weights associated with the features and to reduce the error in its prediction. The combination of logistic regression and gradient descent is a powerful tool that can be used to build accurate models for predicting the outcomes of various kinds of data."
   ]
  },
  {
   "cell_type": "code",
   "execution_count": 1,
   "id": "2b9dc78e",
   "metadata": {
    "tags": []
   },
   "outputs": [],
   "source": [
    "# saves you having to use print as all exposed variables are printed in the cell\n",
    "from IPython.core.interactiveshell import InteractiveShell\n",
    "InteractiveShell.ast_node_interactivity = \"all\""
   ]
  },
  {
   "cell_type": "code",
   "execution_count": 2,
   "id": "6a0a7e20",
   "metadata": {},
   "outputs": [],
   "source": [
    "import os\n",
    "import numpy as np\n",
    "import pandas as pd\n",
    "import matplotlib.pyplot as plt\n",
    "from ds_discovery import SyntheticBuilder, ModelsBuilder, Commons\n",
    "from sklearn.model_selection import train_test_split\n",
    "\n",
    "%matplotlib inline"
   ]
  },
  {
   "cell_type": "markdown",
   "id": "64e7ccf0",
   "metadata": {},
   "source": [
    "## Synthetic Binary Classification\n"
   ]
  },
  {
   "cell_type": "code",
   "execution_count": 3,
   "id": "55877bc3",
   "metadata": {},
   "outputs": [],
   "source": [
    "sb = SyntheticBuilder.from_memory()"
   ]
  },
  {
   "cell_type": "code",
   "execution_count": 4,
   "id": "c71aaaba",
   "metadata": {},
   "outputs": [],
   "source": [
    "# build a sample dataframe\n",
    "sample = 1_000\n",
    "df = sb.tools.frame_starter(sample)\n",
    "df['bias'] = sb.tools.get_noise(size=sample)\n",
    "\n",
    "# Modify the features for classification to change the features\n",
    "df = sb.tools.model_synthetic_classification(canonical=df, n_features=3, n_informative=3, n_redundant=0, seed=42)\n"
   ]
  },
  {
   "cell_type": "code",
   "execution_count": 5,
   "id": "9322e2e5",
   "metadata": {},
   "outputs": [],
   "source": [
    "canonical = df.copy().drop('target', axis=1)"
   ]
  },
  {
   "cell_type": "markdown",
   "id": "f9fed091",
   "metadata": {},
   "source": [
    "## Split (test, train)"
   ]
  },
  {
   "cell_type": "code",
   "execution_count": 6,
   "id": "2e7cbe5a",
   "metadata": {},
   "outputs": [],
   "source": [
    "# select X, Y and convert to numpy matrix\n",
    "X = df.drop('target', axis=1).to_numpy()\n",
    "y = df['target'].to_numpy().astype(np.int32)"
   ]
  },
  {
   "cell_type": "code",
   "execution_count": 7,
   "id": "a62a5a1e",
   "metadata": {},
   "outputs": [],
   "source": [
    "X_train, X_test, y_train, y_test = train_test_split(X, y, test_size=0.30, random_state=42)"
   ]
  },
  {
   "cell_type": "markdown",
   "id": "1b2a99a9",
   "metadata": {},
   "source": [
    "## Model (logistic regression)\n",
    "\n",
    "### Sigmoid function\n",
    "$$ \\sigma( w^T x + b) $$\n",
    "\n",
    "### forward (probability of y given x)\n",
    "$$ \\frac{1}{1 + e^{-(w^T x + b)}} $$\n"
   ]
  },
  {
   "cell_type": "code",
   "execution_count": 8,
   "id": "6fa35b16",
   "metadata": {},
   "outputs": [],
   "source": [
    "# randomly initialize the weights\n",
    "D = X_train.shape[1]\n",
    "w = np.random.randn(D)\n",
    "b = 0"
   ]
  },
  {
   "cell_type": "code",
   "execution_count": 9,
   "id": "f9023b79",
   "metadata": {},
   "outputs": [],
   "source": [
    "# predictions\n",
    "def sigmoid(a):\n",
    "    return 1 / (1 + np.exp(-a))\n",
    "\n",
    "# forward gate\n",
    "def forward(X, w, b):\n",
    "    return sigmoid(X.dot(w) + b)"
   ]
  },
  {
   "cell_type": "markdown",
   "id": "429b8ce6",
   "metadata": {},
   "source": [
    "## Performance\n",
    "\n",
    "### Log likelyhood\n",
    "$$ \\mathcal{L} = \\sum_{i=1}^{N}t_i\\log(n_i)+(1-t_i)\\log(1-n_i) $$\n",
    "\n",
    "### Cross-entropy error\n",
    "$$ \\mathcal{J} = -\\sum_{i=1}^N t_i \\log(n_i) + (1-t_i) \\log(1-n_i) $$\n",
    "\n",
    "note: Cross-entropy error is just the negative of Log likelyhood therefore raising the Log likelyhood is like lowering the Cross-entropy error"
   ]
  },
  {
   "cell_type": "code",
   "execution_count": 10,
   "id": "a8cf5396",
   "metadata": {},
   "outputs": [],
   "source": [
    "# classification rate: target against prediction\n",
    "def classification_rate(y, P):\n",
    "    return np.mean(y == P)\n",
    "\n",
    "# cross entropy loss: target agaist P of y=1 given X\n",
    "def cross_entropy(y, Py):\n",
    "    return -np.mean(y * np.log(Py) - (1 - y) * np.log(1 - Py))"
   ]
  },
  {
   "cell_type": "markdown",
   "id": "c9380fa7",
   "metadata": {},
   "source": [
    "## Model Train\n",
    "\n",
    "### Gradient Decent with respect to weight\n",
    "$$ \\frac{\\delta J}{\\delta w} = \\sum_{n=1}^{N} \\left( y_n - t_n \\right) x_n \\quad \\Leftrightarrow \\quad X_T \\left( Y - T \\right) $$\n",
    "\n",
    "### Gradient Decent with respect to bias\n",
    "$$ \\frac{\\delta J}{\\delta w_0} = \\sum_{n=1}^{N} (y_n - t_n)x_{n0} = \\sum_{n=1}^{N} (y_n - t_n) \\quad \\Leftrightarrow \\quad \\sum \\left( Y - T \\right) $$\n",
    "\n"
   ]
  },
  {
   "cell_type": "code",
   "execution_count": 11,
   "id": "f8bbdf31",
   "metadata": {},
   "outputs": [],
   "source": [
    "train_cost = []\n",
    "test_cost = []\n",
    "final_w = None\n",
    "final_b = None\n",
    "\n",
    "# adjust to model to improve performance and cost\n",
    "learning_rate = 0.0001\n",
    "epochs = 1_000\n",
    "\n",
    "for i in range(epochs):\n",
    "    \n",
    "    # predict\n",
    "    Py_train = forward(X_train, w, b)\n",
    "    Py_test = forward(X_test, w, b)\n",
    "    \n",
    "    # accumulate costs\n",
    "    c_train = cross_entropy(y_train, Py_train)\n",
    "    c_test = cross_entropy(y_test, Py_test)\n",
    "    \n",
    "    # accumulate costs in a list\n",
    "    train_cost.append(c_train)\n",
    "    test_cost.append(c_test)\n",
    "    \n",
    "    # update the weight with learning rate and gradient decent\n",
    "    w -= learning_rate * X_train.T.dot(Py_train - y_train)\n",
    "    b -= learning_rate * (Py_train - y_train).sum()\n",
    "    \n",
    "    if i == epochs-1:\n",
    "        final_w = w\n",
    "        final_b = b\n",
    "    \n",
    "    "
   ]
  },
  {
   "cell_type": "code",
   "execution_count": 12,
   "id": "06f1528c",
   "metadata": {},
   "outputs": [
    {
     "name": "stdout",
     "output_type": "stream",
     "text": [
      "Train classification rate 0.9185714285714286\n",
      "Test classification rate 0.89\n"
     ]
    }
   ],
   "source": [
    "# test our classification rate. Round the prob y to 1 and 0\n",
    "acc_train = classification_rate(y_train, np.around(Py_train))\n",
    "print(f\"Train classification rate {acc_train}\")\n",
    "\n",
    "acc_test = classification_rate(y_test, np.around(Py_test))\n",
    "print(f\"Test classification rate {acc_test}\")\n"
   ]
  },
  {
   "cell_type": "code",
   "execution_count": 13,
   "id": "0d5008c5",
   "metadata": {},
   "outputs": [
    {
     "data": {
      "image/png": "[encoded data removed]",
      "text/plain": [
       "<Figure size 640x480 with 1 Axes>"
      ]
     },
     "metadata": {},
     "output_type": "display_data"
    }
   ],
   "source": [
    "# plot our cost error\n",
    "plt.plot(train_cost, label=\"train cost\")\n",
    "plt.plot(test_cost, label=\"test cost\")\n",
    "plt.legend();"
   ]
  },
  {
   "cell_type": "code",
   "execution_count": 14,
   "id": "5547d60a",
   "metadata": {},
   "outputs": [
    {
     "name": "stdout",
     "output_type": "stream",
     "text": [
      "weights: [-0.60127439  3.1320576   0.74953463  0.40254778]\n",
      "\n",
      "bias: 0.7205716603601828\n"
     ]
    }
   ],
   "source": [
    "print(f\"weights: {final_w}\")\n",
    "print(f\"\\nbias: {final_b}\")"
   ]
  },
  {
   "cell_type": "markdown",
   "id": "d48f0f8b",
   "metadata": {
    "tags": []
   },
   "source": [
    "## Model Predict\n",
    "As an example let's extend our ModelsBuilder to includes a new bespoke model as part of our intent actions."
   ]
  },
  {
   "cell_type": "code",
   "execution_count": 15,
   "id": "6c0c2b7a",
   "metadata": {},
   "outputs": [],
   "source": [
    "from ds_discovery.intent.models_intent import ModelsIntentModel, Commons\n",
    "from ds_discovery.managers.models_property_manager import ModelsPropertyManager\n",
    "from ds_discovery import ModelsBuilder"
   ]
  },
  {
   "cell_type": "markdown",
   "id": "d7549cf0-acee-45f4-8929-ef5d91d7232b",
   "metadata": {},
   "source": [
    "### Extending our three classes"
   ]
  },
  {
   "cell_type": "code",
   "execution_count": 16,
   "id": "ddd4e3fb",
   "metadata": {},
   "outputs": [],
   "source": [
    "class CustomModel(ModelsBuilder):\n",
    "\n",
    "    @classmethod\n",
    "    def from_uri(cls, task_name: str, uri_pm_path: str, creator: str, uri_pm_repo: str=None,\n",
    "                 pm_file_type: str=None, pm_module: str=None, pm_handler: str=None, pm_kwargs: dict=None,\n",
    "                 default_save=None, reset_templates: bool=None, template_path: str=None, template_module: str=None,\n",
    "                 template_source_handler: str=None, template_persist_handler: str=None, align_connectors: bool=None,\n",
    "                 default_save_intent: bool=None, default_intent_level: bool=None, order_next_available: bool=None,\n",
    "                 default_replace_intent: bool=None, has_contract: bool=None):\n",
    "        pm_file_type = pm_file_type if isinstance(pm_file_type, str) else 'json'\n",
    "        pm_module = pm_module if isinstance(pm_module, str) else cls.DEFAULT_MODULE\n",
    "        pm_handler = pm_handler if isinstance(pm_handler, str) else cls.DEFAULT_PERSIST_HANDLER\n",
    "        _pm = CustomModelPropertyManager(task_name=task_name, creator=creator)\n",
    "        _intent_model = CustomModelIntentModel(property_manager=_pm, default_save_intent=default_save_intent,\n",
    "                                               default_intent_level=default_intent_level,\n",
    "                                               order_next_available=order_next_available,\n",
    "                                               default_replace_intent=default_replace_intent)\n",
    "        super()._init_properties(property_manager=_pm, uri_pm_path=uri_pm_path, default_save=default_save,\n",
    "                                 uri_pm_repo=uri_pm_repo, pm_file_type=pm_file_type, pm_module=pm_module,\n",
    "                                 pm_handler=pm_handler, pm_kwargs=pm_kwargs, has_contract=has_contract)\n",
    "        return cls(property_manager=_pm, intent_model=_intent_model, default_save=default_save,\n",
    "                   reset_templates=reset_templates, template_path=template_path, template_module=template_module,\n",
    "                   template_source_handler=template_source_handler, template_persist_handler=template_persist_handler,\n",
    "                   align_connectors=align_connectors)\n"
   ]
  },
  {
   "cell_type": "code",
   "execution_count": 17,
   "id": "95d6423c",
   "metadata": {},
   "outputs": [],
   "source": [
    "class CustomModelPropertyManager(ModelsPropertyManager):\n",
    "    \n",
    "    def __init__(self, task_name: str, creator: str):\n",
    "        root_keys = []\n",
    "        knowledge_keys = []\n",
    "        super().__init__(task_name=task_name, root_keys=root_keys, knowledge_keys=knowledge_keys, creator=creator)\n"
   ]
  },
  {
   "cell_type": "code",
   "execution_count": 18,
   "id": "8cf3d8d4-9ce9-42e6-88f9-ab0e33e4e841",
   "metadata": {},
   "outputs": [],
   "source": [
    "class CustomLogisticRegression(object):\n",
    "    \n",
    "    def fit(X_train, weight, bias):\n",
    "        pass\n",
    "    \n",
    "    def predict(canonical):\n",
    "        pass\n",
    "    "
   ]
  },
  {
   "cell_type": "code",
   "execution_count": 19,
   "id": "c4d3ca45",
   "metadata": {},
   "outputs": [],
   "source": [
    "class CustomModelIntentModel(ModelsIntentModel):\n",
    "\n",
    "    def custom_classifier(self, canonical, weight, bias, save_intent: bool=None, intent_level: [int, str]=None, \n",
    "                          intent_order: int=None, replace_intent: bool=None, remove_duplicates: bool=None):\n",
    "        \n",
    "        # resolve intent persist options\n",
    "        self._set_intend_signature(self._intent_builder(method=inspect.currentframe().f_code.co_name, params=locals()),\n",
    "                                   intent_level=intent_level, intent_order=intent_order, replace_intent=replace_intent,\n",
    "                                   remove_duplicates=remove_duplicates, save_intent=save_intent)\n",
    "        \n",
    "        X = canonical.to_numpy()\n",
    "        # predictions\n",
    "        def sigmoid(a):\n",
    "            return 1 / (1 + np.exp(-a))\n",
    "\n",
    "        y = sigmoid(X.dot(w) + b)\n",
    "        pred = np.around(y, 0)\n",
    "        pred = pd.DataFrame(pred, columns=['predict'])\n",
    "        return pred.join(canonical, how='inner')\n",
    "        "
   ]
  },
  {
   "cell_type": "markdown",
   "id": "e3ecc051-0c54-480b-8450-ef0b0b746cfd",
   "metadata": {},
   "source": [
    "### create model instance"
   ]
  },
  {
   "cell_type": "code",
   "execution_count": 20,
   "id": "22d10f19",
   "metadata": {},
   "outputs": [],
   "source": [
    "ml = CustomModel.from_env('extender', has_contract=False)"
   ]
  },
  {
   "cell_type": "markdown",
   "id": "411c09a3-3b0c-430e-857c-d6996965ec56",
   "metadata": {},
   "source": [
    "taking a view of our intent actions we can see our new ``custom_classifier`` has been added"
   ]
  },
  {
   "cell_type": "code",
   "execution_count": 21,
   "id": "61a21440-11a4-4112-89cf-f546de38bb6d",
   "metadata": {},
   "outputs": [
    {
     "data": {
      "text/plain": [
       "['PREDICT_INTENT_LEVEL',\n",
       " 'TRAIN_INTENT_LEVEL',\n",
       " 'custom_classifier',\n",
       " 'label_predict',\n",
       " 'run_intent_pipeline']"
      ]
     },
     "execution_count": 21,
     "metadata": {},
     "output_type": "execute_result"
    }
   ],
   "source": [
    "ml.intent_model.__dir__()"
   ]
  },
  {
   "cell_type": "markdown",
   "id": "eaa6a68e",
   "metadata": {},
   "source": [
    "### set trained model"
   ]
  },
  {
   "cell_type": "code",
   "execution_count": 22,
   "id": "b0c7a48b",
   "metadata": {},
   "outputs": [],
   "source": [
    "weight = [-0.19766923,0.12403557,-0.70134031,-0.7958989,1.34681211,-0.39506922,\n",
    "          0.06584865,0.11578781,-0.49344841,-0.60231951,-1.29599324]\n",
    "bias = -0.5506100458838631"
   ]
  },
  {
   "cell_type": "markdown",
   "id": "57cf5443",
   "metadata": {},
   "source": [
    "### get custom prediction"
   ]
  },
  {
   "cell_type": "code",
   "execution_count": 23,
   "id": "1dfc1671",
   "metadata": {},
   "outputs": [
    {
     "ename": "NameError",
     "evalue": "name 'inspect' is not defined",
     "output_type": "error",
     "traceback": [
      "\u001b[0;31m---------------------------------------------------------------------------\u001b[0m",
      "\u001b[0;31mNameError\u001b[0m                                 Traceback (most recent call last)",
      "Cell \u001b[0;32mIn[23], line 1\u001b[0m\n\u001b[0;32m----> 1\u001b[0m result \u001b[38;5;241m=\u001b[39m \u001b[43mml\u001b[49m\u001b[38;5;241;43m.\u001b[39;49m\u001b[43mintent_model\u001b[49m\u001b[38;5;241;43m.\u001b[39;49m\u001b[43mcustom_classifier\u001b[49m\u001b[43m(\u001b[49m\u001b[43mcanonical\u001b[49m\u001b[43m,\u001b[49m\u001b[43m \u001b[49m\u001b[43mweight\u001b[49m\u001b[38;5;241;43m=\u001b[39;49m\u001b[43mweight\u001b[49m\u001b[43m,\u001b[49m\u001b[43m \u001b[49m\u001b[43mbias\u001b[49m\u001b[38;5;241;43m=\u001b[39;49m\u001b[43mbias\u001b[49m\u001b[43m)\u001b[49m\n",
      "Cell \u001b[0;32mIn[19], line 7\u001b[0m, in \u001b[0;36mCustomModelIntentModel.custom_classifier\u001b[0;34m(self, canonical, weight, bias, save_intent, intent_level, intent_order, replace_intent, remove_duplicates)\u001b[0m\n\u001b[1;32m      3\u001b[0m \u001b[38;5;28;01mdef\u001b[39;00m \u001b[38;5;21mcustom_classifier\u001b[39m(\u001b[38;5;28mself\u001b[39m, canonical, weight, bias, save_intent: \u001b[38;5;28mbool\u001b[39m\u001b[38;5;241m=\u001b[39m\u001b[38;5;28;01mNone\u001b[39;00m, intent_level: [\u001b[38;5;28mint\u001b[39m, \u001b[38;5;28mstr\u001b[39m]\u001b[38;5;241m=\u001b[39m\u001b[38;5;28;01mNone\u001b[39;00m, \n\u001b[1;32m      4\u001b[0m                       intent_order: \u001b[38;5;28mint\u001b[39m\u001b[38;5;241m=\u001b[39m\u001b[38;5;28;01mNone\u001b[39;00m, replace_intent: \u001b[38;5;28mbool\u001b[39m\u001b[38;5;241m=\u001b[39m\u001b[38;5;28;01mNone\u001b[39;00m, remove_duplicates: \u001b[38;5;28mbool\u001b[39m\u001b[38;5;241m=\u001b[39m\u001b[38;5;28;01mNone\u001b[39;00m):\n\u001b[1;32m      5\u001b[0m     \n\u001b[1;32m      6\u001b[0m     \u001b[38;5;66;03m# resolve intent persist options\u001b[39;00m\n\u001b[0;32m----> 7\u001b[0m     \u001b[38;5;28mself\u001b[39m\u001b[38;5;241m.\u001b[39m_set_intend_signature(\u001b[38;5;28mself\u001b[39m\u001b[38;5;241m.\u001b[39m_intent_builder(method\u001b[38;5;241m=\u001b[39m\u001b[43minspect\u001b[49m\u001b[38;5;241m.\u001b[39mcurrentframe()\u001b[38;5;241m.\u001b[39mf_code\u001b[38;5;241m.\u001b[39mco_name, params\u001b[38;5;241m=\u001b[39m\u001b[38;5;28mlocals\u001b[39m()),\n\u001b[1;32m      8\u001b[0m                                intent_level\u001b[38;5;241m=\u001b[39mintent_level, intent_order\u001b[38;5;241m=\u001b[39mintent_order, replace_intent\u001b[38;5;241m=\u001b[39mreplace_intent,\n\u001b[1;32m      9\u001b[0m                                remove_duplicates\u001b[38;5;241m=\u001b[39mremove_duplicates, save_intent\u001b[38;5;241m=\u001b[39msave_intent)\n\u001b[1;32m     11\u001b[0m     X \u001b[38;5;241m=\u001b[39m canonical\u001b[38;5;241m.\u001b[39mto_numpy()\n\u001b[1;32m     12\u001b[0m     \u001b[38;5;66;03m# predictions\u001b[39;00m\n",
      "\u001b[0;31mNameError\u001b[0m: name 'inspect' is not defined"
     ]
    }
   ],
   "source": [
    "result = ml.intent_model.custom_classifier(canonical, weight=weight, bias=bias)"
   ]
  },
  {
   "cell_type": "code",
   "execution_count": null,
   "id": "2f8f145c",
   "metadata": {},
   "outputs": [],
   "source": [
    "classification_rate(y, result['predict'].to_numpy())"
   ]
  }
 ],
 "metadata": {
  "kernelspec": {
   "display_name": "Python 3 (ipykernel)",
   "language": "python",
   "name": "python3"
  },
  "language_info": {
   "codemirror_mode": {
    "name": "ipython",
    "version": 3
   },
   "file_extension": ".py",
   "mimetype": "text/x-python",
   "name": "python",
   "nbconvert_exporter": "python",
   "pygments_lexer": "ipython3",
   "version": "3.10.8"
  }
 },
 "nbformat": 4,
 "nbformat_minor": 5
}
