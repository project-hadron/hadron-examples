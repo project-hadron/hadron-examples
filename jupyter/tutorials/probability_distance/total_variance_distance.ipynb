{
 "cells": [
  {
   "cell_type": "code",
   "execution_count": 7,
   "id": "10a8105e",
   "metadata": {},
   "outputs": [],
   "source": [
    "import numpy as np"
   ]
  },
  {
   "cell_type": "markdown",
   "id": "8beb3589",
   "metadata": {},
   "source": [
    "Total Variation Distance (TVD) is a measure of dissimilarity between two probability distributions. It is calculated as the absolute value of the difference between the cumulative distributions of the two distributions, taken over all possible values. The TVD is a useful tool for comparing two discrete or continuous probability distributions. It is a metric that can be used to compare the difference between two probability distributions, where higher values indicate greater dissimilarity. It is considered to be a more robust measure than the Kullback-Leibler divergence.\n",
    "\n",
    "$$ \\mathit{tvd \\left(P,Q \\right)} = \\frac{1}{2} \\sum_i \\lvert p_i - q_i \\rvert $$"
   ]
  },
  {
   "cell_type": "code",
   "execution_count": 8,
   "id": "2b1e5e2c",
   "metadata": {},
   "outputs": [],
   "source": [
    "def tvd(p,q):\n",
    "    # total variance distance\n",
    "    return (sum(abs(p - q)) / 2)"
   ]
  },
  {
   "cell_type": "code",
   "execution_count": 9,
   "id": "dbca3abc",
   "metadata": {},
   "outputs": [],
   "source": [
    "# The sample probabilities\n",
    "p = np.array([0.36, 0.48, 0.16], dtype=np.float32)\n",
    "q = np.array([0.30, 0.50, 0.20], dtype=np.float32)"
   ]
  },
  {
   "cell_type": "code",
   "execution_count": 10,
   "id": "c579fdb4",
   "metadata": {},
   "outputs": [],
   "source": [
    "tvd_pq = tvd(p,q)\n",
    "tvd_qp = tvd(q,p)"
   ]
  },
  {
   "cell_type": "code",
   "execution_count": 11,
   "id": "0dc8ad86",
   "metadata": {},
   "outputs": [
    {
     "name": "stdout",
     "output_type": "stream",
     "text": [
      "Total Variance distance from formula\n",
      "tvd(P,Q) dist = 0.06\n",
      "tvd(Q,P) dist = 0.06\n"
     ]
    }
   ],
   "source": [
    "print(\"Total Variance distance from formula\")\n",
    "print(f\"tvd(P,Q) dist = {np.around(tvd_pq, 5)}\")\n",
    "print(f\"tvd(Q,P) dist = {np.around(tvd_qp, 5)}\")"
   ]
  },
  {
   "cell_type": "code",
   "execution_count": null,
   "id": "933b43a9",
   "metadata": {},
   "outputs": [],
   "source": []
  }
 ],
 "metadata": {
  "kernelspec": {
   "display_name": "Python 3 (ipykernel)",
   "language": "python",
   "name": "python3"
  },
  "language_info": {
   "codemirror_mode": {
    "name": "ipython",
    "version": 3
   },
   "file_extension": ".py",
   "mimetype": "text/x-python",
   "name": "python",
   "nbconvert_exporter": "python",
   "pygments_lexer": "ipython3",
   "version": "3.10.8"
  }
 },
 "nbformat": 4,
 "nbformat_minor": 5
}
