{
 "cells": [
  {
   "cell_type": "code",
   "execution_count": 8,
   "id": "bc6d7e21",
   "metadata": {},
   "outputs": [],
   "source": [
    "import numpy as np"
   ]
  },
  {
   "cell_type": "markdown",
   "id": "d7834965",
   "metadata": {},
   "source": [
    "The Hellinger distance is a measure of similarity between two probability distributions. It is based on the squared Euclidean distance between the normalized probability vectors of the two distributions. The Hellinger distance is sometimes referred to as the Bhattacharyya distance, and is used to compare two probability distributions in a variety of applications, including clustering, classification and pattern recognition.\n",
    "\n",
    "$$ \\mathit{D(P,Q)} = \\frac{1}{\\sqrt{2}} \\sqrt{\\sum_{i} \\left(\\sqrt{p_i} - \\sqrt{q_i}\\right)^2} $$\n",
    "\n",
    "\n",
    "\n",
    "where $P$ and $Q$ are two probability distributions, $p_i$ and $q_i$ are the ith elements of each distribution, and $\\mathit{D(P,Q)}$ is the Hellinger's Distance."
   ]
  },
  {
   "cell_type": "code",
   "execution_count": 9,
   "id": "28afa8dd",
   "metadata": {},
   "outputs": [],
   "source": [
    "def H(p, q):\n",
    "    # Hellingers distance\n",
    "    total = np.sum((np.sqrt(p) - np.sqrt(q))**2)\n",
    "    return (1.0 / np.sqrt(2.0)) * np.sqrt(total)"
   ]
  },
  {
   "cell_type": "code",
   "execution_count": 10,
   "id": "8a7d6c1b",
   "metadata": {},
   "outputs": [],
   "source": [
    "# The sample probabilities\n",
    "p = np.array([0.36, 0.48, 0.16], dtype=np.float32)\n",
    "q = np.array([0.30, 0.50, 0.20], dtype=np.float32)"
   ]
  },
  {
   "cell_type": "code",
   "execution_count": 11,
   "id": "156d717f",
   "metadata": {},
   "outputs": [],
   "source": [
    "h_pq = H(p, q)\n",
    "h_qp = H(q, p)"
   ]
  },
  {
   "cell_type": "code",
   "execution_count": 12,
   "id": "e4a84326",
   "metadata": {},
   "outputs": [
    {
     "name": "stdout",
     "output_type": "stream",
     "text": [
      "Hellinger's distance from formula\n",
      "H(P,Q) dist = 0.05082\n",
      "H(Q,P) dist = 0.05082\n"
     ]
    }
   ],
   "source": [
    "print(\"Hellinger's distance from formula\")\n",
    "print(f\"H(P,Q) dist = {np.around(h_pq, 5)}\")\n",
    "print(f\"H(Q,P) dist = {np.around(h_qp, 5)}\")"
   ]
  }
 ],
 "metadata": {
  "kernelspec": {
   "display_name": "Python 3 (ipykernel)",
   "language": "python",
   "name": "python3"
  },
  "language_info": {
   "codemirror_mode": {
    "name": "ipython",
    "version": 3
   },
   "file_extension": ".py",
   "mimetype": "text/x-python",
   "name": "python",
   "nbconvert_exporter": "python",
   "pygments_lexer": "ipython3",
   "version": "3.10.8"
  }
 },
 "nbformat": 4,
 "nbformat_minor": 5
}
