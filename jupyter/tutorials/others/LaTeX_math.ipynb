{
 "cells": [
  {
   "cell_type": "markdown",
   "id": "61050a66",
   "metadata": {},
   "source": [
    "### Derivation\n",
    "$$ f'\\left(x\\right) = \\lim_{h\\rightarrow0}\\frac{f\\left(x+h\\right)-f\\left(x\\right)}{h}   $$"
   ]
  },
  {
   "cell_type": "markdown",
   "id": "5ddbd9d9",
   "metadata": {},
   "source": [
    "### logarythms\n",
    "$$ y=\\log_b\\left(x\\right) \\quad \\text{is equivalent to} \\quad x=b^y $$"
   ]
  },
  {
   "cell_type": "markdown",
   "id": "d70402cd",
   "metadata": {},
   "source": [
    "### Tangent & Secant\n",
    "$ P = \\left( {a,f\\left( a \\right)} \\right) \\\\$\n",
    "$ Q = \\left( {x,f\\left( x \\right)} \\right) $\n",
    "\n",
    "$$ {m_{PQ}} = \\frac{{f\\left( x \\right) - f\\left( a \\right)}}{{x - a}} $$\n"
   ]
  },
  {
   "cell_type": "markdown",
   "id": "db3b83a8",
   "metadata": {},
   "source": [
    "### a and b\n",
    "$$ denominator = \\sum_i x_i^2 - \\bar x_i * \\sum x_i  $$\n",
    "\n",
    "$$ a = \\frac{\\sum_i x_i y_i - \\bar y_i * \\sum_i x_i}{denominator}  $$\n",
    "\n",
    "$$ b = \\frac{\\bar y_i * \\sum_i x_i^2 - \\bar x_i * \\sum_i x_i y_i}{denominator}  $$"
   ]
  },
  {
   "cell_type": "markdown",
   "id": "0a34b021",
   "metadata": {},
   "source": [
    "### Y Estimate (Slop)\n",
    "$$ \\hat y = ax + b $$"
   ]
  },
  {
   "cell_type": "markdown",
   "id": "9340fdf1",
   "metadata": {},
   "source": [
    "### Sum of square total\n",
    "\n",
    "$$ \\sum_i \\left( y_i - \\bar y_i \\right)^2 $$"
   ]
  },
  {
   "cell_type": "markdown",
   "id": "366d67ad",
   "metadata": {},
   "source": [
    "### Sum of square residual\n",
    "\n",
    "$$ \\sum_i \\left( y_i - \\hat y_i \\right)^2 $$"
   ]
  },
  {
   "cell_type": "code",
   "execution_count": null,
   "id": "7563a3e1",
   "metadata": {},
   "outputs": [],
   "source": []
  }
 ],
 "metadata": {
  "kernelspec": {
   "display_name": "Python 3 (ipykernel)",
   "language": "python",
   "name": "python3"
  },
  "language_info": {
   "codemirror_mode": {
    "name": "ipython",
    "version": 3
   },
   "file_extension": ".py",
   "mimetype": "text/x-python",
   "name": "python",
   "nbconvert_exporter": "python",
   "pygments_lexer": "ipython3",
   "version": "3.10.8"
  }
 },
 "nbformat": 4,
 "nbformat_minor": 5
}
