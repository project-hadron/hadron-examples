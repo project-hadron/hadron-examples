{
 "cells": [
  {
   "cell_type": "markdown",
   "id": "6474c20d",
   "metadata": {},
   "source": [
    "# Jenson-Shannon Distance\n",
    "Jensen Shannon Distance (JSD) is a measure of the similarity between two probability distributions. It is a symmetric version of the Kullback-Leibler divergence and is based on the square root of the Jensen-Shannon divergence. JSD is calculated by taking the weighted average of the Kullback-Leibler divergence of the two distributions and is used to quantify the difference between two probability distributions. It is often used in natural language processing applications to measure the similarity between documents. So\n",
    "\n",
    "$$ JS(P,Q) = \\frac{1}{2} KL(P,M) + \\frac{1}{2} KL(Q,M) $$\n",
    "\n",
    "where $ M = \\frac{(P + Q)}{2} $\n",
    "\n",
    "So the key to computing Jensen-Shannon is understanding how to compute $ KL $.\n",
    "\n",
    "$$ KL(P,Q) = \\sum_{n=1}^N \\left(p_n \\times \\log \\left(\\frac{p_n}{q_n}\\right) \\right) $$\n",
    "\n",
    "The Jensen-Shannon distance is symmetric, meaning $ JS(P,Q) = JS(Q,P) $. This is in contrast to Kullback-Leibler divergence which is not symmetric.\n"
   ]
  },
  {
   "cell_type": "code",
   "execution_count": 33,
   "id": "5e24c740",
   "metadata": {},
   "outputs": [],
   "source": [
    "import numpy as np"
   ]
  },
  {
   "cell_type": "code",
   "execution_count": 34,
   "id": "c5e3df09",
   "metadata": {},
   "outputs": [],
   "source": [
    "def KL(p, q):\n",
    "    # Kullback-Leibler \"from q to p\"\n",
    "    # p and q are np array prob distributions\n",
    "    n = len(p)\n",
    "    sum = p.dot(np.log(p/q))\n",
    "    return sum\n",
    "\n",
    "def JS(p, q):\n",
    "    m = 0.5 * (p + q)  # avg of P and Q\n",
    "    left = KL(p, m)\n",
    "    right = KL(q, m)\n",
    "    return np.sqrt((left + right) / 2)\n"
   ]
  },
  {
   "cell_type": "code",
   "execution_count": 35,
   "id": "892655a7",
   "metadata": {},
   "outputs": [],
   "source": [
    "# The sample probabilities\n",
    "p = np.array([0.36, 0.48, 0.16], dtype=np.float32)\n",
    "q = np.array([0.30, 0.50, 0.20], dtype=np.float32)"
   ]
  },
  {
   "cell_type": "code",
   "execution_count": 36,
   "id": "85b3859d",
   "metadata": {},
   "outputs": [],
   "source": [
    "js_pq = JS(p, q)\n",
    "js_qp = JS(q, p)"
   ]
  },
  {
   "cell_type": "code",
   "execution_count": 37,
   "id": "9fefcad6",
   "metadata": {},
   "outputs": [
    {
     "name": "stdout",
     "output_type": "stream",
     "text": [
      "Jensen Shannon distance from formula\n",
      "JS(P,Q) dist = 0.0508\n",
      "JS(Q,P) dist = 0.0508\n"
     ]
    }
   ],
   "source": [
    "print(\"Jensen Shannon distance from formula\")\n",
    "print(f\"JS(P,Q) dist = {np.around(js_pq, 5)}\")\n",
    "print(f\"JS(Q,P) dist = {np.around(js_qp, 5)}\")"
   ]
  },
  {
   "cell_type": "markdown",
   "id": "1928647a",
   "metadata": {},
   "source": [
    "---------------"
   ]
  },
  {
   "cell_type": "code",
   "execution_count": 38,
   "id": "e0201ed9",
   "metadata": {},
   "outputs": [],
   "source": [
    "from scipy.spatial import distance"
   ]
  },
  {
   "cell_type": "code",
   "execution_count": 39,
   "id": "ae6c337a",
   "metadata": {},
   "outputs": [],
   "source": [
    "sk_pq = distance.jensenshannon(p, q)\n",
    "sk_qp = distance.jensenshannon(q, p)"
   ]
  },
  {
   "cell_type": "code",
   "execution_count": 40,
   "id": "4b756e84",
   "metadata": {},
   "outputs": [
    {
     "name": "stdout",
     "output_type": "stream",
     "text": [
      "Jensen Shannon distance from scipy\n",
      "JS(P,Q) dist = 0.0508\n",
      "JS(Q,P) dist = 0.0508\n"
     ]
    }
   ],
   "source": [
    "print(\"Jensen Shannon distance from scipy\")\n",
    "print(f\"JS(P,Q) dist = {np.around(js_pq, 5)}\")\n",
    "print(f\"JS(Q,P) dist = {np.around(js_qp, 5)}\")"
   ]
  },
  {
   "cell_type": "code",
   "execution_count": null,
   "id": "be2f8e38",
   "metadata": {},
   "outputs": [],
   "source": []
  }
 ],
 "metadata": {
  "kernelspec": {
   "display_name": "Python 3 (ipykernel)",
   "language": "python",
   "name": "python3"
  },
  "language_info": {
   "codemirror_mode": {
    "name": "ipython",
    "version": 3
   },
   "file_extension": ".py",
   "mimetype": "text/x-python",
   "name": "python",
   "nbconvert_exporter": "python",
   "pygments_lexer": "ipython3",
   "version": "3.10.8"
  }
 },
 "nbformat": 4,
 "nbformat_minor": 5
}
