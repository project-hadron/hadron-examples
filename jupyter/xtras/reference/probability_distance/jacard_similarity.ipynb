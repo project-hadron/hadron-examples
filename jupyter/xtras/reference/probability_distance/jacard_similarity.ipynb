{
 "cells": [
  {
   "cell_type": "code",
   "execution_count": null,
   "id": "7a172fed-0d23-4b0b-b779-c59337d4b597",
   "metadata": {},
   "outputs": [],
   "source": []
  },
  {
   "cell_type": "markdown",
   "id": "cf8775c6-1756-40db-bf7c-f87b19734852",
   "metadata": {
    "tags": []
   },
   "source": [
    "### Jaccard Similarity for Two Sets\n",
    "The Jaccard similarity measures the similarity between two sets of data to see which members are shared and distinct. The Jaccard similarity is calculated by dividing the number of observations in both sets by the number of observations in either set. In other words, the Jaccard similarity can be computed as the size of the intersection divided by the size of the union of two sets.\n",
    "\n",
    "$$ J(A,B) = \\frac{|A \\cap B |}{|A \\cup B |} $$"
   ]
  },
  {
   "cell_type": "code",
   "execution_count": 1,
   "id": "313d3b65-00ba-4eff-8c58-587c54d83388",
   "metadata": {
    "tags": []
   },
   "outputs": [],
   "source": [
    "def jaccard(x, y):\n",
    "    z=set(x).intersection(set(y))\n",
    "    a=float(len(z))/(len(x)+len(y)-len(z))\n",
    "    return a\n",
    "\n",
    "def jaccard_set(list1, list2):\n",
    "    \"\"\"Define Jaccard Similarity function for two sets\"\"\"\n",
    "    intersection = len(list(set(list1).intersection(list2)))\n",
    "    union = (len(list1) + len(list2)) - intersection\n",
    "    return float(intersection) / union"
   ]
  },
  {
   "cell_type": "code",
   "execution_count": null,
   "id": "7b7ac2b0-17c5-4973-a966-b99c83c7f29b",
   "metadata": {},
   "outputs": [],
   "source": []
  }
 ],
 "metadata": {
  "kernelspec": {
   "display_name": "Python 3 (ipykernel)",
   "language": "python",
   "name": "python3"
  },
  "language_info": {
   "codemirror_mode": {
    "name": "ipython",
    "version": 3
   },
   "file_extension": ".py",
   "mimetype": "text/x-python",
   "name": "python",
   "nbconvert_exporter": "python",
   "pygments_lexer": "ipython3",
   "version": "3.10.8"
  }
 },
 "nbformat": 4,
 "nbformat_minor": 5
}
