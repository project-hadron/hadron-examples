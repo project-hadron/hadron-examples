{
 "cells": [
  {
   "cell_type": "code",
   "execution_count": 1,
   "id": "76698102",
   "metadata": {
    "tags": []
   },
   "outputs": [],
   "source": [
    "# saves you having to use print as all exposed variables are printed in the cell\n",
    "from IPython.core.interactiveshell import InteractiveShell\n",
    "InteractiveShell.ast_node_interactivity = \"all\""
   ]
  },
  {
   "cell_type": "code",
   "execution_count": 2,
   "id": "efe102f7",
   "metadata": {},
   "outputs": [],
   "source": [
    "from ds_discovery import SyntheticBuilder, ModelsBuilder, Commons\n",
    "import numpy as np\n",
    "import pandas as pd\n",
    "import scipy\n",
    "import matplotlib.pyplot as plt\n",
    "import seaborn as sns\n",
    "\n",
    "%matplotlib inline"
   ]
  },
  {
   "cell_type": "code",
   "execution_count": 3,
   "id": "3e5202a0-8227-432d-bafa-63caa559477f",
   "metadata": {},
   "outputs": [],
   "source": [
    "from sklearn.model_selection import train_test_split\n",
    "from sklearn.linear_model import LinearRegression"
   ]
  },
  {
   "cell_type": "code",
   "execution_count": 4,
   "id": "18d97ed5-274f-4965-b065-f66b7f53bd68",
   "metadata": {},
   "outputs": [],
   "source": [
    "from scipy import stats\n",
    "from ds_discovery import SyntheticBuilder"
   ]
  },
  {
   "cell_type": "code",
   "execution_count": 5,
   "id": "0f41c6ac-3880-4e16-9b7a-4517360d3638",
   "metadata": {},
   "outputs": [],
   "source": [
    "import numpy as np\n",
    "from sklearn.linear_model import Ridge\n",
    "from sklearn.pipeline import make_pipeline\n",
    "from sklearn.preprocessing import PolynomialFeatures"
   ]
  },
  {
   "cell_type": "code",
   "execution_count": 15,
   "id": "d53654d1-8961-46bc-a096-eb9e9d84b12c",
   "metadata": {},
   "outputs": [
    {
     "data": {
      "text/html": [
       "<style>#sk-container-id-3 {color: black;background-color: white;}#sk-container-id-3 pre{padding: 0;}#sk-container-id-3 div.sk-toggleable {background-color: white;}#sk-container-id-3 label.sk-toggleable__label {cursor: pointer;display: block;width: 100%;margin-bottom: 0;padding: 0.3em;box-sizing: border-box;text-align: center;}#sk-container-id-3 label.sk-toggleable__label-arrow:before {content: \"▸\";float: left;margin-right: 0.25em;color: #696969;}#sk-container-id-3 label.sk-toggleable__label-arrow:hover:before {color: black;}#sk-container-id-3 div.sk-estimator:hover label.sk-toggleable__label-arrow:before {color: black;}#sk-container-id-3 div.sk-toggleable__content {max-height: 0;max-width: 0;overflow: hidden;text-align: left;background-color: #f0f8ff;}#sk-container-id-3 div.sk-toggleable__content pre {margin: 0.2em;color: black;border-radius: 0.25em;background-color: #f0f8ff;}#sk-container-id-3 input.sk-toggleable__control:checked~div.sk-toggleable__content {max-height: 200px;max-width: 100%;overflow: auto;}#sk-container-id-3 input.sk-toggleable__control:checked~label.sk-toggleable__label-arrow:before {content: \"▾\";}#sk-container-id-3 div.sk-estimator input.sk-toggleable__control:checked~label.sk-toggleable__label {background-color: #d4ebff;}#sk-container-id-3 div.sk-label input.sk-toggleable__control:checked~label.sk-toggleable__label {background-color: #d4ebff;}#sk-container-id-3 input.sk-hidden--visually {border: 0;clip: rect(1px 1px 1px 1px);clip: rect(1px, 1px, 1px, 1px);height: 1px;margin: -1px;overflow: hidden;padding: 0;position: absolute;width: 1px;}#sk-container-id-3 div.sk-estimator {font-family: monospace;background-color: #f0f8ff;border: 1px dotted black;border-radius: 0.25em;box-sizing: border-box;margin-bottom: 0.5em;}#sk-container-id-3 div.sk-estimator:hover {background-color: #d4ebff;}#sk-container-id-3 div.sk-parallel-item::after {content: \"\";width: 100%;border-bottom: 1px solid gray;flex-grow: 1;}#sk-container-id-3 div.sk-label:hover label.sk-toggleable__label {background-color: #d4ebff;}#sk-container-id-3 div.sk-serial::before {content: \"\";position: absolute;border-left: 1px solid gray;box-sizing: border-box;top: 0;bottom: 0;left: 50%;z-index: 0;}#sk-container-id-3 div.sk-serial {display: flex;flex-direction: column;align-items: center;background-color: white;padding-right: 0.2em;padding-left: 0.2em;position: relative;}#sk-container-id-3 div.sk-item {position: relative;z-index: 1;}#sk-container-id-3 div.sk-parallel {display: flex;align-items: stretch;justify-content: center;background-color: white;position: relative;}#sk-container-id-3 div.sk-item::before, #sk-container-id-3 div.sk-parallel-item::before {content: \"\";position: absolute;border-left: 1px solid gray;box-sizing: border-box;top: 0;bottom: 0;left: 50%;z-index: -1;}#sk-container-id-3 div.sk-parallel-item {display: flex;flex-direction: column;z-index: 1;position: relative;background-color: white;}#sk-container-id-3 div.sk-parallel-item:first-child::after {align-self: flex-end;width: 50%;}#sk-container-id-3 div.sk-parallel-item:last-child::after {align-self: flex-start;width: 50%;}#sk-container-id-3 div.sk-parallel-item:only-child::after {width: 0;}#sk-container-id-3 div.sk-dashed-wrapped {border: 1px dashed gray;margin: 0 0.4em 0.5em 0.4em;box-sizing: border-box;padding-bottom: 0.4em;background-color: white;}#sk-container-id-3 div.sk-label label {font-family: monospace;font-weight: bold;display: inline-block;line-height: 1.2em;}#sk-container-id-3 div.sk-label-container {text-align: center;}#sk-container-id-3 div.sk-container {/* jupyter's `normalize.less` sets `[hidden] { display: none; }` but bootstrap.min.css set `[hidden] { display: none !important; }` so we also need the `!important` here to be able to override the default hidden behavior on the sphinx rendered scikit-learn.org. See: https://github.com/scikit-learn/scikit-learn/issues/21755 */display: inline-block !important;position: relative;}#sk-container-id-3 div.sk-text-repr-fallback {display: none;}</style><div id=\"sk-container-id-3\" class=\"sk-top-container\"><div class=\"sk-text-repr-fallback\"><pre>Pipeline(steps=[(&#x27;polynomialfeatures&#x27;, PolynomialFeatures()),\n",
       "                (&#x27;ridge&#x27;, Ridge(alpha=1e-08, fit_intercept=False))])</pre><b>In a Jupyter environment, please rerun this cell to show the HTML representation or trust the notebook. <br />On GitHub, the HTML representation is unable to render, please try loading this page with nbviewer.org.</b></div><div class=\"sk-container\" hidden><div class=\"sk-item sk-dashed-wrapped\"><div class=\"sk-label-container\"><div class=\"sk-label sk-toggleable\"><input class=\"sk-toggleable__control sk-hidden--visually\" id=\"sk-estimator-id-7\" type=\"checkbox\" ><label for=\"sk-estimator-id-7\" class=\"sk-toggleable__label sk-toggleable__label-arrow\">Pipeline</label><div class=\"sk-toggleable__content\"><pre>Pipeline(steps=[(&#x27;polynomialfeatures&#x27;, PolynomialFeatures()),\n",
       "                (&#x27;ridge&#x27;, Ridge(alpha=1e-08, fit_intercept=False))])</pre></div></div></div><div class=\"sk-serial\"><div class=\"sk-item\"><div class=\"sk-estimator sk-toggleable\"><input class=\"sk-toggleable__control sk-hidden--visually\" id=\"sk-estimator-id-8\" type=\"checkbox\" ><label for=\"sk-estimator-id-8\" class=\"sk-toggleable__label sk-toggleable__label-arrow\">PolynomialFeatures</label><div class=\"sk-toggleable__content\"><pre>PolynomialFeatures()</pre></div></div></div><div class=\"sk-item\"><div class=\"sk-estimator sk-toggleable\"><input class=\"sk-toggleable__control sk-hidden--visually\" id=\"sk-estimator-id-9\" type=\"checkbox\" ><label for=\"sk-estimator-id-9\" class=\"sk-toggleable__label sk-toggleable__label-arrow\">Ridge</label><div class=\"sk-toggleable__content\"><pre>Ridge(alpha=1e-08, fit_intercept=False)</pre></div></div></div></div></div></div></div>"
      ],
      "text/plain": [
       "Pipeline(steps=[('polynomialfeatures', PolynomialFeatures()),\n",
       "                ('ridge', Ridge(alpha=1e-08, fit_intercept=False))])"
      ]
     },
     "execution_count": 15,
     "metadata": {},
     "output_type": "execute_result"
    },
    {
     "name": "stdout",
     "output_type": "stream",
     "text": [
      "[-4.  2. -3.]\n"
     ]
    }
   ],
   "source": [
    "x = 10 * np.random.random(100)\n",
    "y = -4 + 2 * x - 3 * x ** 2\n",
    "\n",
    "model = make_pipeline(PolynomialFeatures(2), Ridge(alpha=1E-8, fit_intercept=False))\n",
    "model.fit(x[:, None], y)\n",
    "ridge = model.named_steps['ridge']\n",
    "print(ridge.coef_)"
   ]
  },
  {
   "cell_type": "code",
   "execution_count": 6,
   "id": "2008922c-a55d-4af0-8c67-7827e454d827",
   "metadata": {},
   "outputs": [],
   "source": [
    "N = 300\n",
    "\n",
    "sb = SyntheticBuilder.from_memory()"
   ]
  },
  {
   "cell_type": "code",
   "execution_count": 7,
   "id": "55a4290d-1ff8-4457-96da-62cff1c03f08",
   "metadata": {},
   "outputs": [],
   "source": [
    "df = pd.DataFrame()\n",
    "df['bias'] = sb.tools.get_ones_zeros(size=N)\n",
    "df['line'] = sb.tools.get_number(0, 100, size=N)\n",
    "df['jitter'] = sb.tools.correlate_values(df, header='line', jitter=5)\n",
    "df['poly'] = sb.tools.correlate_polynomial(df, header='jitter', coefficient=[6, 0, 1])"
   ]
  },
  {
   "cell_type": "code",
   "execution_count": 8,
   "id": "1cdb699f-663e-4494-a3cb-0b475ef003ae",
   "metadata": {},
   "outputs": [
    {
     "data": {
      "text/plain": [
       "<matplotlib.collections.PathCollection at 0x7f98982a1000>"
      ]
     },
     "execution_count": 8,
     "metadata": {},
     "output_type": "execute_result"
    },
    {
     "data": {
      "image/png": "[encoded data removed]",
      "text/plain": [
       "<Figure size 640x480 with 1 Axes>"
      ]
     },
     "metadata": {},
     "output_type": "display_data"
    }
   ],
   "source": [
    "plt.scatter(df['poly'], df['line'])\n",
    "plt.show()\n"
   ]
  },
  {
   "cell_type": "code",
   "execution_count": null,
   "id": "7937827d-c160-40bd-adab-5d6e0561e3ce",
   "metadata": {},
   "outputs": [],
   "source": []
  },
  {
   "cell_type": "code",
   "execution_count": null,
   "id": "20ad47a9-f4eb-44d1-84d2-788f289b6bb4",
   "metadata": {},
   "outputs": [],
   "source": []
  },
  {
   "cell_type": "code",
   "execution_count": 19,
   "id": "de4c8ba9-3b48-4a31-bec5-be2c419e8fb9",
   "metadata": {},
   "outputs": [],
   "source": [
    "X = df.drop('line', axis=1).to_numpy().reshape(-1,3)\n",
    "Y = df['line'].to_numpy().reshape(-1,1)"
   ]
  },
  {
   "cell_type": "code",
   "execution_count": 20,
   "id": "f7a20ec0-41fa-482c-8d34-5a364cd74d01",
   "metadata": {},
   "outputs": [],
   "source": [
    "w = np.linalg.solve(np.dot(X.T, X), np.dot(X.T, Y))\n",
    "Yhat = X.dot(w)"
   ]
  },
  {
   "cell_type": "code",
   "execution_count": 21,
   "id": "610f93b7-e223-4265-99d2-3d9c6117288a",
   "metadata": {},
   "outputs": [
    {
     "data": {
      "text/plain": [
       "<matplotlib.collections.PathCollection at 0x7f987a4870d0>"
      ]
     },
     "execution_count": 21,
     "metadata": {},
     "output_type": "execute_result"
    },
    {
     "data": {
      "text/plain": [
       "<matplotlib.collections.PathCollection at 0x7f987a2ef010>"
      ]
     },
     "execution_count": 21,
     "metadata": {},
     "output_type": "execute_result"
    },
    {
     "data": {
      "text/plain": [
       "Text(0.5, 1.0, 'Our fitted quadratic')"
      ]
     },
     "execution_count": 21,
     "metadata": {},
     "output_type": "execute_result"
    },
    {
     "data": {
      "image/png": "[encoded data removed]",
      "text/plain": [
       "<Figure size 640x480 with 1 Axes>"
      ]
     },
     "metadata": {},
     "output_type": "display_data"
    }
   ],
   "source": [
    "plt.scatter(X[:,2], Y)\n",
    "plt.scatter(X[:,2], Yhat, s=10)\n",
    "plt.title(\"Our fitted quadratic\")\n",
    "plt.show()"
   ]
  },
  {
   "cell_type": "code",
   "execution_count": null,
   "id": "78145ab6-a527-413e-b5e9-2fe82cd37202",
   "metadata": {},
   "outputs": [],
   "source": [
    "lin_reg.score(X_test, y_test)"
   ]
  },
  {
   "cell_type": "code",
   "execution_count": null,
   "id": "824a49c0-324d-4b75-b091-3bebe8469132",
   "metadata": {},
   "outputs": [],
   "source": [
    "Yhat = lin_reg.predict(X_test)"
   ]
  },
  {
   "cell_type": "markdown",
   "id": "f96c37c5-13d4-412d-847e-5aac6a222666",
   "metadata": {
    "tags": []
   },
   "source": [
    "$$ E = \\sum_i \\left( y_i - \\hat y_i \\right)^2 $$"
   ]
  },
  {
   "cell_type": "code",
   "execution_count": null,
   "id": "db345db6",
   "metadata": {
    "tags": []
   },
   "outputs": [],
   "source": [
    "d1 = y_test - Yhat\n",
    "ssr = d1.dot(d1)"
   ]
  },
  {
   "cell_type": "markdown",
   "id": "e078e4d2-0f3d-4a41-80c7-91fbed5ea6fa",
   "metadata": {},
   "source": [
    "$$ \\text{sum of squared total} = \\sum_i \\left( y_i - \\bar y_i \\right)^2 $$"
   ]
  },
  {
   "cell_type": "code",
   "execution_count": null,
   "id": "1cb811a9",
   "metadata": {},
   "outputs": [],
   "source": [
    "d2 = y_test - y_test.mean()\n",
    "sst = d2.dot(d2)"
   ]
  },
  {
   "cell_type": "markdown",
   "id": "271e5797-198b-4485-94c0-d54882876250",
   "metadata": {},
   "source": [
    "$$ R^2 = 1 - \\frac{SSres}{SStot}  $$"
   ]
  },
  {
   "cell_type": "code",
   "execution_count": null,
   "id": "20992251",
   "metadata": {
    "tags": []
   },
   "outputs": [],
   "source": [
    "# calculating r-squared\n",
    "r2 = 1 - ssr/sst\n",
    "print(f\"The r-squared is: {r2}\")"
   ]
  },
  {
   "cell_type": "code",
   "execution_count": null,
   "id": "d6f3a4d0",
   "metadata": {},
   "outputs": [],
   "source": [
    "x_axis  = y_test\n",
    "y_axis = Yhat\n",
    "plt.scatter(x_axis, y_axis)\n",
    "plt.show()\n"
   ]
  },
  {
   "cell_type": "code",
   "execution_count": null,
   "id": "5e31ad42-4cbb-4c52-942a-b88d4ee45f24",
   "metadata": {},
   "outputs": [],
   "source": []
  },
  {
   "cell_type": "code",
   "execution_count": null,
   "id": "85859892-10ec-4eaf-b198-115b80d1c46d",
   "metadata": {},
   "outputs": [],
   "source": []
  }
 ],
 "metadata": {
  "kernelspec": {
   "display_name": "Python 3 (ipykernel)",
   "language": "python",
   "name": "python3"
  },
  "language_info": {
   "codemirror_mode": {
    "name": "ipython",
    "version": 3
   },
   "file_extension": ".py",
   "mimetype": "text/x-python",
   "name": "python",
   "nbconvert_exporter": "python",
   "pygments_lexer": "ipython3",
   "version": "3.10.8"
  }
 },
 "nbformat": 4,
 "nbformat_minor": 5
}
