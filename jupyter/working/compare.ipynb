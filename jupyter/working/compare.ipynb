{
 "cells": [
  {
   "cell_type": "code",
   "execution_count": 1,
   "id": "76698102",
   "metadata": {
    "tags": []
   },
   "outputs": [],
   "source": [
    "# saves you having to use print as all exposed variables are printed in the cell\n",
    "from IPython.core.interactiveshell import InteractiveShell\n",
    "InteractiveShell.ast_node_interactivity = \"all\""
   ]
  },
  {
   "cell_type": "code",
   "execution_count": 2,
   "id": "efe102f7",
   "metadata": {},
   "outputs": [],
   "source": [
    "from ds_discovery import SyntheticBuilder, ModelsBuilder\n",
    "import numpy as np\n",
    "import pandas as pd\n",
    "import scipy\n",
    "import matplotlib.pyplot as plt\n",
    "import seaborn as sns\n",
    "\n",
    "%matplotlib inline"
   ]
  },
  {
   "cell_type": "markdown",
   "id": "01aa7051-4a26-4877-b7b9-b23f70d0227f",
   "metadata": {},
   "source": [
    "## synthetic datasets"
   ]
  },
  {
   "cell_type": "code",
   "execution_count": 3,
   "id": "741d3f29-1af4-43be-8274-82db20a3d9af",
   "metadata": {},
   "outputs": [],
   "source": [
    "from ds_discovery import SyntheticBuilder"
   ]
  },
  {
   "cell_type": "code",
   "execution_count": 4,
   "id": "a96261e7-75db-4c6e-8887-a869b02d2736",
   "metadata": {},
   "outputs": [],
   "source": [
    "sb = SyntheticBuilder.from_memory()\n",
    "sb.add_connector_persist('source', uri_file='sourcefile.parquet')\n",
    "sb.add_connector_persist('other', uri_file='otherfile.parquet')"
   ]
  },
  {
   "cell_type": "code",
   "execution_count": 5,
   "id": "86647872-87e0-4b21-9323-f734cffcb23e",
   "metadata": {},
   "outputs": [],
   "source": [
    "dfA = pd.DataFrame()\n",
    "dfA['ref'] = sb.tools.get_number(10_000, 99_000, precision=0, at_most=1, size=1000)\n",
    "dfA['A'] = sb.tools.get_category(selection=[1, 0], relative_freq=[9.1], size=1000)\n",
    "dfB = pd.DataFrame()\n",
    "dfB['ref'] = dfA['ref'].sample(frac=1)\n",
    "dfB['B'] = sb.tools.get_category(selection=[1, 0], relative_freq=[8,1], size=1000)\n"
   ]
  },
  {
   "cell_type": "code",
   "execution_count": 6,
   "id": "88e69abb-fab6-4876-a6bd-9c49ed81773e",
   "metadata": {},
   "outputs": [],
   "source": [
    "sb.save_canonical('source', dfA)\n",
    "sb.save_canonical('other', dfB)"
   ]
  },
  {
   "cell_type": "markdown",
   "id": "5a1d880e-5440-4d7b-9781-1244f5dc5f12",
   "metadata": {},
   "source": [
    "## difference"
   ]
  },
  {
   "cell_type": "code",
   "execution_count": 7,
   "id": "5777284c-2661-4af2-ab6e-61030b519d3b",
   "metadata": {},
   "outputs": [],
   "source": [
    "from ds_discovery import Wrangle"
   ]
  },
  {
   "cell_type": "code",
   "execution_count": 8,
   "id": "fd8aa8e9-1873-466c-b07f-63620d76bd40",
   "metadata": {},
   "outputs": [],
   "source": [
    "wr = Wrangle.from_memory()"
   ]
  },
  {
   "cell_type": "code",
   "execution_count": 9,
   "id": "1b385808-0a54-4f1e-983f-7f0f0a9e77cf",
   "metadata": {},
   "outputs": [],
   "source": [
    "wr.set_source('sourcefile.parquet')\n",
    "sb.add_connector_persist('other', uri_file='otherfile.parquet')"
   ]
  },
  {
   "cell_type": "code",
   "execution_count": 10,
   "id": "c1fcb5b6-dcc2-4000-b6c1-ccbd153c9785",
   "metadata": {},
   "outputs": [
    {
     "data": {
      "text/plain": [
       "Index(['ref', 'A'], dtype='object')"
      ]
     },
     "execution_count": 10,
     "metadata": {},
     "output_type": "execute_result"
    }
   ],
   "source": [
    "df = wr.load_source_canonical()\n",
    "df.columns"
   ]
  },
  {
   "cell_type": "code",
   "execution_count": 12,
   "id": "c9548b75-dfdb-4ff1-b7d6-99f44b5c7c6c",
   "metadata": {},
   "outputs": [
    {
     "data": {
      "text/plain": [
       "Index(['ref', 'B'], dtype='object')"
      ]
     },
     "execution_count": 12,
     "metadata": {},
     "output_type": "execute_result"
    }
   ],
   "source": [
    "other = sb.load_canonical('other')\n",
    "other.columns"
   ]
  },
  {
   "cell_type": "code",
   "execution_count": 13,
   "id": "b48620a4-4147-4f84-b58f-1bb5a700f206",
   "metadata": {},
   "outputs": [],
   "source": [
    "other = other.to_dict()"
   ]
  },
  {
   "cell_type": "code",
   "execution_count": 14,
   "id": "f60b1f5c-4dbb-4994-bdb3-9c6f37cb729e",
   "metadata": {},
   "outputs": [
    {
     "data": {
      "text/plain": [
       "(1000, 3)"
      ]
     },
     "execution_count": 14,
     "metadata": {},
     "output_type": "execute_result"
    }
   ],
   "source": [
    "df = wr.tools.model_merge(df, other=other, on='ref')\n",
    "df.shape"
   ]
  },
  {
   "cell_type": "code",
   "execution_count": null,
   "id": "8de8cdc3-d271-4264-aa07-e2ef273214d2",
   "metadata": {},
   "outputs": [],
   "source": []
  }
 ],
 "metadata": {
  "kernelspec": {
   "display_name": "Python 3 (ipykernel)",
   "language": "python",
   "name": "python3"
  },
  "language_info": {
   "codemirror_mode": {
    "name": "ipython",
    "version": 3
   },
   "file_extension": ".py",
   "mimetype": "text/x-python",
   "name": "python",
   "nbconvert_exporter": "python",
   "pygments_lexer": "ipython3",
   "version": "3.10.8"
  }
 },
 "nbformat": 4,
 "nbformat_minor": 5
}
