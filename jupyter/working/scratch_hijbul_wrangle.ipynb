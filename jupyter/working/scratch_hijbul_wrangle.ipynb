{
 "cells": [
  {
   "cell_type": "code",
   "execution_count": 1,
   "id": "7db1cc96-fe36-49f0-80a5-bdd3fdec3364",
   "metadata": {},
   "outputs": [],
   "source": [
    "import os\n",
    "from pathlib import Path"
   ]
  },
  {
   "cell_type": "code",
   "execution_count": 2,
   "id": "bf808b14-df0f-4a98-89ec-03013632c1cc",
   "metadata": {
    "tags": []
   },
   "outputs": [],
   "source": [
    "# Domain Contract\n",
    "os.environ['HADRON_PM_PATH'] = Path('${PWD}/metadata/contracts/workshop').as_posix() \n",
    "\n",
    "# local data stores\n",
    "os.environ['HADRON_DEFAULT_PATH'] = Path('${PWD}/metadata/data/workshop').as_posix()"
   ]
  },
  {
   "cell_type": "markdown",
   "id": "e7d7fb19-73b5-409b-9cd7-f517f4a92af6",
   "metadata": {},
   "source": [
    "## Setup Component"
   ]
  },
  {
   "cell_type": "code",
   "execution_count": 3,
   "id": "475925e5-e0f4-4243-a9cf-df535ee0f9d6",
   "metadata": {
    "tags": []
   },
   "outputs": [],
   "source": [
    "from ds_discovery import Wrangle, Transition, Commons"
   ]
  },
  {
   "cell_type": "code",
   "execution_count": 4,
   "id": "ba65bdf0-cdf9-4e68-86c4-3f29754968e5",
   "metadata": {
    "tags": []
   },
   "outputs": [],
   "source": [
    "wr = Wrangle.from_env(\"intel_service\", has_contract=False)"
   ]
  },
  {
   "cell_type": "code",
   "execution_count": 5,
   "id": "bda4718f-1099-407d-be58-7961b9765cad",
   "metadata": {},
   "outputs": [],
   "source": [
    "wr.setup_bootstrap(domain='Telecom')\n",
    "contract = Transition.from_env(\"intel_service\").get_persist_contract()\n",
    "wr.set_source_contract(contract)\n",
    "wr.set_persist()"
   ]
  },
  {
   "cell_type": "code",
   "execution_count": 6,
   "id": "19de24cf-e2b1-439e-86e7-5adfee229f99",
   "metadata": {
    "tags": []
   },
   "outputs": [],
   "source": [
    "df = wr.load_source_canonical()"
   ]
  },
  {
   "cell_type": "markdown",
   "id": "1e04a0ed-1aec-489b-87b4-62f3d82a23e8",
   "metadata": {},
   "source": [
    "### dates"
   ]
  },
  {
   "cell_type": "code",
   "execution_count": 7,
   "id": "df20dc63-bae4-4857-baf1-cde3e5f2d780",
   "metadata": {
    "tags": []
   },
   "outputs": [],
   "source": [
    "df[\"duration\"] =  wr.tools.correlate_date_diff(df,units='ns',first_date = \"creationDate\", second_date = \"modifiedDate\", column_name=\"duration\")"
   ]
  },
  {
   "cell_type": "code",
   "execution_count": 8,
   "id": "2acc1bdd-bb11-4698-a526-e1b67c508bab",
   "metadata": {},
   "outputs": [],
   "source": [
    "df[\"modifiedDatePlus\"] =  wr.tools.correlate_dates(df, header='modifiedDate', offset={'hours': 1}, column_name=\"modifiedDatePlus\")"
   ]
  },
  {
   "cell_type": "code",
   "execution_count": 9,
   "id": "51abad02-b770-4089-91a5-60707a95a5ad",
   "metadata": {
    "tags": []
   },
   "outputs": [],
   "source": [
    "df[\"durationPlus\"] =  wr.tools.correlate_date_diff(df,units='ns',first_date = \"creationDate\", second_date = \"modifiedDatePlus\", column_name=\"durationPlus\")"
   ]
  },
  {
   "cell_type": "code",
   "execution_count": 10,
   "id": "31c78711-62f1-4d3b-b874-685ee12affad",
   "metadata": {},
   "outputs": [
    {
     "data": {
      "text/html": [
       "<style type=\"text/css\">\n",
       "#T_cd274 th {\n",
       "  font-size: 120%;\n",
       "  text-align: center;\n",
       "}\n",
       "#T_cd274 .row_heading {\n",
       "  display: none;;\n",
       "}\n",
       "#T_cd274  .blank {\n",
       "  display: none;;\n",
       "}\n",
       "#T_cd274_row0_col0, #T_cd274_row1_col0, #T_cd274_row2_col0, #T_cd274_row3_col0 {\n",
       "  font-weight: bold;\n",
       "  font-size: 120%;\n",
       "}\n",
       "#T_cd274_row0_col1, #T_cd274_row1_col1, #T_cd274_row2_col1, #T_cd274_row3_col1 {\n",
       "  color: #790f8a;\n",
       "}\n",
       "#T_cd274_row0_col2, #T_cd274_row0_col3, #T_cd274_row0_col5, #T_cd274_row1_col2, #T_cd274_row1_col3, #T_cd274_row1_col5, #T_cd274_row2_col2, #T_cd274_row2_col3, #T_cd274_row2_col5, #T_cd274_row3_col2, #T_cd274_row3_col3, #T_cd274_row3_col5 {\n",
       "  color: black;\n",
       "}\n",
       "</style>\n",
       "<table id=\"T_cd274\">\n",
       "  <caption>%_Dom: The % most dominant element </caption>\n",
       "  <thead>\n",
       "    <tr>\n",
       "      <th class=\"blank level0\" >&nbsp;</th>\n",
       "      <th id=\"T_cd274_level0_col0\" class=\"col_heading level0 col0\" >Attributes (4)</th>\n",
       "      <th id=\"T_cd274_level0_col1\" class=\"col_heading level0 col1\" >dType</th>\n",
       "      <th id=\"T_cd274_level0_col2\" class=\"col_heading level0 col2\" >%_Null</th>\n",
       "      <th id=\"T_cd274_level0_col3\" class=\"col_heading level0 col3\" >%_Dom</th>\n",
       "      <th id=\"T_cd274_level0_col4\" class=\"col_heading level0 col4\" >Count</th>\n",
       "      <th id=\"T_cd274_level0_col5\" class=\"col_heading level0 col5\" >Unique</th>\n",
       "      <th id=\"T_cd274_level0_col6\" class=\"col_heading level0 col6\" >Observations</th>\n",
       "    </tr>\n",
       "  </thead>\n",
       "  <tbody>\n",
       "    <tr>\n",
       "      <th id=\"T_cd274_level0_row0\" class=\"row_heading level0 row0\" >0</th>\n",
       "      <td id=\"T_cd274_row0_col0\" class=\"data row0 col0\" >creationDate</td>\n",
       "      <td id=\"T_cd274_row0_col1\" class=\"data row0 col1\" >datetime64[ns, UTC]</td>\n",
       "      <td id=\"T_cd274_row0_col2\" class=\"data row0 col2\" >0.0%</td>\n",
       "      <td id=\"T_cd274_row0_col3\" class=\"data row0 col3\" >0.0%</td>\n",
       "      <td id=\"T_cd274_row0_col4\" class=\"data row0 col4\" >5000</td>\n",
       "      <td id=\"T_cd274_row0_col5\" class=\"data row0 col5\" >4999</td>\n",
       "      <td id=\"T_cd274_row0_col6\" class=\"data row0 col6\" >max=2023-02-16 06:13:51.686000+00:00 | min=2023-02-15 18:59:23.338000+00:00 | yr mean= 2023</td>\n",
       "    </tr>\n",
       "    <tr>\n",
       "      <th id=\"T_cd274_level0_row1\" class=\"row_heading level0 row1\" >1</th>\n",
       "      <td id=\"T_cd274_row1_col0\" class=\"data row1 col0\" >modifiedDate</td>\n",
       "      <td id=\"T_cd274_row1_col1\" class=\"data row1 col1\" >datetime64[ns, UTC]</td>\n",
       "      <td id=\"T_cd274_row1_col2\" class=\"data row1 col2\" >0.0%</td>\n",
       "      <td id=\"T_cd274_row1_col3\" class=\"data row1 col3\" >0.0%</td>\n",
       "      <td id=\"T_cd274_row1_col4\" class=\"data row1 col4\" >5000</td>\n",
       "      <td id=\"T_cd274_row1_col5\" class=\"data row1 col5\" >4999</td>\n",
       "      <td id=\"T_cd274_row1_col6\" class=\"data row1 col6\" >max=2023-02-16 06:13:51.686000+00:00 | min=2023-02-15 18:59:23.401000+00:00 | yr mean= 2023</td>\n",
       "    </tr>\n",
       "    <tr>\n",
       "      <th id=\"T_cd274_level0_row2\" class=\"row_heading level0 row2\" >2</th>\n",
       "      <td id=\"T_cd274_row2_col0\" class=\"data row2 col0\" >modifiedDatePlus</td>\n",
       "      <td id=\"T_cd274_row2_col1\" class=\"data row2 col1\" >datetime64[ns, UTC]</td>\n",
       "      <td id=\"T_cd274_row2_col2\" class=\"data row2 col2\" >0.0%</td>\n",
       "      <td id=\"T_cd274_row2_col3\" class=\"data row2 col3\" >0.0%</td>\n",
       "      <td id=\"T_cd274_row2_col4\" class=\"data row2 col4\" >5000</td>\n",
       "      <td id=\"T_cd274_row2_col5\" class=\"data row2 col5\" >4999</td>\n",
       "      <td id=\"T_cd274_row2_col6\" class=\"data row2 col6\" >max=2023-02-16 07:13:51.686000+00:00 | min=2023-02-15 19:59:23.401000+00:00 | yr mean= 2023</td>\n",
       "    </tr>\n",
       "    <tr>\n",
       "      <th id=\"T_cd274_level0_row3\" class=\"row_heading level0 row3\" >3</th>\n",
       "      <td id=\"T_cd274_row3_col0\" class=\"data row3 col0\" >processingDate</td>\n",
       "      <td id=\"T_cd274_row3_col1\" class=\"data row3 col1\" >datetime64[ns, UTC]</td>\n",
       "      <td id=\"T_cd274_row3_col2\" class=\"data row3 col2\" >2.3%</td>\n",
       "      <td id=\"T_cd274_row3_col3\" class=\"data row3 col3\" >2.3%</td>\n",
       "      <td id=\"T_cd274_row3_col4\" class=\"data row3 col4\" >5000</td>\n",
       "      <td id=\"T_cd274_row3_col5\" class=\"data row3 col5\" >4887</td>\n",
       "      <td id=\"T_cd274_row3_col6\" class=\"data row3 col6\" >max=2023-02-16 06:14:16.601000+00:00 | min=2023-02-15 18:59:20.377000+00:00 | yr mean= 2023</td>\n",
       "    </tr>\n",
       "  </tbody>\n",
       "</table>\n"
      ],
      "text/plain": [
       "<pandas.io.formats.style.Styler at 0x7fbe595a7e80>"
      ]
     },
     "execution_count": 10,
     "metadata": {},
     "output_type": "execute_result"
    }
   ],
   "source": [
    "wr.canonical_report(Commons.filter_columns(df, regex='Date'))"
   ]
  },
  {
   "cell_type": "markdown",
   "id": "a77eb2b0-8db2-4117-a526-0d1c9190dd1f",
   "metadata": {},
   "source": [
    "### selection"
   ]
  },
  {
   "cell_type": "code",
   "execution_count": 11,
   "id": "76d485de-84e8-47c7-92b8-e3b7e792b191",
   "metadata": {
    "tags": []
   },
   "outputs": [],
   "source": [
    "selection = [wr.tools.select2dict(column='status', condition=\"@ == 'COMPLETED'\")]\n",
    "df['is_completed'] = wr.tools.correlate_selection(df, selection=selection, action=1, default_action=0, column_name='is_completed')"
   ]
  },
  {
   "cell_type": "code",
   "execution_count": 12,
   "id": "9256c367-8c77-4b81-893f-8b175fc283d6",
   "metadata": {},
   "outputs": [],
   "source": [
    "selection = [wr.tools.s2d(column='requestor', condition=\"@ != 'DSM'\")]\n",
    "action = wr.tools.a2d(method='@constant', value='other')\n",
    "default = wr.tools.a2d(method='@header', header='requestor')\n",
    "\n",
    "df['requestor_type'] = wr.tools.correlate_selection(df, selection=selection, action=action, default_action=default, column_name='requestor_type')"
   ]
  },
  {
   "cell_type": "code",
   "execution_count": 13,
   "id": "1066360c-2eef-4229-b467-50d012b1f400",
   "metadata": {},
   "outputs": [
    {
     "data": {
      "text/html": [
       "<style type=\"text/css\">\n",
       "#T_9a079 th {\n",
       "  font-size: 120%;\n",
       "  text-align: center;\n",
       "}\n",
       "#T_9a079 .row_heading {\n",
       "  display: none;;\n",
       "}\n",
       "#T_9a079  .blank {\n",
       "  display: none;;\n",
       "}\n",
       "#T_9a079_row0_col0, #T_9a079_row1_col0, #T_9a079_row2_col0 {\n",
       "  font-weight: bold;\n",
       "  font-size: 120%;\n",
       "}\n",
       "#T_9a079_row0_col1 {\n",
       "  color: #0f398a;\n",
       "}\n",
       "#T_9a079_row0_col2, #T_9a079_row0_col3, #T_9a079_row1_col2, #T_9a079_row1_col3, #T_9a079_row1_col5, #T_9a079_row2_col2, #T_9a079_row2_col3 {\n",
       "  color: black;\n",
       "}\n",
       "#T_9a079_row0_col5, #T_9a079_row2_col5 {\n",
       "  background-color: #a1cbe2;\n",
       "  color: black;\n",
       "}\n",
       "</style>\n",
       "<table id=\"T_9a079\">\n",
       "  <caption>%_Dom: The % most dominant element </caption>\n",
       "  <thead>\n",
       "    <tr>\n",
       "      <th class=\"blank level0\" >&nbsp;</th>\n",
       "      <th id=\"T_9a079_level0_col0\" class=\"col_heading level0 col0\" >Attributes (3)</th>\n",
       "      <th id=\"T_9a079_level0_col1\" class=\"col_heading level0 col1\" >dType</th>\n",
       "      <th id=\"T_9a079_level0_col2\" class=\"col_heading level0 col2\" >%_Null</th>\n",
       "      <th id=\"T_9a079_level0_col3\" class=\"col_heading level0 col3\" >%_Dom</th>\n",
       "      <th id=\"T_9a079_level0_col4\" class=\"col_heading level0 col4\" >Count</th>\n",
       "      <th id=\"T_9a079_level0_col5\" class=\"col_heading level0 col5\" >Unique</th>\n",
       "      <th id=\"T_9a079_level0_col6\" class=\"col_heading level0 col6\" >Observations</th>\n",
       "    </tr>\n",
       "  </thead>\n",
       "  <tbody>\n",
       "    <tr>\n",
       "      <th id=\"T_9a079_level0_row0\" class=\"row_heading level0 row0\" >0</th>\n",
       "      <td id=\"T_9a079_row0_col0\" class=\"data row0 col0\" >is_completed</td>\n",
       "      <td id=\"T_9a079_row0_col1\" class=\"data row0 col1\" >int64</td>\n",
       "      <td id=\"T_9a079_row0_col2\" class=\"data row0 col2\" >0.0%</td>\n",
       "      <td id=\"T_9a079_row0_col3\" class=\"data row0 col3\" >61.2%</td>\n",
       "      <td id=\"T_9a079_row0_col4\" class=\"data row0 col4\" >5000</td>\n",
       "      <td id=\"T_9a079_row0_col5\" class=\"data row0 col5\" >2</td>\n",
       "      <td id=\"T_9a079_row0_col6\" class=\"data row0 col6\" >max=1 | min=0 | mean=0.39 | dominant=0</td>\n",
       "    </tr>\n",
       "    <tr>\n",
       "      <th id=\"T_9a079_level0_row1\" class=\"row_heading level0 row1\" >1</th>\n",
       "      <td id=\"T_9a079_row1_col0\" class=\"data row1 col0\" >requestor</td>\n",
       "      <td id=\"T_9a079_row1_col1\" class=\"data row1 col1\" >object</td>\n",
       "      <td id=\"T_9a079_row1_col2\" class=\"data row1 col2\" >2.7%</td>\n",
       "      <td id=\"T_9a079_row1_col3\" class=\"data row1 col3\" >59.3%</td>\n",
       "      <td id=\"T_9a079_row1_col4\" class=\"data row1 col4\" >5000</td>\n",
       "      <td id=\"T_9a079_row1_col5\" class=\"data row1 col5\" >289</td>\n",
       "      <td id=\"T_9a079_row1_col6\" class=\"data row1 col6\" >Sample: DSM | davisamue | gabisra | sophabdulsa | solomoabd</td>\n",
       "    </tr>\n",
       "    <tr>\n",
       "      <th id=\"T_9a079_level0_row2\" class=\"row_heading level0 row2\" >2</th>\n",
       "      <td id=\"T_9a079_row2_col0\" class=\"data row2 col0\" >requestor_type</td>\n",
       "      <td id=\"T_9a079_row2_col1\" class=\"data row2 col1\" >object</td>\n",
       "      <td id=\"T_9a079_row2_col2\" class=\"data row2 col2\" >0.0%</td>\n",
       "      <td id=\"T_9a079_row2_col3\" class=\"data row2 col3\" >59.3%</td>\n",
       "      <td id=\"T_9a079_row2_col4\" class=\"data row2 col4\" >5000</td>\n",
       "      <td id=\"T_9a079_row2_col5\" class=\"data row2 col5\" >2</td>\n",
       "      <td id=\"T_9a079_row2_col6\" class=\"data row2 col6\" >Sample: DSM | other</td>\n",
       "    </tr>\n",
       "  </tbody>\n",
       "</table>\n"
      ],
      "text/plain": [
       "<pandas.io.formats.style.Styler at 0x7fbe5dbb7850>"
      ]
     },
     "execution_count": 13,
     "metadata": {},
     "output_type": "execute_result"
    }
   ],
   "source": [
    "wr.canonical_report(Commons.filter_columns(df, headers=['is_completed'], regex=['requestor']))"
   ]
  },
  {
   "cell_type": "markdown",
   "id": "360a415c-af12-4c77-b972-cebbf32e6ad6",
   "metadata": {},
   "source": [
    "### encoding"
   ]
  },
  {
   "cell_type": "code",
   "execution_count": 14,
   "id": "2bf32a97-7a33-46a0-b942-17e6992f6bcb",
   "metadata": {},
   "outputs": [],
   "source": [
    "df_encoded = wr.tools.model_encode_one_hot(df, headers=['status', 'requestor_type'], drop_first=True, column_name=\"encode_onehot\")"
   ]
  },
  {
   "cell_type": "code",
   "execution_count": 19,
   "id": "474bb1b1-92a1-4ef3-aea7-7efe6a03a22f",
   "metadata": {},
   "outputs": [
    {
     "data": {
      "text/html": [
       "<style type=\"text/css\">\n",
       "#T_e7ab5 th {\n",
       "  font-size: 120%;\n",
       "  text-align: center;\n",
       "}\n",
       "#T_e7ab5 .row_heading {\n",
       "  display: none;;\n",
       "}\n",
       "#T_e7ab5  .blank {\n",
       "  display: none;;\n",
       "}\n",
       "#T_e7ab5_row0_col0, #T_e7ab5_row1_col0, #T_e7ab5_row2_col0, #T_e7ab5_row3_col0 {\n",
       "  font-weight: bold;\n",
       "  font-size: 120%;\n",
       "}\n",
       "#T_e7ab5_row0_col2, #T_e7ab5_row0_col3, #T_e7ab5_row1_col2, #T_e7ab5_row1_col3, #T_e7ab5_row2_col2, #T_e7ab5_row3_col2 {\n",
       "  color: black;\n",
       "}\n",
       "#T_e7ab5_row0_col5, #T_e7ab5_row1_col5, #T_e7ab5_row2_col5, #T_e7ab5_row3_col5 {\n",
       "  background-color: #a1cbe2;\n",
       "  color: black;\n",
       "}\n",
       "#T_e7ab5_row2_col3 {\n",
       "  background-color: #f7593f;\n",
       "  color: white;\n",
       "}\n",
       "#T_e7ab5_row3_col3 {\n",
       "  background-color: #ec382b;\n",
       "  color: white;\n",
       "}\n",
       "</style>\n",
       "<table id=\"T_e7ab5\">\n",
       "  <caption>%_Dom: The % most dominant element </caption>\n",
       "  <thead>\n",
       "    <tr>\n",
       "      <th class=\"blank level0\" >&nbsp;</th>\n",
       "      <th id=\"T_e7ab5_level0_col0\" class=\"col_heading level0 col0\" >Attributes (4)</th>\n",
       "      <th id=\"T_e7ab5_level0_col1\" class=\"col_heading level0 col1\" >dType</th>\n",
       "      <th id=\"T_e7ab5_level0_col2\" class=\"col_heading level0 col2\" >%_Null</th>\n",
       "      <th id=\"T_e7ab5_level0_col3\" class=\"col_heading level0 col3\" >%_Dom</th>\n",
       "      <th id=\"T_e7ab5_level0_col4\" class=\"col_heading level0 col4\" >Count</th>\n",
       "      <th id=\"T_e7ab5_level0_col5\" class=\"col_heading level0 col5\" >Unique</th>\n",
       "      <th id=\"T_e7ab5_level0_col6\" class=\"col_heading level0 col6\" >Observations</th>\n",
       "    </tr>\n",
       "  </thead>\n",
       "  <tbody>\n",
       "    <tr>\n",
       "      <th id=\"T_e7ab5_level0_row0\" class=\"row_heading level0 row0\" >0</th>\n",
       "      <td id=\"T_e7ab5_row0_col0\" class=\"data row0 col0\" >requestor_type_other</td>\n",
       "      <td id=\"T_e7ab5_row0_col1\" class=\"data row0 col1\" >uint8</td>\n",
       "      <td id=\"T_e7ab5_row0_col2\" class=\"data row0 col2\" >0.0%</td>\n",
       "      <td id=\"T_e7ab5_row0_col3\" class=\"data row0 col3\" >59.3%</td>\n",
       "      <td id=\"T_e7ab5_row0_col4\" class=\"data row0 col4\" >5000</td>\n",
       "      <td id=\"T_e7ab5_row0_col5\" class=\"data row0 col5\" >2</td>\n",
       "      <td id=\"T_e7ab5_row0_col6\" class=\"data row0 col6\" ></td>\n",
       "    </tr>\n",
       "    <tr>\n",
       "      <th id=\"T_e7ab5_level0_row1\" class=\"row_heading level0 row1\" >1</th>\n",
       "      <td id=\"T_e7ab5_row1_col0\" class=\"data row1 col0\" >status_FAILED</td>\n",
       "      <td id=\"T_e7ab5_row1_col1\" class=\"data row1 col1\" >uint8</td>\n",
       "      <td id=\"T_e7ab5_row1_col2\" class=\"data row1 col2\" >0.0%</td>\n",
       "      <td id=\"T_e7ab5_row1_col3\" class=\"data row1 col3\" >60.7%</td>\n",
       "      <td id=\"T_e7ab5_row1_col4\" class=\"data row1 col4\" >5000</td>\n",
       "      <td id=\"T_e7ab5_row1_col5\" class=\"data row1 col5\" >2</td>\n",
       "      <td id=\"T_e7ab5_row1_col6\" class=\"data row1 col6\" ></td>\n",
       "    </tr>\n",
       "    <tr>\n",
       "      <th id=\"T_e7ab5_level0_row2\" class=\"row_heading level0 row2\" >2</th>\n",
       "      <td id=\"T_e7ab5_row2_col0\" class=\"data row2 col0\" >status_INPROGRESS</td>\n",
       "      <td id=\"T_e7ab5_row2_col1\" class=\"data row2 col1\" >uint8</td>\n",
       "      <td id=\"T_e7ab5_row2_col2\" class=\"data row2 col2\" >0.0%</td>\n",
       "      <td id=\"T_e7ab5_row2_col3\" class=\"data row2 col3\" >99.5%</td>\n",
       "      <td id=\"T_e7ab5_row2_col4\" class=\"data row2 col4\" >5000</td>\n",
       "      <td id=\"T_e7ab5_row2_col5\" class=\"data row2 col5\" >2</td>\n",
       "      <td id=\"T_e7ab5_row2_col6\" class=\"data row2 col6\" ></td>\n",
       "    </tr>\n",
       "    <tr>\n",
       "      <th id=\"T_e7ab5_level0_row3\" class=\"row_heading level0 row3\" >3</th>\n",
       "      <td id=\"T_e7ab5_row3_col0\" class=\"data row3 col0\" >status_PENDING</td>\n",
       "      <td id=\"T_e7ab5_row3_col1\" class=\"data row3 col1\" >uint8</td>\n",
       "      <td id=\"T_e7ab5_row3_col2\" class=\"data row3 col2\" >0.0%</td>\n",
       "      <td id=\"T_e7ab5_row3_col3\" class=\"data row3 col3\" >100.0%</td>\n",
       "      <td id=\"T_e7ab5_row3_col4\" class=\"data row3 col4\" >5000</td>\n",
       "      <td id=\"T_e7ab5_row3_col5\" class=\"data row3 col5\" >2</td>\n",
       "      <td id=\"T_e7ab5_row3_col6\" class=\"data row3 col6\" ></td>\n",
       "    </tr>\n",
       "  </tbody>\n",
       "</table>\n"
      ],
      "text/plain": [
       "<pandas.io.formats.style.Styler at 0x7fbe5dbb7ac0>"
      ]
     },
     "execution_count": 19,
     "metadata": {},
     "output_type": "execute_result"
    }
   ],
   "source": [
    "# K-1 one hot encoding\n",
    "wr.canonical_report(Commons.filter_columns(df_encoded, regex=['status', 'requestor_type']))"
   ]
  },
  {
   "cell_type": "code",
   "execution_count": 15,
   "id": "fa2a81c1-150f-47e8-8516-51c6e04629e2",
   "metadata": {
    "tags": []
   },
   "outputs": [],
   "source": [
    "df_encoded = wr.tools.model_encode_interger(df_encoded, headers=['reason'], column_name=\"encode_nominal\")"
   ]
  },
  {
   "cell_type": "code",
   "execution_count": 16,
   "id": "ac6e1afc-bbb8-4e3e-961d-1619f9c6b2e7",
   "metadata": {
    "tags": []
   },
   "outputs": [],
   "source": [
    "# as the tail has small counts, reduce them to a single category\n",
    "rank = ['SERUPD', 'COS', 'RESETPIN', 'RVAS']\n",
    "df_encoded = wr.tools.model_encode_interger(df_encoded, headers=['subType', 'type'], ranking=rank, column_name=\"encode_ordinal\")"
   ]
  },
  {
   "cell_type": "code",
   "execution_count": 17,
   "id": "4fd318de-ea73-4895-b1b9-cf6bddc2cb4c",
   "metadata": {
    "tags": []
   },
   "outputs": [
    {
     "data": {
      "text/plain": [
       "0    3030\n",
       "1    1864\n",
       "4     106\n",
       "Name: type, dtype: int64"
      ]
     },
     "execution_count": 17,
     "metadata": {},
     "output_type": "execute_result"
    }
   ],
   "source": [
    "# all other categories have been grouped under 4\n",
    "df_encoded['type'].value_counts()"
   ]
  },
  {
   "cell_type": "code",
   "execution_count": 18,
   "id": "bf537077-3ef1-4d58-acbd-ac3327903be3",
   "metadata": {},
   "outputs": [
    {
     "data": {
      "text/html": [
       "<style type=\"text/css\">\n",
       "#T_a8557 th {\n",
       "  font-size: 120%;\n",
       "  text-align: center;\n",
       "}\n",
       "#T_a8557 .row_heading {\n",
       "  display: none;;\n",
       "}\n",
       "#T_a8557  .blank {\n",
       "  display: none;;\n",
       "}\n",
       "#T_a8557_row0_col0, #T_a8557_row1_col0, #T_a8557_row2_col0 {\n",
       "  font-weight: bold;\n",
       "  font-size: 120%;\n",
       "}\n",
       "#T_a8557_row0_col1, #T_a8557_row1_col1, #T_a8557_row2_col1 {\n",
       "  color: #0f398a;\n",
       "}\n",
       "#T_a8557_row0_col2, #T_a8557_row1_col2, #T_a8557_row1_col3, #T_a8557_row2_col2, #T_a8557_row2_col3 {\n",
       "  color: black;\n",
       "}\n",
       "#T_a8557_row0_col3 {\n",
       "  background-color: #fcb499;\n",
       "  color: black;\n",
       "}\n",
       "#T_a8557_row0_col5 {\n",
       "  background-color: #a4da9e;\n",
       "  color: black;\n",
       "}\n",
       "#T_a8557_row1_col5, #T_a8557_row2_col5 {\n",
       "  background-color: #84cc83;\n",
       "  color: black;\n",
       "}\n",
       "</style>\n",
       "<table id=\"T_a8557\">\n",
       "  <caption>%_Dom: The % most dominant element </caption>\n",
       "  <thead>\n",
       "    <tr>\n",
       "      <th class=\"blank level0\" >&nbsp;</th>\n",
       "      <th id=\"T_a8557_level0_col0\" class=\"col_heading level0 col0\" >Attributes (3)</th>\n",
       "      <th id=\"T_a8557_level0_col1\" class=\"col_heading level0 col1\" >dType</th>\n",
       "      <th id=\"T_a8557_level0_col2\" class=\"col_heading level0 col2\" >%_Null</th>\n",
       "      <th id=\"T_a8557_level0_col3\" class=\"col_heading level0 col3\" >%_Dom</th>\n",
       "      <th id=\"T_a8557_level0_col4\" class=\"col_heading level0 col4\" >Count</th>\n",
       "      <th id=\"T_a8557_level0_col5\" class=\"col_heading level0 col5\" >Unique</th>\n",
       "      <th id=\"T_a8557_level0_col6\" class=\"col_heading level0 col6\" >Observations</th>\n",
       "    </tr>\n",
       "  </thead>\n",
       "  <tbody>\n",
       "    <tr>\n",
       "      <th id=\"T_a8557_level0_row0\" class=\"row_heading level0 row0\" >0</th>\n",
       "      <td id=\"T_a8557_row0_col0\" class=\"data row0 col0\" >reason</td>\n",
       "      <td id=\"T_a8557_row0_col1\" class=\"data row0 col1\" >int64</td>\n",
       "      <td id=\"T_a8557_row0_col2\" class=\"data row0 col2\" >0.0%</td>\n",
       "      <td id=\"T_a8557_row0_col3\" class=\"data row0 col3\" >94.1%</td>\n",
       "      <td id=\"T_a8557_row0_col4\" class=\"data row0 col4\" >5000</td>\n",
       "      <td id=\"T_a8557_row0_col5\" class=\"data row0 col5\" >8</td>\n",
       "      <td id=\"T_a8557_row0_col6\" class=\"data row0 col6\" >max=7 | min=0 | mean=0.15 | dominant=0</td>\n",
       "    </tr>\n",
       "    <tr>\n",
       "      <th id=\"T_a8557_level0_row1\" class=\"row_heading level0 row1\" >1</th>\n",
       "      <td id=\"T_a8557_row1_col0\" class=\"data row1 col0\" >subType</td>\n",
       "      <td id=\"T_a8557_row1_col1\" class=\"data row1 col1\" >int64</td>\n",
       "      <td id=\"T_a8557_row1_col2\" class=\"data row1 col2\" >0.0%</td>\n",
       "      <td id=\"T_a8557_row1_col3\" class=\"data row1 col3\" >60.5%</td>\n",
       "      <td id=\"T_a8557_row1_col4\" class=\"data row1 col4\" >5000</td>\n",
       "      <td id=\"T_a8557_row1_col5\" class=\"data row1 col5\" >3</td>\n",
       "      <td id=\"T_a8557_row1_col6\" class=\"data row1 col6\" >max=4 | min=2 | mean=2.49 | dominant=2</td>\n",
       "    </tr>\n",
       "    <tr>\n",
       "      <th id=\"T_a8557_level0_row2\" class=\"row_heading level0 row2\" >2</th>\n",
       "      <td id=\"T_a8557_row2_col0\" class=\"data row2 col0\" >type</td>\n",
       "      <td id=\"T_a8557_row2_col1\" class=\"data row2 col1\" >int64</td>\n",
       "      <td id=\"T_a8557_row2_col2\" class=\"data row2 col2\" >0.0%</td>\n",
       "      <td id=\"T_a8557_row2_col3\" class=\"data row2 col3\" >60.6%</td>\n",
       "      <td id=\"T_a8557_row2_col4\" class=\"data row2 col4\" >5000</td>\n",
       "      <td id=\"T_a8557_row2_col5\" class=\"data row2 col5\" >3</td>\n",
       "      <td id=\"T_a8557_row2_col6\" class=\"data row2 col6\" >max=4 | min=0 | mean=0.46 | dominant=0</td>\n",
       "    </tr>\n",
       "  </tbody>\n",
       "</table>\n"
      ],
      "text/plain": [
       "<pandas.io.formats.style.Styler at 0x7fbe5dc06d40>"
      ]
     },
     "execution_count": 18,
     "metadata": {},
     "output_type": "execute_result"
    }
   ],
   "source": [
    "# ordinal/nominal\n",
    "wr.canonical_report(Commons.filter_columns(df_encoded, headers=['reason', 'type', 'subType']))"
   ]
  },
  {
   "cell_type": "code",
   "execution_count": null,
   "id": "694dc58d-0adb-4e8c-a7a5-615c22480ab0",
   "metadata": {},
   "outputs": [],
   "source": []
  }
 ],
 "metadata": {
  "kernelspec": {
   "display_name": "Python 3 (ipykernel)",
   "language": "python",
   "name": "python3"
  },
  "language_info": {
   "codemirror_mode": {
    "name": "ipython",
    "version": 3
   },
   "file_extension": ".py",
   "mimetype": "text/x-python",
   "name": "python",
   "nbconvert_exporter": "python",
   "pygments_lexer": "ipython3",
   "version": "3.10.8"
  }
 },
 "nbformat": 4,
 "nbformat_minor": 5
}
