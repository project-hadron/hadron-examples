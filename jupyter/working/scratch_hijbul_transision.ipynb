{
 "cells": [
  {
   "cell_type": "code",
   "execution_count": 1,
   "id": "7db1cc96-fe36-49f0-80a5-bdd3fdec3364",
   "metadata": {},
   "outputs": [],
   "source": [
    "import os\n",
    "from pathlib import Path"
   ]
  },
  {
   "cell_type": "code",
   "execution_count": 2,
   "id": "bf808b14-df0f-4a98-89ec-03013632c1cc",
   "metadata": {
    "tags": []
   },
   "outputs": [],
   "source": [
    "# Domain Contract\n",
    "os.environ['HADRON_PM_PATH'] = Path('${PWD}/metadata/contracts/workshop').as_posix() \n",
    "\n",
    "# local data stores\n",
    "os.environ['HADRON_DEFAULT_PATH'] = Path('${PWD}/metadata/data/workshop').as_posix()\n",
    "os.environ['HADRON_TRANSITION_INTEL_SERVICE_SOURCE_PATH'] = Path('${PWD}/metadata/source').as_posix()"
   ]
  },
  {
   "cell_type": "code",
   "execution_count": 3,
   "id": "fcf80a0f-5fad-48b9-94f2-13afb12795b4",
   "metadata": {
    "tags": []
   },
   "outputs": [],
   "source": [
    "from ds_discovery import Transition, Commons"
   ]
  },
  {
   "cell_type": "code",
   "execution_count": 4,
   "id": "c5d806b7-5d79-4cdd-8e60-ef4f678d283f",
   "metadata": {
    "tags": []
   },
   "outputs": [],
   "source": [
    "tr = Transition.from_env(\"intel_service\", has_contract=False)"
   ]
  },
  {
   "cell_type": "code",
   "execution_count": 5,
   "id": "2a069b4f-5b79-4ff9-9221-a4adce05de86",
   "metadata": {
    "tags": []
   },
   "outputs": [],
   "source": [
    "tr.setup_bootstrap(domain='Telecom')\n",
    "tr.set_source('clm_dump.xlsx', nrows=5000)\n",
    "tr.set_persist()"
   ]
  },
  {
   "cell_type": "code",
   "execution_count": 6,
   "id": "5c45454d-3ca6-4921-9da0-9958788bbd2b",
   "metadata": {},
   "outputs": [],
   "source": [
    "df = tr.load_source_canonical()"
   ]
  },
  {
   "cell_type": "code",
   "execution_count": 7,
   "id": "7f3ed5da-013e-484c-ad00-1b07324c6488",
   "metadata": {
    "tags": []
   },
   "outputs": [],
   "source": [
    "# map the names\n",
    "df = tr.tools.auto_clean_header(df, rename_map={\n",
    "                'serviceRequests.customerInfo.serviceCode':'serviceCode',\n",
    "                'serviceRequests.serviceRequestProcessingDate':'processingDate',\n",
    "                'serviceRequests.serviceRequestReason.masterCode':'reason',\n",
    "                'serviceRequests.requestor.requestorCode.masterCode':'requestor',\n",
    "                'serviceRequests.serviceRequestType.masterCode':'type',\n",
    "                'serviceRequests.serviceRequestCreationDate':'creationDate',\n",
    "                'serviceRequests.serviceRequestStatus.masterCode':'status',\n",
    "                'serviceRequests.serviceRequestSubtype.masterCode':'subType',\n",
    "                'serviceRequests.subServiceType.masterCode':'subServiceType',\n",
    "                'serviceRequests.businessType.masterCode':'businessType',\n",
    "                'serviceRequests.serviceRequestNumber':'requestNumber',\n",
    "                'serviceRequests.modifiedDate':'modifiedDate',\n",
    "})"
   ]
  },
  {
   "cell_type": "code",
   "execution_count": 8,
   "id": "4b2d0595-5609-4ae9-82df-4ec9a18f9623",
   "metadata": {},
   "outputs": [],
   "source": [
    "# Tidy up the columns (selection)\n",
    "df = tr.tools.to_remove(df, headers=[\"businessType\", \"subServiceType\"])\n",
    "df = tr.tools.to_date_type(df, regex=\"Date\", timezone='UTC')"
   ]
  },
  {
   "cell_type": "code",
   "execution_count": 9,
   "id": "4d63dc96-1cbb-48cb-8773-bc4a66eec96f",
   "metadata": {
    "tags": []
   },
   "outputs": [],
   "source": [
    "tr.run_component_pipeline()"
   ]
  },
  {
   "cell_type": "code",
   "execution_count": 10,
   "id": "3b06749a-5a36-4fcd-8eb0-017311a097b7",
   "metadata": {
    "tags": []
   },
   "outputs": [
    {
     "data": {
      "text/html": [
       "<style type=\"text/css\">\n",
       "#T_25e25 th {\n",
       "  font-size: 120%;\n",
       "  text-align: center;\n",
       "}\n",
       "#T_25e25 .row_heading {\n",
       "  display: none;;\n",
       "}\n",
       "#T_25e25  .blank {\n",
       "  display: none;;\n",
       "}\n",
       "#T_25e25_row0_col0, #T_25e25_row1_col0, #T_25e25_row2_col0, #T_25e25_row3_col0, #T_25e25_row4_col0, #T_25e25_row5_col0, #T_25e25_row6_col0, #T_25e25_row7_col0, #T_25e25_row8_col0, #T_25e25_row9_col0 {\n",
       "  font-weight: bold;\n",
       "  font-size: 120%;\n",
       "}\n",
       "#T_25e25_row0_col1, #T_25e25_row1_col1, #T_25e25_row2_col1 {\n",
       "  color: #790f8a;\n",
       "}\n",
       "#T_25e25_row0_col2, #T_25e25_row0_col3, #T_25e25_row0_col5, #T_25e25_row1_col2, #T_25e25_row1_col3, #T_25e25_row1_col5, #T_25e25_row2_col2, #T_25e25_row2_col3, #T_25e25_row2_col5, #T_25e25_row3_col2, #T_25e25_row4_col2, #T_25e25_row4_col3, #T_25e25_row4_col5, #T_25e25_row5_col2, #T_25e25_row5_col3, #T_25e25_row5_col5, #T_25e25_row6_col2, #T_25e25_row6_col3, #T_25e25_row6_col5, #T_25e25_row7_col2, #T_25e25_row7_col3, #T_25e25_row8_col2, #T_25e25_row8_col3, #T_25e25_row9_col2, #T_25e25_row9_col3 {\n",
       "  color: black;\n",
       "}\n",
       "#T_25e25_row3_col3 {\n",
       "  background-color: #fcb499;\n",
       "  color: black;\n",
       "}\n",
       "#T_25e25_row3_col5, #T_25e25_row9_col5 {\n",
       "  background-color: #a4da9e;\n",
       "  color: black;\n",
       "}\n",
       "#T_25e25_row4_col1 {\n",
       "  color: #0f398a;\n",
       "}\n",
       "#T_25e25_row6_col1 {\n",
       "  color: #2f0f8a;\n",
       "}\n",
       "#T_25e25_row7_col5 {\n",
       "  background-color: #84cc83;\n",
       "  color: black;\n",
       "}\n",
       "#T_25e25_row8_col5 {\n",
       "  background-color: #c1e6ba;\n",
       "  color: black;\n",
       "}\n",
       "</style>\n",
       "<table id=\"T_25e25\">\n",
       "  <caption>%_Dom: The % most dominant element </caption>\n",
       "  <thead>\n",
       "    <tr>\n",
       "      <th class=\"blank level0\" >&nbsp;</th>\n",
       "      <th id=\"T_25e25_level0_col0\" class=\"col_heading level0 col0\" >Attributes (10)</th>\n",
       "      <th id=\"T_25e25_level0_col1\" class=\"col_heading level0 col1\" >dType</th>\n",
       "      <th id=\"T_25e25_level0_col2\" class=\"col_heading level0 col2\" >%_Null</th>\n",
       "      <th id=\"T_25e25_level0_col3\" class=\"col_heading level0 col3\" >%_Dom</th>\n",
       "      <th id=\"T_25e25_level0_col4\" class=\"col_heading level0 col4\" >Count</th>\n",
       "      <th id=\"T_25e25_level0_col5\" class=\"col_heading level0 col5\" >Unique</th>\n",
       "      <th id=\"T_25e25_level0_col6\" class=\"col_heading level0 col6\" >Observations</th>\n",
       "    </tr>\n",
       "  </thead>\n",
       "  <tbody>\n",
       "    <tr>\n",
       "      <th id=\"T_25e25_level0_row0\" class=\"row_heading level0 row0\" >0</th>\n",
       "      <td id=\"T_25e25_row0_col0\" class=\"data row0 col0\" >creationDate</td>\n",
       "      <td id=\"T_25e25_row0_col1\" class=\"data row0 col1\" >datetime64[ns, UTC]</td>\n",
       "      <td id=\"T_25e25_row0_col2\" class=\"data row0 col2\" >0.0%</td>\n",
       "      <td id=\"T_25e25_row0_col3\" class=\"data row0 col3\" >0.0%</td>\n",
       "      <td id=\"T_25e25_row0_col4\" class=\"data row0 col4\" >5000</td>\n",
       "      <td id=\"T_25e25_row0_col5\" class=\"data row0 col5\" >4999</td>\n",
       "      <td id=\"T_25e25_row0_col6\" class=\"data row0 col6\" >max=2023-02-16 06:13:51.686000+00:00 | min=2023-02-15 18:59:23.338000+00:00 | yr mean= 2023</td>\n",
       "    </tr>\n",
       "    <tr>\n",
       "      <th id=\"T_25e25_level0_row1\" class=\"row_heading level0 row1\" >1</th>\n",
       "      <td id=\"T_25e25_row1_col0\" class=\"data row1 col0\" >modifiedDate</td>\n",
       "      <td id=\"T_25e25_row1_col1\" class=\"data row1 col1\" >datetime64[ns, UTC]</td>\n",
       "      <td id=\"T_25e25_row1_col2\" class=\"data row1 col2\" >0.0%</td>\n",
       "      <td id=\"T_25e25_row1_col3\" class=\"data row1 col3\" >0.0%</td>\n",
       "      <td id=\"T_25e25_row1_col4\" class=\"data row1 col4\" >5000</td>\n",
       "      <td id=\"T_25e25_row1_col5\" class=\"data row1 col5\" >4999</td>\n",
       "      <td id=\"T_25e25_row1_col6\" class=\"data row1 col6\" >max=2023-02-16 06:13:51.686000+00:00 | min=2023-02-15 18:59:23.401000+00:00 | yr mean= 2023</td>\n",
       "    </tr>\n",
       "    <tr>\n",
       "      <th id=\"T_25e25_level0_row2\" class=\"row_heading level0 row2\" >2</th>\n",
       "      <td id=\"T_25e25_row2_col0\" class=\"data row2 col0\" >processingDate</td>\n",
       "      <td id=\"T_25e25_row2_col1\" class=\"data row2 col1\" >datetime64[ns, UTC]</td>\n",
       "      <td id=\"T_25e25_row2_col2\" class=\"data row2 col2\" >2.3%</td>\n",
       "      <td id=\"T_25e25_row2_col3\" class=\"data row2 col3\" >2.3%</td>\n",
       "      <td id=\"T_25e25_row2_col4\" class=\"data row2 col4\" >5000</td>\n",
       "      <td id=\"T_25e25_row2_col5\" class=\"data row2 col5\" >4887</td>\n",
       "      <td id=\"T_25e25_row2_col6\" class=\"data row2 col6\" >max=2023-02-16 06:14:16.601000+00:00 | min=2023-02-15 18:59:20.377000+00:00 | yr mean= 2023</td>\n",
       "    </tr>\n",
       "    <tr>\n",
       "      <th id=\"T_25e25_level0_row3\" class=\"row_heading level0 row3\" >3</th>\n",
       "      <td id=\"T_25e25_row3_col0\" class=\"data row3 col0\" >reason</td>\n",
       "      <td id=\"T_25e25_row3_col1\" class=\"data row3 col1\" >object</td>\n",
       "      <td id=\"T_25e25_row3_col2\" class=\"data row3 col2\" >0.6%</td>\n",
       "      <td id=\"T_25e25_row3_col3\" class=\"data row3 col3\" >94.1%</td>\n",
       "      <td id=\"T_25e25_row3_col4\" class=\"data row3 col4\" >5000</td>\n",
       "      <td id=\"T_25e25_row3_col5\" class=\"data row3 col5\" >8</td>\n",
       "      <td id=\"T_25e25_row3_col6\" class=\"data row3 col6\" >Sample: 1 | FSIM | 2 | SR | BSR</td>\n",
       "    </tr>\n",
       "    <tr>\n",
       "      <th id=\"T_25e25_level0_row4\" class=\"row_heading level0 row4\" >4</th>\n",
       "      <td id=\"T_25e25_row4_col0\" class=\"data row4 col0\" >requestNumber</td>\n",
       "      <td id=\"T_25e25_row4_col1\" class=\"data row4 col1\" >int64</td>\n",
       "      <td id=\"T_25e25_row4_col2\" class=\"data row4 col2\" >0.0%</td>\n",
       "      <td id=\"T_25e25_row4_col3\" class=\"data row4 col3\" >0.0%</td>\n",
       "      <td id=\"T_25e25_row4_col4\" class=\"data row4 col4\" >5000</td>\n",
       "      <td id=\"T_25e25_row4_col5\" class=\"data row4 col5\" >5000</td>\n",
       "      <td id=\"T_25e25_row4_col6\" class=\"data row4 col6\" >max=62386426 | min=62380395 | mean=62383720.49 | dominant=[62380395, 62380397]</td>\n",
       "    </tr>\n",
       "    <tr>\n",
       "      <th id=\"T_25e25_level0_row5\" class=\"row_heading level0 row5\" >5</th>\n",
       "      <td id=\"T_25e25_row5_col0\" class=\"data row5 col0\" >requestor</td>\n",
       "      <td id=\"T_25e25_row5_col1\" class=\"data row5 col1\" >object</td>\n",
       "      <td id=\"T_25e25_row5_col2\" class=\"data row5 col2\" >2.7%</td>\n",
       "      <td id=\"T_25e25_row5_col3\" class=\"data row5 col3\" >59.3%</td>\n",
       "      <td id=\"T_25e25_row5_col4\" class=\"data row5 col4\" >5000</td>\n",
       "      <td id=\"T_25e25_row5_col5\" class=\"data row5 col5\" >289</td>\n",
       "      <td id=\"T_25e25_row5_col6\" class=\"data row5 col6\" >Sample: DSM | davisamue | gabisra | sophabdulsa | solomoabd</td>\n",
       "    </tr>\n",
       "    <tr>\n",
       "      <th id=\"T_25e25_level0_row6\" class=\"row_heading level0 row6\" >6</th>\n",
       "      <td id=\"T_25e25_row6_col0\" class=\"data row6 col0\" >serviceCode</td>\n",
       "      <td id=\"T_25e25_row6_col1\" class=\"data row6 col1\" >float64</td>\n",
       "      <td id=\"T_25e25_row6_col2\" class=\"data row6 col2\" >0.1%</td>\n",
       "      <td id=\"T_25e25_row6_col3\" class=\"data row6 col3\" >0.3%</td>\n",
       "      <td id=\"T_25e25_row6_col4\" class=\"data row6 col4\" >5000</td>\n",
       "      <td id=\"T_25e25_row6_col5\" class=\"data row6 col5\" >3723</td>\n",
       "      <td id=\"T_25e25_row6_col6\" class=\"data row6 col6\" >max=504155854.0 | min=737838.0 | mean=300188811.04 | dominant=87180467.0</td>\n",
       "    </tr>\n",
       "    <tr>\n",
       "      <th id=\"T_25e25_level0_row7\" class=\"row_heading level0 row7\" >7</th>\n",
       "      <td id=\"T_25e25_row7_col0\" class=\"data row7 col0\" >status</td>\n",
       "      <td id=\"T_25e25_row7_col1\" class=\"data row7 col1\" >object</td>\n",
       "      <td id=\"T_25e25_row7_col2\" class=\"data row7 col2\" >0.0%</td>\n",
       "      <td id=\"T_25e25_row7_col3\" class=\"data row7 col3\" >60.7%</td>\n",
       "      <td id=\"T_25e25_row7_col4\" class=\"data row7 col4\" >5000</td>\n",
       "      <td id=\"T_25e25_row7_col5\" class=\"data row7 col5\" >4</td>\n",
       "      <td id=\"T_25e25_row7_col6\" class=\"data row7 col6\" >Sample: FAILED | COMPLETED | INPROGRESS | PENDING</td>\n",
       "    </tr>\n",
       "    <tr>\n",
       "      <th id=\"T_25e25_level0_row8\" class=\"row_heading level0 row8\" >8</th>\n",
       "      <td id=\"T_25e25_row8_col0\" class=\"data row8 col0\" >subType</td>\n",
       "      <td id=\"T_25e25_row8_col1\" class=\"data row8 col1\" >object</td>\n",
       "      <td id=\"T_25e25_row8_col2\" class=\"data row8 col2\" >0.0%</td>\n",
       "      <td id=\"T_25e25_row8_col3\" class=\"data row8 col3\" >60.5%</td>\n",
       "      <td id=\"T_25e25_row8_col4\" class=\"data row8 col4\" >5000</td>\n",
       "      <td id=\"T_25e25_row8_col5\" class=\"data row8 col5\" >17</td>\n",
       "      <td id=\"T_25e25_row8_col6\" class=\"data row8 col6\" >Sample: RESETPIN | RVAS | SIMC | TRMIG | VAS</td>\n",
       "    </tr>\n",
       "    <tr>\n",
       "      <th id=\"T_25e25_level0_row9\" class=\"row_heading level0 row9\" >9</th>\n",
       "      <td id=\"T_25e25_row9_col0\" class=\"data row9 col0\" >type</td>\n",
       "      <td id=\"T_25e25_row9_col1\" class=\"data row9 col1\" >object</td>\n",
       "      <td id=\"T_25e25_row9_col2\" class=\"data row9 col2\" >0.0%</td>\n",
       "      <td id=\"T_25e25_row9_col3\" class=\"data row9 col3\" >60.6%</td>\n",
       "      <td id=\"T_25e25_row9_col4\" class=\"data row9 col4\" >5000</td>\n",
       "      <td id=\"T_25e25_row9_col5\" class=\"data row9 col5\" >7</td>\n",
       "      <td id=\"T_25e25_row9_col6\" class=\"data row9 col6\" >Sample: SERUPD | COS | RECH | SERINF | DSTCL</td>\n",
       "    </tr>\n",
       "  </tbody>\n",
       "</table>\n"
      ],
      "text/plain": [
       "<pandas.io.formats.style.Styler at 0x7ff7409e1720>"
      ]
     },
     "execution_count": 10,
     "metadata": {},
     "output_type": "execute_result"
    }
   ],
   "source": [
    "tr.canonical_report(tr.load_persist_canonical())"
   ]
  },
  {
   "cell_type": "code",
   "execution_count": 17,
   "id": "3794b99f-64a0-494e-ad66-e109ae964489",
   "metadata": {},
   "outputs": [
    {
     "ename": "ValueError",
     "evalue": "NaTType does not support astimezone",
     "output_type": "error",
     "traceback": [
      "\u001b[0;31m---------------------------------------------------------------------------\u001b[0m",
      "\u001b[0;31mValueError\u001b[0m                                Traceback (most recent call last)",
      "Cell \u001b[0;32mIn[17], line 1\u001b[0m\n\u001b[0;32m----> 1\u001b[0m \u001b[43mtr\u001b[49m\u001b[38;5;241;43m.\u001b[39;49m\u001b[43msave_canonical_schema\u001b[49m\u001b[43m(\u001b[49m\u001b[43m)\u001b[49m\n",
      "File \u001b[0;32m/opt/anaconda3/envs/hadron/lib/python3.10/site-packages/ds_discovery/components/abstract_common_component.py:199\u001b[0m, in \u001b[0;36mAbstractCommonComponent.save_canonical_schema\u001b[0;34m(self, schema_name, canonical, schema_tree, exclude_associate, detail_numeric, strict_typing, category_limit, save)\u001b[0m\n\u001b[1;32m    197\u001b[0m strict_typing \u001b[38;5;241m=\u001b[39m strict_typing \u001b[38;5;28;01mif\u001b[39;00m \u001b[38;5;28misinstance\u001b[39m(strict_typing, \u001b[38;5;28mbool\u001b[39m) \u001b[38;5;28;01melse\u001b[39;00m \u001b[38;5;28;01mTrue\u001b[39;00m\n\u001b[1;32m    198\u001b[0m category_limit \u001b[38;5;241m=\u001b[39m category_limit \u001b[38;5;28;01mif\u001b[39;00m \u001b[38;5;28misinstance\u001b[39m(category_limit, \u001b[38;5;28mint\u001b[39m) \u001b[38;5;28;01melse\u001b[39;00m \u001b[38;5;241m10\u001b[39m\n\u001b[0;32m--> 199\u001b[0m analytics \u001b[38;5;241m=\u001b[39m \u001b[43mDataDiscovery\u001b[49m\u001b[38;5;241;43m.\u001b[39;49m\u001b[43manalyse_association\u001b[49m\u001b[43m(\u001b[49m\u001b[43mcanonical\u001b[49m\u001b[43m,\u001b[49m\u001b[43m \u001b[49m\u001b[43mcolumns_list\u001b[49m\u001b[38;5;241;43m=\u001b[39;49m\u001b[43mschema_tree\u001b[49m\u001b[43m,\u001b[49m\n\u001b[1;32m    200\u001b[0m \u001b[43m                                              \u001b[49m\u001b[43mexclude_associate\u001b[49m\u001b[38;5;241;43m=\u001b[39;49m\u001b[43mexclude_associate\u001b[49m\u001b[43m,\u001b[49m\n\u001b[1;32m    201\u001b[0m \u001b[43m                                              \u001b[49m\u001b[43mdetail_numeric\u001b[49m\u001b[38;5;241;43m=\u001b[39;49m\u001b[43mdetail_numeric\u001b[49m\u001b[43m,\u001b[49m\u001b[43m \u001b[49m\u001b[43mstrict_typing\u001b[49m\u001b[38;5;241;43m=\u001b[39;49m\u001b[43mstrict_typing\u001b[49m\u001b[43m,\u001b[49m\n\u001b[1;32m    202\u001b[0m \u001b[43m                                              \u001b[49m\u001b[43mcategory_limit\u001b[49m\u001b[38;5;241;43m=\u001b[39;49m\u001b[43mcategory_limit\u001b[49m\u001b[43m)\u001b[49m\n\u001b[1;32m    203\u001b[0m \u001b[38;5;28mself\u001b[39m\u001b[38;5;241m.\u001b[39mpm\u001b[38;5;241m.\u001b[39mset_canonical_schema(name\u001b[38;5;241m=\u001b[39mschema_name, schema\u001b[38;5;241m=\u001b[39manalytics)\n\u001b[1;32m    204\u001b[0m \u001b[38;5;28mself\u001b[39m\u001b[38;5;241m.\u001b[39mpm_persist(save\u001b[38;5;241m=\u001b[39msave)\n",
      "File \u001b[0;32m/opt/anaconda3/envs/hadron/lib/python3.10/site-packages/ds_discovery/components/discovery.py:1567\u001b[0m, in \u001b[0;36mDataDiscovery.analyse_association\u001b[0;34m(df, columns_list, exclude_associate, detail_numeric, strict_typing, category_limit)\u001b[0m\n\u001b[1;32m   1565\u001b[0m exclude_associate \u001b[38;5;241m=\u001b[39m \u001b[38;5;28mlist\u001b[39m() \u001b[38;5;28;01mif\u001b[39;00m \u001b[38;5;129;01mnot\u001b[39;00m \u001b[38;5;28misinstance\u001b[39m(exclude_associate, \u001b[38;5;28mlist\u001b[39m) \u001b[38;5;28;01melse\u001b[39;00m exclude_associate\n\u001b[1;32m   1566\u001b[0m rtn_dict \u001b[38;5;241m=\u001b[39m {}\n\u001b[0;32m-> 1567\u001b[0m \u001b[43m_get_weights\u001b[49m\u001b[43m(\u001b[49m\u001b[43mdf\u001b[49m\u001b[43m,\u001b[49m\u001b[43m \u001b[49m\u001b[43mcolumns\u001b[49m\u001b[38;5;241;43m=\u001b[39;49m\u001b[43mcolumns_list\u001b[49m\u001b[43m,\u001b[49m\u001b[43m \u001b[49m\u001b[43mindex\u001b[49m\u001b[38;5;241;43m=\u001b[39;49m\u001b[38;5;241;43m0\u001b[39;49m\u001b[43m,\u001b[49m\u001b[43m \u001b[49m\u001b[43mweighting\u001b[49m\u001b[38;5;241;43m=\u001b[39;49m\u001b[43mrtn_dict\u001b[49m\u001b[43m,\u001b[49m\u001b[43m \u001b[49m\u001b[43mparent\u001b[49m\u001b[38;5;241;43m=\u001b[39;49m\u001b[38;5;28;43mlist\u001b[39;49m\u001b[43m(\u001b[49m\u001b[43m)\u001b[49m\u001b[43m)\u001b[49m\n\u001b[1;32m   1568\u001b[0m \u001b[38;5;28;01mreturn\u001b[39;00m rtn_dict\n",
      "File \u001b[0;32m/opt/anaconda3/envs/hadron/lib/python3.10/site-packages/ds_discovery/components/discovery.py:1522\u001b[0m, in \u001b[0;36mDataDiscovery.analyse_association.<locals>._get_weights\u001b[0;34m(_df, columns, index, weighting, parent)\u001b[0m\n\u001b[1;32m   1520\u001b[0m     date_format \u001b[38;5;241m=\u001b[39m kwargs\u001b[38;5;241m.\u001b[39mget(\u001b[38;5;124m'\u001b[39m\u001b[38;5;124mdate_format\u001b[39m\u001b[38;5;124m'\u001b[39m)\n\u001b[1;32m   1521\u001b[0m     selection \u001b[38;5;241m=\u001b[39m \u001b[38;5;124m'\u001b[39m\u001b[38;5;124mintervals\u001b[39m\u001b[38;5;124m'\u001b[39m\n\u001b[0;32m-> 1522\u001b[0m     section[\u001b[38;5;124m'\u001b[39m\u001b[38;5;124minsight\u001b[39m\u001b[38;5;124m'\u001b[39m] \u001b[38;5;241m=\u001b[39m \u001b[43mtools\u001b[49m\u001b[38;5;241;43m.\u001b[39;49m\u001b[43manalyse_date\u001b[49m\u001b[43m(\u001b[49m\u001b[43m_df\u001b[49m\u001b[43m[\u001b[49m\u001b[43mlabel\u001b[49m\u001b[43m]\u001b[49m\u001b[43m,\u001b[49m\u001b[43m \u001b[49m\u001b[43mgranularity\u001b[49m\u001b[38;5;241;43m=\u001b[39;49m\u001b[43mgranularity\u001b[49m\u001b[43m,\u001b[49m\u001b[43m \u001b[49m\u001b[43mlower\u001b[49m\u001b[38;5;241;43m=\u001b[39;49m\u001b[43mlower\u001b[49m\u001b[43m,\u001b[49m\n\u001b[1;32m   1523\u001b[0m \u001b[43m                                            \u001b[49m\u001b[43mupper\u001b[49m\u001b[38;5;241;43m=\u001b[39;49m\u001b[43mupper\u001b[49m\u001b[43m,\u001b[49m\u001b[43m \u001b[49m\u001b[43mday_first\u001b[49m\u001b[38;5;241;43m=\u001b[39;49m\u001b[43mday_first\u001b[49m\u001b[43m,\u001b[49m\u001b[43m \u001b[49m\u001b[43myear_first\u001b[49m\u001b[38;5;241;43m=\u001b[39;49m\u001b[43myear_first\u001b[49m\u001b[43m,\u001b[49m\n\u001b[1;32m   1524\u001b[0m \u001b[43m                                            \u001b[49m\u001b[43mfreq_precision\u001b[49m\u001b[38;5;241;43m=\u001b[39;49m\u001b[43mfreq_precision\u001b[49m\u001b[43m,\u001b[49m\u001b[43m \u001b[49m\u001b[43mdate_format\u001b[49m\u001b[38;5;241;43m=\u001b[39;49m\u001b[43mdate_format\u001b[49m\u001b[43m)\u001b[49m\n\u001b[1;32m   1525\u001b[0m \u001b[38;5;28;01melif\u001b[39;00m dtype\u001b[38;5;241m.\u001b[39mstartswith(\u001b[38;5;124m'\u001b[39m\u001b[38;5;124mcategory\u001b[39m\u001b[38;5;124m'\u001b[39m) \u001b[38;5;129;01mor\u001b[39;00m dtype\u001b[38;5;241m.\u001b[39mstartswith(\u001b[38;5;124m'\u001b[39m\u001b[38;5;124mbool\u001b[39m\u001b[38;5;124m'\u001b[39m):\n\u001b[1;32m   1526\u001b[0m     top \u001b[38;5;241m=\u001b[39m kwargs\u001b[38;5;241m.\u001b[39mget(\u001b[38;5;124m'\u001b[39m\u001b[38;5;124mtop\u001b[39m\u001b[38;5;124m'\u001b[39m, category_limit)\n",
      "File \u001b[0;32m/opt/anaconda3/envs/hadron/lib/python3.10/site-packages/ds_discovery/components/discovery.py:1396\u001b[0m, in \u001b[0;36mDataDiscovery.analyse_date\u001b[0;34m(values, granularity, lower, upper, day_first, year_first, date_format, freq_precision)\u001b[0m\n\u001b[1;32m   1394\u001b[0m params_lower \u001b[38;5;241m=\u001b[39m lower \u001b[38;5;28;01mif\u001b[39;00m \u001b[38;5;28misinstance\u001b[39m(lower, pd\u001b[38;5;241m.\u001b[39mTimestamp) \u001b[38;5;28;01melse\u001b[39;00m \u001b[38;5;28;01mNone\u001b[39;00m\n\u001b[1;32m   1395\u001b[0m params_upper \u001b[38;5;241m=\u001b[39m upper \u001b[38;5;28;01mif\u001b[39;00m \u001b[38;5;28misinstance\u001b[39m(upper, pd\u001b[38;5;241m.\u001b[39mTimestamp) \u001b[38;5;28;01melse\u001b[39;00m \u001b[38;5;28;01mNone\u001b[39;00m\n\u001b[0;32m-> 1396\u001b[0m values \u001b[38;5;241m=\u001b[39m \u001b[43mdate2num\u001b[49m\u001b[43m(\u001b[49m\u001b[43mvalues\u001b[49m\u001b[43m)\u001b[49m\n\u001b[1;32m   1397\u001b[0m values \u001b[38;5;241m=\u001b[39m pd\u001b[38;5;241m.\u001b[39mSeries(values)\n\u001b[1;32m   1398\u001b[0m lower \u001b[38;5;241m=\u001b[39m values\u001b[38;5;241m.\u001b[39mmin() \u001b[38;5;28;01mif\u001b[39;00m \u001b[38;5;129;01mnot\u001b[39;00m \u001b[38;5;28misinstance\u001b[39m(lower, pd\u001b[38;5;241m.\u001b[39mTimestamp) \u001b[38;5;28;01melse\u001b[39;00m date2num(lower)\n",
      "File \u001b[0;32m/opt/anaconda3/envs/hadron/lib/python3.10/site-packages/matplotlib/dates.py:452\u001b[0m, in \u001b[0;36mdate2num\u001b[0;34m(d)\u001b[0m\n\u001b[1;32m    449\u001b[0m tzi \u001b[38;5;241m=\u001b[39m \u001b[38;5;28mgetattr\u001b[39m(d[\u001b[38;5;241m0\u001b[39m], \u001b[38;5;124m'\u001b[39m\u001b[38;5;124mtzinfo\u001b[39m\u001b[38;5;124m'\u001b[39m, \u001b[38;5;28;01mNone\u001b[39;00m)\n\u001b[1;32m    450\u001b[0m \u001b[38;5;28;01mif\u001b[39;00m tzi \u001b[38;5;129;01mis\u001b[39;00m \u001b[38;5;129;01mnot\u001b[39;00m \u001b[38;5;28;01mNone\u001b[39;00m:\n\u001b[1;32m    451\u001b[0m     \u001b[38;5;66;03m# make datetime naive:\u001b[39;00m\n\u001b[0;32m--> 452\u001b[0m     d \u001b[38;5;241m=\u001b[39m [dt\u001b[38;5;241m.\u001b[39mastimezone(UTC)\u001b[38;5;241m.\u001b[39mreplace(tzinfo\u001b[38;5;241m=\u001b[39m\u001b[38;5;28;01mNone\u001b[39;00m) \u001b[38;5;28;01mfor\u001b[39;00m dt \u001b[38;5;129;01min\u001b[39;00m d]\n\u001b[1;32m    453\u001b[0m     d \u001b[38;5;241m=\u001b[39m np\u001b[38;5;241m.\u001b[39masarray(d)\n\u001b[1;32m    454\u001b[0m d \u001b[38;5;241m=\u001b[39m d\u001b[38;5;241m.\u001b[39mastype(\u001b[38;5;124m'\u001b[39m\u001b[38;5;124mdatetime64[us]\u001b[39m\u001b[38;5;124m'\u001b[39m)\n",
      "File \u001b[0;32m/opt/anaconda3/envs/hadron/lib/python3.10/site-packages/matplotlib/dates.py:452\u001b[0m, in \u001b[0;36m<listcomp>\u001b[0;34m(.0)\u001b[0m\n\u001b[1;32m    449\u001b[0m tzi \u001b[38;5;241m=\u001b[39m \u001b[38;5;28mgetattr\u001b[39m(d[\u001b[38;5;241m0\u001b[39m], \u001b[38;5;124m'\u001b[39m\u001b[38;5;124mtzinfo\u001b[39m\u001b[38;5;124m'\u001b[39m, \u001b[38;5;28;01mNone\u001b[39;00m)\n\u001b[1;32m    450\u001b[0m \u001b[38;5;28;01mif\u001b[39;00m tzi \u001b[38;5;129;01mis\u001b[39;00m \u001b[38;5;129;01mnot\u001b[39;00m \u001b[38;5;28;01mNone\u001b[39;00m:\n\u001b[1;32m    451\u001b[0m     \u001b[38;5;66;03m# make datetime naive:\u001b[39;00m\n\u001b[0;32m--> 452\u001b[0m     d \u001b[38;5;241m=\u001b[39m [\u001b[43mdt\u001b[49m\u001b[38;5;241;43m.\u001b[39;49m\u001b[43mastimezone\u001b[49m\u001b[43m(\u001b[49m\u001b[43mUTC\u001b[49m\u001b[43m)\u001b[49m\u001b[38;5;241m.\u001b[39mreplace(tzinfo\u001b[38;5;241m=\u001b[39m\u001b[38;5;28;01mNone\u001b[39;00m) \u001b[38;5;28;01mfor\u001b[39;00m dt \u001b[38;5;129;01min\u001b[39;00m d]\n\u001b[1;32m    453\u001b[0m     d \u001b[38;5;241m=\u001b[39m np\u001b[38;5;241m.\u001b[39masarray(d)\n\u001b[1;32m    454\u001b[0m d \u001b[38;5;241m=\u001b[39m d\u001b[38;5;241m.\u001b[39mastype(\u001b[38;5;124m'\u001b[39m\u001b[38;5;124mdatetime64[us]\u001b[39m\u001b[38;5;124m'\u001b[39m)\n",
      "File \u001b[0;32m/opt/anaconda3/envs/hadron/lib/python3.10/site-packages/pandas/_libs/tslibs/nattype.pyx:67\u001b[0m, in \u001b[0;36mpandas._libs.tslibs.nattype._make_error_func.f\u001b[0;34m()\u001b[0m\n",
      "\u001b[0;31mValueError\u001b[0m: NaTType does not support astimezone"
     ]
    }
   ],
   "source": [
    "tr.save_canonical_schema()"
   ]
  },
  {
   "cell_type": "code",
   "execution_count": 16,
   "id": "26ce3f80-880b-46a4-ad50-48b57d851093",
   "metadata": {},
   "outputs": [
    {
     "ename": "ValueError",
     "evalue": "There is no Schema currently stored under the name 'primary_schema'",
     "output_type": "error",
     "traceback": [
      "\u001b[0;31m---------------------------------------------------------------------------\u001b[0m",
      "\u001b[0;31mValueError\u001b[0m                                Traceback (most recent call last)",
      "Cell \u001b[0;32mIn[16], line 1\u001b[0m\n\u001b[0;32m----> 1\u001b[0m \u001b[43mtr\u001b[49m\u001b[38;5;241;43m.\u001b[39;49m\u001b[43mreport_canonical_schema\u001b[49m\u001b[43m(\u001b[49m\u001b[43m)\u001b[49m\n",
      "File \u001b[0;32m/opt/anaconda3/envs/hadron/lib/python3.10/site-packages/ds_discovery/components/abstract_common_component.py:238\u001b[0m, in \u001b[0;36mAbstractCommonComponent.report_canonical_schema\u001b[0;34m(self, schema, roots, sections, elements, stylise)\u001b[0m\n\u001b[1;32m    236\u001b[0m     schema \u001b[38;5;241m=\u001b[39m schema \u001b[38;5;28;01mif\u001b[39;00m \u001b[38;5;28misinstance\u001b[39m(schema, \u001b[38;5;28mstr\u001b[39m) \u001b[38;5;28;01melse\u001b[39;00m \u001b[38;5;28mself\u001b[39m\u001b[38;5;241m.\u001b[39mREPORT_SCHEMA\n\u001b[1;32m    237\u001b[0m     \u001b[38;5;28;01mif\u001b[39;00m \u001b[38;5;129;01mnot\u001b[39;00m \u001b[38;5;28mself\u001b[39m\u001b[38;5;241m.\u001b[39mpm\u001b[38;5;241m.\u001b[39mhas_canonical_schema(name\u001b[38;5;241m=\u001b[39mschema):\n\u001b[0;32m--> 238\u001b[0m         \u001b[38;5;28;01mraise\u001b[39;00m \u001b[38;5;167;01mValueError\u001b[39;00m(\u001b[38;5;124mf\u001b[39m\u001b[38;5;124m\"\u001b[39m\u001b[38;5;124mThere is no Schema currently stored under the name \u001b[39m\u001b[38;5;124m'\u001b[39m\u001b[38;5;132;01m{\u001b[39;00mschema\u001b[38;5;132;01m}\u001b[39;00m\u001b[38;5;124m'\u001b[39m\u001b[38;5;124m\"\u001b[39m)\n\u001b[1;32m    239\u001b[0m     schema \u001b[38;5;241m=\u001b[39m \u001b[38;5;28mself\u001b[39m\u001b[38;5;241m.\u001b[39mpm\u001b[38;5;241m.\u001b[39mget_canonical_schema(name\u001b[38;5;241m=\u001b[39mschema)\n\u001b[1;32m    240\u001b[0m df \u001b[38;5;241m=\u001b[39m pd\u001b[38;5;241m.\u001b[39mDataFrame(columns\u001b[38;5;241m=\u001b[39m[\u001b[38;5;124m'\u001b[39m\u001b[38;5;124mroot\u001b[39m\u001b[38;5;124m'\u001b[39m, \u001b[38;5;124m'\u001b[39m\u001b[38;5;124msection\u001b[39m\u001b[38;5;124m'\u001b[39m, \u001b[38;5;124m'\u001b[39m\u001b[38;5;124melement\u001b[39m\u001b[38;5;124m'\u001b[39m, \u001b[38;5;124m'\u001b[39m\u001b[38;5;124mvalue\u001b[39m\u001b[38;5;124m'\u001b[39m])\n",
      "\u001b[0;31mValueError\u001b[0m: There is no Schema currently stored under the name 'primary_schema'"
     ]
    }
   ],
   "source": [
    "tr.report_canonical_schema()"
   ]
  },
  {
   "cell_type": "code",
   "execution_count": null,
   "id": "fb6d6e74-ced5-45c4-9ae7-b9704d539b85",
   "metadata": {},
   "outputs": [],
   "source": []
  }
 ],
 "metadata": {
  "kernelspec": {
   "display_name": "Python 3 (ipykernel)",
   "language": "python",
   "name": "python3"
  },
  "language_info": {
   "codemirror_mode": {
    "name": "ipython",
    "version": 3
   },
   "file_extension": ".py",
   "mimetype": "text/x-python",
   "name": "python",
   "nbconvert_exporter": "python",
   "pygments_lexer": "ipython3",
   "version": "3.10.8"
  }
 },
 "nbformat": 4,
 "nbformat_minor": 5
}
