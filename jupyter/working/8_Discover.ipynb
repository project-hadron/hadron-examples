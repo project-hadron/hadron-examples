{
 "cells": [
  {
   "cell_type": "markdown",
   "id": "1216abcc",
   "metadata": {},
   "source": [
    "# Telco Customer Churn"
   ]
  },
  {
   "cell_type": "code",
   "execution_count": 1,
   "id": "c89d33f1",
   "metadata": {},
   "outputs": [],
   "source": [
    "# set task name\n",
    "task_name = 'telco_churn'\n",
    "\n",
    "# load common\n",
    "%run common.ipynb"
   ]
  },
  {
   "cell_type": "markdown",
   "id": "afd6b60c",
   "metadata": {},
   "source": [
    "## ML Discovery"
   ]
  },
  {
   "cell_type": "code",
   "execution_count": 2,
   "id": "799506ca",
   "metadata": {},
   "outputs": [],
   "source": [
    "from ds_discovery import Wrangle, FeatureCatalog, ModelsBuilder, Commons"
   ]
  },
  {
   "cell_type": "code",
   "execution_count": 3,
   "id": "3adb0479",
   "metadata": {},
   "outputs": [],
   "source": [
    "ml = ModelsBuilder.from_memory()\n",
    "wr = Wrangle.from_memory()"
   ]
  },
  {
   "cell_type": "code",
   "execution_count": 4,
   "id": "5e03ca23",
   "metadata": {},
   "outputs": [],
   "source": [
    "uri = Wrangle.from_env(\"telco_churn\").get_persist_contract().uri\n",
    "ml.set_source_uri(uri=uri)\n",
    "ml.pm_persist()"
   ]
  },
  {
   "cell_type": "code",
   "execution_count": 5,
   "id": "ab47f344",
   "metadata": {},
   "outputs": [
    {
     "data": {
      "text/plain": [
       "(7043, 31)"
      ]
     },
     "execution_count": 5,
     "metadata": {},
     "output_type": "execute_result"
    }
   ],
   "source": [
    "df = ml.load_source_canonical()\n",
    "df.shape"
   ]
  },
  {
   "cell_type": "code",
   "execution_count": 7,
   "id": "bf1469f3",
   "metadata": {},
   "outputs": [],
   "source": [
    "fc = FeatureCatalog.from_memory()"
   ]
  },
  {
   "cell_type": "code",
   "execution_count": 8,
   "id": "f485c1e1",
   "metadata": {},
   "outputs": [],
   "source": [
    "df_coeff = fc.tools.select_classifier_coefficient(df, target='Churn', seed=12)"
   ]
  },
  {
   "cell_type": "code",
   "execution_count": 9,
   "id": "7ad96d4a",
   "metadata": {},
   "outputs": [
    {
     "data": {
      "text/plain": [
       "(7043, 6)"
      ]
     },
     "execution_count": 9,
     "metadata": {},
     "output_type": "execute_result"
    }
   ],
   "source": [
    "df_ml = df_coeff\n",
    "df_ml.shape"
   ]
  },
  {
   "cell_type": "markdown",
   "id": "f18d17c1",
   "metadata": {},
   "source": [
    "### Model Preprocess"
   ]
  },
  {
   "cell_type": "code",
   "execution_count": 10,
   "id": "eaed9bbc",
   "metadata": {},
   "outputs": [],
   "source": [
    "from sklearn.model_selection import train_test_split"
   ]
  },
  {
   "cell_type": "code",
   "execution_count": 11,
   "id": "37ec63f0",
   "metadata": {},
   "outputs": [],
   "source": [
    "# Transform\n",
    "df_ml['TotalCharges'] = wr.tools.correlate_numbers(df_ml, header='TotalCharges', transform='boxcox')"
   ]
  },
  {
   "cell_type": "code",
   "execution_count": 12,
   "id": "61374e47",
   "metadata": {},
   "outputs": [],
   "source": [
    "# Normalize\n",
    "df_ml['TotalCharges'] = wr.tools.correlate_numbers(df_ml, header='TotalCharges', normalize=(-1,1))\n",
    "df_ml['MonthlyCharges'] = wr.tools.correlate_numbers(df_ml, header='MonthlyCharges', normalize=(-1,1))"
   ]
  },
  {
   "cell_type": "code",
   "execution_count": 13,
   "id": "64a27c9a",
   "metadata": {},
   "outputs": [],
   "source": [
    "# accommodate the bias\n",
    "df_ml['ones'] = wr.tools.get_noise(df_ml.shape[0], ones=True)"
   ]
  },
  {
   "cell_type": "code",
   "execution_count": 14,
   "id": "b66dea86",
   "metadata": {},
   "outputs": [],
   "source": [
    "# select X, Y and convert to numpy matrix\n",
    "X = df_ml.drop('Churn', axis=1).to_numpy()\n",
    "y = df_ml['Churn'].to_numpy().astype(np.int32)"
   ]
  },
  {
   "cell_type": "code",
   "execution_count": 15,
   "id": "0a77505a",
   "metadata": {},
   "outputs": [],
   "source": [
    "X_train, X_test, y_train, y_test = train_test_split(X, y, test_size=0.33)"
   ]
  },
  {
   "cell_type": "code",
   "execution_count": 16,
   "id": "44cea364",
   "metadata": {
    "scrolled": true
   },
   "outputs": [
    {
     "data": {
      "text/plain": [
       "((4718, 6), (2325, 6), (4718,), (2325,))"
      ]
     },
     "execution_count": 16,
     "metadata": {},
     "output_type": "execute_result"
    }
   ],
   "source": [
    "X_train.shape, X_test.shape, y_train.shape, y_test.shape"
   ]
  },
  {
   "cell_type": "markdown",
   "id": "58dfaf91",
   "metadata": {},
   "source": [
    "### Logistic Regression old school\n",
    "$$ y = \\sigma( w^T x + b) = \\frac{1}{1 + e^{-(w^T x + b)}} $$"
   ]
  },
  {
   "cell_type": "code",
   "execution_count": 17,
   "id": "be16626c",
   "metadata": {},
   "outputs": [],
   "source": [
    "# for the moment give it rand norm weight and bias zero\n",
    "D = X_train.shape[1]\n",
    "w = np.random.randn(D)\n",
    "b = 0"
   ]
  },
  {
   "cell_type": "code",
   "execution_count": 18,
   "id": "71fe16c0",
   "metadata": {},
   "outputs": [],
   "source": [
    "# predictions\n",
    "def sigmoid(a):\n",
    "    return 1 / (1 + np.exp(-a))\n",
    "\n",
    "# forward gate\n",
    "def forward(X, w, b):\n",
    "    return sigmoid(X.dot(w) + b)"
   ]
  },
  {
   "cell_type": "code",
   "execution_count": 19,
   "id": "bf379fe9",
   "metadata": {},
   "outputs": [],
   "source": [
    "# P(Y | X) - Probabiliy of Y given X\n",
    "P_Y_given_X = forward(X_train, w, b)\n",
    "\n",
    "# make it 1's and 0's\n",
    "predictions = np.round(P_Y_given_X)"
   ]
  },
  {
   "cell_type": "code",
   "execution_count": 1,
   "id": "b7610a96",
   "metadata": {},
   "outputs": [
    {
     "ename": "NameError",
     "evalue": "name 'np' is not defined",
     "output_type": "error",
     "traceback": [
      "\u001b[0;31m---------------------------------------------------------------------------\u001b[0m",
      "\u001b[0;31mNameError\u001b[0m                                 Traceback (most recent call last)",
      "Cell \u001b[0;32mIn[1], line 2\u001b[0m\n\u001b[1;32m      1\u001b[0m \u001b[38;5;66;03m# untrained classification rate\u001b[39;00m\n\u001b[0;32m----> 2\u001b[0m \u001b[43mnp\u001b[49m\u001b[38;5;241m.\u001b[39mmean(y_train\u001b[38;5;241m==\u001b[39mpredictions)\n",
      "\u001b[0;31mNameError\u001b[0m: name 'np' is not defined"
     ]
    }
   ],
   "source": [
    "# untrained classification rate\n",
    "np.mean(y_train==predictions)"
   ]
  },
  {
   "cell_type": "markdown",
   "id": "f6bd707d",
   "metadata": {},
   "source": [
    "### Logistic Regression with sklearn"
   ]
  },
  {
   "cell_type": "code",
   "execution_count": 21,
   "id": "d57712cb",
   "metadata": {},
   "outputs": [],
   "source": [
    "from sklearn.model_selection import cross_val_score\n",
    "from sklearn.linear_model import LogisticRegression\n",
    "from sklearn.metrics import classification_report, roc_curve, roc_auc_score"
   ]
  },
  {
   "cell_type": "code",
   "execution_count": 22,
   "id": "45293a04",
   "metadata": {},
   "outputs": [
    {
     "data": {
      "text/plain": [
       "'temporary_in_memory_instance'"
      ]
     },
     "execution_count": 22,
     "metadata": {},
     "output_type": "execute_result"
    }
   ],
   "source": [
    "ml.pm.task_name"
   ]
  },
  {
   "cell_type": "code",
   "execution_count": 23,
   "id": "387ff1cf",
   "metadata": {},
   "outputs": [
    {
     "data": {
      "text/html": [
       "<style>#sk-container-id-1 {color: black;background-color: white;}#sk-container-id-1 pre{padding: 0;}#sk-container-id-1 div.sk-toggleable {background-color: white;}#sk-container-id-1 label.sk-toggleable__label {cursor: pointer;display: block;width: 100%;margin-bottom: 0;padding: 0.3em;box-sizing: border-box;text-align: center;}#sk-container-id-1 label.sk-toggleable__label-arrow:before {content: \"▸\";float: left;margin-right: 0.25em;color: #696969;}#sk-container-id-1 label.sk-toggleable__label-arrow:hover:before {color: black;}#sk-container-id-1 div.sk-estimator:hover label.sk-toggleable__label-arrow:before {color: black;}#sk-container-id-1 div.sk-toggleable__content {max-height: 0;max-width: 0;overflow: hidden;text-align: left;background-color: #f0f8ff;}#sk-container-id-1 div.sk-toggleable__content pre {margin: 0.2em;color: black;border-radius: 0.25em;background-color: #f0f8ff;}#sk-container-id-1 input.sk-toggleable__control:checked~div.sk-toggleable__content {max-height: 200px;max-width: 100%;overflow: auto;}#sk-container-id-1 input.sk-toggleable__control:checked~label.sk-toggleable__label-arrow:before {content: \"▾\";}#sk-container-id-1 div.sk-estimator input.sk-toggleable__control:checked~label.sk-toggleable__label {background-color: #d4ebff;}#sk-container-id-1 div.sk-label input.sk-toggleable__control:checked~label.sk-toggleable__label {background-color: #d4ebff;}#sk-container-id-1 input.sk-hidden--visually {border: 0;clip: rect(1px 1px 1px 1px);clip: rect(1px, 1px, 1px, 1px);height: 1px;margin: -1px;overflow: hidden;padding: 0;position: absolute;width: 1px;}#sk-container-id-1 div.sk-estimator {font-family: monospace;background-color: #f0f8ff;border: 1px dotted black;border-radius: 0.25em;box-sizing: border-box;margin-bottom: 0.5em;}#sk-container-id-1 div.sk-estimator:hover {background-color: #d4ebff;}#sk-container-id-1 div.sk-parallel-item::after {content: \"\";width: 100%;border-bottom: 1px solid gray;flex-grow: 1;}#sk-container-id-1 div.sk-label:hover label.sk-toggleable__label {background-color: #d4ebff;}#sk-container-id-1 div.sk-serial::before {content: \"\";position: absolute;border-left: 1px solid gray;box-sizing: border-box;top: 0;bottom: 0;left: 50%;z-index: 0;}#sk-container-id-1 div.sk-serial {display: flex;flex-direction: column;align-items: center;background-color: white;padding-right: 0.2em;padding-left: 0.2em;position: relative;}#sk-container-id-1 div.sk-item {position: relative;z-index: 1;}#sk-container-id-1 div.sk-parallel {display: flex;align-items: stretch;justify-content: center;background-color: white;position: relative;}#sk-container-id-1 div.sk-item::before, #sk-container-id-1 div.sk-parallel-item::before {content: \"\";position: absolute;border-left: 1px solid gray;box-sizing: border-box;top: 0;bottom: 0;left: 50%;z-index: -1;}#sk-container-id-1 div.sk-parallel-item {display: flex;flex-direction: column;z-index: 1;position: relative;background-color: white;}#sk-container-id-1 div.sk-parallel-item:first-child::after {align-self: flex-end;width: 50%;}#sk-container-id-1 div.sk-parallel-item:last-child::after {align-self: flex-start;width: 50%;}#sk-container-id-1 div.sk-parallel-item:only-child::after {width: 0;}#sk-container-id-1 div.sk-dashed-wrapped {border: 1px dashed gray;margin: 0 0.4em 0.5em 0.4em;box-sizing: border-box;padding-bottom: 0.4em;background-color: white;}#sk-container-id-1 div.sk-label label {font-family: monospace;font-weight: bold;display: inline-block;line-height: 1.2em;}#sk-container-id-1 div.sk-label-container {text-align: center;}#sk-container-id-1 div.sk-container {/* jupyter's `normalize.less` sets `[hidden] { display: none; }` but bootstrap.min.css set `[hidden] { display: none !important; }` so we also need the `!important` here to be able to override the default hidden behavior on the sphinx rendered scikit-learn.org. See: https://github.com/scikit-learn/scikit-learn/issues/21755 */display: inline-block !important;position: relative;}#sk-container-id-1 div.sk-text-repr-fallback {display: none;}</style><div id=\"sk-container-id-1\" class=\"sk-top-container\"><div class=\"sk-text-repr-fallback\"><pre>LogisticRegression(solver=&#x27;liblinear&#x27;)</pre><b>In a Jupyter environment, please rerun this cell to show the HTML representation or trust the notebook. <br />On GitHub, the HTML representation is unable to render, please try loading this page with nbviewer.org.</b></div><div class=\"sk-container\" hidden><div class=\"sk-item\"><div class=\"sk-estimator sk-toggleable\"><input class=\"sk-toggleable__control sk-hidden--visually\" id=\"sk-estimator-id-1\" type=\"checkbox\" checked><label for=\"sk-estimator-id-1\" class=\"sk-toggleable__label sk-toggleable__label-arrow\">LogisticRegression</label><div class=\"sk-toggleable__content\"><pre>LogisticRegression(solver=&#x27;liblinear&#x27;)</pre></div></div></div></div></div>"
      ],
      "text/plain": [
       "LogisticRegression(solver='liblinear')"
      ]
     },
     "execution_count": 23,
     "metadata": {},
     "output_type": "execute_result"
    },
    {
     "data": {
      "text/plain": [
       "Index(['predict', 'TotalCharges', 'Tenure', 'MonthlyCharges',\n",
       "       'InternetService_Fiber optic', 'PaymentMethod_Electronic check',\n",
       "       'ones'],\n",
       "      dtype='object')"
      ]
     },
     "execution_count": 23,
     "metadata": {},
     "output_type": "execute_result"
    }
   ],
   "source": [
    "log_reg = LogisticRegression(solver='liblinear')\n",
    "log_reg.fit(X_train, y_train)\n",
    "\n",
    "y_pred = log_reg.predict(X_test)\n",
    "\n",
    "ml.set_trained_model(log_reg)\n",
    "\n",
    "canonical = df_ml.drop('Churn', axis=1)\n",
    "\n",
    "model = ml.load_canonical(connector_name=ml.pm.CONNECTOR_PREDICT)\n",
    "predict = model.predict(canonical)\n",
    "df_pred = pd.DataFrame(predict, columns=['predict'])\n",
    "result = pd.concat([df_pred, canonical], axis=1)\n",
    "result.columns\n"
   ]
  },
  {
   "cell_type": "code",
   "execution_count": 24,
   "id": "e8dd94a7",
   "metadata": {},
   "outputs": [
    {
     "name": "stdout",
     "output_type": "stream",
     "text": [
      "              precision    recall  f1-score   support\n",
      "\n",
      "           0       0.82      0.91      0.86      1698\n",
      "           1       0.66      0.46      0.54       627\n",
      "\n",
      "    accuracy                           0.79      2325\n",
      "   macro avg       0.74      0.69      0.70      2325\n",
      "weighted avg       0.78      0.79      0.78      2325\n",
      "\n"
     ]
    }
   ],
   "source": [
    "print(classification_report(y_test, y_pred))"
   ]
  },
  {
   "cell_type": "markdown",
   "id": "b87fecd3",
   "metadata": {},
   "source": [
    "### ROC AUC"
   ]
  },
  {
   "cell_type": "code",
   "execution_count": 25,
   "id": "6985aecd",
   "metadata": {},
   "outputs": [
    {
     "data": {
      "text/plain": [
       "[<matplotlib.lines.Line2D at 0x7fcbeafe6bf0>]"
      ]
     },
     "execution_count": 25,
     "metadata": {},
     "output_type": "execute_result"
    },
    {
     "data": {
      "text/plain": [
       "[<matplotlib.lines.Line2D at 0x7fcbeafe6fb0>]"
      ]
     },
     "execution_count": 25,
     "metadata": {},
     "output_type": "execute_result"
    },
    {
     "data": {
      "text/plain": [
       "Text(0.5, 0, 'False Positive Rate')"
      ]
     },
     "execution_count": 25,
     "metadata": {},
     "output_type": "execute_result"
    },
    {
     "data": {
      "text/plain": [
       "Text(0, 0.5, 'True Positive Rate')"
      ]
     },
     "execution_count": 25,
     "metadata": {},
     "output_type": "execute_result"
    },
    {
     "data": {
      "text/plain": [
       "Text(0.5, 1.0, 'ROC Curve')"
      ]
     },
     "execution_count": 25,
     "metadata": {},
     "output_type": "execute_result"
    },
    {
     "data": {
      "image/png": "[encoded data removed]",
      "text/plain": [
       "<Figure size 800x500 with 1 Axes>"
      ]
     },
     "metadata": {},
     "output_type": "display_data"
    }
   ],
   "source": [
    "# ROC\n",
    "y_pred_prob = log_reg.predict_proba(X_test)[:,1]\n",
    "\n",
    "# Generate ROC curve values: fpr, tpr, thresholds\n",
    "fpr, tpr, thresholds = roc_curve(y_test, y_pred_prob)\n",
    "\n",
    "# Plot ROC curve\n",
    "plt.plot([0, 1], [0, 1], 'k--')\n",
    "plt.plot(fpr, tpr)\n",
    "plt.xlabel('False Positive Rate')\n",
    "plt.ylabel('True Positive Rate')\n",
    "plt.title('ROC Curve')\n",
    "plt.show()"
   ]
  },
  {
   "cell_type": "code",
   "execution_count": null,
   "id": "2e14b4eb",
   "metadata": {},
   "outputs": [],
   "source": []
  }
 ],
 "metadata": {
  "kernelspec": {
   "display_name": "Python 3 (ipykernel)",
   "language": "python",
   "name": "python3"
  },
  "language_info": {
   "codemirror_mode": {
    "name": "ipython",
    "version": 3
   },
   "file_extension": ".py",
   "mimetype": "text/x-python",
   "name": "python",
   "nbconvert_exporter": "python",
   "pygments_lexer": "ipython3",
   "version": "3.10.8"
  }
 },
 "nbformat": 4,
 "nbformat_minor": 5
}
