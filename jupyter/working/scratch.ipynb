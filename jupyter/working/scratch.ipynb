{
 "cells": [
  {
   "cell_type": "code",
   "execution_count": 1,
   "id": "3ac66f01-1ed6-4fa8-bdf3-2f2a81af0c34",
   "metadata": {},
   "outputs": [],
   "source": [
    "import os\n",
    "from pathlib import Path"
   ]
  },
  {
   "cell_type": "code",
   "execution_count": 2,
   "id": "d14d18d4-475a-434e-9c00-531664a7b8a4",
   "metadata": {
    "tags": []
   },
   "outputs": [],
   "source": [
    "# Domain Contract\n",
    "os.environ['HADRON_PM_PATH'] = Path('${PWD}/metadata/contracts/nia_grouping').as_posix() \n",
    "\n",
    "# local data stores\n",
    "os.environ['HADRON_DEFAULT_PATH'] = Path('${PWD}/metadata/data/nia_grouping').as_posix()\n",
    "os.environ['HADRON_TRANSITION_NIA_GROUPING_SOURCE_PATH'] = Path('${PWD}/metadata/source').as_posix()"
   ]
  },
  {
   "cell_type": "code",
   "execution_count": null,
   "id": "0b6b4275-b415-4d66-bbf3-15278fff859f",
   "metadata": {},
   "outputs": [],
   "source": []
  },
  {
   "cell_type": "code",
   "execution_count": 3,
   "id": "81d96fc9-62e5-4c78-b93b-a99a0e30fa90",
   "metadata": {},
   "outputs": [],
   "source": [
    "# Imports of libraries\n",
    "from ds_discovery import Transition\n",
    "import pandas as pd"
   ]
  },
  {
   "cell_type": "code",
   "execution_count": 4,
   "id": "a79ca322-f1c7-4d66-aa6f-1aad61303e31",
   "metadata": {},
   "outputs": [],
   "source": [
    "# Creates a contract component\n",
    "tr = Transition.from_env('nia_grouping', has_contract=False)"
   ]
  },
  {
   "cell_type": "code",
   "execution_count": 5,
   "id": "c7bfdd00-1ddf-4af1-8563-a87b4345b0ff",
   "metadata": {},
   "outputs": [],
   "source": [
    "# Location of source data\n",
    "tr.setup_bootstrap('Telecoms')\n",
    "tr.set_source('mtng_nia_grouping.csv')\n",
    "tr.set_persist()"
   ]
  },
  {
   "cell_type": "code",
   "execution_count": 6,
   "id": "d051da86-5e88-4724-a280-ee43cac0a551",
   "metadata": {
    "tags": []
   },
   "outputs": [
    {
     "data": {
      "text/plain": [
       "(3410, 212)"
      ]
     },
     "execution_count": 6,
     "metadata": {},
     "output_type": "execute_result"
    }
   ],
   "source": [
    "df = tr.load_source_canonical()\n",
    "df.shape"
   ]
  },
  {
   "cell_type": "code",
   "execution_count": 7,
   "id": "7ac121c0-7a48-4e9e-9d0c-fc5433ba71d7",
   "metadata": {},
   "outputs": [
    {
     "data": {
      "text/plain": [
       "(3410, 79)"
      ]
     },
     "execution_count": 7,
     "metadata": {},
     "output_type": "execute_result"
    }
   ],
   "source": [
    "df = tr.tools.auto_drop_columns(df, predominant_max=.98)\n",
    "df.shape"
   ]
  },
  {
   "cell_type": "code",
   "execution_count": 8,
   "id": "d7b66487-2320-4f21-8299-47f917aab73d",
   "metadata": {},
   "outputs": [
    {
     "data": {
      "text/plain": [
       "(3410, 79)"
      ]
     },
     "execution_count": 8,
     "metadata": {},
     "output_type": "execute_result"
    }
   ],
   "source": [
    "df = tr.tools.auto_drop_duplicates(df)\n",
    "df.shape"
   ]
  },
  {
   "cell_type": "code",
   "execution_count": 9,
   "id": "3418799b-7e65-4e6d-9524-db43ed84d412",
   "metadata": {},
   "outputs": [
    {
     "data": {
      "text/plain": [
       "(3410, 76)"
      ]
     },
     "execution_count": 9,
     "metadata": {},
     "output_type": "execute_result"
    }
   ],
   "source": [
    "df = tr.tools.auto_drop_correlated(df, threshold=.9)\n",
    "df.shape"
   ]
  },
  {
   "cell_type": "code",
   "execution_count": null,
   "id": "feb790ae-24c3-406e-a106-f28de2bc0d0d",
   "metadata": {},
   "outputs": [],
   "source": []
  }
 ],
 "metadata": {
  "kernelspec": {
   "display_name": "Python 3 (ipykernel)",
   "language": "python",
   "name": "python3"
  },
  "language_info": {
   "codemirror_mode": {
    "name": "ipython",
    "version": 3
   },
   "file_extension": ".py",
   "mimetype": "text/x-python",
   "name": "python",
   "nbconvert_exporter": "python",
   "pygments_lexer": "ipython3",
   "version": "3.10.8"
  }
 },
 "nbformat": 4,
 "nbformat_minor": 5
}
