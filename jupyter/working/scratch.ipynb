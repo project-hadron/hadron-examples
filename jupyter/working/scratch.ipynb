{
 "cells": [
  {
   "cell_type": "code",
   "execution_count": 1,
   "id": "3ac66f01-1ed6-4fa8-bdf3-2f2a81af0c34",
   "metadata": {},
   "outputs": [],
   "source": [
    "import os\n",
    "from pathlib import Path"
   ]
  },
  {
   "cell_type": "code",
   "execution_count": 2,
   "id": "96e73665-3cf0-4f30-a034-f3571cd447c5",
   "metadata": {
    "tags": []
   },
   "outputs": [],
   "source": [
    "# Domain Contract\n",
    "os.environ['HADRON_PM_PATH'] = Path('${PWD}/metadata/contracts/workshop').as_posix() \n",
    "\n",
    "# local data stores\n",
    "os.environ['HADRON_DEFAULT_PATH'] = Path('${PWD}/metadata/data/workshop').as_posix()\n"
   ]
  },
  {
   "cell_type": "code",
   "execution_count": 16,
   "id": "2bea74ef-cdb8-47a5-9555-0c9d36168b95",
   "metadata": {
    "tags": []
   },
   "outputs": [],
   "source": [
    "from ds_discovery import Transition, Commons\n",
    "from ds_discovery.components.discovery import DataDiscovery\n",
    "import pandas as pd\n",
    "import numpy as np"
   ]
  },
  {
   "cell_type": "code",
   "execution_count": 4,
   "id": "1a45e4e5-1c7b-428e-ae54-ad6ebe71190d",
   "metadata": {
    "tags": []
   },
   "outputs": [],
   "source": [
    "tr = Transition.from_env(\"scratch\", has_contract=False)"
   ]
  },
  {
   "cell_type": "code",
   "execution_count": 5,
   "id": "2d82d89c-6403-4a47-b85c-e79396a858cf",
   "metadata": {
    "tags": []
   },
   "outputs": [],
   "source": [
    "tr.setup_bootstrap(domain='Telecom')\n",
    "tr.set_source_contract(Transition.from_env(\"intel_service\").get_persist_contract())\n",
    "tr.set_persist()"
   ]
  },
  {
   "cell_type": "code",
   "execution_count": 6,
   "id": "5c45454d-3ca6-4921-9da0-9958788bbd2b",
   "metadata": {},
   "outputs": [],
   "source": [
    "df = tr.load_source_canonical()"
   ]
  },
  {
   "cell_type": "code",
   "execution_count": 7,
   "id": "4d63dc96-1cbb-48cb-8773-bc4a66eec96f",
   "metadata": {
    "tags": []
   },
   "outputs": [],
   "source": [
    "tr.run_component_pipeline()"
   ]
  },
  {
   "cell_type": "code",
   "execution_count": 8,
   "id": "feb790ae-24c3-406e-a106-f28de2bc0d0d",
   "metadata": {},
   "outputs": [
    {
     "data": {
      "text/html": [
       "<style type=\"text/css\">\n",
       "#T_b8259 th {\n",
       "  font-size: 120%;\n",
       "  text-align: center;\n",
       "}\n",
       "#T_b8259 .row_heading {\n",
       "  display: none;;\n",
       "}\n",
       "#T_b8259  .blank {\n",
       "  display: none;;\n",
       "}\n",
       "#T_b8259_row0_col0, #T_b8259_row1_col0, #T_b8259_row2_col0, #T_b8259_row3_col0, #T_b8259_row4_col0, #T_b8259_row5_col0, #T_b8259_row6_col0, #T_b8259_row7_col0, #T_b8259_row8_col0, #T_b8259_row9_col0 {\n",
       "  font-weight: bold;\n",
       "  font-size: 120%;\n",
       "}\n",
       "#T_b8259_row0_col1, #T_b8259_row1_col1, #T_b8259_row2_col1 {\n",
       "  color: #790f8a;\n",
       "}\n",
       "#T_b8259_row0_col2, #T_b8259_row0_col3, #T_b8259_row0_col5, #T_b8259_row1_col2, #T_b8259_row1_col3, #T_b8259_row1_col5, #T_b8259_row2_col2, #T_b8259_row2_col3, #T_b8259_row2_col5, #T_b8259_row3_col2, #T_b8259_row4_col2, #T_b8259_row4_col3, #T_b8259_row4_col5, #T_b8259_row5_col2, #T_b8259_row5_col3, #T_b8259_row5_col5, #T_b8259_row6_col2, #T_b8259_row6_col3, #T_b8259_row6_col5, #T_b8259_row7_col2, #T_b8259_row7_col3, #T_b8259_row8_col2, #T_b8259_row8_col3, #T_b8259_row9_col2, #T_b8259_row9_col3 {\n",
       "  color: black;\n",
       "}\n",
       "#T_b8259_row3_col3 {\n",
       "  background-color: #fcb499;\n",
       "  color: black;\n",
       "}\n",
       "#T_b8259_row3_col5, #T_b8259_row9_col5 {\n",
       "  background-color: #a4da9e;\n",
       "  color: black;\n",
       "}\n",
       "#T_b8259_row4_col1 {\n",
       "  color: #0f398a;\n",
       "}\n",
       "#T_b8259_row6_col1 {\n",
       "  color: #2f0f8a;\n",
       "}\n",
       "#T_b8259_row7_col5 {\n",
       "  background-color: #84cc83;\n",
       "  color: black;\n",
       "}\n",
       "#T_b8259_row8_col5 {\n",
       "  background-color: #c1e6ba;\n",
       "  color: black;\n",
       "}\n",
       "</style>\n",
       "<table id=\"T_b8259\">\n",
       "  <caption>%_Dom: The % most dominant element </caption>\n",
       "  <thead>\n",
       "    <tr>\n",
       "      <th class=\"blank level0\" >&nbsp;</th>\n",
       "      <th id=\"T_b8259_level0_col0\" class=\"col_heading level0 col0\" >Attributes (10)</th>\n",
       "      <th id=\"T_b8259_level0_col1\" class=\"col_heading level0 col1\" >dType</th>\n",
       "      <th id=\"T_b8259_level0_col2\" class=\"col_heading level0 col2\" >%_Null</th>\n",
       "      <th id=\"T_b8259_level0_col3\" class=\"col_heading level0 col3\" >%_Dom</th>\n",
       "      <th id=\"T_b8259_level0_col4\" class=\"col_heading level0 col4\" >Count</th>\n",
       "      <th id=\"T_b8259_level0_col5\" class=\"col_heading level0 col5\" >Unique</th>\n",
       "      <th id=\"T_b8259_level0_col6\" class=\"col_heading level0 col6\" >Observations</th>\n",
       "    </tr>\n",
       "  </thead>\n",
       "  <tbody>\n",
       "    <tr>\n",
       "      <th id=\"T_b8259_level0_row0\" class=\"row_heading level0 row0\" >0</th>\n",
       "      <td id=\"T_b8259_row0_col0\" class=\"data row0 col0\" >creationDate</td>\n",
       "      <td id=\"T_b8259_row0_col1\" class=\"data row0 col1\" >datetime64[ns, UTC]</td>\n",
       "      <td id=\"T_b8259_row0_col2\" class=\"data row0 col2\" >0.0%</td>\n",
       "      <td id=\"T_b8259_row0_col3\" class=\"data row0 col3\" >0.0%</td>\n",
       "      <td id=\"T_b8259_row0_col4\" class=\"data row0 col4\" >5000</td>\n",
       "      <td id=\"T_b8259_row0_col5\" class=\"data row0 col5\" >4999</td>\n",
       "      <td id=\"T_b8259_row0_col6\" class=\"data row0 col6\" >max=2023-02-16 06:13:51.686000+00:00 | min=2023-02-15 18:59:23.338000+00:00 | yr mean= 2023</td>\n",
       "    </tr>\n",
       "    <tr>\n",
       "      <th id=\"T_b8259_level0_row1\" class=\"row_heading level0 row1\" >1</th>\n",
       "      <td id=\"T_b8259_row1_col0\" class=\"data row1 col0\" >modifiedDate</td>\n",
       "      <td id=\"T_b8259_row1_col1\" class=\"data row1 col1\" >datetime64[ns, UTC]</td>\n",
       "      <td id=\"T_b8259_row1_col2\" class=\"data row1 col2\" >0.0%</td>\n",
       "      <td id=\"T_b8259_row1_col3\" class=\"data row1 col3\" >0.0%</td>\n",
       "      <td id=\"T_b8259_row1_col4\" class=\"data row1 col4\" >5000</td>\n",
       "      <td id=\"T_b8259_row1_col5\" class=\"data row1 col5\" >4999</td>\n",
       "      <td id=\"T_b8259_row1_col6\" class=\"data row1 col6\" >max=2023-02-16 06:13:51.686000+00:00 | min=2023-02-15 18:59:23.401000+00:00 | yr mean= 2023</td>\n",
       "    </tr>\n",
       "    <tr>\n",
       "      <th id=\"T_b8259_level0_row2\" class=\"row_heading level0 row2\" >2</th>\n",
       "      <td id=\"T_b8259_row2_col0\" class=\"data row2 col0\" >processingDate</td>\n",
       "      <td id=\"T_b8259_row2_col1\" class=\"data row2 col1\" >datetime64[ns, UTC]</td>\n",
       "      <td id=\"T_b8259_row2_col2\" class=\"data row2 col2\" >2.3%</td>\n",
       "      <td id=\"T_b8259_row2_col3\" class=\"data row2 col3\" >2.3%</td>\n",
       "      <td id=\"T_b8259_row2_col4\" class=\"data row2 col4\" >5000</td>\n",
       "      <td id=\"T_b8259_row2_col5\" class=\"data row2 col5\" >4887</td>\n",
       "      <td id=\"T_b8259_row2_col6\" class=\"data row2 col6\" >max=2023-02-16 06:14:16.601000+00:00 | min=2023-02-15 18:59:20.377000+00:00 | yr mean= 2023</td>\n",
       "    </tr>\n",
       "    <tr>\n",
       "      <th id=\"T_b8259_level0_row3\" class=\"row_heading level0 row3\" >3</th>\n",
       "      <td id=\"T_b8259_row3_col0\" class=\"data row3 col0\" >reason</td>\n",
       "      <td id=\"T_b8259_row3_col1\" class=\"data row3 col1\" >object</td>\n",
       "      <td id=\"T_b8259_row3_col2\" class=\"data row3 col2\" >0.6%</td>\n",
       "      <td id=\"T_b8259_row3_col3\" class=\"data row3 col3\" >94.1%</td>\n",
       "      <td id=\"T_b8259_row3_col4\" class=\"data row3 col4\" >5000</td>\n",
       "      <td id=\"T_b8259_row3_col5\" class=\"data row3 col5\" >8</td>\n",
       "      <td id=\"T_b8259_row3_col6\" class=\"data row3 col6\" >Sample: 1 | FSIM | 2 | SR | BSR</td>\n",
       "    </tr>\n",
       "    <tr>\n",
       "      <th id=\"T_b8259_level0_row4\" class=\"row_heading level0 row4\" >4</th>\n",
       "      <td id=\"T_b8259_row4_col0\" class=\"data row4 col0\" >requestNumber</td>\n",
       "      <td id=\"T_b8259_row4_col1\" class=\"data row4 col1\" >int64</td>\n",
       "      <td id=\"T_b8259_row4_col2\" class=\"data row4 col2\" >0.0%</td>\n",
       "      <td id=\"T_b8259_row4_col3\" class=\"data row4 col3\" >0.0%</td>\n",
       "      <td id=\"T_b8259_row4_col4\" class=\"data row4 col4\" >5000</td>\n",
       "      <td id=\"T_b8259_row4_col5\" class=\"data row4 col5\" >5000</td>\n",
       "      <td id=\"T_b8259_row4_col6\" class=\"data row4 col6\" >max=62386426 | min=62380395 | mean=62383720.49 | dominant=[62380395, 62380397]</td>\n",
       "    </tr>\n",
       "    <tr>\n",
       "      <th id=\"T_b8259_level0_row5\" class=\"row_heading level0 row5\" >5</th>\n",
       "      <td id=\"T_b8259_row5_col0\" class=\"data row5 col0\" >requestor</td>\n",
       "      <td id=\"T_b8259_row5_col1\" class=\"data row5 col1\" >object</td>\n",
       "      <td id=\"T_b8259_row5_col2\" class=\"data row5 col2\" >2.7%</td>\n",
       "      <td id=\"T_b8259_row5_col3\" class=\"data row5 col3\" >59.3%</td>\n",
       "      <td id=\"T_b8259_row5_col4\" class=\"data row5 col4\" >5000</td>\n",
       "      <td id=\"T_b8259_row5_col5\" class=\"data row5 col5\" >289</td>\n",
       "      <td id=\"T_b8259_row5_col6\" class=\"data row5 col6\" >Sample: DSM | davisamue | gabisra | sophabdulsa | solomoabd</td>\n",
       "    </tr>\n",
       "    <tr>\n",
       "      <th id=\"T_b8259_level0_row6\" class=\"row_heading level0 row6\" >6</th>\n",
       "      <td id=\"T_b8259_row6_col0\" class=\"data row6 col0\" >serviceCode</td>\n",
       "      <td id=\"T_b8259_row6_col1\" class=\"data row6 col1\" >float64</td>\n",
       "      <td id=\"T_b8259_row6_col2\" class=\"data row6 col2\" >0.1%</td>\n",
       "      <td id=\"T_b8259_row6_col3\" class=\"data row6 col3\" >0.3%</td>\n",
       "      <td id=\"T_b8259_row6_col4\" class=\"data row6 col4\" >5000</td>\n",
       "      <td id=\"T_b8259_row6_col5\" class=\"data row6 col5\" >3723</td>\n",
       "      <td id=\"T_b8259_row6_col6\" class=\"data row6 col6\" >max=504155854.0 | min=737838.0 | mean=300188811.04 | dominant=87180467.0</td>\n",
       "    </tr>\n",
       "    <tr>\n",
       "      <th id=\"T_b8259_level0_row7\" class=\"row_heading level0 row7\" >7</th>\n",
       "      <td id=\"T_b8259_row7_col0\" class=\"data row7 col0\" >status</td>\n",
       "      <td id=\"T_b8259_row7_col1\" class=\"data row7 col1\" >object</td>\n",
       "      <td id=\"T_b8259_row7_col2\" class=\"data row7 col2\" >0.0%</td>\n",
       "      <td id=\"T_b8259_row7_col3\" class=\"data row7 col3\" >60.7%</td>\n",
       "      <td id=\"T_b8259_row7_col4\" class=\"data row7 col4\" >5000</td>\n",
       "      <td id=\"T_b8259_row7_col5\" class=\"data row7 col5\" >4</td>\n",
       "      <td id=\"T_b8259_row7_col6\" class=\"data row7 col6\" >Sample: FAILED | COMPLETED | INPROGRESS | PENDING</td>\n",
       "    </tr>\n",
       "    <tr>\n",
       "      <th id=\"T_b8259_level0_row8\" class=\"row_heading level0 row8\" >8</th>\n",
       "      <td id=\"T_b8259_row8_col0\" class=\"data row8 col0\" >subType</td>\n",
       "      <td id=\"T_b8259_row8_col1\" class=\"data row8 col1\" >object</td>\n",
       "      <td id=\"T_b8259_row8_col2\" class=\"data row8 col2\" >0.0%</td>\n",
       "      <td id=\"T_b8259_row8_col3\" class=\"data row8 col3\" >60.5%</td>\n",
       "      <td id=\"T_b8259_row8_col4\" class=\"data row8 col4\" >5000</td>\n",
       "      <td id=\"T_b8259_row8_col5\" class=\"data row8 col5\" >17</td>\n",
       "      <td id=\"T_b8259_row8_col6\" class=\"data row8 col6\" >Sample: RESETPIN | RVAS | SIMC | TRMIG | VAS</td>\n",
       "    </tr>\n",
       "    <tr>\n",
       "      <th id=\"T_b8259_level0_row9\" class=\"row_heading level0 row9\" >9</th>\n",
       "      <td id=\"T_b8259_row9_col0\" class=\"data row9 col0\" >type</td>\n",
       "      <td id=\"T_b8259_row9_col1\" class=\"data row9 col1\" >object</td>\n",
       "      <td id=\"T_b8259_row9_col2\" class=\"data row9 col2\" >0.0%</td>\n",
       "      <td id=\"T_b8259_row9_col3\" class=\"data row9 col3\" >60.6%</td>\n",
       "      <td id=\"T_b8259_row9_col4\" class=\"data row9 col4\" >5000</td>\n",
       "      <td id=\"T_b8259_row9_col5\" class=\"data row9 col5\" >7</td>\n",
       "      <td id=\"T_b8259_row9_col6\" class=\"data row9 col6\" >Sample: SERUPD | COS | RECH | SERINF | DSTCL</td>\n",
       "    </tr>\n",
       "  </tbody>\n",
       "</table>\n"
      ],
      "text/plain": [
       "<pandas.io.formats.style.Styler at 0x7fa49ea585b0>"
      ]
     },
     "execution_count": 8,
     "metadata": {},
     "output_type": "execute_result"
    }
   ],
   "source": [
    "tr.canonical_report(df)"
   ]
  },
  {
   "cell_type": "code",
   "execution_count": 9,
   "id": "afed00fd-c5b7-492c-a8ae-f83594851720",
   "metadata": {},
   "outputs": [],
   "source": [
    "s_values = df['creationDate'].copy()"
   ]
  },
  {
   "cell_type": "code",
   "execution_count": 10,
   "id": "51435903-cc65-45af-8752-6f4bfed70c3d",
   "metadata": {},
   "outputs": [],
   "source": [
    "def datetime2number(dates):\n",
    "    dates = dates.dt.tz_convert(None) if dates.dt.tz else dates\n",
    "    dates = (dates - pd.Timestamp.now()).abs()\n",
    "    return dates / np.timedelta64(1, 'us')"
   ]
  },
  {
   "cell_type": "code",
   "execution_count": 12,
   "id": "1732d7e2-36d6-4a41-a177-ab35d14d6a8a",
   "metadata": {},
   "outputs": [],
   "source": [
    "n_values = datetime2number(s_values)"
   ]
  },
  {
   "cell_type": "code",
   "execution_count": 18,
   "id": "bcd97475-b38e-45c4-9c29-fdadf6d40f3c",
   "metadata": {},
   "outputs": [
    {
     "ename": "NameError",
     "evalue": "name 'granularity' is not defined",
     "output_type": "error",
     "traceback": [
      "\u001b[0;31m---------------------------------------------------------------------------\u001b[0m",
      "\u001b[0;31mNameError\u001b[0m                                 Traceback (most recent call last)",
      "Cell \u001b[0;32mIn[18], line 1\u001b[0m\n\u001b[0;32m----> 1\u001b[0m tn_dict \u001b[38;5;241m=\u001b[39m DataDiscovery\u001b[38;5;241m.\u001b[39manalyse_number(n_values, granularity\u001b[38;5;241m=\u001b[39m\u001b[43mgranularity\u001b[49m)\n\u001b[1;32m      2\u001b[0m tn_dict\n",
      "\u001b[0;31mNameError\u001b[0m: name 'granularity' is not defined"
     ]
    }
   ],
   "source": [
    "tn_dict = DataDiscovery.analyse_number(n_values)\n",
    "tn_dictCreators of the world in the 17th century the Spanish explore have a set of a Pfaff reported that indigenous women served as mediators and in the series and 6096 a woman she is governed the Cardo in 1770 to a woman that the Comanches into San Antonio their behalf"
   ]
  },
  {
   "cell_type": "code",
   "execution_count": null,
   "id": "1244ed56-84fd-4579-9070-d0447c36405e",
   "metadata": {},
   "outputs": [],
   "source": []
  }
 ],
 "metadata": {
  "kernelspec": {
   "display_name": "Python 3 (ipykernel)",
   "language": "python",
   "name": "python3"
  },
  "language_info": {
   "codemirror_mode": {
    "name": "ipython",
    "version": 3
   },
   "file_extension": ".py",
   "mimetype": "text/x-python",
   "name": "python",
   "nbconvert_exporter": "python",
   "pygments_lexer": "ipython3",
   "version": "3.10.8"
  }
 },
 "nbformat": 4,
 "nbformat_minor": 5
}
