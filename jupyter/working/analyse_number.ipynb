{
 "cells": [
  {
   "cell_type": "code",
   "execution_count": 1,
   "id": "4ebb4847-5e7b-4f54-8e54-a85d41016124",
   "metadata": {
    "tags": []
   },
   "outputs": [],
   "source": [
    "# saves you having to use print as all exposed variables are printed in the cell\n",
    "from IPython.core.interactiveshell import InteractiveShell\n",
    "InteractiveShell.ast_node_interactivity = \"all\""
   ]
  },
  {
   "cell_type": "code",
   "execution_count": 2,
   "id": "9aceaabc-08b4-46e4-861f-80301ed031aa",
   "metadata": {},
   "outputs": [],
   "source": [
    "from ds_discovery import SyntheticBuilder\n",
    "import numpy as np\n",
    "import pandas as pd\n",
    "import matplotlib.pyplot as plt\n",
    "import seaborn as sns\n",
    "from typing import Any\n",
    "\n",
    "\n",
    "%matplotlib inline"
   ]
  },
  {
   "cell_type": "code",
   "execution_count": null,
   "id": "741d3f29-1af4-43be-8274-82db20a3d9af",
   "metadata": {},
   "outputs": [],
   "source": [
    "def correlate_continuous(canonical: Any, header: str=None, choice: [int, float, str]=None, jitter: list=None, jitter_freq: list=None, \n",
    "                         precision: int=None, keep_zero: bool=None,):\n",
    "    df = canonical.copy()\n",
    "    "
   ]
  }
 ],
 "metadata": {
  "kernelspec": {
   "display_name": "Python 3 (ipykernel)",
   "language": "python",
   "name": "python3"
  },
  "language_info": {
   "codemirror_mode": {
    "name": "ipython",
    "version": 3
   },
   "file_extension": ".py",
   "mimetype": "text/x-python",
   "name": "python",
   "nbconvert_exporter": "python",
   "pygments_lexer": "ipython3",
   "version": "3.10.8"
  }
 },
 "nbformat": 4,
 "nbformat_minor": 5
}
