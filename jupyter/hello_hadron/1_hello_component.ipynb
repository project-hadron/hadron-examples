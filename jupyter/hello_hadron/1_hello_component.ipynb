{
 "cells": [
  {
   "cell_type": "markdown",
   "id": "01c5e2c6",
   "metadata": {},
   "source": [
    "<cite>Darryl Oatridge, August 2022<cite>"
   ]
  },
  {
   "cell_type": "markdown",
   "id": "9bbd34d6",
   "metadata": {},
   "source": [
    "## Building a Component\n",
    "This tutorial shows the fundamentals of how to run a basic Project Hadron component. It is the simpliest form of running a task demonstrating the input, throughput and output of a dataset. Each instance of the component is given a unique reference name whereby the Domain Contract uses that name as its unique identifier and thus can be used to reference the said Domain Contract for the purposes of referencing and reloading. Though this may seem complicated at this early stage it is important to understand the relationship between a named component and its Domain Contract.  \n",
    "\n",
    "Firstly we have imported a component from the Project Hadron library for this demonstration. It should be noted, the choice of component is arbritary for this demonstration, as even though each component has its own unique set of tasks it also has methods shared across all components.  In this demonstration we only use these common tasks, this is why our choice of component is arbitrary. "
   ]
  },
  {
   "cell_type": "code",
   "execution_count": 1,
   "id": "081cd9cd",
   "metadata": {},
   "outputs": [],
   "source": [
    "from ds_discovery import Transition"
   ]
  },
  {
   "cell_type": "markdown",
   "id": "3a295664",
   "metadata": {},
   "source": [
    "To create a Domain Contract instance of the component we have used the Factory method `from_env` and given it a referenceable name `hello_comp`, and as this is the first instantiation, we have used the one off parameter call `has_contract` that by default is set to True and is used to avoid the accidential loading of a Domain Contract instance of the same task name. As common practice we capture the instance of this specific componant `transition` as `tr`."
   ]
  },
  {
   "cell_type": "code",
   "execution_count": 2,
   "id": "2e32915d",
   "metadata": {},
   "outputs": [],
   "source": [
    "tr = Transition.from_env('hello_comp', has_contract=False)"
   ]
  },
  {
   "cell_type": "markdown",
   "id": "c77e97ae",
   "metadata": {},
   "source": [
    "We have set where the data is coming from and where the resulting data is going to.  The source identifies a URI (URL) from which the data will be collected and in this case persistance uses the default settings, more on this later.   "
   ]
  },
  {
   "cell_type": "code",
   "execution_count": 3,
   "id": "ea7a93cf",
   "metadata": {},
   "outputs": [],
   "source": [
    "tr.set_source_uri('https://www.openml.org/data/get_csv/16826755/phpMYEkMl.csv')\n",
    "tr.set_persist()"
   ]
  },
  {
   "cell_type": "markdown",
   "id": "560aae85",
   "metadata": {},
   "source": [
    "### Run Component Pipeline\n",
    "To run a component we use the common method `run_component_pipeline` which loads the source data, executes the component task then persists the results. This is the only method you can use to run the tasks of a component and produce its results and should be a familiarized method. "
   ]
  },
  {
   "cell_type": "code",
   "execution_count": 4,
   "id": "a40b298a",
   "metadata": {},
   "outputs": [],
   "source": [
    "tr.run_component_pipeline()"
   ]
  },
  {
   "cell_type": "markdown",
   "id": "4aa67f31",
   "metadata": {},
   "source": [
    "This concludes building a component and though the component doesn't change the throughput, it shows the core steps to building any component."
   ]
  },
  {
   "cell_type": "markdown",
   "id": "8092a565-ed4e-4ec0-b558-c96fb7161e16",
   "metadata": {},
   "source": [
    "--------------------------------------\n",
    "\n",
    "## Reloading and Extending our Component\n",
    "Though this is a single notebook, one of the powers of Project Hadron is the ability to reload componant state across new notebooks, not just locally but even across locations and teams. To load our componant state we use the same factory method `from_env` passing the unique component name `hello_comp` which reloads the Domain Contract.  We have now reinstated our origional component state and can continue to work on this component. \n"
   ]
  },
  {
   "cell_type": "code",
   "execution_count": 5,
   "id": "86f7edc6-b46e-46cc-b587-799afeb79000",
   "metadata": {},
   "outputs": [],
   "source": [
    "tr = Transition.from_env('hello_comp')"
   ]
  },
  {
   "cell_type": "markdown",
   "id": "4c5a9d0b-c5f2-4214-8de4-6e31af2493a5",
   "metadata": {},
   "source": [
    "Lets look at a sample of some commonly used features that allow us to peek inside our components. These features are extremely useful to navigate the component and should become familiar.\n",
    "\n",
    "The first and probably most useful method call is to be able to retrieve the results of `run_component_pipeline`.\n",
    "We do this using the component method `load_persist_canonical`. Because of the retained state the component already knows the location of the results, and in this instance returns a report.\n",
    "\n",
    "Note: All the components from a package internally work with a canonical data set.  With this package of components, because they are data science based, use Pandas Dataframes as their canonical, therefore wherever you see the word canonical this will relate to a Pandas Dataframe."
   ]
  },
  {
   "cell_type": "code",
   "execution_count": 6,
   "id": "24d1eca9-15ed-46a3-9ad8-d84815047314",
   "metadata": {},
   "outputs": [],
   "source": [
    "df = tr.load_persist_canonical()"
   ]
  },
  {
   "cell_type": "markdown",
   "id": "93774872-6567-428a-b991-2e142d4b862d",
   "metadata": {},
   "source": [
    "The second most used feature is the reporting tool for the canonical.  It allows us to look at the results of the run as an informative dictionary, this gives a deeper insight into the canonical results. Though unlike other reports it requests the canonical of interest, this means it can be used on a wider trajectory of circumstances such as looking at source or other data that is being injested by the task.  \n",
    "\n",
    "Below we have an example of the processed canonical where we can see the results of the pipeline that was persisted.  The report has a wealth of information and is worth taking time to explore as it is likely to speed up your data discovery and the understanding of the dataset.\n"
   ]
  },
  {
   "cell_type": "code",
   "execution_count": 16,
   "id": "6b2bfd7d-2f05-4328-b2cc-f0de38c7a72d",
   "metadata": {},
   "outputs": [
    {
     "data": {
      "text/html": [
       "<div>\n",
       "<style scoped>\n",
       "    .dataframe tbody tr th:only-of-type {\n",
       "        vertical-align: middle;\n",
       "    }\n",
       "\n",
       "    .dataframe tbody tr th {\n",
       "        vertical-align: top;\n",
       "    }\n",
       "\n",
       "    .dataframe thead th {\n",
       "        text-align: right;\n",
       "    }\n",
       "</style>\n",
       "<table border=\"1\" class=\"dataframe\">\n",
       "  <thead>\n",
       "    <tr style=\"text-align: right;\">\n",
       "      <th></th>\n",
       "      <th>Attributes (14)</th>\n",
       "      <th>dType</th>\n",
       "      <th>%_Null</th>\n",
       "      <th>%_Dom</th>\n",
       "      <th>Count</th>\n",
       "      <th>Unique</th>\n",
       "      <th>Observations</th>\n",
       "    </tr>\n",
       "  </thead>\n",
       "  <tbody>\n",
       "    <tr>\n",
       "      <th>0</th>\n",
       "      <td>age</td>\n",
       "      <td>object</td>\n",
       "      <td>0.0</td>\n",
       "      <td>0.201</td>\n",
       "      <td>1309</td>\n",
       "      <td>99</td>\n",
       "      <td>Sample: ? | 24 | 22 | 21 | 30</td>\n",
       "    </tr>\n",
       "    <tr>\n",
       "      <th>1</th>\n",
       "      <td>boat</td>\n",
       "      <td>object</td>\n",
       "      <td>0.0</td>\n",
       "      <td>0.629</td>\n",
       "      <td>1309</td>\n",
       "      <td>28</td>\n",
       "      <td>Sample: ? | 13 | C | 15 | 14</td>\n",
       "    </tr>\n",
       "    <tr>\n",
       "      <th>2</th>\n",
       "      <td>body</td>\n",
       "      <td>object</td>\n",
       "      <td>0.0</td>\n",
       "      <td>0.908</td>\n",
       "      <td>1309</td>\n",
       "      <td>122</td>\n",
       "      <td>Sample: ? | 58 | 285 | 156 | 143</td>\n",
       "    </tr>\n",
       "    <tr>\n",
       "      <th>3</th>\n",
       "      <td>cabin</td>\n",
       "      <td>object</td>\n",
       "      <td>0.0</td>\n",
       "      <td>0.775</td>\n",
       "      <td>1309</td>\n",
       "      <td>187</td>\n",
       "      <td>Sample: ? | C23 C25 C27 | G6 | B57 B59 B63 B66 | C22 C26</td>\n",
       "    </tr>\n",
       "    <tr>\n",
       "      <th>4</th>\n",
       "      <td>embarked</td>\n",
       "      <td>object</td>\n",
       "      <td>0.0</td>\n",
       "      <td>0.698</td>\n",
       "      <td>1309</td>\n",
       "      <td>4</td>\n",
       "      <td>Sample: S | C | Q | ?</td>\n",
       "    </tr>\n",
       "    <tr>\n",
       "      <th>5</th>\n",
       "      <td>fare</td>\n",
       "      <td>object</td>\n",
       "      <td>0.0</td>\n",
       "      <td>0.046</td>\n",
       "      <td>1309</td>\n",
       "      <td>282</td>\n",
       "      <td>Sample: 8.05 | 13 | 7.75 | 26 | 7.8958</td>\n",
       "    </tr>\n",
       "    <tr>\n",
       "      <th>6</th>\n",
       "      <td>home.dest</td>\n",
       "      <td>object</td>\n",
       "      <td>0.0</td>\n",
       "      <td>0.431</td>\n",
       "      <td>1309</td>\n",
       "      <td>370</td>\n",
       "      <td>Sample: ? | New York, NY | London | Montreal, PQ | Paris, France</td>\n",
       "    </tr>\n",
       "    <tr>\n",
       "      <th>7</th>\n",
       "      <td>name</td>\n",
       "      <td>object</td>\n",
       "      <td>0.0</td>\n",
       "      <td>0.002</td>\n",
       "      <td>1309</td>\n",
       "      <td>1307</td>\n",
       "      <td>Sample: Connolly, Miss. Kate | Kelly, Mr. James | Allen, Miss. Elisabeth Walton | Ilmakangas, Miss. ...</td>\n",
       "    </tr>\n",
       "    <tr>\n",
       "      <th>8</th>\n",
       "      <td>parch</td>\n",
       "      <td>int64</td>\n",
       "      <td>0.0</td>\n",
       "      <td>0.765</td>\n",
       "      <td>1309</td>\n",
       "      <td>8</td>\n",
       "      <td>max=9 | min=0 | mean=0.39 | dominant=0</td>\n",
       "    </tr>\n",
       "    <tr>\n",
       "      <th>9</th>\n",
       "      <td>pclass</td>\n",
       "      <td>int64</td>\n",
       "      <td>0.0</td>\n",
       "      <td>0.542</td>\n",
       "      <td>1309</td>\n",
       "      <td>3</td>\n",
       "      <td>max=3 | min=1 | mean=2.29 | dominant=3</td>\n",
       "    </tr>\n",
       "    <tr>\n",
       "      <th>10</th>\n",
       "      <td>sex</td>\n",
       "      <td>object</td>\n",
       "      <td>0.0</td>\n",
       "      <td>0.644</td>\n",
       "      <td>1309</td>\n",
       "      <td>2</td>\n",
       "      <td>Sample: male | female</td>\n",
       "    </tr>\n",
       "    <tr>\n",
       "      <th>11</th>\n",
       "      <td>sibsp</td>\n",
       "      <td>int64</td>\n",
       "      <td>0.0</td>\n",
       "      <td>0.681</td>\n",
       "      <td>1309</td>\n",
       "      <td>7</td>\n",
       "      <td>max=8 | min=0 | mean=0.5 | dominant=0</td>\n",
       "    </tr>\n",
       "    <tr>\n",
       "      <th>12</th>\n",
       "      <td>survived</td>\n",
       "      <td>int64</td>\n",
       "      <td>0.0</td>\n",
       "      <td>0.618</td>\n",
       "      <td>1309</td>\n",
       "      <td>2</td>\n",
       "      <td>max=1 | min=0 | mean=0.38 | dominant=0</td>\n",
       "    </tr>\n",
       "    <tr>\n",
       "      <th>13</th>\n",
       "      <td>ticket</td>\n",
       "      <td>object</td>\n",
       "      <td>0.0</td>\n",
       "      <td>0.008</td>\n",
       "      <td>1309</td>\n",
       "      <td>929</td>\n",
       "      <td>Sample: CA. 2343 | 1601 | CA 2144 | PC 17608 | 347077</td>\n",
       "    </tr>\n",
       "  </tbody>\n",
       "</table>\n",
       "</div>"
      ],
      "text/plain": [
       "   Attributes (14)   dType  %_Null  %_Dom  Count  Unique  \\\n",
       "0              age  object     0.0  0.201   1309      99   \n",
       "1             boat  object     0.0  0.629   1309      28   \n",
       "2             body  object     0.0  0.908   1309     122   \n",
       "3            cabin  object     0.0  0.775   1309     187   \n",
       "4         embarked  object     0.0  0.698   1309       4   \n",
       "5             fare  object     0.0  0.046   1309     282   \n",
       "6        home.dest  object     0.0  0.431   1309     370   \n",
       "7             name  object     0.0  0.002   1309    1307   \n",
       "8            parch   int64     0.0  0.765   1309       8   \n",
       "9           pclass   int64     0.0  0.542   1309       3   \n",
       "10             sex  object     0.0  0.644   1309       2   \n",
       "11           sibsp   int64     0.0  0.681   1309       7   \n",
       "12        survived   int64     0.0  0.618   1309       2   \n",
       "13          ticket  object     0.0  0.008   1309     929   \n",
       "\n",
       "                                                                                               Observations  \n",
       "0                                                                             Sample: ? | 24 | 22 | 21 | 30  \n",
       "1                                                                              Sample: ? | 13 | C | 15 | 14  \n",
       "2                                                                          Sample: ? | 58 | 285 | 156 | 143  \n",
       "3                                                  Sample: ? | C23 C25 C27 | G6 | B57 B59 B63 B66 | C22 C26  \n",
       "4                                                                                     Sample: S | C | Q | ?  \n",
       "5                                                                    Sample: 8.05 | 13 | 7.75 | 26 | 7.8958  \n",
       "6                                          Sample: ? | New York, NY | London | Montreal, PQ | Paris, France  \n",
       "7   Sample: Connolly, Miss. Kate | Kelly, Mr. James | Allen, Miss. Elisabeth Walton | Ilmakangas, Miss. ...  \n",
       "8                                                                    max=9 | min=0 | mean=0.39 | dominant=0  \n",
       "9                                                                    max=3 | min=1 | mean=2.29 | dominant=3  \n",
       "10                                                                                    Sample: male | female  \n",
       "11                                                                    max=8 | min=0 | mean=0.5 | dominant=0  \n",
       "12                                                                   max=1 | min=0 | mean=0.38 | dominant=0  \n",
       "13                                                    Sample: CA. 2343 | 1601 | CA 2144 | PC 17608 | 347077  "
      ]
     },
     "execution_count": 16,
     "metadata": {},
     "output_type": "execute_result"
    }
   ],
   "source": [
    "tr.canonical_report(df, stylise=False)"
   ]
  },
  {
   "cell_type": "markdown",
   "id": "9c5995f3-b5d7-4706-9c24-31b52f07fcfa",
   "metadata": {},
   "source": [
    "When we set up the source and persist we use something called Connector contracts, these act like brokers between external data and the internal canonical. These are powerful tools that we will talk more about in a dedicated tutorial but for now consider them as the means to talk data to different data storage solutions.  In this instance we are only using a local connection and thus a Connector contract that manages this type of connectivity. \n",
    "\n",
    "In order to report on where the source and persist are located, along with any other data we have connected to, we can use `report_connectors` which gives us, in part, the name of the connector and the location of the data."
   ]
  },
  {
   "cell_type": "code",
   "execution_count": 21,
   "id": "1f045b50-e5d2-455c-ac6d-63b7e426adfc",
   "metadata": {
    "scrolled": true
   },
   "outputs": [
    {
     "data": {
      "text/html": [
       "<style type=\"text/css\">\n",
       "#T_423bc th {\n",
       "  font-size: 120%;\n",
       "  text-align: center;\n",
       "}\n",
       "#T_423bc .row_heading {\n",
       "  display: none;;\n",
       "}\n",
       "#T_423bc  .blank {\n",
       "  display: none;;\n",
       "}\n",
       "#T_423bc_row0_col0, #T_423bc_row1_col0 {\n",
       "  text-align: left;\n",
       "  font-weight: bold;\n",
       "  font-size: 120%;\n",
       "}\n",
       "#T_423bc_row0_col1, #T_423bc_row0_col2, #T_423bc_row0_col3, #T_423bc_row0_col4, #T_423bc_row0_col5, #T_423bc_row0_col6, #T_423bc_row0_col7, #T_423bc_row1_col1, #T_423bc_row1_col2, #T_423bc_row1_col3, #T_423bc_row1_col4, #T_423bc_row1_col5, #T_423bc_row1_col6, #T_423bc_row1_col7 {\n",
       "  text-align: left;\n",
       "}\n",
       "</style>\n",
       "<table id=\"T_423bc\">\n",
       "  <thead>\n",
       "    <tr>\n",
       "      <th class=\"blank level0\" >&nbsp;</th>\n",
       "      <th id=\"T_423bc_level0_col0\" class=\"col_heading level0 col0\" >connector_name</th>\n",
       "      <th id=\"T_423bc_level0_col1\" class=\"col_heading level0 col1\" >uri</th>\n",
       "      <th id=\"T_423bc_level0_col2\" class=\"col_heading level0 col2\" >module_name</th>\n",
       "      <th id=\"T_423bc_level0_col3\" class=\"col_heading level0 col3\" >handler</th>\n",
       "      <th id=\"T_423bc_level0_col4\" class=\"col_heading level0 col4\" >version</th>\n",
       "      <th id=\"T_423bc_level0_col5\" class=\"col_heading level0 col5\" >kwargs</th>\n",
       "      <th id=\"T_423bc_level0_col6\" class=\"col_heading level0 col6\" >query</th>\n",
       "      <th id=\"T_423bc_level0_col7\" class=\"col_heading level0 col7\" >aligned</th>\n",
       "    </tr>\n",
       "  </thead>\n",
       "  <tbody>\n",
       "    <tr>\n",
       "      <th id=\"T_423bc_level0_row0\" class=\"row_heading level0 row0\" >0</th>\n",
       "      <td id=\"T_423bc_row0_col0\" class=\"data row0 col0\" >primary_source</td>\n",
       "      <td id=\"T_423bc_row0_col1\" class=\"data row0 col1\" >https://www.openml.org/data/get_csv/16826755/phpMYEkMl.csv</td>\n",
       "      <td id=\"T_423bc_row0_col2\" class=\"data row0 col2\" >ds_discovery.handlers.pandas_handlers</td>\n",
       "      <td id=\"T_423bc_row0_col3\" class=\"data row0 col3\" >PandasPersistHandler</td>\n",
       "      <td id=\"T_423bc_row0_col4\" class=\"data row0 col4\" >v0.00</td>\n",
       "      <td id=\"T_423bc_row0_col5\" class=\"data row0 col5\" ></td>\n",
       "      <td id=\"T_423bc_row0_col6\" class=\"data row0 col6\" ></td>\n",
       "      <td id=\"T_423bc_row0_col7\" class=\"data row0 col7\" >False</td>\n",
       "    </tr>\n",
       "    <tr>\n",
       "      <th id=\"T_423bc_level0_row1\" class=\"row_heading level0 row1\" >1</th>\n",
       "      <td id=\"T_423bc_row1_col0\" class=\"data row1 col0\" >primary_persist</td>\n",
       "      <td id=\"T_423bc_row1_col1\" class=\"data row1 col1\" >0_hello_meta/demo/data/hadron_transition_hello_tr,_primary_persist.pickle</td>\n",
       "      <td id=\"T_423bc_row1_col2\" class=\"data row1 col2\" >ds_discovery.handlers.pandas_handlers</td>\n",
       "      <td id=\"T_423bc_row1_col3\" class=\"data row1 col3\" >PandasPersistHandler</td>\n",
       "      <td id=\"T_423bc_row1_col4\" class=\"data row1 col4\" >v0.00</td>\n",
       "      <td id=\"T_423bc_row1_col5\" class=\"data row1 col5\" ></td>\n",
       "      <td id=\"T_423bc_row1_col6\" class=\"data row1 col6\" ></td>\n",
       "      <td id=\"T_423bc_row1_col7\" class=\"data row1 col7\" >True</td>\n",
       "    </tr>\n",
       "  </tbody>\n",
       "</table>\n"
      ],
      "text/plain": [
       "<pandas.io.formats.style.Styler at 0x7fe03e18f5e0>"
      ]
     },
     "execution_count": 21,
     "metadata": {},
     "output_type": "execute_result"
    }
   ],
   "source": [
    "tr.report_connectors()"
   ]
  },
  {
   "cell_type": "markdown",
   "id": "4d5fe2e3",
   "metadata": {},
   "source": [
    "This gives a flavour of the tools available to look inside a component and time should be taken viewing the different reports a component offers."
   ]
  },
  {
   "cell_type": "markdown",
   "id": "4d8e344d-e874-4b45-8caa-cc11c43ea739",
   "metadata": {},
   "source": [
    "------------------------------\n",
    "\n",
    "## Environment Variables\n",
    "To this point we have using the default settings of where to store the Domain Contract and the persisted dataset.  These are in general local and within your working directory.  The use of environment variables frees us up to use an extensive list of connector contracts to store the data to a location of the choice or requirements. \n",
    "\n",
    "Hadron provides an extensive list of environment variables to tailor how your components retrieve and persist their information, this is beyond the scope of this tutorial and tend to be for specialist use, therefore we are going to focus on the two most commonly used for the majority of projects. \n",
    "\n",
    "We initially import Python's `os` package."
   ]
  },
  {
   "cell_type": "code",
   "execution_count": 9,
   "id": "c05eb276-29a4-4860-897e-dc27fdd67881",
   "metadata": {},
   "outputs": [],
   "source": [
    "import os"
   ]
  },
  {
   "cell_type": "markdown",
   "id": "1175d9b9-8d5e-4b14-9f1b-e26f709ea720",
   "metadata": {},
   "source": [
    "In general and as good practice, most notebooks would `run` a set up file that contains imports and environment variables that are common across all notebooks.  In this case, for visibility, because this is a tutorial, we will import the packages and set up the two environment variables within each notebook. \n",
    "\n",
    "The first environment variable we set up is for the location of the Domain Contract, this is critical to the components and the other components that rely on it (more of this later).  In this case we are setting the Domain Contract location to be in a common local directory of our naming. "
   ]
  },
  {
   "cell_type": "code",
   "execution_count": 10,
   "id": "6438a198-d7c8-4063-a104-83d656a45738",
   "metadata": {},
   "outputs": [],
   "source": [
    "os.environ['HADRON_PM_PATH'] = '0_hello_meta/demo/contracts'"
   ]
  },
  {
   "cell_type": "markdown",
   "id": "a2b9f7ba",
   "metadata": {},
   "source": [
    "The second environment variable is for the location of where the data is to be persisted.  This allows us to place data away from the working files and have a common directory where data can be sourced or persisted. This is also used internally within the component to avoid having to remember where data is located."
   ]
  },
  {
   "cell_type": "code",
   "execution_count": 11,
   "id": "6302c74e-7467-4a90-ac32-a0a2f9aad3ac",
   "metadata": {},
   "outputs": [],
   "source": [
    "os.environ['HADRON_DEFAULT_PATH'] = '0_hello_meta/demo/data'"
   ]
  },
  {
   "cell_type": "markdown",
   "id": "29daee3f",
   "metadata": {},
   "source": [
    "As a tip we can see where the default path environment variable is set by using `report_connectors`. By passing the parameter `inc_template=True` to  the `report_connectors` method, showing us the connector names.  By each name is the location  path (uri) where, by default, the component will source or persist the data set, this is taken from the environment variable set. Likewise we can see where the Domain Contract is being persisted by including the parameter `inc_pm` giving the location path (uri) given by the environment variable."
   ]
  },
  {
   "cell_type": "code",
   "execution_count": 22,
   "id": "2cdd4ead",
   "metadata": {},
   "outputs": [
    {
     "data": {
      "text/html": [
       "<style type=\"text/css\">\n",
       "#T_8b225 th {\n",
       "  font-size: 120%;\n",
       "  text-align: center;\n",
       "}\n",
       "#T_8b225 .row_heading {\n",
       "  display: none;;\n",
       "}\n",
       "#T_8b225  .blank {\n",
       "  display: none;;\n",
       "}\n",
       "#T_8b225_row0_col0, #T_8b225_row1_col0, #T_8b225_row2_col0, #T_8b225_row3_col0 {\n",
       "  text-align: left;\n",
       "  font-weight: bold;\n",
       "  font-size: 120%;\n",
       "}\n",
       "#T_8b225_row0_col1, #T_8b225_row0_col2, #T_8b225_row0_col3, #T_8b225_row0_col4, #T_8b225_row0_col5, #T_8b225_row0_col6, #T_8b225_row0_col7, #T_8b225_row1_col1, #T_8b225_row1_col2, #T_8b225_row1_col3, #T_8b225_row1_col4, #T_8b225_row1_col5, #T_8b225_row1_col6, #T_8b225_row1_col7, #T_8b225_row2_col1, #T_8b225_row2_col2, #T_8b225_row2_col3, #T_8b225_row2_col4, #T_8b225_row2_col5, #T_8b225_row2_col6, #T_8b225_row2_col7, #T_8b225_row3_col1, #T_8b225_row3_col2, #T_8b225_row3_col3, #T_8b225_row3_col4, #T_8b225_row3_col5, #T_8b225_row3_col6, #T_8b225_row3_col7 {\n",
       "  text-align: left;\n",
       "}\n",
       "</style>\n",
       "<table id=\"T_8b225\">\n",
       "  <thead>\n",
       "    <tr>\n",
       "      <th class=\"blank level0\" >&nbsp;</th>\n",
       "      <th id=\"T_8b225_level0_col0\" class=\"col_heading level0 col0\" >connector_name</th>\n",
       "      <th id=\"T_8b225_level0_col1\" class=\"col_heading level0 col1\" >uri</th>\n",
       "      <th id=\"T_8b225_level0_col2\" class=\"col_heading level0 col2\" >module_name</th>\n",
       "      <th id=\"T_8b225_level0_col3\" class=\"col_heading level0 col3\" >handler</th>\n",
       "      <th id=\"T_8b225_level0_col4\" class=\"col_heading level0 col4\" >version</th>\n",
       "      <th id=\"T_8b225_level0_col5\" class=\"col_heading level0 col5\" >kwargs</th>\n",
       "      <th id=\"T_8b225_level0_col6\" class=\"col_heading level0 col6\" >query</th>\n",
       "      <th id=\"T_8b225_level0_col7\" class=\"col_heading level0 col7\" >aligned</th>\n",
       "    </tr>\n",
       "  </thead>\n",
       "  <tbody>\n",
       "    <tr>\n",
       "      <th id=\"T_8b225_level0_row0\" class=\"row_heading level0 row0\" >0</th>\n",
       "      <td id=\"T_8b225_row0_col0\" class=\"data row0 col0\" >template_source</td>\n",
       "      <td id=\"T_8b225_row0_col1\" class=\"data row0 col1\" >0_hello_meta/demo/data</td>\n",
       "      <td id=\"T_8b225_row0_col2\" class=\"data row0 col2\" >ds_discovery.handlers.pandas_handlers</td>\n",
       "      <td id=\"T_8b225_row0_col3\" class=\"data row0 col3\" >PandasSourceHandler</td>\n",
       "      <td id=\"T_8b225_row0_col4\" class=\"data row0 col4\" >v0.00</td>\n",
       "      <td id=\"T_8b225_row0_col5\" class=\"data row0 col5\" ></td>\n",
       "      <td id=\"T_8b225_row0_col6\" class=\"data row0 col6\" ></td>\n",
       "      <td id=\"T_8b225_row0_col7\" class=\"data row0 col7\" >False</td>\n",
       "    </tr>\n",
       "    <tr>\n",
       "      <th id=\"T_8b225_level0_row1\" class=\"row_heading level0 row1\" >1</th>\n",
       "      <td id=\"T_8b225_row1_col0\" class=\"data row1 col0\" >template_persist</td>\n",
       "      <td id=\"T_8b225_row1_col1\" class=\"data row1 col1\" >0_hello_meta/demo/data</td>\n",
       "      <td id=\"T_8b225_row1_col2\" class=\"data row1 col2\" >ds_discovery.handlers.pandas_handlers</td>\n",
       "      <td id=\"T_8b225_row1_col3\" class=\"data row1 col3\" >PandasPersistHandler</td>\n",
       "      <td id=\"T_8b225_row1_col4\" class=\"data row1 col4\" >v0.00</td>\n",
       "      <td id=\"T_8b225_row1_col5\" class=\"data row1 col5\" ></td>\n",
       "      <td id=\"T_8b225_row1_col6\" class=\"data row1 col6\" ></td>\n",
       "      <td id=\"T_8b225_row1_col7\" class=\"data row1 col7\" >False</td>\n",
       "    </tr>\n",
       "    <tr>\n",
       "      <th id=\"T_8b225_level0_row2\" class=\"row_heading level0 row2\" >2</th>\n",
       "      <td id=\"T_8b225_row2_col0\" class=\"data row2 col0\" >primary_source</td>\n",
       "      <td id=\"T_8b225_row2_col1\" class=\"data row2 col1\" >https://www.openml.org/data/get_csv/16826755/phpMYEkMl.csv</td>\n",
       "      <td id=\"T_8b225_row2_col2\" class=\"data row2 col2\" >ds_discovery.handlers.pandas_handlers</td>\n",
       "      <td id=\"T_8b225_row2_col3\" class=\"data row2 col3\" >PandasPersistHandler</td>\n",
       "      <td id=\"T_8b225_row2_col4\" class=\"data row2 col4\" >v0.00</td>\n",
       "      <td id=\"T_8b225_row2_col5\" class=\"data row2 col5\" ></td>\n",
       "      <td id=\"T_8b225_row2_col6\" class=\"data row2 col6\" ></td>\n",
       "      <td id=\"T_8b225_row2_col7\" class=\"data row2 col7\" >False</td>\n",
       "    </tr>\n",
       "    <tr>\n",
       "      <th id=\"T_8b225_level0_row3\" class=\"row_heading level0 row3\" >3</th>\n",
       "      <td id=\"T_8b225_row3_col0\" class=\"data row3 col0\" >primary_persist</td>\n",
       "      <td id=\"T_8b225_row3_col1\" class=\"data row3 col1\" >0_hello_meta/demo/data/hadron_transition_hello_tr,_primary_persist.pickle</td>\n",
       "      <td id=\"T_8b225_row3_col2\" class=\"data row3 col2\" >ds_discovery.handlers.pandas_handlers</td>\n",
       "      <td id=\"T_8b225_row3_col3\" class=\"data row3 col3\" >PandasPersistHandler</td>\n",
       "      <td id=\"T_8b225_row3_col4\" class=\"data row3 col4\" >v0.00</td>\n",
       "      <td id=\"T_8b225_row3_col5\" class=\"data row3 col5\" ></td>\n",
       "      <td id=\"T_8b225_row3_col6\" class=\"data row3 col6\" ></td>\n",
       "      <td id=\"T_8b225_row3_col7\" class=\"data row3 col7\" >True</td>\n",
       "    </tr>\n",
       "  </tbody>\n",
       "</table>\n"
      ],
      "text/plain": [
       "<pandas.io.formats.style.Styler at 0x7fe03e18f9d0>"
      ]
     },
     "execution_count": 22,
     "metadata": {},
     "output_type": "execute_result"
    }
   ],
   "source": [
    "tr.report_connectors(inc_template=True)"
   ]
  },
  {
   "cell_type": "markdown",
   "id": "92719e52-e95f-4253-9777-a4b27780de31",
   "metadata": {},
   "source": [
    "Because we have now changed the location of where the Domain Contract can be found we need to reset things from the start giving the source location and using the default persist location which we now know has been set by the environment variable."
   ]
  },
  {
   "cell_type": "code",
   "execution_count": 13,
   "id": "d9c80c22-6a75-476a-84f9-447491488db3",
   "metadata": {},
   "outputs": [],
   "source": [
    "tr = Transition.from_env('hello_tr', has_contract=False)"
   ]
  },
  {
   "cell_type": "code",
   "execution_count": 14,
   "id": "819a9492-a91b-42e2-a898-d5db4fefeb31",
   "metadata": {},
   "outputs": [],
   "source": [
    "tr.set_source_uri('https://www.openml.org/data/get_csv/16826755/phpMYEkMl.csv')\n",
    "tr.set_persist()"
   ]
  },
  {
   "cell_type": "markdown",
   "id": "86789211-25d9-42b9-8477-e8f4b45fcce8",
   "metadata": {},
   "source": [
    "Finally we run the pipeline with the new environemt variables in place and check everything runs okay."
   ]
  },
  {
   "cell_type": "code",
   "execution_count": 15,
   "id": "bca20638-a2d7-43cb-8873-c6fe9b0064e3",
   "metadata": {},
   "outputs": [],
   "source": [
    "tr.run_component_pipeline()"
   ]
  },
  {
   "cell_type": "markdown",
   "id": "90c4d848-b54d-4d00-9fe4-ecdd0f5315e2",
   "metadata": {},
   "source": [
    "And we are there! We now know how to build a component and set its environment variables.  The next step is to build a real pipeline and join that with other pipelines to construct our complete master Domain Contract."
   ]
  },
  {
   "cell_type": "code",
   "execution_count": null,
   "id": "a0259f1c",
   "metadata": {},
   "outputs": [],
   "source": []
  }
 ],
 "metadata": {
  "kernelspec": {
   "display_name": "Python 3 (ipykernel)",
   "language": "python",
   "name": "python3"
  },
  "language_info": {
   "codemirror_mode": {
    "name": "ipython",
    "version": 3
   },
   "file_extension": ".py",
   "mimetype": "text/x-python",
   "name": "python",
   "nbconvert_exporter": "python",
   "pygments_lexer": "ipython3",
   "version": "3.10.8"
  }
 },
 "nbformat": 4,
 "nbformat_minor": 5
}
