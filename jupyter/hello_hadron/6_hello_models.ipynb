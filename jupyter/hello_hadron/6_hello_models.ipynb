{
 "cells": [
  {
   "cell_type": "markdown",
   "id": "f2b24223-3d56-4a86-808d-0dfeb56ec615",
   "metadata": {},
   "source": [
    "<cite>Darryl Oatridge, ModelsBuilder<cite>"
   ]
  },
  {
   "cell_type": "code",
   "execution_count": 1,
   "id": "2b9dc78e",
   "metadata": {
    "tags": []
   },
   "outputs": [],
   "source": [
    "# saves you having to use print as all exposed variables are printed in the cell\n",
    "from IPython.core.interactiveshell import InteractiveShell\n",
    "InteractiveShell.ast_node_interactivity = \"all\""
   ]
  },
  {
   "cell_type": "markdown",
   "id": "b5eef118-7212-4e0e-b8b5-ffcbec717dd5",
   "metadata": {},
   "source": [
    "## Building a Model\n",
    "\n",
    "Building a model prediction component works in exactly the same way as the previous component builds, whereby we create the instance pertinent to the intentions, give it a location to retrieve data from, the source, and where to persist the results. Then we add the component intent, which in this case is to register a trained model and run its predictions. \n",
    "\n",
    "In order to run the component you need an appropriate classification dataset that has already been preprocessed and optimized for the model. To do this we use the synthetic builder to create this unlabeled optimised set of features.   \n"
   ]
  },
  {
   "cell_type": "markdown",
   "id": "780b89c5-a90e-4bcc-ad10-90b32cdfaa72",
   "metadata": {},
   "source": [
    "## Setting Up\n",
    "\n"
   ]
  },
  {
   "cell_type": "code",
   "execution_count": 2,
   "id": "403a4878-bb8c-427a-a4da-3a89278653b5",
   "metadata": {},
   "outputs": [],
   "source": [
    "import os"
   ]
  },
  {
   "cell_type": "code",
   "execution_count": 3,
   "id": "90cc4b54-3cc4-46b0-a090-5d4db5d3f288",
   "metadata": {},
   "outputs": [],
   "source": [
    "os.environ['HADRON_PM_PATH'] = '0_hello_meta/models_log/contracts'\n",
    "os.environ['HADRON_DEFAULT_PATH'] = '0_hello_meta/models_log/data'"
   ]
  },
  {
   "cell_type": "markdown",
   "id": "f2313254-f3a9-4730-a6c0-806b4dc4c010",
   "metadata": {},
   "source": [
    "## Synthetic Binary Classification\n",
    "\n",
    "For the synthetic binary classifier the component we use is called ``syntheticbuilder``. In here we have the intent to create the optimized classification dataset ready for the trained model. "
   ]
  },
  {
   "cell_type": "code",
   "execution_count": 4,
   "id": "6a0a7e20",
   "metadata": {},
   "outputs": [],
   "source": [
    "import numpy as np\n",
    "import pandas as pd\n",
    "from ds_discovery import SyntheticBuilder, ModelsBuilder, Commons\n",
    "from sklearn.model_selection import train_test_split\n",
    "\n",
    "%matplotlib inline"
   ]
  },
  {
   "cell_type": "code",
   "execution_count": 5,
   "id": "55877bc3",
   "metadata": {},
   "outputs": [],
   "source": [
    "sb = SyntheticBuilder.from_env('ml_syn', has_contract=False)"
   ]
  },
  {
   "cell_type": "code",
   "execution_count": 6,
   "id": "067e265a-9fe0-4339-9fab-fff78d3a23ee",
   "metadata": {},
   "outputs": [],
   "source": [
    "sb.set_persist()"
   ]
  },
  {
   "cell_type": "code",
   "execution_count": 7,
   "id": "c71aaaba",
   "metadata": {},
   "outputs": [],
   "source": [
    "# build a sample dataframe\n",
    "sample = 1_000\n",
    "df = sb.tools.frame_starter(sample, column_name='frame_shape')\n",
    "df['ref_id'] = sb.tools.get_number(from_value=100_000, to_value=999_900, at_most=1, size=df.shape[0], seed=31, column_name='ref_id')\n",
    "\n",
    "# build classification features optimised for model predict\n",
    "df = sb.tools.model_synthetic_classification(canonical=df, n_features=3, n_informative=3, n_redundant=0, seed=42, column_name='classification')\n"
   ]
  },
  {
   "cell_type": "markdown",
   "id": "d2ef5c85-49ee-4d11-83ee-5721e1eca8ed",
   "metadata": {},
   "source": [
    "### Run Component\n",
    "To run a component we use the common method ``run_component_pipeline`` which loads the source data, executes the component task then persists the results. This is the only method you can use to run the tasks of a component and produce its results and should be a familiarized method."
   ]
  },
  {
   "cell_type": "code",
   "execution_count": 8,
   "id": "c2463356-4e80-4687-b26e-7ef29981d047",
   "metadata": {},
   "outputs": [],
   "source": [
    "# run pipeline\n",
    "sb.run_component_pipeline(1_000)"
   ]
  },
  {
   "cell_type": "markdown",
   "id": "eeea6c90-eb5b-41d5-bc2e-4f8fbffad01e",
   "metadata": {},
   "source": [
    "## Models Predict\n",
    "\n",
    "This mimics the discovery phase of a model error test ultimately producing the trained model. Discovery is part of the process of identifying, selecting the features for, and optimizing the algorithm to produce the predictive model. \n"
   ]
  },
  {
   "cell_type": "code",
   "execution_count": 9,
   "id": "e64ff0dd-f27a-4432-86ef-55bbc379547a",
   "metadata": {},
   "outputs": [],
   "source": [
    "from ds_discovery import ModelsBuilder\n",
    "from sklearn.linear_model import LogisticRegression"
   ]
  },
  {
   "cell_type": "code",
   "execution_count": 10,
   "id": "a4d9f210-0864-4b74-8276-b7f06930c64f",
   "metadata": {},
   "outputs": [],
   "source": [
    "# get the instance\n",
    "ml = ModelsBuilder.from_env('ml_logreg', has_contract=False)"
   ]
  },
  {
   "cell_type": "code",
   "execution_count": 11,
   "id": "69a61a26-1252-4aa8-81c2-723a077ff896",
   "metadata": {},
   "outputs": [],
   "source": [
    "ml.set_source_uri(SyntheticBuilder.from_env('ml_syn').get_persist_contract().uri)"
   ]
  },
  {
   "cell_type": "markdown",
   "id": "06cc967a-bdac-4463-98cf-f21090646a48",
   "metadata": {},
   "source": [
    "### Split (test, train)"
   ]
  },
  {
   "cell_type": "code",
   "execution_count": 12,
   "id": "b002ee95-7848-4e8c-ba36-5b619945629e",
   "metadata": {},
   "outputs": [],
   "source": [
    "# select X, Y \n",
    "X = df.drop(['target', 'ref_id'], axis=1)\n",
    "# X = df.drop(['target'], axis=1)\n",
    "y = df['target']"
   ]
  },
  {
   "cell_type": "code",
   "execution_count": 13,
   "id": "a62a5a1e",
   "metadata": {},
   "outputs": [],
   "source": [
    "X_train, X_test, y_train, y_test = train_test_split(X, y, test_size=0.30, random_state=42)"
   ]
  },
  {
   "cell_type": "markdown",
   "id": "a3e08526-fcb4-482c-ab55-df27878ee96d",
   "metadata": {
    "tags": []
   },
   "source": [
    "### Predict $ \\hat y $\n",
    "\n",
    "For this example we use a simple logistic regression algorithm from Scikit-learn, though this will apply to any model fit that has a predict method. The following formula is applied.\n",
    "\n",
    "$$ \\hat y = \\sigma( w^T x + b) = \\frac{1}{1 + e^{-(w^T x + b)}} $$"
   ]
  },
  {
   "cell_type": "code",
   "execution_count": 14,
   "id": "409cad8c-e56b-4efe-aee3-e92055e8f40b",
   "metadata": {},
   "outputs": [
    {
     "data": {
      "text/html": [
       "<style>#sk-container-id-1 {color: black;background-color: white;}#sk-container-id-1 pre{padding: 0;}#sk-container-id-1 div.sk-toggleable {background-color: white;}#sk-container-id-1 label.sk-toggleable__label {cursor: pointer;display: block;width: 100%;margin-bottom: 0;padding: 0.3em;box-sizing: border-box;text-align: center;}#sk-container-id-1 label.sk-toggleable__label-arrow:before {content: \"▸\";float: left;margin-right: 0.25em;color: #696969;}#sk-container-id-1 label.sk-toggleable__label-arrow:hover:before {color: black;}#sk-container-id-1 div.sk-estimator:hover label.sk-toggleable__label-arrow:before {color: black;}#sk-container-id-1 div.sk-toggleable__content {max-height: 0;max-width: 0;overflow: hidden;text-align: left;background-color: #f0f8ff;}#sk-container-id-1 div.sk-toggleable__content pre {margin: 0.2em;color: black;border-radius: 0.25em;background-color: #f0f8ff;}#sk-container-id-1 input.sk-toggleable__control:checked~div.sk-toggleable__content {max-height: 200px;max-width: 100%;overflow: auto;}#sk-container-id-1 input.sk-toggleable__control:checked~label.sk-toggleable__label-arrow:before {content: \"▾\";}#sk-container-id-1 div.sk-estimator input.sk-toggleable__control:checked~label.sk-toggleable__label {background-color: #d4ebff;}#sk-container-id-1 div.sk-label input.sk-toggleable__control:checked~label.sk-toggleable__label {background-color: #d4ebff;}#sk-container-id-1 input.sk-hidden--visually {border: 0;clip: rect(1px 1px 1px 1px);clip: rect(1px, 1px, 1px, 1px);height: 1px;margin: -1px;overflow: hidden;padding: 0;position: absolute;width: 1px;}#sk-container-id-1 div.sk-estimator {font-family: monospace;background-color: #f0f8ff;border: 1px dotted black;border-radius: 0.25em;box-sizing: border-box;margin-bottom: 0.5em;}#sk-container-id-1 div.sk-estimator:hover {background-color: #d4ebff;}#sk-container-id-1 div.sk-parallel-item::after {content: \"\";width: 100%;border-bottom: 1px solid gray;flex-grow: 1;}#sk-container-id-1 div.sk-label:hover label.sk-toggleable__label {background-color: #d4ebff;}#sk-container-id-1 div.sk-serial::before {content: \"\";position: absolute;border-left: 1px solid gray;box-sizing: border-box;top: 0;bottom: 0;left: 50%;z-index: 0;}#sk-container-id-1 div.sk-serial {display: flex;flex-direction: column;align-items: center;background-color: white;padding-right: 0.2em;padding-left: 0.2em;position: relative;}#sk-container-id-1 div.sk-item {position: relative;z-index: 1;}#sk-container-id-1 div.sk-parallel {display: flex;align-items: stretch;justify-content: center;background-color: white;position: relative;}#sk-container-id-1 div.sk-item::before, #sk-container-id-1 div.sk-parallel-item::before {content: \"\";position: absolute;border-left: 1px solid gray;box-sizing: border-box;top: 0;bottom: 0;left: 50%;z-index: -1;}#sk-container-id-1 div.sk-parallel-item {display: flex;flex-direction: column;z-index: 1;position: relative;background-color: white;}#sk-container-id-1 div.sk-parallel-item:first-child::after {align-self: flex-end;width: 50%;}#sk-container-id-1 div.sk-parallel-item:last-child::after {align-self: flex-start;width: 50%;}#sk-container-id-1 div.sk-parallel-item:only-child::after {width: 0;}#sk-container-id-1 div.sk-dashed-wrapped {border: 1px dashed gray;margin: 0 0.4em 0.5em 0.4em;box-sizing: border-box;padding-bottom: 0.4em;background-color: white;}#sk-container-id-1 div.sk-label label {font-family: monospace;font-weight: bold;display: inline-block;line-height: 1.2em;}#sk-container-id-1 div.sk-label-container {text-align: center;}#sk-container-id-1 div.sk-container {/* jupyter's `normalize.less` sets `[hidden] { display: none; }` but bootstrap.min.css set `[hidden] { display: none !important; }` so we also need the `!important` here to be able to override the default hidden behavior on the sphinx rendered scikit-learn.org. See: https://github.com/scikit-learn/scikit-learn/issues/21755 */display: inline-block !important;position: relative;}#sk-container-id-1 div.sk-text-repr-fallback {display: none;}</style><div id=\"sk-container-id-1\" class=\"sk-top-container\"><div class=\"sk-text-repr-fallback\"><pre>LogisticRegression(solver=&#x27;liblinear&#x27;)</pre><b>In a Jupyter environment, please rerun this cell to show the HTML representation or trust the notebook. <br />On GitHub, the HTML representation is unable to render, please try loading this page with nbviewer.org.</b></div><div class=\"sk-container\" hidden><div class=\"sk-item\"><div class=\"sk-estimator sk-toggleable\"><input class=\"sk-toggleable__control sk-hidden--visually\" id=\"sk-estimator-id-1\" type=\"checkbox\" checked><label for=\"sk-estimator-id-1\" class=\"sk-toggleable__label sk-toggleable__label-arrow\">LogisticRegression</label><div class=\"sk-toggleable__content\"><pre>LogisticRegression(solver=&#x27;liblinear&#x27;)</pre></div></div></div></div></div>"
      ],
      "text/plain": [
       "LogisticRegression(solver='liblinear')"
      ]
     },
     "execution_count": 14,
     "metadata": {},
     "output_type": "execute_result"
    }
   ],
   "source": [
    "log_reg = LogisticRegression(solver='liblinear')\n",
    "log_reg.fit(X_train.values, y_train.values)"
   ]
  },
  {
   "cell_type": "markdown",
   "id": "4caca5bc-b08b-4c5c-8262-f4a773cd9db8",
   "metadata": {},
   "source": [
    "## Trained Model\n",
    "\n",
    "After all the preparation we now get to the component build. To this point we have created the trained model as part of discovery. \n",
    "\n",
    "### Register Model\n",
    "\n",
    "With this train model we add it to the trained model registry using either the singular default name or an optional unique name. This is used when selecting an appropriate model predict against a given data set. "
   ]
  },
  {
   "cell_type": "code",
   "execution_count": 15,
   "id": "82843934-b76f-4389-9db1-3c39b77ce727",
   "metadata": {},
   "outputs": [],
   "source": [
    "ml.add_trained_model(trained_model=log_reg)"
   ]
  },
  {
   "cell_type": "markdown",
   "id": "0a3af07c-49e5-4111-8a29-3dcf3fedf86f",
   "metadata": {},
   "source": [
    "### Predict Model\n",
    "We are now ready to receive unlabeled data to predict its classification. Each run of the pipeline will produce an ordered set of predictions relating to the features given. "
   ]
  },
  {
   "cell_type": "code",
   "execution_count": 16,
   "id": "af2663fa-65dd-4fb5-ae1b-f4fcc1af1d9e",
   "metadata": {},
   "outputs": [],
   "source": [
    "y_pred = ml.intent_model.label_predict(X_test)"
   ]
  },
  {
   "cell_type": "code",
   "execution_count": 17,
   "id": "f8399687-ed14-4f99-af79-81707189cece",
   "metadata": {},
   "outputs": [
    {
     "data": {
      "text/plain": [
       "0.897"
      ]
     },
     "execution_count": 17,
     "metadata": {},
     "output_type": "execute_result"
    }
   ],
   "source": [
    "# classification rate\n",
    "np.around(np.mean(y_test.to_numpy()==y_pred['predict'].to_numpy()),3)"
   ]
  },
  {
   "cell_type": "markdown",
   "id": "dd788729-b9b2-4498-b470-9d565897b70b",
   "metadata": {},
   "source": [
    "### Predict Model with Reference\n",
    "In addition a unique reference can be passed so that each prediction aligns with that unique reference identifier."
   ]
  },
  {
   "cell_type": "code",
   "execution_count": 18,
   "id": "d855c06b-d1bb-4599-a1fa-be511a48746b",
   "metadata": {},
   "outputs": [],
   "source": [
    "# add the reference id to the predict frame\n",
    "df_ref = df['ref_id'].iloc[X_test.index].to_frame()\n",
    "X_test = pd.concat([df_ref, X_test], axis=1)"
   ]
  },
  {
   "cell_type": "code",
   "execution_count": 19,
   "id": "36e4a8da-43e4-4cac-af70-9a5c1917e57c",
   "metadata": {},
   "outputs": [],
   "source": [
    "y_pred = ml.intent_model.label_predict(X_test, id_header='ref_id')"
   ]
  },
  {
   "cell_type": "code",
   "execution_count": 20,
   "id": "798c18ad-bae5-4312-9af3-7ac4952e2f19",
   "metadata": {},
   "outputs": [
    {
     "data": {
      "text/html": [
       "<div>\n",
       "<style scoped>\n",
       "    .dataframe tbody tr th:only-of-type {\n",
       "        vertical-align: middle;\n",
       "    }\n",
       "\n",
       "    .dataframe tbody tr th {\n",
       "        vertical-align: top;\n",
       "    }\n",
       "\n",
       "    .dataframe thead th {\n",
       "        text-align: right;\n",
       "    }\n",
       "</style>\n",
       "<table border=\"1\" class=\"dataframe\">\n",
       "  <thead>\n",
       "    <tr style=\"text-align: right;\">\n",
       "      <th></th>\n",
       "      <th>ref_id</th>\n",
       "      <th>predict</th>\n",
       "    </tr>\n",
       "  </thead>\n",
       "  <tbody>\n",
       "    <tr>\n",
       "      <th>521</th>\n",
       "      <td>987001</td>\n",
       "      <td>1</td>\n",
       "    </tr>\n",
       "    <tr>\n",
       "      <th>737</th>\n",
       "      <td>981602</td>\n",
       "      <td>1</td>\n",
       "    </tr>\n",
       "    <tr>\n",
       "      <th>740</th>\n",
       "      <td>404166</td>\n",
       "      <td>0</td>\n",
       "    </tr>\n",
       "    <tr>\n",
       "      <th>660</th>\n",
       "      <td>284179</td>\n",
       "      <td>1</td>\n",
       "    </tr>\n",
       "    <tr>\n",
       "      <th>411</th>\n",
       "      <td>143495</td>\n",
       "      <td>1</td>\n",
       "    </tr>\n",
       "  </tbody>\n",
       "</table>\n",
       "</div>"
      ],
      "text/plain": [
       "     ref_id  predict\n",
       "521  987001        1\n",
       "737  981602        1\n",
       "740  404166        0\n",
       "660  284179        1\n",
       "411  143495        1"
      ]
     },
     "execution_count": 20,
     "metadata": {},
     "output_type": "execute_result"
    }
   ],
   "source": [
    "y_pred.head()"
   ]
  },
  {
   "cell_type": "code",
   "execution_count": null,
   "id": "b92743e2-62fb-4920-b8f0-1d4941ad885e",
   "metadata": {},
   "outputs": [],
   "source": []
  }
 ],
 "metadata": {
  "kernelspec": {
   "display_name": "Python 3 (ipykernel)",
   "language": "python",
   "name": "python3"
  },
  "language_info": {
   "codemirror_mode": {
    "name": "ipython",
    "version": 3
   },
   "file_extension": ".py",
   "mimetype": "text/x-python",
   "name": "python",
   "nbconvert_exporter": "python",
   "pygments_lexer": "ipython3",
   "version": "3.10.8"
  }
 },
 "nbformat": 4,
 "nbformat_minor": 5
}
