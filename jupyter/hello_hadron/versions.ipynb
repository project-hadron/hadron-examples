{
 "cells": [
  {
   "cell_type": "code",
   "execution_count": 1,
   "id": "2ee8dd45",
   "metadata": {},
   "outputs": [
    {
     "name": "stdout",
     "output_type": "stream",
     "text": [
      "aistac-foundation       : 2.13.5\n",
      "discovery-transition-ds : 4.5.3\n",
      "discovery-connectors    : 1.2.0\n"
     ]
    }
   ],
   "source": [
    "import aistac\n",
    "import ds_discovery\n",
    "import ds_connectors\n",
    "print(f'aistac-foundation       : {aistac.__version__}')\n",
    "print(f'discovery-transition-ds : {ds_discovery.__version__}')\n",
    "print(f'discovery-connectors    : {ds_connectors.__version__}')"
   ]
  },
  {
   "cell_type": "code",
   "execution_count": null,
   "id": "990cf324",
   "metadata": {},
   "outputs": [],
   "source": []
  }
 ],
 "metadata": {
  "kernelspec": {
   "display_name": "Python 3 (ipykernel)",
   "language": "python",
   "name": "python3"
  },
  "language_info": {
   "codemirror_mode": {
    "name": "ipython",
    "version": 3
   },
   "file_extension": ".py",
   "mimetype": "text/x-python",
   "name": "python",
   "nbconvert_exporter": "python",
   "pygments_lexer": "ipython3",
   "version": "3.10.8"
  }
 },
 "nbformat": 4,
 "nbformat_minor": 5
}
