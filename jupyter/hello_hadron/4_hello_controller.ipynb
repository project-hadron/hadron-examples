{
 "cells": [
  {
   "cell_type": "markdown",
   "metadata": {},
   "source": [
    "Darryl Oatridge, August 2022"
   ]
  },
  {
   "cell_type": "code",
   "execution_count": 1,
   "metadata": {},
   "outputs": [],
   "source": [
    "import os"
   ]
  },
  {
   "cell_type": "code",
   "execution_count": 2,
   "metadata": {},
   "outputs": [],
   "source": [
    "os.environ['HADRON_PM_PATH'] = '0_hello_meta/demo/contracts'\n",
    "os.environ['HADRON_DEFAULT_PATH'] = '0_hello_meta/demo/data'"
   ]
  },
  {
   "cell_type": "markdown",
   "metadata": {},
   "source": [
    "## Controller\n",
    "The Controller is a unique component that independantly orchestrates the components registered to it. It executes the components Domain Contract and not its code. Domain Contracts belonging to a Controller should be in the same path location as the Controllers Domain Contract.  The Controller executes the registered Controllers Domain Contracts in accordance to the instructions given to it when the ``run_components`` is executed. The Controller orchestrates how those components should run with the components being independant in their actions and therefore a separation of concerns. With Controller you do not need to give it a name as this is assumed in each folder containing Domain Contracts for this set of components, known as a Domain Contract Cluster.  This allows us the entry point to interogate the Controller and its components.\n",
    "\n",
    " "
   ]
  },
  {
   "cell_type": "code",
   "execution_count": 3,
   "metadata": {},
   "outputs": [],
   "source": [
    "from ds_discovery import Controller"
   ]
  },
  {
   "cell_type": "code",
   "execution_count": 4,
   "metadata": {},
   "outputs": [],
   "source": [
    "controller = Controller.from_env(has_contract=False)"
   ]
  },
  {
   "cell_type": "markdown",
   "metadata": {},
   "source": [
    "### Add Components\n",
    "\n",
    "Now we have the empty Controller we need to register or add which components make up this Controller, it should be noted that the Domain Contracts for each component must be in the same folder of the Controller Domain Contract.\n",
    "\n",
    "To add a component we use the intent method specific for that component type in this case `model_transition` for `hello_tr` and `model_wrangle` for `hello_wr`."
   ]
  },
  {
   "cell_type": "code",
   "execution_count": 5,
   "metadata": {},
   "outputs": [],
   "source": [
    "controller.intent_model.transition(canonical=0, task_name='hello_tr', intent_level='hw_transition')"
   ]
  },
  {
   "cell_type": "code",
   "execution_count": 6,
   "metadata": {},
   "outputs": [],
   "source": [
    "controller.intent_model.wrangle(canonical=0, task_name='hello_wr', intent_level='hw_wrangle')"
   ]
  },
  {
   "cell_type": "markdown",
   "metadata": {},
   "source": [
    "### Report\n",
    "\n",
    "Using the Task report we can check the components have been added.  "
   ]
  },
  {
   "cell_type": "code",
   "execution_count": 7,
   "metadata": {},
   "outputs": [
    {
     "data": {
      "text/html": [
       "<style type=\"text/css\">\n",
       "#T_fe6c6 th {\n",
       "  font-size: 120%;\n",
       "  text-align: center;\n",
       "}\n",
       "#T_fe6c6 .row_heading {\n",
       "  display: none;;\n",
       "}\n",
       "#T_fe6c6  .blank {\n",
       "  display: none;;\n",
       "}\n",
       "#T_fe6c6_row0_col0, #T_fe6c6_row1_col0 {\n",
       "  text-align: left;\n",
       "  font-weight: bold;\n",
       "  font-size: 120%;\n",
       "}\n",
       "#T_fe6c6_row0_col1, #T_fe6c6_row0_col2, #T_fe6c6_row0_col3, #T_fe6c6_row0_col4, #T_fe6c6_row0_col5, #T_fe6c6_row1_col1, #T_fe6c6_row1_col2, #T_fe6c6_row1_col3, #T_fe6c6_row1_col4, #T_fe6c6_row1_col5 {\n",
       "  text-align: left;\n",
       "}\n",
       "</style>\n",
       "<table id=\"T_fe6c6\">\n",
       "  <thead>\n",
       "    <tr>\n",
       "      <th class=\"blank level0\" >&nbsp;</th>\n",
       "      <th id=\"T_fe6c6_level0_col0\" class=\"col_heading level0 col0\" >level</th>\n",
       "      <th id=\"T_fe6c6_level0_col1\" class=\"col_heading level0 col1\" >order</th>\n",
       "      <th id=\"T_fe6c6_level0_col2\" class=\"col_heading level0 col2\" >component</th>\n",
       "      <th id=\"T_fe6c6_level0_col3\" class=\"col_heading level0 col3\" >task</th>\n",
       "      <th id=\"T_fe6c6_level0_col4\" class=\"col_heading level0 col4\" >parameters</th>\n",
       "      <th id=\"T_fe6c6_level0_col5\" class=\"col_heading level0 col5\" >creator</th>\n",
       "    </tr>\n",
       "  </thead>\n",
       "  <tbody>\n",
       "    <tr>\n",
       "      <th id=\"T_fe6c6_level0_row0\" class=\"row_heading level0 row0\" >0</th>\n",
       "      <td id=\"T_fe6c6_row0_col0\" class=\"data row0 col0\" >hw_transition</td>\n",
       "      <td id=\"T_fe6c6_row0_col1\" class=\"data row0 col1\" >0</td>\n",
       "      <td id=\"T_fe6c6_row0_col2\" class=\"data row0 col2\" >Transition</td>\n",
       "      <td id=\"T_fe6c6_row0_col3\" class=\"data row0 col3\" >'hello_tr'</td>\n",
       "      <td id=\"T_fe6c6_row0_col4\" class=\"data row0 col4\" >[]</td>\n",
       "      <td id=\"T_fe6c6_row0_col5\" class=\"data row0 col5\" >doatridge</td>\n",
       "    </tr>\n",
       "    <tr>\n",
       "      <th id=\"T_fe6c6_level0_row1\" class=\"row_heading level0 row1\" >1</th>\n",
       "      <td id=\"T_fe6c6_row1_col0\" class=\"data row1 col0\" >hw_wrangle</td>\n",
       "      <td id=\"T_fe6c6_row1_col1\" class=\"data row1 col1\" >0</td>\n",
       "      <td id=\"T_fe6c6_row1_col2\" class=\"data row1 col2\" >Wrangle</td>\n",
       "      <td id=\"T_fe6c6_row1_col3\" class=\"data row1 col3\" >'hello_wr'</td>\n",
       "      <td id=\"T_fe6c6_row1_col4\" class=\"data row1 col4\" >[]</td>\n",
       "      <td id=\"T_fe6c6_row1_col5\" class=\"data row1 col5\" >doatridge</td>\n",
       "    </tr>\n",
       "  </tbody>\n",
       "</table>\n"
      ],
      "text/plain": [
       "<pandas.io.formats.style.Styler at 0x7fdb6ddfe770>"
      ]
     },
     "execution_count": 7,
     "metadata": {},
     "output_type": "execute_result"
    }
   ],
   "source": [
    "controller.report_tasks()"
   ]
  },
  {
   "cell_type": "markdown",
   "metadata": {},
   "source": [
    "As with all components the Controller executes the components in the order given.  By using the Controller's special Run Book we are given considerabily more flexability in the order and behaviour of each component and how it interacts with others.  \n",
    "\n",
    "As good practice a Run Book should always be created for each Controller as this provides better transparency into how the components run."
   ]
  },
  {
   "cell_type": "code",
   "execution_count": 8,
   "metadata": {},
   "outputs": [],
   "source": [
    "run_book = [\n",
    "    controller.runbook2dict(task='hw_transition'),\n",
    "    controller.runbook2dict(task='hw_wrangle'),\n",
    "]\n",
    "controller.add_run_book(run_levels=run_book)"
   ]
  },
  {
   "cell_type": "markdown",
   "metadata": {},
   "source": [
    "### Run Controller Pipeline\n",
    "To run the controller we execute `run_controller` this is a special method and replaces `run_component_pipeline`, common to other components, adding extra features to enable the control of the registared components. This is the only method you can use to run the Controller and execute its registared components. It is worth noting it is the components that produce the outcome of their collective objectives or tasks and not the Controller.  The Controller orchestrates how those components should run with the components being independant in their actions and therefore a separation of concerns.  "
   ]
  },
  {
   "cell_type": "code",
   "execution_count": 9,
   "metadata": {
    "scrolled": false
   },
   "outputs": [],
   "source": [
    "controller.run_controller()"
   ]
  },
  {
   "cell_type": "markdown",
   "metadata": {},
   "source": [
    "The Controller is a powerful tool and should be investigated further to understand all its options.  The Run Book can be used to provide a set of instructions on how each component recieves its source and persists, be it to another component or as an external data set.  The `run_controller` has useful tools to monitor changes in incoming data and provide a run report of how all the components ran.\n",
    "\n",
    "-------------------------------\n",
    "\n",
    "In the section below we will demonstrate a couple of these features."
   ]
  },
  {
   "cell_type": "markdown",
   "metadata": {},
   "source": [
    "One of the most useful parameters that comes with the `run_controller` is the `run_cycle_report` that saves off a run report, that provides the run time of the controller and the components there in."
   ]
  },
  {
   "cell_type": "code",
   "execution_count": 10,
   "metadata": {},
   "outputs": [
    {
     "data": {
      "text/html": [
       "<div>\n",
       "<style scoped>\n",
       "    .dataframe tbody tr th:only-of-type {\n",
       "        vertical-align: middle;\n",
       "    }\n",
       "\n",
       "    .dataframe tbody tr th {\n",
       "        vertical-align: top;\n",
       "    }\n",
       "\n",
       "    .dataframe thead th {\n",
       "        text-align: right;\n",
       "    }\n",
       "</style>\n",
       "<table border=\"1\" class=\"dataframe\">\n",
       "  <thead>\n",
       "    <tr style=\"text-align: right;\">\n",
       "      <th></th>\n",
       "      <th>time</th>\n",
       "      <th>text</th>\n",
       "    </tr>\n",
       "  </thead>\n",
       "  <tbody>\n",
       "    <tr>\n",
       "      <th>0</th>\n",
       "      <td>2022-12-04 11:25:46.797362</td>\n",
       "      <td>start run-cycle 0</td>\n",
       "    </tr>\n",
       "    <tr>\n",
       "      <th>1</th>\n",
       "      <td>2022-12-04 11:25:46.798716</td>\n",
       "      <td>start task cycle 0</td>\n",
       "    </tr>\n",
       "    <tr>\n",
       "      <th>2</th>\n",
       "      <td>2022-12-04 11:25:46.800535</td>\n",
       "      <td>running hw_transition</td>\n",
       "    </tr>\n",
       "    <tr>\n",
       "      <th>3</th>\n",
       "      <td>2022-12-04 11:25:48.871490</td>\n",
       "      <td>canonical shape is (1309, 10)</td>\n",
       "    </tr>\n",
       "    <tr>\n",
       "      <th>4</th>\n",
       "      <td>2022-12-04 11:25:48.874526</td>\n",
       "      <td>running hw_wrangle</td>\n",
       "    </tr>\n",
       "    <tr>\n",
       "      <th>5</th>\n",
       "      <td>2022-12-04 11:25:48.927769</td>\n",
       "      <td>canonical shape is (1309, 13)</td>\n",
       "    </tr>\n",
       "    <tr>\n",
       "      <th>6</th>\n",
       "      <td>2022-12-04 11:25:48.929326</td>\n",
       "      <td>tasks complete</td>\n",
       "    </tr>\n",
       "    <tr>\n",
       "      <th>7</th>\n",
       "      <td>2022-12-04 11:25:48.930743</td>\n",
       "      <td>end of report</td>\n",
       "    </tr>\n",
       "  </tbody>\n",
       "</table>\n",
       "</div>"
      ],
      "text/plain": [
       "                         time                           text\n",
       "0  2022-12-04 11:25:46.797362              start run-cycle 0\n",
       "1  2022-12-04 11:25:46.798716             start task cycle 0\n",
       "2  2022-12-04 11:25:46.800535          running hw_transition\n",
       "3  2022-12-04 11:25:48.871490  canonical shape is (1309, 10)\n",
       "4  2022-12-04 11:25:48.874526             running hw_wrangle\n",
       "5  2022-12-04 11:25:48.927769  canonical shape is (1309, 13)\n",
       "6  2022-12-04 11:25:48.929326                 tasks complete\n",
       "7  2022-12-04 11:25:48.930743                  end of report"
      ]
     },
     "execution_count": 10,
     "metadata": {},
     "output_type": "execute_result"
    }
   ],
   "source": [
    "controller.run_controller(run_cycle_report='cycle_report.csv')\n",
    "controller.load_canonical(connector_name='run_cycle_report')"
   ]
  },
  {
   "cell_type": "markdown",
   "metadata": {},
   "source": [
    "Now we have the `run_cycle_report` we can observe the other parameters. In this case we are adding the `run_time` parameter that runs the controllers components for a time period of three seconds"
   ]
  },
  {
   "cell_type": "code",
   "execution_count": 11,
   "metadata": {
    "scrolled": true
   },
   "outputs": [
    {
     "data": {
      "text/html": [
       "<div>\n",
       "<style scoped>\n",
       "    .dataframe tbody tr th:only-of-type {\n",
       "        vertical-align: middle;\n",
       "    }\n",
       "\n",
       "    .dataframe tbody tr th {\n",
       "        vertical-align: top;\n",
       "    }\n",
       "\n",
       "    .dataframe thead th {\n",
       "        text-align: right;\n",
       "    }\n",
       "</style>\n",
       "<table border=\"1\" class=\"dataframe\">\n",
       "  <thead>\n",
       "    <tr style=\"text-align: right;\">\n",
       "      <th></th>\n",
       "      <th>time</th>\n",
       "      <th>text</th>\n",
       "    </tr>\n",
       "  </thead>\n",
       "  <tbody>\n",
       "    <tr>\n",
       "      <th>0</th>\n",
       "      <td>2022-12-04 11:25:48.954783</td>\n",
       "      <td>start run-cycle 0</td>\n",
       "    </tr>\n",
       "    <tr>\n",
       "      <th>1</th>\n",
       "      <td>2022-12-04 11:25:48.955975</td>\n",
       "      <td>start task cycle 0</td>\n",
       "    </tr>\n",
       "    <tr>\n",
       "      <th>2</th>\n",
       "      <td>2022-12-04 11:25:48.957836</td>\n",
       "      <td>running hw_transition</td>\n",
       "    </tr>\n",
       "    <tr>\n",
       "      <th>3</th>\n",
       "      <td>2022-12-04 11:25:51.724604</td>\n",
       "      <td>canonical shape is (1309, 10)</td>\n",
       "    </tr>\n",
       "    <tr>\n",
       "      <th>4</th>\n",
       "      <td>2022-12-04 11:25:51.726417</td>\n",
       "      <td>running hw_wrangle</td>\n",
       "    </tr>\n",
       "    <tr>\n",
       "      <th>5</th>\n",
       "      <td>2022-12-04 11:25:51.763047</td>\n",
       "      <td>canonical shape is (1309, 13)</td>\n",
       "    </tr>\n",
       "    <tr>\n",
       "      <th>6</th>\n",
       "      <td>2022-12-04 11:25:51.764218</td>\n",
       "      <td>tasks complete</td>\n",
       "    </tr>\n",
       "    <tr>\n",
       "      <th>7</th>\n",
       "      <td>2022-12-04 11:25:51.765259</td>\n",
       "      <td>sleep for 1 seconds</td>\n",
       "    </tr>\n",
       "    <tr>\n",
       "      <th>8</th>\n",
       "      <td>2022-12-04 11:25:52.766775</td>\n",
       "      <td>start run-cycle 1</td>\n",
       "    </tr>\n",
       "    <tr>\n",
       "      <th>9</th>\n",
       "      <td>2022-12-04 11:25:52.768569</td>\n",
       "      <td>start task cycle 0</td>\n",
       "    </tr>\n",
       "    <tr>\n",
       "      <th>10</th>\n",
       "      <td>2022-12-04 11:25:52.770369</td>\n",
       "      <td>running hw_transition</td>\n",
       "    </tr>\n",
       "    <tr>\n",
       "      <th>11</th>\n",
       "      <td>2022-12-04 11:25:54.381403</td>\n",
       "      <td>canonical shape is (1309, 10)</td>\n",
       "    </tr>\n",
       "    <tr>\n",
       "      <th>12</th>\n",
       "      <td>2022-12-04 11:25:54.383233</td>\n",
       "      <td>running hw_wrangle</td>\n",
       "    </tr>\n",
       "    <tr>\n",
       "      <th>13</th>\n",
       "      <td>2022-12-04 11:25:54.423747</td>\n",
       "      <td>canonical shape is (1309, 13)</td>\n",
       "    </tr>\n",
       "    <tr>\n",
       "      <th>14</th>\n",
       "      <td>2022-12-04 11:25:54.425186</td>\n",
       "      <td>tasks complete</td>\n",
       "    </tr>\n",
       "    <tr>\n",
       "      <th>15</th>\n",
       "      <td>2022-12-04 11:25:54.426934</td>\n",
       "      <td>end of report</td>\n",
       "    </tr>\n",
       "  </tbody>\n",
       "</table>\n",
       "</div>"
      ],
      "text/plain": [
       "                          time                           text\n",
       "0   2022-12-04 11:25:48.954783              start run-cycle 0\n",
       "1   2022-12-04 11:25:48.955975             start task cycle 0\n",
       "2   2022-12-04 11:25:48.957836          running hw_transition\n",
       "3   2022-12-04 11:25:51.724604  canonical shape is (1309, 10)\n",
       "4   2022-12-04 11:25:51.726417             running hw_wrangle\n",
       "5   2022-12-04 11:25:51.763047  canonical shape is (1309, 13)\n",
       "6   2022-12-04 11:25:51.764218                 tasks complete\n",
       "7   2022-12-04 11:25:51.765259            sleep for 1 seconds\n",
       "8   2022-12-04 11:25:52.766775              start run-cycle 1\n",
       "9   2022-12-04 11:25:52.768569             start task cycle 0\n",
       "10  2022-12-04 11:25:52.770369          running hw_transition\n",
       "11  2022-12-04 11:25:54.381403  canonical shape is (1309, 10)\n",
       "12  2022-12-04 11:25:54.383233             running hw_wrangle\n",
       "13  2022-12-04 11:25:54.423747  canonical shape is (1309, 13)\n",
       "14  2022-12-04 11:25:54.425186                 tasks complete\n",
       "15  2022-12-04 11:25:54.426934                  end of report"
      ]
     },
     "execution_count": 11,
     "metadata": {},
     "output_type": "execute_result"
    }
   ],
   "source": [
    "controller.run_controller(run_time=3, run_cycle_report='cycle_report.csv')\n",
    "controller.load_canonical(connector_name='run_cycle_report')"
   ]
  },
  {
   "cell_type": "markdown",
   "metadata": {},
   "source": [
    "In this example we had the parameters `repeat` and `sleep` where the first defines the number of times to repeat the  component cycleand the second, and the number of seconds to pause between each cycle."
   ]
  },
  {
   "cell_type": "code",
   "execution_count": 12,
   "metadata": {
    "scrolled": true
   },
   "outputs": [
    {
     "data": {
      "text/html": [
       "<div>\n",
       "<style scoped>\n",
       "    .dataframe tbody tr th:only-of-type {\n",
       "        vertical-align: middle;\n",
       "    }\n",
       "\n",
       "    .dataframe tbody tr th {\n",
       "        vertical-align: top;\n",
       "    }\n",
       "\n",
       "    .dataframe thead th {\n",
       "        text-align: right;\n",
       "    }\n",
       "</style>\n",
       "<table border=\"1\" class=\"dataframe\">\n",
       "  <thead>\n",
       "    <tr style=\"text-align: right;\">\n",
       "      <th></th>\n",
       "      <th>time</th>\n",
       "      <th>text</th>\n",
       "    </tr>\n",
       "  </thead>\n",
       "  <tbody>\n",
       "    <tr>\n",
       "      <th>0</th>\n",
       "      <td>2022-12-04 11:25:54.447504</td>\n",
       "      <td>start run-cycle 0</td>\n",
       "    </tr>\n",
       "    <tr>\n",
       "      <th>1</th>\n",
       "      <td>2022-12-04 11:25:54.449032</td>\n",
       "      <td>start task cycle 0</td>\n",
       "    </tr>\n",
       "    <tr>\n",
       "      <th>2</th>\n",
       "      <td>2022-12-04 11:25:54.451115</td>\n",
       "      <td>running hw_transition</td>\n",
       "    </tr>\n",
       "    <tr>\n",
       "      <th>3</th>\n",
       "      <td>2022-12-04 11:25:56.220527</td>\n",
       "      <td>canonical shape is (1309, 10)</td>\n",
       "    </tr>\n",
       "    <tr>\n",
       "      <th>4</th>\n",
       "      <td>2022-12-04 11:25:56.222606</td>\n",
       "      <td>running hw_wrangle</td>\n",
       "    </tr>\n",
       "    <tr>\n",
       "      <th>5</th>\n",
       "      <td>2022-12-04 11:25:56.274872</td>\n",
       "      <td>canonical shape is (1309, 13)</td>\n",
       "    </tr>\n",
       "    <tr>\n",
       "      <th>6</th>\n",
       "      <td>2022-12-04 11:25:56.276414</td>\n",
       "      <td>tasks complete</td>\n",
       "    </tr>\n",
       "    <tr>\n",
       "      <th>7</th>\n",
       "      <td>2022-12-04 11:25:56.277962</td>\n",
       "      <td>sleep for 3 seconds</td>\n",
       "    </tr>\n",
       "    <tr>\n",
       "      <th>8</th>\n",
       "      <td>2022-12-04 11:25:59.282215</td>\n",
       "      <td>start task cycle 1</td>\n",
       "    </tr>\n",
       "    <tr>\n",
       "      <th>9</th>\n",
       "      <td>2022-12-04 11:25:59.284029</td>\n",
       "      <td>running hw_transition</td>\n",
       "    </tr>\n",
       "    <tr>\n",
       "      <th>10</th>\n",
       "      <td>2022-12-04 11:26:01.311120</td>\n",
       "      <td>canonical shape is (1309, 10)</td>\n",
       "    </tr>\n",
       "    <tr>\n",
       "      <th>11</th>\n",
       "      <td>2022-12-04 11:26:01.314266</td>\n",
       "      <td>running hw_wrangle</td>\n",
       "    </tr>\n",
       "    <tr>\n",
       "      <th>12</th>\n",
       "      <td>2022-12-04 11:26:01.367129</td>\n",
       "      <td>canonical shape is (1309, 13)</td>\n",
       "    </tr>\n",
       "    <tr>\n",
       "      <th>13</th>\n",
       "      <td>2022-12-04 11:26:01.368633</td>\n",
       "      <td>tasks complete</td>\n",
       "    </tr>\n",
       "    <tr>\n",
       "      <th>14</th>\n",
       "      <td>2022-12-04 11:26:01.370309</td>\n",
       "      <td>end of report</td>\n",
       "    </tr>\n",
       "  </tbody>\n",
       "</table>\n",
       "</div>"
      ],
      "text/plain": [
       "                          time                           text\n",
       "0   2022-12-04 11:25:54.447504              start run-cycle 0\n",
       "1   2022-12-04 11:25:54.449032             start task cycle 0\n",
       "2   2022-12-04 11:25:54.451115          running hw_transition\n",
       "3   2022-12-04 11:25:56.220527  canonical shape is (1309, 10)\n",
       "4   2022-12-04 11:25:56.222606             running hw_wrangle\n",
       "5   2022-12-04 11:25:56.274872  canonical shape is (1309, 13)\n",
       "6   2022-12-04 11:25:56.276414                 tasks complete\n",
       "7   2022-12-04 11:25:56.277962            sleep for 3 seconds\n",
       "8   2022-12-04 11:25:59.282215             start task cycle 1\n",
       "9   2022-12-04 11:25:59.284029          running hw_transition\n",
       "10  2022-12-04 11:26:01.311120  canonical shape is (1309, 10)\n",
       "11  2022-12-04 11:26:01.314266             running hw_wrangle\n",
       "12  2022-12-04 11:26:01.367129  canonical shape is (1309, 13)\n",
       "13  2022-12-04 11:26:01.368633                 tasks complete\n",
       "14  2022-12-04 11:26:01.370309                  end of report"
      ]
     },
     "execution_count": 12,
     "metadata": {},
     "output_type": "execute_result"
    }
   ],
   "source": [
    "controller.run_controller(repeat=2, sleep=3, run_cycle_report='cycle_report.csv')\n",
    "controller.load_canonical(connector_name='run_cycle_report')"
   ]
  },
  {
   "cell_type": "markdown",
   "metadata": {},
   "source": [
    "Finally we use the `source_check_uri` parameter as a pointer to and input source to watch for changes."
   ]
  },
  {
   "cell_type": "code",
   "execution_count": 13,
   "metadata": {
    "scrolled": true
   },
   "outputs": [
    {
     "data": {
      "text/html": [
       "<div>\n",
       "<style scoped>\n",
       "    .dataframe tbody tr th:only-of-type {\n",
       "        vertical-align: middle;\n",
       "    }\n",
       "\n",
       "    .dataframe tbody tr th {\n",
       "        vertical-align: top;\n",
       "    }\n",
       "\n",
       "    .dataframe thead th {\n",
       "        text-align: right;\n",
       "    }\n",
       "</style>\n",
       "<table border=\"1\" class=\"dataframe\">\n",
       "  <thead>\n",
       "    <tr style=\"text-align: right;\">\n",
       "      <th></th>\n",
       "      <th>time</th>\n",
       "      <th>text</th>\n",
       "    </tr>\n",
       "  </thead>\n",
       "  <tbody>\n",
       "    <tr>\n",
       "      <th>0</th>\n",
       "      <td>2022-12-04 11:26:01.399082</td>\n",
       "      <td>start run-cycle 0</td>\n",
       "    </tr>\n",
       "    <tr>\n",
       "      <th>1</th>\n",
       "      <td>2022-12-04 11:26:01.400208</td>\n",
       "      <td>start task cycle 0</td>\n",
       "    </tr>\n",
       "    <tr>\n",
       "      <th>2</th>\n",
       "      <td>2022-12-04 11:26:06.909143</td>\n",
       "      <td>running hw_transition</td>\n",
       "    </tr>\n",
       "    <tr>\n",
       "      <th>3</th>\n",
       "      <td>2022-12-04 11:26:08.498987</td>\n",
       "      <td>canonical shape is (1309, 10)</td>\n",
       "    </tr>\n",
       "    <tr>\n",
       "      <th>4</th>\n",
       "      <td>2022-12-04 11:26:08.500951</td>\n",
       "      <td>running hw_wrangle</td>\n",
       "    </tr>\n",
       "    <tr>\n",
       "      <th>5</th>\n",
       "      <td>2022-12-04 11:26:08.536517</td>\n",
       "      <td>canonical shape is (1309, 13)</td>\n",
       "    </tr>\n",
       "    <tr>\n",
       "      <th>6</th>\n",
       "      <td>2022-12-04 11:26:08.538500</td>\n",
       "      <td>tasks complete</td>\n",
       "    </tr>\n",
       "    <tr>\n",
       "      <th>7</th>\n",
       "      <td>2022-12-04 11:26:08.539621</td>\n",
       "      <td>start task cycle 1</td>\n",
       "    </tr>\n",
       "    <tr>\n",
       "      <th>8</th>\n",
       "      <td>2022-12-04 11:26:12.990562</td>\n",
       "      <td>Source has not changed</td>\n",
       "    </tr>\n",
       "    <tr>\n",
       "      <th>9</th>\n",
       "      <td>2022-12-04 11:26:12.992190</td>\n",
       "      <td>start task cycle 2</td>\n",
       "    </tr>\n",
       "    <tr>\n",
       "      <th>10</th>\n",
       "      <td>2022-12-04 11:26:17.045159</td>\n",
       "      <td>Source has not changed</td>\n",
       "    </tr>\n",
       "    <tr>\n",
       "      <th>11</th>\n",
       "      <td>2022-12-04 11:26:17.047085</td>\n",
       "      <td>end of report</td>\n",
       "    </tr>\n",
       "  </tbody>\n",
       "</table>\n",
       "</div>"
      ],
      "text/plain": [
       "                          time                           text\n",
       "0   2022-12-04 11:26:01.399082              start run-cycle 0\n",
       "1   2022-12-04 11:26:01.400208             start task cycle 0\n",
       "2   2022-12-04 11:26:06.909143          running hw_transition\n",
       "3   2022-12-04 11:26:08.498987  canonical shape is (1309, 10)\n",
       "4   2022-12-04 11:26:08.500951             running hw_wrangle\n",
       "5   2022-12-04 11:26:08.536517  canonical shape is (1309, 13)\n",
       "6   2022-12-04 11:26:08.538500                 tasks complete\n",
       "7   2022-12-04 11:26:08.539621             start task cycle 1\n",
       "8   2022-12-04 11:26:12.990562         Source has not changed\n",
       "9   2022-12-04 11:26:12.992190             start task cycle 2\n",
       "10  2022-12-04 11:26:17.045159         Source has not changed\n",
       "11  2022-12-04 11:26:17.047085                  end of report"
      ]
     },
     "execution_count": 13,
     "metadata": {},
     "output_type": "execute_result"
    }
   ],
   "source": [
    "controller.run_controller(repeat=3, source_check_uri='https://www.openml.org/data/get_csv/16826755/phpMYEkMl.csv', run_cycle_report='cycle_report.csv')\n",
    "controller.load_canonical(connector_name='run_cycle_report')"
   ]
  },
  {
   "cell_type": "code",
   "execution_count": null,
   "metadata": {},
   "outputs": [],
   "source": []
  }
 ],
 "metadata": {
  "kernelspec": {
   "display_name": "Python 3 (ipykernel)",
   "language": "python",
   "name": "python3"
  },
  "language_info": {
   "codemirror_mode": {
    "name": "ipython",
    "version": 3
   },
   "file_extension": ".py",
   "mimetype": "text/x-python",
   "name": "python",
   "nbconvert_exporter": "python",
   "pygments_lexer": "ipython3",
   "version": "3.10.8"
  }
 },
 "nbformat": 4,
 "nbformat_minor": 4
}
