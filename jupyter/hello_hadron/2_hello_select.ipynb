{
 "cells": [
  {
   "cell_type": "markdown",
   "id": "dc1bc237",
   "metadata": {},
   "source": [
    "<cite>Darryl Oatridge, August 2022<cite>"
   ]
  },
  {
   "cell_type": "markdown",
   "id": "d8c50cf4",
   "metadata": {},
   "source": [
    "## Building a Pipeline\n",
    "Now we know what a component looks like we can start to build the pipeline adding in actions that gives the component purpose.  \n",
    "\n",
    "The first component we will build as part of the pipeline is the data selection component with the class name  Transition.  This component provides a set of actions that focuses on tidying raw data by removing data columns that are not useful to the final feature set.  These may include null columns, single value columns, duplicate columns and noise etc.  We can also ensure the data is properly canonicalised through enforcing data typing. \n",
    "\n",
    "Project Hadron Canonicalizes data following the canonical model pattern so that every component speaks the same data language. In this case and with this package all components use Pandas DataFrame format. This is common format used by data scientists and statisticians to manipulate and visualise large data sets. \n",
    "\n",
    "Before we do that, and as shown in the previous section, we now use the environment variables to define the location of the Domain Contract and datastore."
   ]
  },
  {
   "cell_type": "code",
   "execution_count": 1,
   "id": "77e90ce3",
   "metadata": {},
   "outputs": [],
   "source": [
    "import os "
   ]
  },
  {
   "cell_type": "code",
   "execution_count": 2,
   "id": "9f20228b",
   "metadata": {},
   "outputs": [],
   "source": [
    "os.environ['HADRON_PM_PATH'] = '0_hello_meta/demo/contracts'\n",
    "os.environ['HADRON_DEFAULT_PATH'] = '0_hello_meta/demo/data'"
   ]
  },
  {
   "cell_type": "markdown",
   "id": "6b7e8716",
   "metadata": {},
   "source": [
    "For the feature selection we are using the Transition component with the ability to select the correct columns from raw data, potentially reducing the column count.  In addition the Transistioning component extends the common reporting tools and provides additional functionality for identifying quality, quantity, veracity and availability.\n",
    "\n",
    "It should be worth noting we are creating a new component and as such must set up the input and the output of the component. The input here is a direct URL to a resource on the Internet. We can also use this technique to access other system with another common storage being AWS S3 where we prefix the bucket and file name with `s3://<bucket>/<path>/<name.ext>`"
   ]
  },
  {
   "cell_type": "code",
   "execution_count": 3,
   "id": "dbf3056b",
   "metadata": {},
   "outputs": [],
   "source": [
    "from ds_discovery import Transition"
   ]
  },
  {
   "cell_type": "code",
   "execution_count": 4,
   "id": "70b8c4a8",
   "metadata": {},
   "outputs": [],
   "source": [
    "# get the instance\n",
    "tr = Transition.from_env('hello_tr', has_contract=False)"
   ]
  },
  {
   "cell_type": "code",
   "execution_count": 5,
   "id": "b04cbdf9",
   "metadata": {},
   "outputs": [],
   "source": [
    "tr.set_source_uri('https://www.openml.org/data/get_csv/16826755/phpMYEkMl.csv')\n",
    "tr.set_persist()"
   ]
  },
  {
   "cell_type": "markdown",
   "id": "ce7d6426",
   "metadata": {},
   "source": [
    "### Adding Select Actions \n",
    "At the core of a component is its tasks, in other words how it changes incoming data into a different data outcome. To achieve this we use the actions that are set up specificially for this Component. These actions are the intensions of the specific component also know as the components intent.  The components intent is a finate set of methods, unique to each component, that can be applied to the raw data in order to change it in a way that is useful to the outcome of the task.\n",
    "\n",
    "In order to get a list of a component's intent, in this case feature selection, you can use the Python method `__dir__()`.  In this case with the transition component `tr` we would use the comand `tr.tools.__dir__()`to produce the directory of the components select intent. Remember this method call can be used in any components intent tools.\n",
    "\n",
    "Now we have added where the raw data is situated we can load the canonical, called, `df`..."
   ]
  },
  {
   "cell_type": "code",
   "execution_count": 6,
   "id": "85bde869",
   "metadata": {},
   "outputs": [],
   "source": [
    "df = tr.load_source_canonical()"
   ]
  },
  {
   "cell_type": "markdown",
   "id": "00c9a127",
   "metadata": {},
   "source": [
    "...and produce the report on the raw data so we can observe the features of interest."
   ]
  },
  {
   "cell_type": "code",
   "execution_count": 7,
   "id": "b72d26db",
   "metadata": {},
   "outputs": [
    {
     "data": {
      "text/html": [
       "<div>\n",
       "<style scoped>\n",
       "    .dataframe tbody tr th:only-of-type {\n",
       "        vertical-align: middle;\n",
       "    }\n",
       "\n",
       "    .dataframe tbody tr th {\n",
       "        vertical-align: top;\n",
       "    }\n",
       "\n",
       "    .dataframe thead th {\n",
       "        text-align: right;\n",
       "    }\n",
       "</style>\n",
       "<table border=\"1\" class=\"dataframe\">\n",
       "  <thead>\n",
       "    <tr style=\"text-align: right;\">\n",
       "      <th></th>\n",
       "      <th>Attributes (14)</th>\n",
       "      <th>dType</th>\n",
       "      <th>%_Null</th>\n",
       "      <th>%_Dom</th>\n",
       "      <th>Count</th>\n",
       "      <th>Unique</th>\n",
       "      <th>Observations</th>\n",
       "    </tr>\n",
       "  </thead>\n",
       "  <tbody>\n",
       "    <tr>\n",
       "      <th>0</th>\n",
       "      <td>age</td>\n",
       "      <td>object</td>\n",
       "      <td>0.0</td>\n",
       "      <td>0.201</td>\n",
       "      <td>1309</td>\n",
       "      <td>99</td>\n",
       "      <td>Sample: ? | 24 | 22 | 21 | 30</td>\n",
       "    </tr>\n",
       "    <tr>\n",
       "      <th>1</th>\n",
       "      <td>boat</td>\n",
       "      <td>object</td>\n",
       "      <td>0.0</td>\n",
       "      <td>0.629</td>\n",
       "      <td>1309</td>\n",
       "      <td>28</td>\n",
       "      <td>Sample: ? | 13 | C | 15 | 14</td>\n",
       "    </tr>\n",
       "    <tr>\n",
       "      <th>2</th>\n",
       "      <td>body</td>\n",
       "      <td>object</td>\n",
       "      <td>0.0</td>\n",
       "      <td>0.908</td>\n",
       "      <td>1309</td>\n",
       "      <td>122</td>\n",
       "      <td>Sample: ? | 58 | 285 | 156 | 143</td>\n",
       "    </tr>\n",
       "    <tr>\n",
       "      <th>3</th>\n",
       "      <td>cabin</td>\n",
       "      <td>object</td>\n",
       "      <td>0.0</td>\n",
       "      <td>0.775</td>\n",
       "      <td>1309</td>\n",
       "      <td>187</td>\n",
       "      <td>Sample: ? | C23 C25 C27 | G6 | B57 B59 B63 B66 | C22 C26</td>\n",
       "    </tr>\n",
       "    <tr>\n",
       "      <th>4</th>\n",
       "      <td>embarked</td>\n",
       "      <td>object</td>\n",
       "      <td>0.0</td>\n",
       "      <td>0.698</td>\n",
       "      <td>1309</td>\n",
       "      <td>4</td>\n",
       "      <td>Sample: S | C | Q | ?</td>\n",
       "    </tr>\n",
       "    <tr>\n",
       "      <th>5</th>\n",
       "      <td>fare</td>\n",
       "      <td>object</td>\n",
       "      <td>0.0</td>\n",
       "      <td>0.046</td>\n",
       "      <td>1309</td>\n",
       "      <td>282</td>\n",
       "      <td>Sample: 8.05 | 13 | 7.75 | 26 | 7.8958</td>\n",
       "    </tr>\n",
       "    <tr>\n",
       "      <th>6</th>\n",
       "      <td>home.dest</td>\n",
       "      <td>object</td>\n",
       "      <td>0.0</td>\n",
       "      <td>0.431</td>\n",
       "      <td>1309</td>\n",
       "      <td>370</td>\n",
       "      <td>Sample: ? | New York, NY | London | Montreal, PQ | Paris, France</td>\n",
       "    </tr>\n",
       "    <tr>\n",
       "      <th>7</th>\n",
       "      <td>name</td>\n",
       "      <td>object</td>\n",
       "      <td>0.0</td>\n",
       "      <td>0.002</td>\n",
       "      <td>1309</td>\n",
       "      <td>1307</td>\n",
       "      <td>Sample: Connolly, Miss. Kate | Kelly, Mr. James | Allen, Miss. Elisabeth Walton | Ilmakangas, Miss. ...</td>\n",
       "    </tr>\n",
       "    <tr>\n",
       "      <th>8</th>\n",
       "      <td>parch</td>\n",
       "      <td>int64</td>\n",
       "      <td>0.0</td>\n",
       "      <td>0.765</td>\n",
       "      <td>1309</td>\n",
       "      <td>8</td>\n",
       "      <td>max=9 | min=0 | mean=0.39 | dominant=0</td>\n",
       "    </tr>\n",
       "    <tr>\n",
       "      <th>9</th>\n",
       "      <td>pclass</td>\n",
       "      <td>int64</td>\n",
       "      <td>0.0</td>\n",
       "      <td>0.542</td>\n",
       "      <td>1309</td>\n",
       "      <td>3</td>\n",
       "      <td>max=3 | min=1 | mean=2.29 | dominant=3</td>\n",
       "    </tr>\n",
       "    <tr>\n",
       "      <th>10</th>\n",
       "      <td>sex</td>\n",
       "      <td>object</td>\n",
       "      <td>0.0</td>\n",
       "      <td>0.644</td>\n",
       "      <td>1309</td>\n",
       "      <td>2</td>\n",
       "      <td>Sample: male | female</td>\n",
       "    </tr>\n",
       "    <tr>\n",
       "      <th>11</th>\n",
       "      <td>sibsp</td>\n",
       "      <td>int64</td>\n",
       "      <td>0.0</td>\n",
       "      <td>0.681</td>\n",
       "      <td>1309</td>\n",
       "      <td>7</td>\n",
       "      <td>max=8 | min=0 | mean=0.5 | dominant=0</td>\n",
       "    </tr>\n",
       "    <tr>\n",
       "      <th>12</th>\n",
       "      <td>survived</td>\n",
       "      <td>int64</td>\n",
       "      <td>0.0</td>\n",
       "      <td>0.618</td>\n",
       "      <td>1309</td>\n",
       "      <td>2</td>\n",
       "      <td>max=1 | min=0 | mean=0.38 | dominant=0</td>\n",
       "    </tr>\n",
       "    <tr>\n",
       "      <th>13</th>\n",
       "      <td>ticket</td>\n",
       "      <td>object</td>\n",
       "      <td>0.0</td>\n",
       "      <td>0.008</td>\n",
       "      <td>1309</td>\n",
       "      <td>929</td>\n",
       "      <td>Sample: CA. 2343 | 1601 | CA 2144 | PC 17608 | 347077</td>\n",
       "    </tr>\n",
       "  </tbody>\n",
       "</table>\n",
       "</div>"
      ],
      "text/plain": [
       "   Attributes (14)   dType  %_Null  %_Dom  Count  Unique  \\\n",
       "0              age  object     0.0  0.201   1309      99   \n",
       "1             boat  object     0.0  0.629   1309      28   \n",
       "2             body  object     0.0  0.908   1309     122   \n",
       "3            cabin  object     0.0  0.775   1309     187   \n",
       "4         embarked  object     0.0  0.698   1309       4   \n",
       "5             fare  object     0.0  0.046   1309     282   \n",
       "6        home.dest  object     0.0  0.431   1309     370   \n",
       "7             name  object     0.0  0.002   1309    1307   \n",
       "8            parch   int64     0.0  0.765   1309       8   \n",
       "9           pclass   int64     0.0  0.542   1309       3   \n",
       "10             sex  object     0.0  0.644   1309       2   \n",
       "11           sibsp   int64     0.0  0.681   1309       7   \n",
       "12        survived   int64     0.0  0.618   1309       2   \n",
       "13          ticket  object     0.0  0.008   1309     929   \n",
       "\n",
       "                                                                                               Observations  \n",
       "0                                                                             Sample: ? | 24 | 22 | 21 | 30  \n",
       "1                                                                              Sample: ? | 13 | C | 15 | 14  \n",
       "2                                                                          Sample: ? | 58 | 285 | 156 | 143  \n",
       "3                                                  Sample: ? | C23 C25 C27 | G6 | B57 B59 B63 B66 | C22 C26  \n",
       "4                                                                                     Sample: S | C | Q | ?  \n",
       "5                                                                    Sample: 8.05 | 13 | 7.75 | 26 | 7.8958  \n",
       "6                                          Sample: ? | New York, NY | London | Montreal, PQ | Paris, France  \n",
       "7   Sample: Connolly, Miss. Kate | Kelly, Mr. James | Allen, Miss. Elisabeth Walton | Ilmakangas, Miss. ...  \n",
       "8                                                                    max=9 | min=0 | mean=0.39 | dominant=0  \n",
       "9                                                                    max=3 | min=1 | mean=2.29 | dominant=3  \n",
       "10                                                                                    Sample: male | female  \n",
       "11                                                                    max=8 | min=0 | mean=0.5 | dominant=0  \n",
       "12                                                                   max=1 | min=0 | mean=0.38 | dominant=0  \n",
       "13                                                    Sample: CA. 2343 | 1601 | CA 2144 | PC 17608 | 347077  "
      ]
     },
     "execution_count": 7,
     "metadata": {},
     "output_type": "execute_result"
    }
   ],
   "source": [
    "tr.canonical_report(df, stylise=False)"
   ]
  },
  {
   "cell_type": "markdown",
   "id": "7909c458",
   "metadata": {},
   "source": [
    "### Featutres of Interest\n",
    "The components intent methods are not first class methods but part of the `intent_model_class`. Therefore to access the intent specify the controller instance name, in this case `tr`, and then reference the `intent_model_class` to access the components intent. To make this easier to remember with an abbreviated form we have overloaded the `intent_model` name with the name `tools`. You can see with all reference to the intent actions they start with `tr.tools.`\n",
    "\n",
    "When looking for features of interest, through observation, it appears, within some columns `space` has been repalaced by a question mark `?`. In this instance we would use the `auto_reinstate_nulls` to replace all the obfusacted cells with nulls.  In addition we can immediately observe columns that are inappropriate for our needs.  In this case we do not need the column **name** and it is removed using `to_remove` passing the name of the attribute."
   ]
  },
  {
   "cell_type": "code",
   "execution_count": 8,
   "id": "4c714615",
   "metadata": {},
   "outputs": [],
   "source": [
    "# returns obfusacted nulls\n",
    "df = tr.tools.auto_reinstate_nulls(df, nulls_list=['?'])\n",
    "# removes data columns of no interest\n",
    "df = tr.tools.to_remove(df, headers=['name'])"
   ]
  },
  {
   "cell_type": "markdown",
   "id": "0129aa48",
   "metadata": {},
   "source": [
    "### Run Component Pipeline\n",
    "To run a component we use the common method `run_component_pipeline` which loads the source data, executes the component task then persists the results. This is the only method you can use to run the tasks of a component and produce its results and should be a familiarized method.\n",
    "\n",
    "We can now run the `run_component_pipeline` and use the canonical report to observe the outcome.  From it we can see the nulls column now indicates the number of nulls in each column correctly so we can deal with them later.  We have also removed the column **name**."
   ]
  },
  {
   "cell_type": "code",
   "execution_count": 9,
   "id": "66142e7d",
   "metadata": {
    "scrolled": false
   },
   "outputs": [
    {
     "data": {
      "text/html": [
       "<div>\n",
       "<style scoped>\n",
       "    .dataframe tbody tr th:only-of-type {\n",
       "        vertical-align: middle;\n",
       "    }\n",
       "\n",
       "    .dataframe tbody tr th {\n",
       "        vertical-align: top;\n",
       "    }\n",
       "\n",
       "    .dataframe thead th {\n",
       "        text-align: right;\n",
       "    }\n",
       "</style>\n",
       "<table border=\"1\" class=\"dataframe\">\n",
       "  <thead>\n",
       "    <tr style=\"text-align: right;\">\n",
       "      <th></th>\n",
       "      <th>Attributes (13)</th>\n",
       "      <th>dType</th>\n",
       "      <th>%_Null</th>\n",
       "      <th>%_Dom</th>\n",
       "      <th>Count</th>\n",
       "      <th>Unique</th>\n",
       "      <th>Observations</th>\n",
       "    </tr>\n",
       "  </thead>\n",
       "  <tbody>\n",
       "    <tr>\n",
       "      <th>0</th>\n",
       "      <td>age</td>\n",
       "      <td>object</td>\n",
       "      <td>0.201</td>\n",
       "      <td>0.201</td>\n",
       "      <td>1309</td>\n",
       "      <td>99</td>\n",
       "      <td>Sample: 24 | 22 | 21 | 30 | 18</td>\n",
       "    </tr>\n",
       "    <tr>\n",
       "      <th>1</th>\n",
       "      <td>boat</td>\n",
       "      <td>object</td>\n",
       "      <td>0.629</td>\n",
       "      <td>0.629</td>\n",
       "      <td>1309</td>\n",
       "      <td>28</td>\n",
       "      <td>Sample: 13 | C | 15 | 14 | 4</td>\n",
       "    </tr>\n",
       "    <tr>\n",
       "      <th>2</th>\n",
       "      <td>body</td>\n",
       "      <td>object</td>\n",
       "      <td>0.908</td>\n",
       "      <td>0.908</td>\n",
       "      <td>1309</td>\n",
       "      <td>122</td>\n",
       "      <td>Sample: 135 | 101 | 37 | 285 | 156</td>\n",
       "    </tr>\n",
       "    <tr>\n",
       "      <th>3</th>\n",
       "      <td>cabin</td>\n",
       "      <td>object</td>\n",
       "      <td>0.775</td>\n",
       "      <td>0.775</td>\n",
       "      <td>1309</td>\n",
       "      <td>187</td>\n",
       "      <td>Sample: C23 C25 C27 | G6 | B57 B59 B63 B66 | F4 | F33</td>\n",
       "    </tr>\n",
       "    <tr>\n",
       "      <th>4</th>\n",
       "      <td>embarked</td>\n",
       "      <td>object</td>\n",
       "      <td>0.002</td>\n",
       "      <td>0.698</td>\n",
       "      <td>1309</td>\n",
       "      <td>4</td>\n",
       "      <td>Sample: S | C | Q</td>\n",
       "    </tr>\n",
       "    <tr>\n",
       "      <th>5</th>\n",
       "      <td>fare</td>\n",
       "      <td>object</td>\n",
       "      <td>0.001</td>\n",
       "      <td>0.046</td>\n",
       "      <td>1309</td>\n",
       "      <td>282</td>\n",
       "      <td>Sample: 8.05 | 13 | 7.75 | 26 | 7.8958</td>\n",
       "    </tr>\n",
       "    <tr>\n",
       "      <th>6</th>\n",
       "      <td>home.dest</td>\n",
       "      <td>object</td>\n",
       "      <td>0.431</td>\n",
       "      <td>0.431</td>\n",
       "      <td>1309</td>\n",
       "      <td>370</td>\n",
       "      <td>Sample: New York, NY | London | Montreal, PQ | Paris, France | Cornwall / Akron, OH</td>\n",
       "    </tr>\n",
       "    <tr>\n",
       "      <th>7</th>\n",
       "      <td>parch</td>\n",
       "      <td>int64</td>\n",
       "      <td>0.000</td>\n",
       "      <td>0.765</td>\n",
       "      <td>1309</td>\n",
       "      <td>8</td>\n",
       "      <td>max=9 | min=0 | mean=0.39 | dominant=0</td>\n",
       "    </tr>\n",
       "    <tr>\n",
       "      <th>8</th>\n",
       "      <td>pclass</td>\n",
       "      <td>int64</td>\n",
       "      <td>0.000</td>\n",
       "      <td>0.542</td>\n",
       "      <td>1309</td>\n",
       "      <td>3</td>\n",
       "      <td>max=3 | min=1 | mean=2.29 | dominant=3</td>\n",
       "    </tr>\n",
       "    <tr>\n",
       "      <th>9</th>\n",
       "      <td>sex</td>\n",
       "      <td>object</td>\n",
       "      <td>0.000</td>\n",
       "      <td>0.644</td>\n",
       "      <td>1309</td>\n",
       "      <td>2</td>\n",
       "      <td>Sample: male | female</td>\n",
       "    </tr>\n",
       "    <tr>\n",
       "      <th>10</th>\n",
       "      <td>sibsp</td>\n",
       "      <td>int64</td>\n",
       "      <td>0.000</td>\n",
       "      <td>0.681</td>\n",
       "      <td>1309</td>\n",
       "      <td>7</td>\n",
       "      <td>max=8 | min=0 | mean=0.5 | dominant=0</td>\n",
       "    </tr>\n",
       "    <tr>\n",
       "      <th>11</th>\n",
       "      <td>survived</td>\n",
       "      <td>int64</td>\n",
       "      <td>0.000</td>\n",
       "      <td>0.618</td>\n",
       "      <td>1309</td>\n",
       "      <td>2</td>\n",
       "      <td>max=1 | min=0 | mean=0.38 | dominant=0</td>\n",
       "    </tr>\n",
       "    <tr>\n",
       "      <th>12</th>\n",
       "      <td>ticket</td>\n",
       "      <td>object</td>\n",
       "      <td>0.000</td>\n",
       "      <td>0.008</td>\n",
       "      <td>1309</td>\n",
       "      <td>929</td>\n",
       "      <td>Sample: CA. 2343 | 1601 | CA 2144 | PC 17608 | 347077</td>\n",
       "    </tr>\n",
       "  </tbody>\n",
       "</table>\n",
       "</div>"
      ],
      "text/plain": [
       "   Attributes (13)   dType  %_Null  %_Dom  Count  Unique  \\\n",
       "0              age  object   0.201  0.201   1309      99   \n",
       "1             boat  object   0.629  0.629   1309      28   \n",
       "2             body  object   0.908  0.908   1309     122   \n",
       "3            cabin  object   0.775  0.775   1309     187   \n",
       "4         embarked  object   0.002  0.698   1309       4   \n",
       "5             fare  object   0.001  0.046   1309     282   \n",
       "6        home.dest  object   0.431  0.431   1309     370   \n",
       "7            parch   int64   0.000  0.765   1309       8   \n",
       "8           pclass   int64   0.000  0.542   1309       3   \n",
       "9              sex  object   0.000  0.644   1309       2   \n",
       "10           sibsp   int64   0.000  0.681   1309       7   \n",
       "11        survived   int64   0.000  0.618   1309       2   \n",
       "12          ticket  object   0.000  0.008   1309     929   \n",
       "\n",
       "                                                                           Observations  \n",
       "0                                                        Sample: 24 | 22 | 21 | 30 | 18  \n",
       "1                                                          Sample: 13 | C | 15 | 14 | 4  \n",
       "2                                                    Sample: 135 | 101 | 37 | 285 | 156  \n",
       "3                                 Sample: C23 C25 C27 | G6 | B57 B59 B63 B66 | F4 | F33  \n",
       "4                                                                     Sample: S | C | Q  \n",
       "5                                                Sample: 8.05 | 13 | 7.75 | 26 | 7.8958  \n",
       "6   Sample: New York, NY | London | Montreal, PQ | Paris, France | Cornwall / Akron, OH  \n",
       "7                                                max=9 | min=0 | mean=0.39 | dominant=0  \n",
       "8                                                max=3 | min=1 | mean=2.29 | dominant=3  \n",
       "9                                                                 Sample: male | female  \n",
       "10                                                max=8 | min=0 | mean=0.5 | dominant=0  \n",
       "11                                               max=1 | min=0 | mean=0.38 | dominant=0  \n",
       "12                                Sample: CA. 2343 | 1601 | CA 2144 | PC 17608 | 347077  "
      ]
     },
     "execution_count": 9,
     "metadata": {},
     "output_type": "execute_result"
    }
   ],
   "source": [
    "tr.run_component_pipeline()\n",
    "tr.canonical_report(tr.load_persist_canonical(), stylise=False)"
   ]
  },
  {
   "cell_type": "markdown",
   "id": "67de4356-d3c8-4b11-8de6-df0dd180fb34",
   "metadata": {},
   "source": [
    "As we continue the observations we see more columns that are of limited interest and need to be removed as part of the selection process. Because the components intent action is mutable we can re-implement the `to_remove` including the new headers within the list. As this overwrites the original component intent we must make sure to include the **name** Column."
   ]
  },
  {
   "cell_type": "code",
   "execution_count": 10,
   "id": "51dc8df3-5929-4f46-b8aa-ecf842bff7f8",
   "metadata": {},
   "outputs": [],
   "source": [
    "df = tr.tools.to_remove(df, headers=['name', 'boat', 'body', 'home.dest'])"
   ]
  },
  {
   "cell_type": "markdown",
   "id": "c86d8ef9",
   "metadata": {},
   "source": [
    "As the target is a cluster algorithm we can use the `auto_to_category` to ensure the data **typing** is appropriate to the column type."
   ]
  },
  {
   "cell_type": "code",
   "execution_count": 11,
   "id": "e96056cd",
   "metadata": {},
   "outputs": [],
   "source": [
    "df = tr.tools.auto_to_category(df, unique_max=20)"
   ]
  },
  {
   "cell_type": "markdown",
   "id": "6ad409a8",
   "metadata": {},
   "source": [
    "Finally we ensure the two contigious columns are set to numeric type. It is worth noting though age is an interger, Python does not recognise nulls within an interger type and automaticially choses it as a float type."
   ]
  },
  {
   "cell_type": "code",
   "execution_count": 12,
   "id": "726ef34a",
   "metadata": {},
   "outputs": [],
   "source": [
    "df = tr.tools.to_numeric_type(df, headers=['age', 'fare'])"
   ]
  },
  {
   "cell_type": "markdown",
   "id": "b6343875-f8e5-42f3-b2ff-332fb1eb9a6d",
   "metadata": {},
   "source": [
    "Using the Intent reporting tool to check the work and see what the Intent currently looks like all together."
   ]
  },
  {
   "cell_type": "code",
   "execution_count": 13,
   "id": "213d9d6e-08a9-45c0-b4a5-20795fe209e8",
   "metadata": {},
   "outputs": [
    {
     "data": {
      "text/html": [
       "<style type=\"text/css\">\n",
       "#T_a362e th {\n",
       "  font-size: 120%;\n",
       "  text-align: center;\n",
       "}\n",
       "#T_a362e .row_heading {\n",
       "  display: none;;\n",
       "}\n",
       "#T_a362e  .blank {\n",
       "  display: none;;\n",
       "}\n",
       "#T_a362e_row0_col0, #T_a362e_row1_col0, #T_a362e_row2_col0, #T_a362e_row3_col0 {\n",
       "  text-align: left;\n",
       "  font-weight: bold;\n",
       "  font-size: 120%;\n",
       "}\n",
       "#T_a362e_row0_col1, #T_a362e_row0_col2, #T_a362e_row0_col3, #T_a362e_row0_col4, #T_a362e_row1_col1, #T_a362e_row1_col2, #T_a362e_row1_col3, #T_a362e_row1_col4, #T_a362e_row2_col1, #T_a362e_row2_col2, #T_a362e_row2_col3, #T_a362e_row2_col4, #T_a362e_row3_col1, #T_a362e_row3_col2, #T_a362e_row3_col3, #T_a362e_row3_col4 {\n",
       "  text-align: left;\n",
       "}\n",
       "</style>\n",
       "<table id=\"T_a362e\">\n",
       "  <thead>\n",
       "    <tr>\n",
       "      <th class=\"blank level0\" >&nbsp;</th>\n",
       "      <th id=\"T_a362e_level0_col0\" class=\"col_heading level0 col0\" >level</th>\n",
       "      <th id=\"T_a362e_level0_col1\" class=\"col_heading level0 col1\" >order</th>\n",
       "      <th id=\"T_a362e_level0_col2\" class=\"col_heading level0 col2\" >intent</th>\n",
       "      <th id=\"T_a362e_level0_col3\" class=\"col_heading level0 col3\" >parameters</th>\n",
       "      <th id=\"T_a362e_level0_col4\" class=\"col_heading level0 col4\" >creator</th>\n",
       "    </tr>\n",
       "  </thead>\n",
       "  <tbody>\n",
       "    <tr>\n",
       "      <th id=\"T_a362e_level0_row0\" class=\"row_heading level0 row0\" >0</th>\n",
       "      <td id=\"T_a362e_row0_col0\" class=\"data row0 col0\" >base</td>\n",
       "      <td id=\"T_a362e_row0_col1\" class=\"data row0 col1\" >0</td>\n",
       "      <td id=\"T_a362e_row0_col2\" class=\"data row0 col2\" >auto_reinstate_nulls</td>\n",
       "      <td id=\"T_a362e_row0_col3\" class=\"data row0 col3\" >[\"nulls_list=['?']\"]</td>\n",
       "      <td id=\"T_a362e_row0_col4\" class=\"data row0 col4\" >doatridge</td>\n",
       "    </tr>\n",
       "    <tr>\n",
       "      <th id=\"T_a362e_level0_row1\" class=\"row_heading level0 row1\" >1</th>\n",
       "      <td id=\"T_a362e_row1_col0\" class=\"data row1 col0\" ></td>\n",
       "      <td id=\"T_a362e_row1_col1\" class=\"data row1 col1\" >0</td>\n",
       "      <td id=\"T_a362e_row1_col2\" class=\"data row1 col2\" >auto_to_category</td>\n",
       "      <td id=\"T_a362e_row1_col3\" class=\"data row1 col3\" >['unique_max=20']</td>\n",
       "      <td id=\"T_a362e_row1_col4\" class=\"data row1 col4\" >doatridge</td>\n",
       "    </tr>\n",
       "    <tr>\n",
       "      <th id=\"T_a362e_level0_row2\" class=\"row_heading level0 row2\" >2</th>\n",
       "      <td id=\"T_a362e_row2_col0\" class=\"data row2 col0\" ></td>\n",
       "      <td id=\"T_a362e_row2_col1\" class=\"data row2 col1\" >0</td>\n",
       "      <td id=\"T_a362e_row2_col2\" class=\"data row2 col2\" >to_numeric_type</td>\n",
       "      <td id=\"T_a362e_row2_col3\" class=\"data row2 col3\" >[\"headers=['age', 'fare']\"]</td>\n",
       "      <td id=\"T_a362e_row2_col4\" class=\"data row2 col4\" >doatridge</td>\n",
       "    </tr>\n",
       "    <tr>\n",
       "      <th id=\"T_a362e_level0_row3\" class=\"row_heading level0 row3\" >3</th>\n",
       "      <td id=\"T_a362e_row3_col0\" class=\"data row3 col0\" ></td>\n",
       "      <td id=\"T_a362e_row3_col1\" class=\"data row3 col1\" >0</td>\n",
       "      <td id=\"T_a362e_row3_col2\" class=\"data row3 col2\" >to_remove</td>\n",
       "      <td id=\"T_a362e_row3_col3\" class=\"data row3 col3\" >[\"headers=['name', 'boat', 'body', 'home.dest']\"]</td>\n",
       "      <td id=\"T_a362e_row3_col4\" class=\"data row3 col4\" >doatridge</td>\n",
       "    </tr>\n",
       "  </tbody>\n",
       "</table>\n"
      ],
      "text/plain": [
       "<pandas.io.formats.style.Styler at 0x7feb56a83910>"
      ]
     },
     "execution_count": 13,
     "metadata": {},
     "output_type": "execute_result"
    }
   ],
   "source": [
    "tr.report_intent()"
   ]
  },
  {
   "cell_type": "markdown",
   "id": "665bc07a",
   "metadata": {},
   "source": [
    "Adding these actions or the components intent is a process of looking at the raw data and the observer making decisions on the selection of the features of interest. Therefore component selection is potentially an iterative task where we would add component intent, observe the changes and then repeat until the process is complete."
   ]
  },
  {
   "cell_type": "markdown",
   "id": "386fcdfe",
   "metadata": {},
   "source": [
    "----------------\n",
    "\n",
    "## Ordering the Actions of a Component"
   ]
  },
  {
   "cell_type": "markdown",
   "id": "e7efefd2-be1e-46cd-850d-b71906c160be",
   "metadata": {},
   "source": [
    "With the component intent now defined the run pipeline does its best to guess the best order of that Intent but sometimes we want to ensure things run in a certain order due to dependancies or other challenges.  Though not necessary, we will clear the previous Intent and write it again, this time in order."
   ]
  },
  {
   "cell_type": "code",
   "execution_count": 14,
   "id": "66df7163-2fa3-4542-90d3-2175eadb0e52",
   "metadata": {},
   "outputs": [
    {
     "data": {
      "text/plain": [
       "True"
      ]
     },
     "execution_count": 14,
     "metadata": {},
     "output_type": "execute_result"
    }
   ],
   "source": [
    "tr.remove_intent()"
   ]
  },
  {
   "cell_type": "code",
   "execution_count": 15,
   "id": "9f78956d-799f-4dd8-9a22-263f350784dd",
   "metadata": {},
   "outputs": [
    {
     "data": {
      "text/html": [
       "<style type=\"text/css\">\n",
       "#T_950f6 th {\n",
       "  font-size: 120%;\n",
       "  text-align: center;\n",
       "}\n",
       "#T_950f6 .row_heading {\n",
       "  display: none;;\n",
       "}\n",
       "#T_950f6  .blank {\n",
       "  display: none;;\n",
       "}\n",
       "</style>\n",
       "<table id=\"T_950f6\">\n",
       "  <thead>\n",
       "    <tr>\n",
       "      <th class=\"blank level0\" >&nbsp;</th>\n",
       "      <th id=\"T_950f6_level0_col0\" class=\"col_heading level0 col0\" >level</th>\n",
       "      <th id=\"T_950f6_level0_col1\" class=\"col_heading level0 col1\" >order</th>\n",
       "      <th id=\"T_950f6_level0_col2\" class=\"col_heading level0 col2\" >intent</th>\n",
       "      <th id=\"T_950f6_level0_col3\" class=\"col_heading level0 col3\" >parameters</th>\n",
       "      <th id=\"T_950f6_level0_col4\" class=\"col_heading level0 col4\" >creator</th>\n",
       "    </tr>\n",
       "  </thead>\n",
       "  <tbody>\n",
       "  </tbody>\n",
       "</table>\n"
      ],
      "text/plain": [
       "<pandas.io.formats.style.Styler at 0x7feb56bafcd0>"
      ]
     },
     "execution_count": 15,
     "metadata": {},
     "output_type": "execute_result"
    }
   ],
   "source": [
    "tr.report_intent()"
   ]
  },
  {
   "cell_type": "markdown",
   "id": "437aed7f-014e-422a-a30e-1acecba3d815",
   "metadata": {},
   "source": [
    "This time when we add the Intent we include the parameter `intent_level` to indicate the different order or level of execution.  \n",
    "\n",
    "We load the source canonical and repeat the Intent, this time including the new intent level.  "
   ]
  },
  {
   "cell_type": "code",
   "execution_count": 16,
   "id": "2f658a0c-40e5-484c-b3aa-6a51f2a2430e",
   "metadata": {},
   "outputs": [],
   "source": [
    "df = tr.load_source_canonical()"
   ]
  },
  {
   "cell_type": "code",
   "execution_count": 17,
   "id": "d7fdff46-4601-4068-8cb8-a8f0bb86bb9a",
   "metadata": {},
   "outputs": [],
   "source": [
    "df = tr.tools.auto_reinstate_nulls(df, nulls_list=['?'], intent_level='reinstate')\n",
    "df = tr.tools.to_remove(df, headers=['name', 'boat', 'body', 'home.dest'], intent_level='remove')\n",
    "df = tr.tools.auto_to_category(df, unique_max=20, intent_level='auto_category')\n",
    "df = tr.tools.to_numeric_type(df, headers=['age', 'fare'], intent_level='to_dtype')\n",
    "df = tr.tools.to_str_type(df, headers=['cabin', 'ticket'],use_string_type=True , intent_level='to_dtype')"
   ]
  },
  {
   "cell_type": "markdown",
   "id": "54940e83-5e4a-4c05-a81b-71edd712604a",
   "metadata": {},
   "source": [
    "In addition, and as an introduction to a new feature, we will add in the column description that describes the reasoning behind why an Intent was added."
   ]
  },
  {
   "cell_type": "code",
   "execution_count": 18,
   "id": "c96e2ce6-a14f-4cfd-a822-5351ea35ec50",
   "metadata": {},
   "outputs": [],
   "source": [
    "tr.add_column_description('reinstate', description=\"reinstate nulls that where obfuscated with '?'\")\n",
    "tr.add_column_description('remove', description=\"remove column of no value\")\n",
    "tr.add_column_description('auto_category', description=\"auto fit features to categories where their uniqueness is 20 or less\")\n",
    "tr.add_column_description('to_dtype', description=\"ensure all other columns of interest are appropriately typed\")\n"
   ]
  },
  {
   "cell_type": "markdown",
   "id": "071862f4",
   "metadata": {},
   "source": [
    "Using the report we can see the addition of the numbers, in the level column, which helps the run component run the tasks in the order given.  It is worth noting that the tasks can be given the same level if the order is not important and the run component will deal with it using its ordering algorithm."
   ]
  },
  {
   "cell_type": "code",
   "execution_count": 19,
   "id": "b5b6535e-bacb-43fe-a8a1-aac4394947a5",
   "metadata": {},
   "outputs": [
    {
     "data": {
      "text/html": [
       "<style type=\"text/css\">\n",
       "#T_6017a th {\n",
       "  font-size: 120%;\n",
       "  text-align: center;\n",
       "}\n",
       "#T_6017a .row_heading {\n",
       "  display: none;;\n",
       "}\n",
       "#T_6017a  .blank {\n",
       "  display: none;;\n",
       "}\n",
       "#T_6017a_row0_col0, #T_6017a_row1_col0, #T_6017a_row2_col0, #T_6017a_row3_col0, #T_6017a_row4_col0 {\n",
       "  text-align: left;\n",
       "  font-weight: bold;\n",
       "  font-size: 120%;\n",
       "}\n",
       "#T_6017a_row0_col1, #T_6017a_row0_col2, #T_6017a_row0_col3, #T_6017a_row0_col4, #T_6017a_row1_col1, #T_6017a_row1_col2, #T_6017a_row1_col3, #T_6017a_row1_col4, #T_6017a_row2_col1, #T_6017a_row2_col2, #T_6017a_row2_col3, #T_6017a_row2_col4, #T_6017a_row3_col1, #T_6017a_row3_col2, #T_6017a_row3_col3, #T_6017a_row3_col4, #T_6017a_row4_col1, #T_6017a_row4_col2, #T_6017a_row4_col3, #T_6017a_row4_col4 {\n",
       "  text-align: left;\n",
       "}\n",
       "</style>\n",
       "<table id=\"T_6017a\">\n",
       "  <thead>\n",
       "    <tr>\n",
       "      <th class=\"blank level0\" >&nbsp;</th>\n",
       "      <th id=\"T_6017a_level0_col0\" class=\"col_heading level0 col0\" >level</th>\n",
       "      <th id=\"T_6017a_level0_col1\" class=\"col_heading level0 col1\" >order</th>\n",
       "      <th id=\"T_6017a_level0_col2\" class=\"col_heading level0 col2\" >intent</th>\n",
       "      <th id=\"T_6017a_level0_col3\" class=\"col_heading level0 col3\" >parameters</th>\n",
       "      <th id=\"T_6017a_level0_col4\" class=\"col_heading level0 col4\" >creator</th>\n",
       "    </tr>\n",
       "  </thead>\n",
       "  <tbody>\n",
       "    <tr>\n",
       "      <th id=\"T_6017a_level0_row0\" class=\"row_heading level0 row0\" >0</th>\n",
       "      <td id=\"T_6017a_row0_col0\" class=\"data row0 col0\" >auto_category</td>\n",
       "      <td id=\"T_6017a_row0_col1\" class=\"data row0 col1\" >0</td>\n",
       "      <td id=\"T_6017a_row0_col2\" class=\"data row0 col2\" >auto_to_category</td>\n",
       "      <td id=\"T_6017a_row0_col3\" class=\"data row0 col3\" >['unique_max=20']</td>\n",
       "      <td id=\"T_6017a_row0_col4\" class=\"data row0 col4\" >doatridge</td>\n",
       "    </tr>\n",
       "    <tr>\n",
       "      <th id=\"T_6017a_level0_row1\" class=\"row_heading level0 row1\" >1</th>\n",
       "      <td id=\"T_6017a_row1_col0\" class=\"data row1 col0\" >reinstate</td>\n",
       "      <td id=\"T_6017a_row1_col1\" class=\"data row1 col1\" >0</td>\n",
       "      <td id=\"T_6017a_row1_col2\" class=\"data row1 col2\" >auto_reinstate_nulls</td>\n",
       "      <td id=\"T_6017a_row1_col3\" class=\"data row1 col3\" >[\"nulls_list=['?']\"]</td>\n",
       "      <td id=\"T_6017a_row1_col4\" class=\"data row1 col4\" >doatridge</td>\n",
       "    </tr>\n",
       "    <tr>\n",
       "      <th id=\"T_6017a_level0_row2\" class=\"row_heading level0 row2\" >2</th>\n",
       "      <td id=\"T_6017a_row2_col0\" class=\"data row2 col0\" >remove</td>\n",
       "      <td id=\"T_6017a_row2_col1\" class=\"data row2 col1\" >0</td>\n",
       "      <td id=\"T_6017a_row2_col2\" class=\"data row2 col2\" >to_remove</td>\n",
       "      <td id=\"T_6017a_row2_col3\" class=\"data row2 col3\" >[\"headers=['name', 'boat', 'body', 'home.dest']\"]</td>\n",
       "      <td id=\"T_6017a_row2_col4\" class=\"data row2 col4\" >doatridge</td>\n",
       "    </tr>\n",
       "    <tr>\n",
       "      <th id=\"T_6017a_level0_row3\" class=\"row_heading level0 row3\" >3</th>\n",
       "      <td id=\"T_6017a_row3_col0\" class=\"data row3 col0\" >to_dtype</td>\n",
       "      <td id=\"T_6017a_row3_col1\" class=\"data row3 col1\" >0</td>\n",
       "      <td id=\"T_6017a_row3_col2\" class=\"data row3 col2\" >to_numeric_type</td>\n",
       "      <td id=\"T_6017a_row3_col3\" class=\"data row3 col3\" >[\"headers=['age', 'fare']\"]</td>\n",
       "      <td id=\"T_6017a_row3_col4\" class=\"data row3 col4\" >doatridge</td>\n",
       "    </tr>\n",
       "    <tr>\n",
       "      <th id=\"T_6017a_level0_row4\" class=\"row_heading level0 row4\" >4</th>\n",
       "      <td id=\"T_6017a_row4_col0\" class=\"data row4 col0\" ></td>\n",
       "      <td id=\"T_6017a_row4_col1\" class=\"data row4 col1\" >0</td>\n",
       "      <td id=\"T_6017a_row4_col2\" class=\"data row4 col2\" >to_str_type</td>\n",
       "      <td id=\"T_6017a_row4_col3\" class=\"data row4 col3\" >[\"headers=['cabin', 'ticket']\", 'use_string_type=True']</td>\n",
       "      <td id=\"T_6017a_row4_col4\" class=\"data row4 col4\" >doatridge</td>\n",
       "    </tr>\n",
       "  </tbody>\n",
       "</table>\n"
      ],
      "text/plain": [
       "<pandas.io.formats.style.Styler at 0x7feb56bd3b50>"
      ]
     },
     "execution_count": 19,
     "metadata": {},
     "output_type": "execute_result"
    }
   ],
   "source": [
    "tr.report_intent()"
   ]
  },
  {
   "cell_type": "markdown",
   "id": "63013ceb-7611-46ce-9257-6a715c0ef2aa",
   "metadata": {},
   "source": [
    "As we have taken the time to capture the reasoning to include the compoment Intent we can use the reports to produce a view of the Intent column comments that are invaluable when interrogating a component and understanding why decisions were made."
   ]
  },
  {
   "cell_type": "code",
   "execution_count": 20,
   "id": "f6b476d5-49e0-4193-9a06-2ae6339e2180",
   "metadata": {},
   "outputs": [
    {
     "data": {
      "text/html": [
       "<style type=\"text/css\">\n",
       "#T_3ed06 th {\n",
       "  font-size: 120%;\n",
       "  text-align: center;\n",
       "}\n",
       "#T_3ed06 .row_heading {\n",
       "  display: none;;\n",
       "}\n",
       "#T_3ed06  .blank {\n",
       "  display: none;;\n",
       "}\n",
       "#T_3ed06_row0_col0, #T_3ed06_row1_col0, #T_3ed06_row2_col0, #T_3ed06_row3_col0 {\n",
       "  text-align: left;\n",
       "  font-weight: bold;\n",
       "}\n",
       "#T_3ed06_row0_col1, #T_3ed06_row1_col1, #T_3ed06_row2_col1, #T_3ed06_row3_col1 {\n",
       "  text-align: left;\n",
       "}\n",
       "</style>\n",
       "<table id=\"T_3ed06\">\n",
       "  <thead>\n",
       "    <tr>\n",
       "      <th class=\"blank level0\" >&nbsp;</th>\n",
       "      <th id=\"T_3ed06_level0_col0\" class=\"col_heading level0 col0\" >column_name</th>\n",
       "      <th id=\"T_3ed06_level0_col1\" class=\"col_heading level0 col1\" >description</th>\n",
       "    </tr>\n",
       "  </thead>\n",
       "  <tbody>\n",
       "    <tr>\n",
       "      <th id=\"T_3ed06_level0_row0\" class=\"row_heading level0 row0\" >0</th>\n",
       "      <td id=\"T_3ed06_row0_col0\" class=\"data row0 col0\" >auto_category</td>\n",
       "      <td id=\"T_3ed06_row0_col1\" class=\"data row0 col1\" >auto fit features to categories where their uniqueness is 20 or less</td>\n",
       "    </tr>\n",
       "    <tr>\n",
       "      <th id=\"T_3ed06_level0_row1\" class=\"row_heading level0 row1\" >1</th>\n",
       "      <td id=\"T_3ed06_row1_col0\" class=\"data row1 col0\" >reinstate</td>\n",
       "      <td id=\"T_3ed06_row1_col1\" class=\"data row1 col1\" >reinstate nulls that where obfuscated with '?'</td>\n",
       "    </tr>\n",
       "    <tr>\n",
       "      <th id=\"T_3ed06_level0_row2\" class=\"row_heading level0 row2\" >2</th>\n",
       "      <td id=\"T_3ed06_row2_col0\" class=\"data row2 col0\" >remove</td>\n",
       "      <td id=\"T_3ed06_row2_col1\" class=\"data row2 col1\" >remove column of no value</td>\n",
       "    </tr>\n",
       "    <tr>\n",
       "      <th id=\"T_3ed06_level0_row3\" class=\"row_heading level0 row3\" >3</th>\n",
       "      <td id=\"T_3ed06_row3_col0\" class=\"data row3 col0\" >to_dtype</td>\n",
       "      <td id=\"T_3ed06_row3_col1\" class=\"data row3 col1\" >ensure all other columns of interest are appropriately typed</td>\n",
       "    </tr>\n",
       "  </tbody>\n",
       "</table>\n"
      ],
      "text/plain": [
       "<pandas.io.formats.style.Styler at 0x7feb56bd16c0>"
      ]
     },
     "execution_count": 20,
     "metadata": {},
     "output_type": "execute_result"
    }
   ],
   "source": [
    "tr.report_column_catalog()"
   ]
  },
  {
   "cell_type": "markdown",
   "id": "206c426b-1b8b-49d0-867a-e9914a95ddc9",
   "metadata": {},
   "source": [
    "## Component Pipeline\n",
    "\n",
    "As usual we can now run the Compant pipeline to apply the components tasks."
   ]
  },
  {
   "cell_type": "code",
   "execution_count": 21,
   "id": "15f80af6-8f7f-4a86-9917-2e8d1c3b4a1a",
   "metadata": {},
   "outputs": [],
   "source": [
    "tr.run_component_pipeline()"
   ]
  },
  {
   "cell_type": "markdown",
   "id": "60a85e5c-d635-4bc8-b46e-eeac798cb506",
   "metadata": {},
   "source": [
    "As an extension of the default, `run_component_pipeline` provides useful tools to help manage the outcome.  In this case we've specificially defined the Intent order we wanted to run."
   ]
  },
  {
   "cell_type": "code",
   "execution_count": 22,
   "id": "e3575ab2-e5c5-428d-a2dd-de1ee5ad0b81",
   "metadata": {},
   "outputs": [],
   "source": [
    "tr.run_component_pipeline(intent_levels=['remove', 'reinstate', 'auto_category', 'to_dtype'])"
   ]
  },
  {
   "cell_type": "markdown",
   "id": "7132dc5b-f61a-42ca-a59e-c5695c9f94b0",
   "metadata": {},
   "source": [
    "----------------------\n",
    "## Run Books\n",
    "A challenge faced with the component intent is its order, as you have seen. The solution thus far only applies at run time and is therefore not repeatable.  We introduced the idea of Run Books as a repeatable set of instructions which contain the order in which to run the components intent. Run Books also provide the ability to particially implement component intent actions, meaning we can replay subsets of a fuller list of a components intent. For example through experimentation we have created a number of additional component intents, that are not pertinent to a production ready selection. By setting up two Run Books we can select which component intent is appropriate to their objectives and `run_component_pipeline` to produce the appropriate outcome.\n",
    "\n",
    "In the example we add our list of intent to a book in the order needed. In this case we have not specified a book name so this book is allocated to the primary Run Book. Now each time we run pipeline, it is set to run the primary Run Book."
   ]
  },
  {
   "cell_type": "code",
   "execution_count": 23,
   "id": "9a080e19-d145-41bd-9a58-e59158a9ef69",
   "metadata": {},
   "outputs": [],
   "source": [
    "tr.add_run_book(run_levels=['remove', 'reinstate', 'auto_category', 'to_dtype'])"
   ]
  },
  {
   "cell_type": "markdown",
   "id": "b8a939e5-6d46-41b9-a1f4-0683fc151de6",
   "metadata": {},
   "source": [
    "Here we had a book by name where we select only the intent that cleans the raw data. The Run book report Now what are shows us the two run books;"
   ]
  },
  {
   "cell_type": "code",
   "execution_count": 24,
   "id": "74fae168-0605-454f-a992-e47f37af7905",
   "metadata": {},
   "outputs": [],
   "source": [
    "tr.add_run_book(book_name='cleaner', run_levels=['remove', 'reinstate'])"
   ]
  },
  {
   "cell_type": "code",
   "execution_count": 25,
   "id": "18ac291e-42e0-4aab-aa68-46c001651ec1",
   "metadata": {
    "scrolled": true
   },
   "outputs": [
    {
     "data": {
      "text/html": [
       "<style type=\"text/css\">\n",
       "#T_0c077 th {\n",
       "  font-size: 120%;\n",
       "  text-align: center;\n",
       "}\n",
       "#T_0c077 .row_heading {\n",
       "  display: none;;\n",
       "}\n",
       "#T_0c077  .blank {\n",
       "  display: none;;\n",
       "}\n",
       "#T_0c077_row0_col0, #T_0c077_row1_col0 {\n",
       "  text-align: left;\n",
       "  font-weight: bold;\n",
       "  font-size: 120%;\n",
       "}\n",
       "#T_0c077_row0_col1, #T_0c077_row1_col1 {\n",
       "  text-align: left;\n",
       "}\n",
       "</style>\n",
       "<table id=\"T_0c077\">\n",
       "  <thead>\n",
       "    <tr>\n",
       "      <th class=\"blank level0\" >&nbsp;</th>\n",
       "      <th id=\"T_0c077_level0_col0\" class=\"col_heading level0 col0\" >name</th>\n",
       "      <th id=\"T_0c077_level0_col1\" class=\"col_heading level0 col1\" >run_book</th>\n",
       "    </tr>\n",
       "  </thead>\n",
       "  <tbody>\n",
       "    <tr>\n",
       "      <th id=\"T_0c077_level0_row0\" class=\"row_heading level0 row0\" >0</th>\n",
       "      <td id=\"T_0c077_row0_col0\" class=\"data row0 col0\" >primary_run_book</td>\n",
       "      <td id=\"T_0c077_row0_col1\" class=\"data row0 col1\" >['remove', 'reinstate', 'auto_category', 'to_dtype']</td>\n",
       "    </tr>\n",
       "    <tr>\n",
       "      <th id=\"T_0c077_level0_row1\" class=\"row_heading level0 row1\" >1</th>\n",
       "      <td id=\"T_0c077_row1_col0\" class=\"data row1 col0\" >cleaner</td>\n",
       "      <td id=\"T_0c077_row1_col1\" class=\"data row1 col1\" >['remove', 'reinstate']</td>\n",
       "    </tr>\n",
       "  </tbody>\n",
       "</table>\n"
      ],
      "text/plain": [
       "<pandas.io.formats.style.Styler at 0x7feb56bd2b90>"
      ]
     },
     "execution_count": 25,
     "metadata": {},
     "output_type": "execute_result"
    }
   ],
   "source": [
    "tr.report_run_book()"
   ]
  },
  {
   "cell_type": "markdown",
   "id": "9fafdc2a-44bf-48b1-b1c6-4a09af6da8eb",
   "metadata": {},
   "source": [
    "In this next example we add an additional Run Book that is a subset of the tasks to only clean the data.  By passing this named Run Book to the run pipeline it is obliged to only run this subset and only clean the data.  We can see the results of this in our canonical report below."
   ]
  },
  {
   "cell_type": "code",
   "execution_count": 26,
   "id": "ce11d70d-9837-4b14-a716-6e25529e0dc9",
   "metadata": {},
   "outputs": [],
   "source": [
    "tr.run_component_pipeline(run_book='cleaner')"
   ]
  },
  {
   "cell_type": "code",
   "execution_count": 27,
   "id": "198e0d3a-bd3c-441d-9260-6f90e3ff1039",
   "metadata": {
    "scrolled": false
   },
   "outputs": [
    {
     "data": {
      "text/html": [
       "<div>\n",
       "<style scoped>\n",
       "    .dataframe tbody tr th:only-of-type {\n",
       "        vertical-align: middle;\n",
       "    }\n",
       "\n",
       "    .dataframe tbody tr th {\n",
       "        vertical-align: top;\n",
       "    }\n",
       "\n",
       "    .dataframe thead th {\n",
       "        text-align: right;\n",
       "    }\n",
       "</style>\n",
       "<table border=\"1\" class=\"dataframe\">\n",
       "  <thead>\n",
       "    <tr style=\"text-align: right;\">\n",
       "      <th></th>\n",
       "      <th>Attributes (10)</th>\n",
       "      <th>dType</th>\n",
       "      <th>%_Null</th>\n",
       "      <th>%_Dom</th>\n",
       "      <th>Count</th>\n",
       "      <th>Unique</th>\n",
       "      <th>Observations</th>\n",
       "    </tr>\n",
       "  </thead>\n",
       "  <tbody>\n",
       "    <tr>\n",
       "      <th>0</th>\n",
       "      <td>age</td>\n",
       "      <td>object</td>\n",
       "      <td>0.201</td>\n",
       "      <td>0.201</td>\n",
       "      <td>1309</td>\n",
       "      <td>99</td>\n",
       "      <td>Sample: 24 | 22 | 21 | 30 | 18</td>\n",
       "    </tr>\n",
       "    <tr>\n",
       "      <th>1</th>\n",
       "      <td>cabin</td>\n",
       "      <td>object</td>\n",
       "      <td>0.775</td>\n",
       "      <td>0.775</td>\n",
       "      <td>1309</td>\n",
       "      <td>187</td>\n",
       "      <td>Sample: C23 C25 C27 | G6 | B57 B59 B63 B66 | F4 | F33</td>\n",
       "    </tr>\n",
       "    <tr>\n",
       "      <th>2</th>\n",
       "      <td>embarked</td>\n",
       "      <td>object</td>\n",
       "      <td>0.002</td>\n",
       "      <td>0.698</td>\n",
       "      <td>1309</td>\n",
       "      <td>4</td>\n",
       "      <td>Sample: S | C | Q</td>\n",
       "    </tr>\n",
       "    <tr>\n",
       "      <th>3</th>\n",
       "      <td>fare</td>\n",
       "      <td>object</td>\n",
       "      <td>0.001</td>\n",
       "      <td>0.046</td>\n",
       "      <td>1309</td>\n",
       "      <td>282</td>\n",
       "      <td>Sample: 8.05 | 13 | 7.75 | 26 | 7.8958</td>\n",
       "    </tr>\n",
       "    <tr>\n",
       "      <th>4</th>\n",
       "      <td>parch</td>\n",
       "      <td>int64</td>\n",
       "      <td>0.000</td>\n",
       "      <td>0.765</td>\n",
       "      <td>1309</td>\n",
       "      <td>8</td>\n",
       "      <td>max=9 | min=0 | mean=0.39 | dominant=0</td>\n",
       "    </tr>\n",
       "    <tr>\n",
       "      <th>5</th>\n",
       "      <td>pclass</td>\n",
       "      <td>int64</td>\n",
       "      <td>0.000</td>\n",
       "      <td>0.542</td>\n",
       "      <td>1309</td>\n",
       "      <td>3</td>\n",
       "      <td>max=3 | min=1 | mean=2.29 | dominant=3</td>\n",
       "    </tr>\n",
       "    <tr>\n",
       "      <th>6</th>\n",
       "      <td>sex</td>\n",
       "      <td>object</td>\n",
       "      <td>0.000</td>\n",
       "      <td>0.644</td>\n",
       "      <td>1309</td>\n",
       "      <td>2</td>\n",
       "      <td>Sample: male | female</td>\n",
       "    </tr>\n",
       "    <tr>\n",
       "      <th>7</th>\n",
       "      <td>sibsp</td>\n",
       "      <td>int64</td>\n",
       "      <td>0.000</td>\n",
       "      <td>0.681</td>\n",
       "      <td>1309</td>\n",
       "      <td>7</td>\n",
       "      <td>max=8 | min=0 | mean=0.5 | dominant=0</td>\n",
       "    </tr>\n",
       "    <tr>\n",
       "      <th>8</th>\n",
       "      <td>survived</td>\n",
       "      <td>int64</td>\n",
       "      <td>0.000</td>\n",
       "      <td>0.618</td>\n",
       "      <td>1309</td>\n",
       "      <td>2</td>\n",
       "      <td>max=1 | min=0 | mean=0.38 | dominant=0</td>\n",
       "    </tr>\n",
       "    <tr>\n",
       "      <th>9</th>\n",
       "      <td>ticket</td>\n",
       "      <td>object</td>\n",
       "      <td>0.000</td>\n",
       "      <td>0.008</td>\n",
       "      <td>1309</td>\n",
       "      <td>929</td>\n",
       "      <td>Sample: CA. 2343 | 1601 | CA 2144 | PC 17608 | 347077</td>\n",
       "    </tr>\n",
       "  </tbody>\n",
       "</table>\n",
       "</div>"
      ],
      "text/plain": [
       "  Attributes (10)   dType  %_Null  %_Dom  Count  Unique  \\\n",
       "0             age  object   0.201  0.201   1309      99   \n",
       "1           cabin  object   0.775  0.775   1309     187   \n",
       "2        embarked  object   0.002  0.698   1309       4   \n",
       "3            fare  object   0.001  0.046   1309     282   \n",
       "4           parch   int64   0.000  0.765   1309       8   \n",
       "5          pclass   int64   0.000  0.542   1309       3   \n",
       "6             sex  object   0.000  0.644   1309       2   \n",
       "7           sibsp   int64   0.000  0.681   1309       7   \n",
       "8        survived   int64   0.000  0.618   1309       2   \n",
       "9          ticket  object   0.000  0.008   1309     929   \n",
       "\n",
       "                                            Observations  \n",
       "0                         Sample: 24 | 22 | 21 | 30 | 18  \n",
       "1  Sample: C23 C25 C27 | G6 | B57 B59 B63 B66 | F4 | F33  \n",
       "2                                      Sample: S | C | Q  \n",
       "3                 Sample: 8.05 | 13 | 7.75 | 26 | 7.8958  \n",
       "4                 max=9 | min=0 | mean=0.39 | dominant=0  \n",
       "5                 max=3 | min=1 | mean=2.29 | dominant=3  \n",
       "6                                  Sample: male | female  \n",
       "7                  max=8 | min=0 | mean=0.5 | dominant=0  \n",
       "8                 max=1 | min=0 | mean=0.38 | dominant=0  \n",
       "9  Sample: CA. 2343 | 1601 | CA 2144 | PC 17608 | 347077  "
      ]
     },
     "execution_count": 27,
     "metadata": {},
     "output_type": "execute_result"
    }
   ],
   "source": [
    "tr.canonical_report(tr.load_persist_canonical(), stylise=False)"
   ]
  },
  {
   "cell_type": "markdown",
   "id": "54df2321-25a7-40ea-af25-bdec2ea3a762",
   "metadata": {},
   "source": [
    "As a contrast to the above we can run the pipeline without providing a Run Book name and it will automatically default to the primary run book, assuming this has been set up.  In this case running the full component Intent the resulting outcome is shown below in the canonical report."
   ]
  },
  {
   "cell_type": "code",
   "execution_count": 28,
   "id": "3d485265-d140-4c22-a79e-7051689208f7",
   "metadata": {},
   "outputs": [],
   "source": [
    "tr.run_component_pipeline()"
   ]
  },
  {
   "cell_type": "code",
   "execution_count": 29,
   "id": "804f4b1e-f963-44a5-bbc2-46c2339c2b13",
   "metadata": {
    "scrolled": false
   },
   "outputs": [
    {
     "data": {
      "text/html": [
       "<div>\n",
       "<style scoped>\n",
       "    .dataframe tbody tr th:only-of-type {\n",
       "        vertical-align: middle;\n",
       "    }\n",
       "\n",
       "    .dataframe tbody tr th {\n",
       "        vertical-align: top;\n",
       "    }\n",
       "\n",
       "    .dataframe thead th {\n",
       "        text-align: right;\n",
       "    }\n",
       "</style>\n",
       "<table border=\"1\" class=\"dataframe\">\n",
       "  <thead>\n",
       "    <tr style=\"text-align: right;\">\n",
       "      <th></th>\n",
       "      <th>Attributes (10)</th>\n",
       "      <th>dType</th>\n",
       "      <th>%_Null</th>\n",
       "      <th>%_Dom</th>\n",
       "      <th>Count</th>\n",
       "      <th>Unique</th>\n",
       "      <th>Observations</th>\n",
       "    </tr>\n",
       "  </thead>\n",
       "  <tbody>\n",
       "    <tr>\n",
       "      <th>0</th>\n",
       "      <td>age</td>\n",
       "      <td>float64</td>\n",
       "      <td>0.201</td>\n",
       "      <td>0.201</td>\n",
       "      <td>1309</td>\n",
       "      <td>99</td>\n",
       "      <td>max=80.0 | min=0.1667 | mean=29.88 | dominant=24.0</td>\n",
       "    </tr>\n",
       "    <tr>\n",
       "      <th>1</th>\n",
       "      <td>cabin</td>\n",
       "      <td>string</td>\n",
       "      <td>0.775</td>\n",
       "      <td>0.775</td>\n",
       "      <td>1309</td>\n",
       "      <td>187</td>\n",
       "      <td>Sample: C23 C25 C27 | G6 | B57 B59 B63 B66 | F4 | F33</td>\n",
       "    </tr>\n",
       "    <tr>\n",
       "      <th>2</th>\n",
       "      <td>embarked</td>\n",
       "      <td>category</td>\n",
       "      <td>0.000</td>\n",
       "      <td>0.698</td>\n",
       "      <td>1309</td>\n",
       "      <td>4</td>\n",
       "      <td>Sample: S | C | Q | nan</td>\n",
       "    </tr>\n",
       "    <tr>\n",
       "      <th>3</th>\n",
       "      <td>fare</td>\n",
       "      <td>float64</td>\n",
       "      <td>0.001</td>\n",
       "      <td>0.046</td>\n",
       "      <td>1309</td>\n",
       "      <td>282</td>\n",
       "      <td>max=512.3292 | min=0.0 | mean=33.3 | dominant=8.05</td>\n",
       "    </tr>\n",
       "    <tr>\n",
       "      <th>4</th>\n",
       "      <td>parch</td>\n",
       "      <td>category</td>\n",
       "      <td>0.000</td>\n",
       "      <td>0.765</td>\n",
       "      <td>1309</td>\n",
       "      <td>8</td>\n",
       "      <td>Sample: 0 | 1 | 2 | 3 | 4</td>\n",
       "    </tr>\n",
       "    <tr>\n",
       "      <th>5</th>\n",
       "      <td>pclass</td>\n",
       "      <td>category</td>\n",
       "      <td>0.000</td>\n",
       "      <td>0.542</td>\n",
       "      <td>1309</td>\n",
       "      <td>3</td>\n",
       "      <td>Sample: 3 | 1 | 2</td>\n",
       "    </tr>\n",
       "    <tr>\n",
       "      <th>6</th>\n",
       "      <td>sex</td>\n",
       "      <td>category</td>\n",
       "      <td>0.000</td>\n",
       "      <td>0.644</td>\n",
       "      <td>1309</td>\n",
       "      <td>2</td>\n",
       "      <td>Sample: male | female</td>\n",
       "    </tr>\n",
       "    <tr>\n",
       "      <th>7</th>\n",
       "      <td>sibsp</td>\n",
       "      <td>category</td>\n",
       "      <td>0.000</td>\n",
       "      <td>0.681</td>\n",
       "      <td>1309</td>\n",
       "      <td>7</td>\n",
       "      <td>Sample: 0 | 1 | 2 | 4 | 3</td>\n",
       "    </tr>\n",
       "    <tr>\n",
       "      <th>8</th>\n",
       "      <td>survived</td>\n",
       "      <td>category</td>\n",
       "      <td>0.000</td>\n",
       "      <td>0.618</td>\n",
       "      <td>1309</td>\n",
       "      <td>2</td>\n",
       "      <td>Sample: 0 | 1</td>\n",
       "    </tr>\n",
       "    <tr>\n",
       "      <th>9</th>\n",
       "      <td>ticket</td>\n",
       "      <td>string</td>\n",
       "      <td>0.000</td>\n",
       "      <td>0.008</td>\n",
       "      <td>1309</td>\n",
       "      <td>929</td>\n",
       "      <td>Sample: CA. 2343 | 1601 | CA 2144 | PC 17608 | 347077</td>\n",
       "    </tr>\n",
       "  </tbody>\n",
       "</table>\n",
       "</div>"
      ],
      "text/plain": [
       "  Attributes (10)     dType  %_Null  %_Dom  Count  Unique  \\\n",
       "0             age   float64   0.201  0.201   1309      99   \n",
       "1           cabin    string   0.775  0.775   1309     187   \n",
       "2        embarked  category   0.000  0.698   1309       4   \n",
       "3            fare   float64   0.001  0.046   1309     282   \n",
       "4           parch  category   0.000  0.765   1309       8   \n",
       "5          pclass  category   0.000  0.542   1309       3   \n",
       "6             sex  category   0.000  0.644   1309       2   \n",
       "7           sibsp  category   0.000  0.681   1309       7   \n",
       "8        survived  category   0.000  0.618   1309       2   \n",
       "9          ticket    string   0.000  0.008   1309     929   \n",
       "\n",
       "                                            Observations  \n",
       "0     max=80.0 | min=0.1667 | mean=29.88 | dominant=24.0  \n",
       "1  Sample: C23 C25 C27 | G6 | B57 B59 B63 B66 | F4 | F33  \n",
       "2                                Sample: S | C | Q | nan  \n",
       "3     max=512.3292 | min=0.0 | mean=33.3 | dominant=8.05  \n",
       "4                              Sample: 0 | 1 | 2 | 3 | 4  \n",
       "5                                      Sample: 3 | 1 | 2  \n",
       "6                                  Sample: male | female  \n",
       "7                              Sample: 0 | 1 | 2 | 4 | 3  \n",
       "8                                          Sample: 0 | 1  \n",
       "9  Sample: CA. 2343 | 1601 | CA 2144 | PC 17608 | 347077  "
      ]
     },
     "execution_count": 29,
     "metadata": {},
     "output_type": "execute_result"
    }
   ],
   "source": [
    "tr.canonical_report(tr.load_persist_canonical(), stylise=False)"
   ]
  },
  {
   "cell_type": "code",
   "execution_count": null,
   "id": "df0528a1-fedf-418a-a618-d1f623a3da2b",
   "metadata": {},
   "outputs": [],
   "source": []
  }
 ],
 "metadata": {
  "kernelspec": {
   "display_name": "Python 3 (ipykernel)",
   "language": "python",
   "name": "python3"
  },
  "language_info": {
   "codemirror_mode": {
    "name": "ipython",
    "version": 3
   },
   "file_extension": ".py",
   "mimetype": "text/x-python",
   "name": "python",
   "nbconvert_exporter": "python",
   "pygments_lexer": "ipython3",
   "version": "3.10.8"
  }
 },
 "nbformat": 4,
 "nbformat_minor": 5
}
