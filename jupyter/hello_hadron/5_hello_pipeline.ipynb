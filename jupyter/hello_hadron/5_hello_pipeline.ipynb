{
 "cells": [
  {
   "cell_type": "markdown",
   "id": "baca5f54",
   "metadata": {},
   "source": [
    "# Running a Component in Python\n",
    "Project Hadron is designed using Microservices. The components services are represented as a single Domain Contract or as a Domain Contract Ensemble that contains a Controller to orchestrate this ensemple of components. In both instances we need to point to the repo where the Domain Contracts are, in this case GitHub."
   ]
  },
  {
   "cell_type": "code",
   "execution_count": 1,
   "id": "a8d4ec44",
   "metadata": {},
   "outputs": [],
   "source": [
    "repo = \"https://raw.githubusercontent.com/project-hadron/hadron-asset-bank/master/contracts/hello_hadron/hello_ensemble\""
   ]
  },
  {
   "cell_type": "code",
   "execution_count": 2,
   "id": "6498cea2",
   "metadata": {},
   "outputs": [],
   "source": [
    "from ds_discovery import Transition, Controller"
   ]
  },
  {
   "cell_type": "markdown",
   "id": "61c015db",
   "metadata": {},
   "source": [
    "## Run Component Pipeline\n",
    "Generally pipelines are run as an ensemble, but occasionlly when exploring an individual component's details, one might want to run it on its own to observe its outcome. Components are selected by their ``class``, their ``task_name`` and the repo where the Domain Contract can be found.\n"
   ]
  },
  {
   "cell_type": "code",
   "execution_count": 3,
   "id": "59155e78",
   "metadata": {},
   "outputs": [],
   "source": [
    "tr = Transition.from_env('hello_tr', uri_pm_repo=repo)"
   ]
  },
  {
   "cell_type": "markdown",
   "id": "b67bf804",
   "metadata": {},
   "source": [
    "Now we have loaded the instance of the component we can observe its details. In this case we are looking at its actions of intent."
   ]
  },
  {
   "cell_type": "code",
   "execution_count": 4,
   "id": "e237af3d",
   "metadata": {},
   "outputs": [
    {
     "data": {
      "text/html": [
       "<style type=\"text/css\">\n",
       "#T_a889b th {\n",
       "  font-size: 120%;\n",
       "  text-align: center;\n",
       "}\n",
       "#T_a889b .row_heading {\n",
       "  display: none;;\n",
       "}\n",
       "#T_a889b  .blank {\n",
       "  display: none;;\n",
       "}\n",
       "#T_a889b_row0_col0, #T_a889b_row1_col0, #T_a889b_row2_col0, #T_a889b_row3_col0, #T_a889b_row4_col0 {\n",
       "  text-align: left;\n",
       "  font-weight: bold;\n",
       "  font-size: 120%;\n",
       "}\n",
       "#T_a889b_row0_col1, #T_a889b_row0_col2, #T_a889b_row0_col3, #T_a889b_row0_col4, #T_a889b_row1_col1, #T_a889b_row1_col2, #T_a889b_row1_col3, #T_a889b_row1_col4, #T_a889b_row2_col1, #T_a889b_row2_col2, #T_a889b_row2_col3, #T_a889b_row2_col4, #T_a889b_row3_col1, #T_a889b_row3_col2, #T_a889b_row3_col3, #T_a889b_row3_col4, #T_a889b_row4_col1, #T_a889b_row4_col2, #T_a889b_row4_col3, #T_a889b_row4_col4 {\n",
       "  text-align: left;\n",
       "}\n",
       "</style>\n",
       "<table id=\"T_a889b\">\n",
       "  <thead>\n",
       "    <tr>\n",
       "      <th class=\"blank level0\" >&nbsp;</th>\n",
       "      <th id=\"T_a889b_level0_col0\" class=\"col_heading level0 col0\" >level</th>\n",
       "      <th id=\"T_a889b_level0_col1\" class=\"col_heading level0 col1\" >order</th>\n",
       "      <th id=\"T_a889b_level0_col2\" class=\"col_heading level0 col2\" >intent</th>\n",
       "      <th id=\"T_a889b_level0_col3\" class=\"col_heading level0 col3\" >parameters</th>\n",
       "      <th id=\"T_a889b_level0_col4\" class=\"col_heading level0 col4\" >creator</th>\n",
       "    </tr>\n",
       "  </thead>\n",
       "  <tbody>\n",
       "    <tr>\n",
       "      <th id=\"T_a889b_level0_row0\" class=\"row_heading level0 row0\" >0</th>\n",
       "      <td id=\"T_a889b_row0_col0\" class=\"data row0 col0\" >auto_category</td>\n",
       "      <td id=\"T_a889b_row0_col1\" class=\"data row0 col1\" >0</td>\n",
       "      <td id=\"T_a889b_row0_col2\" class=\"data row0 col2\" >auto_to_category</td>\n",
       "      <td id=\"T_a889b_row0_col3\" class=\"data row0 col3\" >['unique_max=20']</td>\n",
       "      <td id=\"T_a889b_row0_col4\" class=\"data row0 col4\" >doatridge</td>\n",
       "    </tr>\n",
       "    <tr>\n",
       "      <th id=\"T_a889b_level0_row1\" class=\"row_heading level0 row1\" >1</th>\n",
       "      <td id=\"T_a889b_row1_col0\" class=\"data row1 col0\" >reinstate</td>\n",
       "      <td id=\"T_a889b_row1_col1\" class=\"data row1 col1\" >0</td>\n",
       "      <td id=\"T_a889b_row1_col2\" class=\"data row1 col2\" >auto_reinstate_nulls</td>\n",
       "      <td id=\"T_a889b_row1_col3\" class=\"data row1 col3\" >[\"nulls_list=['?']\"]</td>\n",
       "      <td id=\"T_a889b_row1_col4\" class=\"data row1 col4\" >doatridge</td>\n",
       "    </tr>\n",
       "    <tr>\n",
       "      <th id=\"T_a889b_level0_row2\" class=\"row_heading level0 row2\" >2</th>\n",
       "      <td id=\"T_a889b_row2_col0\" class=\"data row2 col0\" >remove</td>\n",
       "      <td id=\"T_a889b_row2_col1\" class=\"data row2 col1\" >0</td>\n",
       "      <td id=\"T_a889b_row2_col2\" class=\"data row2 col2\" >to_remove</td>\n",
       "      <td id=\"T_a889b_row2_col3\" class=\"data row2 col3\" >[\"headers=['name', 'boat', 'body', 'home.dest']\"]</td>\n",
       "      <td id=\"T_a889b_row2_col4\" class=\"data row2 col4\" >doatridge</td>\n",
       "    </tr>\n",
       "    <tr>\n",
       "      <th id=\"T_a889b_level0_row3\" class=\"row_heading level0 row3\" >3</th>\n",
       "      <td id=\"T_a889b_row3_col0\" class=\"data row3 col0\" >to_dtype</td>\n",
       "      <td id=\"T_a889b_row3_col1\" class=\"data row3 col1\" >0</td>\n",
       "      <td id=\"T_a889b_row3_col2\" class=\"data row3 col2\" >to_numeric_type</td>\n",
       "      <td id=\"T_a889b_row3_col3\" class=\"data row3 col3\" >[\"headers=['age', 'fare']\"]</td>\n",
       "      <td id=\"T_a889b_row3_col4\" class=\"data row3 col4\" >doatridge</td>\n",
       "    </tr>\n",
       "    <tr>\n",
       "      <th id=\"T_a889b_level0_row4\" class=\"row_heading level0 row4\" >4</th>\n",
       "      <td id=\"T_a889b_row4_col0\" class=\"data row4 col0\" ></td>\n",
       "      <td id=\"T_a889b_row4_col1\" class=\"data row4 col1\" >0</td>\n",
       "      <td id=\"T_a889b_row4_col2\" class=\"data row4 col2\" >to_str_type</td>\n",
       "      <td id=\"T_a889b_row4_col3\" class=\"data row4 col3\" >[\"headers=['cabin', 'ticket']\", 'use_string_type=True']</td>\n",
       "      <td id=\"T_a889b_row4_col4\" class=\"data row4 col4\" >doatridge</td>\n",
       "    </tr>\n",
       "  </tbody>\n",
       "</table>\n"
      ],
      "text/plain": [
       "<pandas.io.formats.style.Styler at 0x7f877c64b820>"
      ]
     },
     "execution_count": 4,
     "metadata": {},
     "output_type": "execute_result"
    }
   ],
   "source": [
    "tr.report_intent()"
   ]
  },
  {
   "cell_type": "markdown",
   "id": "ad879612",
   "metadata": {},
   "source": [
    "To run our sampled component we use the familiar method ``run_component_pipeline`` which loads the source data, executes the component task then persists the results. This is the only method you can use to run the tasks of a component and produce its results and should be a familiarized method."
   ]
  },
  {
   "cell_type": "code",
   "execution_count": 5,
   "id": "15d24c42",
   "metadata": {},
   "outputs": [],
   "source": [
    "tr.run_component_pipeline()"
   ]
  },
  {
   "cell_type": "markdown",
   "id": "7bb8e3ea",
   "metadata": {},
   "source": [
    "## Run Ensemble Pipeline\n",
    "More commonly components are run as an ensemble of Domain Contracts with a controller component orchestrating a single or set of other components. Creating and using a controller component gives us far more command over our individual components and allows us a better view of the run. An ensemble of components, orchestrated by a controller is considered akin to a microservice. \n",
    "\n",
    "As we have seen before, as there is only one controller, we don't need to give it a ``task_name`` but we do need to point to the repo where the domain contracts are, including the controller."
   ]
  },
  {
   "cell_type": "code",
   "execution_count": 6,
   "id": "e7c2aada",
   "metadata": {},
   "outputs": [],
   "source": [
    "controller = Controller.from_env(uri_pm_repo=repo)"
   ]
  },
  {
   "cell_type": "markdown",
   "id": "06e465cd",
   "metadata": {},
   "source": [
    "We can now observe the tasks the controller is orchestrating, and their details, allowing us a view of the ensemble or access to the details to dive deeper into each component."
   ]
  },
  {
   "cell_type": "code",
   "execution_count": 7,
   "id": "ea5a4128",
   "metadata": {},
   "outputs": [
    {
     "data": {
      "text/html": [
       "<style type=\"text/css\">\n",
       "#T_6c4c8 th {\n",
       "  font-size: 120%;\n",
       "  text-align: center;\n",
       "}\n",
       "#T_6c4c8 .row_heading {\n",
       "  display: none;;\n",
       "}\n",
       "#T_6c4c8  .blank {\n",
       "  display: none;;\n",
       "}\n",
       "#T_6c4c8_row0_col0, #T_6c4c8_row1_col0 {\n",
       "  text-align: left;\n",
       "  font-weight: bold;\n",
       "  font-size: 120%;\n",
       "}\n",
       "#T_6c4c8_row0_col1, #T_6c4c8_row0_col2, #T_6c4c8_row0_col3, #T_6c4c8_row0_col4, #T_6c4c8_row0_col5, #T_6c4c8_row1_col1, #T_6c4c8_row1_col2, #T_6c4c8_row1_col3, #T_6c4c8_row1_col4, #T_6c4c8_row1_col5 {\n",
       "  text-align: left;\n",
       "}\n",
       "</style>\n",
       "<table id=\"T_6c4c8\">\n",
       "  <thead>\n",
       "    <tr>\n",
       "      <th class=\"blank level0\" >&nbsp;</th>\n",
       "      <th id=\"T_6c4c8_level0_col0\" class=\"col_heading level0 col0\" >level</th>\n",
       "      <th id=\"T_6c4c8_level0_col1\" class=\"col_heading level0 col1\" >order</th>\n",
       "      <th id=\"T_6c4c8_level0_col2\" class=\"col_heading level0 col2\" >component</th>\n",
       "      <th id=\"T_6c4c8_level0_col3\" class=\"col_heading level0 col3\" >task</th>\n",
       "      <th id=\"T_6c4c8_level0_col4\" class=\"col_heading level0 col4\" >parameters</th>\n",
       "      <th id=\"T_6c4c8_level0_col5\" class=\"col_heading level0 col5\" >creator</th>\n",
       "    </tr>\n",
       "  </thead>\n",
       "  <tbody>\n",
       "    <tr>\n",
       "      <th id=\"T_6c4c8_level0_row0\" class=\"row_heading level0 row0\" >0</th>\n",
       "      <td id=\"T_6c4c8_row0_col0\" class=\"data row0 col0\" >hw_transition</td>\n",
       "      <td id=\"T_6c4c8_row0_col1\" class=\"data row0 col1\" >0</td>\n",
       "      <td id=\"T_6c4c8_row0_col2\" class=\"data row0 col2\" >Transition</td>\n",
       "      <td id=\"T_6c4c8_row0_col3\" class=\"data row0 col3\" >'hello_tr'</td>\n",
       "      <td id=\"T_6c4c8_row0_col4\" class=\"data row0 col4\" >[]</td>\n",
       "      <td id=\"T_6c4c8_row0_col5\" class=\"data row0 col5\" >doatridge</td>\n",
       "    </tr>\n",
       "    <tr>\n",
       "      <th id=\"T_6c4c8_level0_row1\" class=\"row_heading level0 row1\" >1</th>\n",
       "      <td id=\"T_6c4c8_row1_col0\" class=\"data row1 col0\" >hw_wrangle</td>\n",
       "      <td id=\"T_6c4c8_row1_col1\" class=\"data row1 col1\" >0</td>\n",
       "      <td id=\"T_6c4c8_row1_col2\" class=\"data row1 col2\" >Wrangle</td>\n",
       "      <td id=\"T_6c4c8_row1_col3\" class=\"data row1 col3\" >'hello_wr'</td>\n",
       "      <td id=\"T_6c4c8_row1_col4\" class=\"data row1 col4\" >[]</td>\n",
       "      <td id=\"T_6c4c8_row1_col5\" class=\"data row1 col5\" >doatridge</td>\n",
       "    </tr>\n",
       "  </tbody>\n",
       "</table>\n"
      ],
      "text/plain": [
       "<pandas.io.formats.style.Styler at 0x7f87816839a0>"
      ]
     },
     "execution_count": 7,
     "metadata": {},
     "output_type": "execute_result"
    }
   ],
   "source": [
    "controller.report_tasks()"
   ]
  },
  {
   "cell_type": "markdown",
   "id": "865ad2db",
   "metadata": {},
   "source": [
    "Finally we run the controller, passing parameters that help us observe the run. "
   ]
  },
  {
   "cell_type": "code",
   "execution_count": 8,
   "id": "99225da4",
   "metadata": {},
   "outputs": [],
   "source": [
    "controller.run_controller(run_cycle_report='cycle_report.csv')"
   ]
  },
  {
   "cell_type": "code",
   "execution_count": 9,
   "id": "c46f7d52",
   "metadata": {},
   "outputs": [
    {
     "data": {
      "text/html": [
       "<div>\n",
       "<style scoped>\n",
       "    .dataframe tbody tr th:only-of-type {\n",
       "        vertical-align: middle;\n",
       "    }\n",
       "\n",
       "    .dataframe tbody tr th {\n",
       "        vertical-align: top;\n",
       "    }\n",
       "\n",
       "    .dataframe thead th {\n",
       "        text-align: right;\n",
       "    }\n",
       "</style>\n",
       "<table border=\"1\" class=\"dataframe\">\n",
       "  <thead>\n",
       "    <tr style=\"text-align: right;\">\n",
       "      <th></th>\n",
       "      <th>time</th>\n",
       "      <th>text</th>\n",
       "    </tr>\n",
       "  </thead>\n",
       "  <tbody>\n",
       "    <tr>\n",
       "      <th>0</th>\n",
       "      <td>2022-12-04 13:47:26.795027</td>\n",
       "      <td>start run-cycle 0</td>\n",
       "    </tr>\n",
       "    <tr>\n",
       "      <th>1</th>\n",
       "      <td>2022-12-04 13:47:26.796115</td>\n",
       "      <td>start task cycle 0</td>\n",
       "    </tr>\n",
       "    <tr>\n",
       "      <th>2</th>\n",
       "      <td>2022-12-04 13:47:26.798488</td>\n",
       "      <td>running hw_transition</td>\n",
       "    </tr>\n",
       "    <tr>\n",
       "      <th>3</th>\n",
       "      <td>2022-12-04 13:47:29.504708</td>\n",
       "      <td>canonical shape is (1309, 10)</td>\n",
       "    </tr>\n",
       "    <tr>\n",
       "      <th>4</th>\n",
       "      <td>2022-12-04 13:47:29.507086</td>\n",
       "      <td>running hw_wrangle</td>\n",
       "    </tr>\n",
       "    <tr>\n",
       "      <th>5</th>\n",
       "      <td>2022-12-04 13:47:30.242702</td>\n",
       "      <td>canonical shape is (1309, 13)</td>\n",
       "    </tr>\n",
       "    <tr>\n",
       "      <th>6</th>\n",
       "      <td>2022-12-04 13:47:30.244415</td>\n",
       "      <td>tasks complete</td>\n",
       "    </tr>\n",
       "    <tr>\n",
       "      <th>7</th>\n",
       "      <td>2022-12-04 13:47:30.245815</td>\n",
       "      <td>end of report</td>\n",
       "    </tr>\n",
       "  </tbody>\n",
       "</table>\n",
       "</div>"
      ],
      "text/plain": [
       "                         time                           text\n",
       "0  2022-12-04 13:47:26.795027              start run-cycle 0\n",
       "1  2022-12-04 13:47:26.796115             start task cycle 0\n",
       "2  2022-12-04 13:47:26.798488          running hw_transition\n",
       "3  2022-12-04 13:47:29.504708  canonical shape is (1309, 10)\n",
       "4  2022-12-04 13:47:29.507086             running hw_wrangle\n",
       "5  2022-12-04 13:47:30.242702  canonical shape is (1309, 13)\n",
       "6  2022-12-04 13:47:30.244415                 tasks complete\n",
       "7  2022-12-04 13:47:30.245815                  end of report"
      ]
     },
     "execution_count": 9,
     "metadata": {},
     "output_type": "execute_result"
    }
   ],
   "source": [
    "controller.load_canonical(connector_name='run_cycle_report')"
   ]
  },
  {
   "cell_type": "code",
   "execution_count": null,
   "id": "40ad65fc",
   "metadata": {},
   "outputs": [],
   "source": []
  }
 ],
 "metadata": {
  "kernelspec": {
   "display_name": "Python 3 (ipykernel)",
   "language": "python",
   "name": "python3"
  },
  "language_info": {
   "codemirror_mode": {
    "name": "ipython",
    "version": 3
   },
   "file_extension": ".py",
   "mimetype": "text/x-python",
   "name": "python",
   "nbconvert_exporter": "python",
   "pygments_lexer": "ipython3",
   "version": "3.10.8"
  }
 },
 "nbformat": 4,
 "nbformat_minor": 5
}
