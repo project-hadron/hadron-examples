{
 "cells": [
  {
   "cell_type": "markdown",
   "id": "4c584122",
   "metadata": {},
   "source": [
    "<cite>Darryl Oatridge, November 2022<cite>"
   ]
  },
  {
   "cell_type": "markdown",
   "id": "1f0f685f",
   "metadata": {},
   "source": [
    "# Citing the Data \n",
    "Adding citations to support appropriate attribution by third-party users in order to formally incorporate data reuse"
   ]
  },
  {
   "cell_type": "code",
   "execution_count": 1,
   "id": "7a0b0bd7",
   "metadata": {},
   "outputs": [],
   "source": [
    "from ds_discovery import Transition\n",
    "from aistac.handlers.abstract_handlers import ConnectorContract"
   ]
  },
  {
   "cell_type": "markdown",
   "id": "d627e489",
   "metadata": {
    "pycharm": {
     "name": "#%% md\n"
    }
   },
   "source": [
    "\n",
    "## Dataset Citation\n",
    "As part of the set-up process and as best practice, the component is cited through added knowledge from the component's creator or SME feedback.  In addition the data location of the source and persist is also captured.\n",
    "\n",
    "This is extended with the Project Hadron transistion component, considered the data entry point reporting tool, which includes a special method call to add provenance. Provenance sites a number of origin indicators that guide the user to the data's provenance, its restrictions such as cost and license, its provider and the data's author.\n",
    "\n",
    "Additional knowledge can be added beyond the set provenance (see other sections)."
   ]
  },
  {
   "cell_type": "code",
   "execution_count": 2,
   "id": "dcfcdc21",
   "metadata": {},
   "outputs": [],
   "source": [
    "tr = Transition.from_env('demo_citation', has_contract=False)"
   ]
  },
  {
   "cell_type": "markdown",
   "id": "e217a1ac",
   "metadata": {},
   "source": [
    "### Adding Citation \n",
    "As part of the set-up process, or at anytime during the component development cycle, information can be gathered and added to the component as part of its information store.\n",
    "\n",
    "It is worth noting, method calls allow partial completion with additional information added at a later date as knowledge is gained or changed."
   ]
  },
  {
   "cell_type": "code",
   "execution_count": 3,
   "id": "05ad87d0",
   "metadata": {},
   "outputs": [],
   "source": [
    "tr.set_description(\"Every arrest effected in NYC by the NYPD from 2006 to the end of the previous calendar year\")\n",
    "tr.set_version('0.0.1')\n",
    "tr.set_status('discovery')\n",
    "tr.set_source_uri(uri=\"https://data.cityofnewyork.us/api/views/8h9b-rp9u/rows.csv\")\n",
    "tr.set_persist(uri_file='NYPD_Arrest_Historic.parquet')\n",
    "tr.setup_bootstrap(domain='Public Safty', \n",
    "                   project_name='arrest_reduction', \n",
    "                   description=\"Validate datasets quality, quantity, verasity and completeness\", \n",
    "                   file_type='parquet')"
   ]
  },
  {
   "cell_type": "code",
   "execution_count": 4,
   "id": "6f342bb7",
   "metadata": {},
   "outputs": [],
   "source": [
    "tr.set_provenance(title='NYPD Histroic Arrest Data',\n",
    "                  domain='Public Safty', \n",
    "                  license_type='Public Consuption',\n",
    "                  description=\"List of every arrest in NYC going back to 2006 through the end of the previous calendar year.\",\n",
    "                  provider_name='Police Department (NYPD)', \n",
    "                  provider_uri=\"https://data.cityofnewyork.us/Public-Safety/NYPD-Arrests-Data-Historic-/8h9b-rp9u\",\n",
    "                  provider_note=\"This data is manually extracted every quarter and reviewed by the Office of Management Analysis and Planning before being posted on the NYPD website.\",\n",
    "                  cost_price=\"$0.00\",\n",
    "                  cost_type=\"batch\")"
   ]
  },
  {
   "cell_type": "markdown",
   "id": "3f88c209",
   "metadata": {},
   "source": [
    "## Reports\n",
    "Once information is added it can easily be accessed, either visually through reporting or remotely through predefined connector contracts. In our case we are visually displaying the reports for the purpose of demonstration but would normally be connected to a reporting tool for information capture."
   ]
  },
  {
   "cell_type": "markdown",
   "id": "cbee66b2",
   "metadata": {},
   "source": [
    "#### Component Reporting\n",
    "\n",
    "Our initial report shows information capture about our component."
   ]
  },
  {
   "cell_type": "code",
   "execution_count": 5,
   "id": "f191eb6c",
   "metadata": {},
   "outputs": [
    {
     "data": {
      "text/html": [
       "<style type=\"text/css\">\n",
       "#T_6eeeb th {\n",
       "  font-size: 120%;\n",
       "  text-align: center;\n",
       "}\n",
       "#T_6eeeb .row_heading {\n",
       "  display: none;;\n",
       "}\n",
       "#T_6eeeb  .blank {\n",
       "  display: none;;\n",
       "}\n",
       "#T_6eeeb_row0_col0, #T_6eeeb_row1_col0, #T_6eeeb_row2_col0, #T_6eeeb_row3_col0, #T_6eeeb_row4_col0 {\n",
       "  text-align: left;\n",
       "  font-weight: bold;\n",
       "  font-size: 120%;\n",
       "}\n",
       "#T_6eeeb_row0_col1, #T_6eeeb_row1_col1, #T_6eeeb_row2_col1, #T_6eeeb_row3_col1, #T_6eeeb_row4_col1 {\n",
       "  text-align: left;\n",
       "}\n",
       "</style>\n",
       "<table id=\"T_6eeeb\">\n",
       "  <thead>\n",
       "    <tr>\n",
       "      <th class=\"blank level0\" >&nbsp;</th>\n",
       "      <th id=\"T_6eeeb_level0_col0\" class=\"col_heading level0 col0\" >name</th>\n",
       "      <th id=\"T_6eeeb_level0_col1\" class=\"col_heading level0 col1\" >value</th>\n",
       "    </tr>\n",
       "  </thead>\n",
       "  <tbody>\n",
       "    <tr>\n",
       "      <th id=\"T_6eeeb_level0_row0\" class=\"row_heading level0 row0\" >0</th>\n",
       "      <td id=\"T_6eeeb_row0_col0\" class=\"data row0 col0\" >contract</td>\n",
       "      <td id=\"T_6eeeb_row0_col1\" class=\"data row0 col1\" >transition</td>\n",
       "    </tr>\n",
       "    <tr>\n",
       "      <th id=\"T_6eeeb_level0_row1\" class=\"row_heading level0 row1\" >1</th>\n",
       "      <td id=\"T_6eeeb_row1_col0\" class=\"data row1 col0\" >task</td>\n",
       "      <td id=\"T_6eeeb_row1_col1\" class=\"data row1 col1\" >demo_citation</td>\n",
       "    </tr>\n",
       "    <tr>\n",
       "      <th id=\"T_6eeeb_level0_row2\" class=\"row_heading level0 row2\" >2</th>\n",
       "      <td id=\"T_6eeeb_row2_col0\" class=\"data row2 col0\" >description</td>\n",
       "      <td id=\"T_6eeeb_row2_col1\" class=\"data row2 col1\" >Validate datasets quality, quantity, verasity and completeness</td>\n",
       "    </tr>\n",
       "    <tr>\n",
       "      <th id=\"T_6eeeb_level0_row3\" class=\"row_heading level0 row3\" >3</th>\n",
       "      <td id=\"T_6eeeb_row3_col0\" class=\"data row3 col0\" >status</td>\n",
       "      <td id=\"T_6eeeb_row3_col1\" class=\"data row3 col1\" >discovery</td>\n",
       "    </tr>\n",
       "    <tr>\n",
       "      <th id=\"T_6eeeb_level0_row4\" class=\"row_heading level0 row4\" >4</th>\n",
       "      <td id=\"T_6eeeb_row4_col0\" class=\"data row4 col0\" >version</td>\n",
       "      <td id=\"T_6eeeb_row4_col1\" class=\"data row4 col1\" >0.0.1</td>\n",
       "    </tr>\n",
       "  </tbody>\n",
       "</table>\n"
      ],
      "text/plain": [
       "<pandas.io.formats.style.Styler at 0x7f9752c040a0>"
      ]
     },
     "execution_count": 5,
     "metadata": {},
     "output_type": "execute_result"
    }
   ],
   "source": [
    "tr.report_task()"
   ]
  },
  {
   "cell_type": "markdown",
   "id": "0d390228",
   "metadata": {},
   "source": [
    "#### Connectivity Reporting\n",
    "\n",
    "As part of all components one can also interrogate where data is coming from and going to, which connector contracts have been set up and what they look like. In this case we only require our primary source and persist connectors from which we can identify the data's location and how we retrived it."
   ]
  },
  {
   "cell_type": "code",
   "execution_count": 6,
   "id": "226f07c5",
   "metadata": {},
   "outputs": [
    {
     "data": {
      "text/html": [
       "<style type=\"text/css\">\n",
       "#T_def66 th {\n",
       "  font-size: 120%;\n",
       "  text-align: center;\n",
       "}\n",
       "#T_def66 .row_heading {\n",
       "  display: none;;\n",
       "}\n",
       "#T_def66  .blank {\n",
       "  display: none;;\n",
       "}\n",
       "#T_def66_row0_col0, #T_def66_row1_col0 {\n",
       "  text-align: left;\n",
       "  font-weight: bold;\n",
       "  font-size: 120%;\n",
       "}\n",
       "#T_def66_row0_col1, #T_def66_row0_col2, #T_def66_row0_col3, #T_def66_row0_col4, #T_def66_row0_col5, #T_def66_row0_col6, #T_def66_row0_col7, #T_def66_row1_col1, #T_def66_row1_col2, #T_def66_row1_col3, #T_def66_row1_col4, #T_def66_row1_col5, #T_def66_row1_col6, #T_def66_row1_col7 {\n",
       "  text-align: left;\n",
       "}\n",
       "</style>\n",
       "<table id=\"T_def66\">\n",
       "  <thead>\n",
       "    <tr>\n",
       "      <th class=\"blank level0\" >&nbsp;</th>\n",
       "      <th id=\"T_def66_level0_col0\" class=\"col_heading level0 col0\" >connector_name</th>\n",
       "      <th id=\"T_def66_level0_col1\" class=\"col_heading level0 col1\" >uri</th>\n",
       "      <th id=\"T_def66_level0_col2\" class=\"col_heading level0 col2\" >module_name</th>\n",
       "      <th id=\"T_def66_level0_col3\" class=\"col_heading level0 col3\" >handler</th>\n",
       "      <th id=\"T_def66_level0_col4\" class=\"col_heading level0 col4\" >version</th>\n",
       "      <th id=\"T_def66_level0_col5\" class=\"col_heading level0 col5\" >kwargs</th>\n",
       "      <th id=\"T_def66_level0_col6\" class=\"col_heading level0 col6\" >query</th>\n",
       "      <th id=\"T_def66_level0_col7\" class=\"col_heading level0 col7\" >aligned</th>\n",
       "    </tr>\n",
       "  </thead>\n",
       "  <tbody>\n",
       "    <tr>\n",
       "      <th id=\"T_def66_level0_row0\" class=\"row_heading level0 row0\" >0</th>\n",
       "      <td id=\"T_def66_row0_col0\" class=\"data row0 col0\" >primary_source</td>\n",
       "      <td id=\"T_def66_row0_col1\" class=\"data row0 col1\" >https://data.cityofnewyork.us/api/views/8h9b-rp9u/rows.csv</td>\n",
       "      <td id=\"T_def66_row0_col2\" class=\"data row0 col2\" >ds_discovery.handlers.pandas_handlers</td>\n",
       "      <td id=\"T_def66_row0_col3\" class=\"data row0 col3\" >PandasPersistHandler</td>\n",
       "      <td id=\"T_def66_row0_col4\" class=\"data row0 col4\" >0.0.1</td>\n",
       "      <td id=\"T_def66_row0_col5\" class=\"data row0 col5\" ></td>\n",
       "      <td id=\"T_def66_row0_col6\" class=\"data row0 col6\" ></td>\n",
       "      <td id=\"T_def66_row0_col7\" class=\"data row0 col7\" >False</td>\n",
       "    </tr>\n",
       "    <tr>\n",
       "      <th id=\"T_def66_level0_row1\" class=\"row_heading level0 row1\" >1</th>\n",
       "      <td id=\"T_def66_row1_col0\" class=\"data row1 col0\" >primary_persist</td>\n",
       "      <td id=\"T_def66_row1_col1\" class=\"data row1 col1\" >./hadron/data/arrest_reduction_transition_demo_citation_dataset${VERSION}.parquet</td>\n",
       "      <td id=\"T_def66_row1_col2\" class=\"data row1 col2\" >ds_discovery.handlers.pandas_handlers</td>\n",
       "      <td id=\"T_def66_row1_col3\" class=\"data row1 col3\" >PandasPersistHandler</td>\n",
       "      <td id=\"T_def66_row1_col4\" class=\"data row1 col4\" >0.0.1</td>\n",
       "      <td id=\"T_def66_row1_col5\" class=\"data row1 col5\" ></td>\n",
       "      <td id=\"T_def66_row1_col6\" class=\"data row1 col6\" ></td>\n",
       "      <td id=\"T_def66_row1_col7\" class=\"data row1 col7\" >True</td>\n",
       "    </tr>\n",
       "  </tbody>\n",
       "</table>\n"
      ],
      "text/plain": [
       "<pandas.io.formats.style.Styler at 0x7f9752c04a30>"
      ]
     },
     "execution_count": 6,
     "metadata": {},
     "output_type": "execute_result"
    }
   ],
   "source": [
    "tr.report_connectors()"
   ]
  },
  {
   "cell_type": "markdown",
   "id": "af200e76",
   "metadata": {},
   "source": [
    "#### Provenance Reporting\n",
    "\n",
    "Finially and specificially to the transistioning component, we citate the provider of our data and that citation can be added to as knowledge is gained.\n",
    "\n",
    "This information not only shows us the domain and description of the provider but also the providers details, the datas author and restrictions on that data through license and costs.  This information can easily be passed to a separate component that could for example monitor cost/spend on data throughput or collate common provider sourcing for data reuse."
   ]
  },
  {
   "cell_type": "code",
   "execution_count": 7,
   "id": "d6a2c4da",
   "metadata": {},
   "outputs": [
    {
     "data": {
      "text/html": [
       "<style type=\"text/css\">\n",
       "#T_8f4cc th {\n",
       "  font-size: 120%;\n",
       "  text-align: center;\n",
       "}\n",
       "#T_8f4cc .row_heading {\n",
       "  display: none;;\n",
       "}\n",
       "#T_8f4cc  .blank {\n",
       "  display: none;;\n",
       "}\n",
       "#T_8f4cc_row0_col0, #T_8f4cc_row1_col0, #T_8f4cc_row2_col0, #T_8f4cc_row3_col0, #T_8f4cc_row4_col0, #T_8f4cc_row5_col0, #T_8f4cc_row6_col0, #T_8f4cc_row7_col0, #T_8f4cc_row8_col0, #T_8f4cc_row9_col0, #T_8f4cc_row10_col0 {\n",
       "  text-align: left;\n",
       "  font-weight: bold;\n",
       "  font-size: 120%;\n",
       "}\n",
       "#T_8f4cc_row0_col1, #T_8f4cc_row1_col1, #T_8f4cc_row2_col1, #T_8f4cc_row3_col1, #T_8f4cc_row4_col1, #T_8f4cc_row5_col1, #T_8f4cc_row6_col1, #T_8f4cc_row7_col1, #T_8f4cc_row8_col1, #T_8f4cc_row9_col1, #T_8f4cc_row10_col1 {\n",
       "  text-align: left;\n",
       "}\n",
       "</style>\n",
       "<table id=\"T_8f4cc\">\n",
       "  <thead>\n",
       "    <tr>\n",
       "      <th class=\"blank level0\" >&nbsp;</th>\n",
       "      <th id=\"T_8f4cc_level0_col0\" class=\"col_heading level0 col0\" >provenance</th>\n",
       "      <th id=\"T_8f4cc_level0_col1\" class=\"col_heading level0 col1\" >values</th>\n",
       "    </tr>\n",
       "  </thead>\n",
       "  <tbody>\n",
       "    <tr>\n",
       "      <th id=\"T_8f4cc_level0_row0\" class=\"row_heading level0 row0\" >0</th>\n",
       "      <td id=\"T_8f4cc_row0_col0\" class=\"data row0 col0\" >title</td>\n",
       "      <td id=\"T_8f4cc_row0_col1\" class=\"data row0 col1\" >NYPD Histroic Arrest Data</td>\n",
       "    </tr>\n",
       "    <tr>\n",
       "      <th id=\"T_8f4cc_level0_row1\" class=\"row_heading level0 row1\" >1</th>\n",
       "      <td id=\"T_8f4cc_row1_col0\" class=\"data row1 col0\" >domain</td>\n",
       "      <td id=\"T_8f4cc_row1_col1\" class=\"data row1 col1\" >Public Safty</td>\n",
       "    </tr>\n",
       "    <tr>\n",
       "      <th id=\"T_8f4cc_level0_row2\" class=\"row_heading level0 row2\" >2</th>\n",
       "      <td id=\"T_8f4cc_row2_col0\" class=\"data row2 col0\" >description</td>\n",
       "      <td id=\"T_8f4cc_row2_col1\" class=\"data row2 col1\" >List of every arrest in NYC going back to 2006 through the end of the previous calendar year.</td>\n",
       "    </tr>\n",
       "    <tr>\n",
       "      <th id=\"T_8f4cc_level0_row3\" class=\"row_heading level0 row3\" >3</th>\n",
       "      <td id=\"T_8f4cc_row3_col0\" class=\"data row3 col0\" >license_type</td>\n",
       "      <td id=\"T_8f4cc_row3_col1\" class=\"data row3 col1\" >Public Consuption</td>\n",
       "    </tr>\n",
       "    <tr>\n",
       "      <th id=\"T_8f4cc_level0_row4\" class=\"row_heading level0 row4\" >4</th>\n",
       "      <td id=\"T_8f4cc_row4_col0\" class=\"data row4 col0\" >license_name</td>\n",
       "      <td id=\"T_8f4cc_row4_col1\" class=\"data row4 col1\" >Open Data Commons Attribution License</td>\n",
       "    </tr>\n",
       "    <tr>\n",
       "      <th id=\"T_8f4cc_level0_row5\" class=\"row_heading level0 row5\" >5</th>\n",
       "      <td id=\"T_8f4cc_row5_col0\" class=\"data row5 col0\" >license_uri</td>\n",
       "      <td id=\"T_8f4cc_row5_col1\" class=\"data row5 col1\" >https://opendatacommons.org/licenses/pddl/summary</td>\n",
       "    </tr>\n",
       "    <tr>\n",
       "      <th id=\"T_8f4cc_level0_row6\" class=\"row_heading level0 row6\" >6</th>\n",
       "      <td id=\"T_8f4cc_row6_col0\" class=\"data row6 col0\" >cost_price</td>\n",
       "      <td id=\"T_8f4cc_row6_col1\" class=\"data row6 col1\" >$0.00</td>\n",
       "    </tr>\n",
       "    <tr>\n",
       "      <th id=\"T_8f4cc_level0_row7\" class=\"row_heading level0 row7\" >7</th>\n",
       "      <td id=\"T_8f4cc_row7_col0\" class=\"data row7 col0\" >cost_type</td>\n",
       "      <td id=\"T_8f4cc_row7_col1\" class=\"data row7 col1\" >batch</td>\n",
       "    </tr>\n",
       "    <tr>\n",
       "      <th id=\"T_8f4cc_level0_row8\" class=\"row_heading level0 row8\" >8</th>\n",
       "      <td id=\"T_8f4cc_row8_col0\" class=\"data row8 col0\" >provider_name</td>\n",
       "      <td id=\"T_8f4cc_row8_col1\" class=\"data row8 col1\" >Police Department (NYPD)</td>\n",
       "    </tr>\n",
       "    <tr>\n",
       "      <th id=\"T_8f4cc_level0_row9\" class=\"row_heading level0 row9\" >9</th>\n",
       "      <td id=\"T_8f4cc_row9_col0\" class=\"data row9 col0\" >provider_uri</td>\n",
       "      <td id=\"T_8f4cc_row9_col1\" class=\"data row9 col1\" >https://data.cityofnewyork.us/Public-Safety/NYPD-Arrests-Data-Historic-/8h9b-rp9u</td>\n",
       "    </tr>\n",
       "    <tr>\n",
       "      <th id=\"T_8f4cc_level0_row10\" class=\"row_heading level0 row10\" >10</th>\n",
       "      <td id=\"T_8f4cc_row10_col0\" class=\"data row10 col0\" >provider_note</td>\n",
       "      <td id=\"T_8f4cc_row10_col1\" class=\"data row10 col1\" >This data is manually extracted every quarter and reviewed by the Office of Management Analysis and Planning before being posted on the NYPD website.</td>\n",
       "    </tr>\n",
       "  </tbody>\n",
       "</table>\n"
      ],
      "text/plain": [
       "<pandas.io.formats.style.Styler at 0x7f9752d7d270>"
      ]
     },
     "execution_count": 7,
     "metadata": {},
     "output_type": "execute_result"
    }
   ],
   "source": [
    "tr.report_provenance()"
   ]
  },
  {
   "cell_type": "code",
   "execution_count": null,
   "id": "13ec26dd",
   "metadata": {},
   "outputs": [],
   "source": []
  }
 ],
 "metadata": {
  "kernelspec": {
   "display_name": "Python 3 (ipykernel)",
   "language": "python",
   "name": "python3"
  },
  "language_info": {
   "codemirror_mode": {
    "name": "ipython",
    "version": 3
   },
   "file_extension": ".py",
   "mimetype": "text/x-python",
   "name": "python",
   "nbconvert_exporter": "python",
   "pygments_lexer": "ipython3",
   "version": "3.10.8"
  }
 },
 "nbformat": 4,
 "nbformat_minor": 5
}
