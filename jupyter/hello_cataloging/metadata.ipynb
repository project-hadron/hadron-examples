{
 "cells": [
  {
   "cell_type": "markdown",
   "id": "a905c4fa",
   "metadata": {},
   "source": [
    "<cite>Darryl Oatridge, August 2022<cite>"
   ]
  },
  {
   "cell_type": "markdown",
   "id": "d94838fc",
   "metadata": {},
   "source": [
    "## Validating and Adding Metadata \n",
    "- Information about a data set that is structured (often in machine-readable format) for purposes of search and retrieval.\n",
    "\n",
    "## Citing the Data \n",
    "- Adding citations to support appropriate attribution by third-party users in order to formally incorporate data reuse.\n"
   ]
  },
  {
   "cell_type": "code",
   "execution_count": 1,
   "id": "b0deea94-c732-44ea-8402-75f2c7d6ec36",
   "metadata": {},
   "outputs": [],
   "source": [
    "from ds_discovery import Transition, Wrangle"
   ]
  },
  {
   "cell_type": "markdown",
   "id": "6b77a1cf-eaaf-40b4-9918-1d392e60f41e",
   "metadata": {},
   "source": [
    "## Adding Metadata\n",
    "\n",
    "During the process of development multiple experts add value to our understanding of the dataset.  Project Hadron captures this knowledge as part of its metadata and provides easy access tools to retain this knowledge at real or near real time as well as adding it retrospectively through automated processes. \n",
    "\n",
    "Knowledge capture is placed under a tree structure of: \n",
    "- catalogue: provides an encompassing group identifier such as attributes or observations. \n",
    "- label: a subset of catagories identifing the individual set of text such as attribute name or observation type.\n",
    "- text: a brief or descriptive narrative of the catalogue and label. Text is immutable thus new text with the same catalogue and label will be added to the existing content.\n",
    "\n",
    "\n"
   ]
  },
  {
   "cell_type": "code",
   "execution_count": 2,
   "id": "c2702f5c-53fb-443f-a96b-c215839a68c8",
   "metadata": {},
   "outputs": [],
   "source": [
    "tr = Transition.from_env('demo_metadata', has_contract=False)"
   ]
  },
  {
   "cell_type": "markdown",
   "id": "339f8e42",
   "metadata": {},
   "source": [
    "#### Set File Source\n",
    "Initially we set the file source for our data of interest and run the component."
   ]
  },
  {
   "cell_type": "code",
   "execution_count": 3,
   "id": "18117fe2-6532-492d-a331-bce74d4c8ca2",
   "metadata": {},
   "outputs": [],
   "source": [
    "## Set the file source location\n",
    "tr.set_source_uri('https://raw.githubusercontent.com/mwaskom/seaborn-data/master/titanic.csv', template_aligned=False)\n",
    "tr.set_persist()\n",
    "tr.set_description(\"Titanic Dataset used by Seaborn\")"
   ]
  },
  {
   "cell_type": "markdown",
   "id": "19464435",
   "metadata": {},
   "source": [
    "### Adding Attributes\n",
    "\n",
    "A vital part of understanding one's dataset is to describe the attributes provided.  In this instance we name our  catalogue group 'attributes'.  The attributes are labeled with the name of the attribute and given a description.\n"
   ]
  },
  {
   "cell_type": "code",
   "execution_count": 4,
   "id": "4e5b7ac5-3a8e-4c31-8fb3-5a776ed92cce",
   "metadata": {},
   "outputs": [],
   "source": [
    "## Add some attribute descriptions\n",
    "tr.add_notes(catalog='attributes', label='age', text='The age of the passenger has limited null values')\n",
    "tr.add_notes(catalog='attributes', label='deck', text='cabin has already been split into deck from the originals')\n",
    "tr.add_notes(catalog='attributes', label='fare', text='the price of the fair')\n",
    "tr.add_notes(catalog='attributes', label='pclass', text='The class of the passenger')\n",
    "tr.add_notes(catalog='attributes', label='sex', text='The gender of the passenger')\n",
    "tr.add_notes(catalog='attributes', label='survived', text='If the passenger survived or not as the target')\n",
    "tr.add_notes(catalog='attributes', label='embarked', text='The code for the port the passengered embarked')"
   ]
  },
  {
   "cell_type": "markdown",
   "id": "2efccaee",
   "metadata": {},
   "source": [
    "### Adding  Observations\n",
    "\n",
    "In addition we can capture feedback from an SME or data owner, for example.  In this case we capture 'observations' as our catalogue and 'describe' as our label which we maintain for both descriptions.\n",
    "\n",
    "One can now use the reporting tool to visually present the knowledge added.  It is worth noting that with observations each description has been captured.\n",
    "\n"
   ]
  },
  {
   "cell_type": "code",
   "execution_count": 5,
   "id": "f3cb27bf",
   "metadata": {},
   "outputs": [],
   "source": [
    "tr.add_notes(catalog='observations', label='describe', \n",
    "             text='The original Titanic dataset has been engineered to fit Seaborn functionality')\n",
    "tr.add_notes(catalog='observations', label='describe', \n",
    "             text='The age and deck attributes still maintain their null values')\n"
   ]
  },
  {
   "cell_type": "code",
   "execution_count": 6,
   "id": "35f4a11e-cbc8-4226-9110-85a72a3ca30c",
   "metadata": {},
   "outputs": [
    {
     "data": {
      "text/html": [
       "<style type=\"text/css\">\n",
       "#T_51f2d th {\n",
       "  font-size: 120%;\n",
       "  text-align: center;\n",
       "}\n",
       "#T_51f2d .row_heading {\n",
       "  display: none;;\n",
       "}\n",
       "#T_51f2d  .blank {\n",
       "  display: none;;\n",
       "}\n",
       "#T_51f2d_row0_col0, #T_51f2d_row1_col0, #T_51f2d_row2_col0, #T_51f2d_row3_col0, #T_51f2d_row4_col0, #T_51f2d_row5_col0, #T_51f2d_row6_col0, #T_51f2d_row7_col0, #T_51f2d_row8_col0 {\n",
       "  text-align: left;\n",
       "  font-weight: bold;\n",
       "  font-size: 120%;\n",
       "}\n",
       "#T_51f2d_row0_col1, #T_51f2d_row1_col1, #T_51f2d_row2_col1, #T_51f2d_row3_col1, #T_51f2d_row4_col1, #T_51f2d_row5_col1, #T_51f2d_row6_col1, #T_51f2d_row7_col1, #T_51f2d_row8_col1 {\n",
       "  text-align: left;\n",
       "  font-weight: bold;\n",
       "}\n",
       "#T_51f2d_row0_col2, #T_51f2d_row1_col2, #T_51f2d_row2_col2, #T_51f2d_row3_col2, #T_51f2d_row4_col2, #T_51f2d_row5_col2, #T_51f2d_row6_col2, #T_51f2d_row7_col2, #T_51f2d_row8_col2 {\n",
       "  text-align: left;\n",
       "}\n",
       "</style>\n",
       "<table id=\"T_51f2d\">\n",
       "  <thead>\n",
       "    <tr>\n",
       "      <th class=\"blank level0\" >&nbsp;</th>\n",
       "      <th id=\"T_51f2d_level0_col0\" class=\"col_heading level0 col0\" >section</th>\n",
       "      <th id=\"T_51f2d_level0_col1\" class=\"col_heading level0 col1\" >label</th>\n",
       "      <th id=\"T_51f2d_level0_col2\" class=\"col_heading level0 col2\" >text</th>\n",
       "    </tr>\n",
       "  </thead>\n",
       "  <tbody>\n",
       "    <tr>\n",
       "      <th id=\"T_51f2d_level0_row0\" class=\"row_heading level0 row0\" >0</th>\n",
       "      <td id=\"T_51f2d_row0_col0\" class=\"data row0 col0\" >observations</td>\n",
       "      <td id=\"T_51f2d_row0_col1\" class=\"data row0 col1\" >describe</td>\n",
       "      <td id=\"T_51f2d_row0_col2\" class=\"data row0 col2\" >The original Titanic dataset has been engineered to fit Seaborn functionality</td>\n",
       "    </tr>\n",
       "    <tr>\n",
       "      <th id=\"T_51f2d_level0_row1\" class=\"row_heading level0 row1\" >1</th>\n",
       "      <td id=\"T_51f2d_row1_col0\" class=\"data row1 col0\" ></td>\n",
       "      <td id=\"T_51f2d_row1_col1\" class=\"data row1 col1\" >describe</td>\n",
       "      <td id=\"T_51f2d_row1_col2\" class=\"data row1 col2\" >The age and deck attributes still maintain their null values</td>\n",
       "    </tr>\n",
       "    <tr>\n",
       "      <th id=\"T_51f2d_level0_row2\" class=\"row_heading level0 row2\" >2</th>\n",
       "      <td id=\"T_51f2d_row2_col0\" class=\"data row2 col0\" >attributes</td>\n",
       "      <td id=\"T_51f2d_row2_col1\" class=\"data row2 col1\" >age</td>\n",
       "      <td id=\"T_51f2d_row2_col2\" class=\"data row2 col2\" >The age of the passenger has limited null values</td>\n",
       "    </tr>\n",
       "    <tr>\n",
       "      <th id=\"T_51f2d_level0_row3\" class=\"row_heading level0 row3\" >3</th>\n",
       "      <td id=\"T_51f2d_row3_col0\" class=\"data row3 col0\" ></td>\n",
       "      <td id=\"T_51f2d_row3_col1\" class=\"data row3 col1\" >deck</td>\n",
       "      <td id=\"T_51f2d_row3_col2\" class=\"data row3 col2\" >cabin has already been split into deck from the originals</td>\n",
       "    </tr>\n",
       "    <tr>\n",
       "      <th id=\"T_51f2d_level0_row4\" class=\"row_heading level0 row4\" >4</th>\n",
       "      <td id=\"T_51f2d_row4_col0\" class=\"data row4 col0\" ></td>\n",
       "      <td id=\"T_51f2d_row4_col1\" class=\"data row4 col1\" >fare</td>\n",
       "      <td id=\"T_51f2d_row4_col2\" class=\"data row4 col2\" >the price of the fair</td>\n",
       "    </tr>\n",
       "    <tr>\n",
       "      <th id=\"T_51f2d_level0_row5\" class=\"row_heading level0 row5\" >5</th>\n",
       "      <td id=\"T_51f2d_row5_col0\" class=\"data row5 col0\" ></td>\n",
       "      <td id=\"T_51f2d_row5_col1\" class=\"data row5 col1\" >pclass</td>\n",
       "      <td id=\"T_51f2d_row5_col2\" class=\"data row5 col2\" >The class of the passenger</td>\n",
       "    </tr>\n",
       "    <tr>\n",
       "      <th id=\"T_51f2d_level0_row6\" class=\"row_heading level0 row6\" >6</th>\n",
       "      <td id=\"T_51f2d_row6_col0\" class=\"data row6 col0\" ></td>\n",
       "      <td id=\"T_51f2d_row6_col1\" class=\"data row6 col1\" >sex</td>\n",
       "      <td id=\"T_51f2d_row6_col2\" class=\"data row6 col2\" >The gender of the passenger</td>\n",
       "    </tr>\n",
       "    <tr>\n",
       "      <th id=\"T_51f2d_level0_row7\" class=\"row_heading level0 row7\" >7</th>\n",
       "      <td id=\"T_51f2d_row7_col0\" class=\"data row7 col0\" ></td>\n",
       "      <td id=\"T_51f2d_row7_col1\" class=\"data row7 col1\" >survived</td>\n",
       "      <td id=\"T_51f2d_row7_col2\" class=\"data row7 col2\" >If the passenger survived or not as the target</td>\n",
       "    </tr>\n",
       "    <tr>\n",
       "      <th id=\"T_51f2d_level0_row8\" class=\"row_heading level0 row8\" >8</th>\n",
       "      <td id=\"T_51f2d_row8_col0\" class=\"data row8 col0\" ></td>\n",
       "      <td id=\"T_51f2d_row8_col1\" class=\"data row8 col1\" >embarked</td>\n",
       "      <td id=\"T_51f2d_row8_col2\" class=\"data row8 col2\" >The code for the port the passengered embarked</td>\n",
       "    </tr>\n",
       "  </tbody>\n",
       "</table>\n"
      ],
      "text/plain": [
       "<pandas.io.formats.style.Styler at 0x7fcb29af3880>"
      ]
     },
     "execution_count": 6,
     "metadata": {},
     "output_type": "execute_result"
    }
   ],
   "source": [
    "tr.report_notes(drop_dates=True)"
   ]
  },
  {
   "cell_type": "markdown",
   "id": "0daba255",
   "metadata": {},
   "source": [
    "-------------------\n",
    "## Bulk Notes\n",
    "\n",
    "In addition to adding individual notes one also has the ability to upload bulk notes from an external data source.  In our next example we take an order book and from an already existing description catalogue extract that knowledge and add it to our attributes.  "
   ]
  },
  {
   "cell_type": "code",
   "execution_count": 7,
   "id": "f3bf2da4-e6c2-47bf-a156-c5ea9e521215",
   "metadata": {},
   "outputs": [],
   "source": [
    "tr = Transition.from_env('cs_orders', has_contract=False)"
   ]
  },
  {
   "cell_type": "markdown",
   "id": "6529f496",
   "metadata": {},
   "source": [
    "#### Set File Source\n",
    "\n",
    "Initially set the file source for the data of interest and run the component."
   ]
  },
  {
   "cell_type": "code",
   "execution_count": 8,
   "id": "9871efe9-624b-4502-a2bc-00c51fe611fd",
   "metadata": {},
   "outputs": [],
   "source": [
    "tr.set_source_uri(uri='data/CS_ORDERS.txt', sep='\\t', error_bad_lines=False, low_memory=True, encoding='Latin1')\n",
    "tr.set_persist()\n",
    "tr.set_description(\"Consumer Notebook Orders for Q4 FY20\")"
   ]
  },
  {
   "cell_type": "markdown",
   "id": "936b53ad",
   "metadata": {},
   "source": [
    "#### Connect the Bulk Uploiad\n",
    "\n",
    "First create a connector to the information source."
   ]
  },
  {
   "cell_type": "code",
   "execution_count": 9,
   "id": "fe25b5bb",
   "metadata": {},
   "outputs": [],
   "source": [
    "tr.add_connector_uri(connector_name='bulk_notes', uri='data/cs_orders_dictionary.csv')"
   ]
  },
  {
   "cell_type": "markdown",
   "id": "f2670088",
   "metadata": {},
   "source": [
    "#### Upload the Descriptions\n",
    "\n",
    "With our connector in place one can now load that data and specify the columns of interest that provide both the label and the text.\n",
    "\n",
    "Using our reporting tool one can now observe that attribute descriptions have been uploaded."
   ]
  },
  {
   "cell_type": "code",
   "execution_count": 10,
   "id": "e9ecfc04-0a35-4367-b5de-c4a6710e6404",
   "metadata": {},
   "outputs": [],
   "source": [
    "notes = tr.load_canonical(connector_name='bulk_notes')\n",
    "tr.upload_notes(canonical=notes, catalog='attributes', label_key='Attribute', text_key='Description')"
   ]
  },
  {
   "cell_type": "code",
   "execution_count": 11,
   "id": "16e46862",
   "metadata": {
    "scrolled": false
   },
   "outputs": [
    {
     "data": {
      "text/html": [
       "<style type=\"text/css\">\n",
       "#T_e550b th {\n",
       "  font-size: 120%;\n",
       "  text-align: center;\n",
       "}\n",
       "#T_e550b .row_heading {\n",
       "  display: none;;\n",
       "}\n",
       "#T_e550b  .blank {\n",
       "  display: none;;\n",
       "}\n",
       "#T_e550b_row0_col0, #T_e550b_row1_col0, #T_e550b_row2_col0, #T_e550b_row3_col0, #T_e550b_row4_col0, #T_e550b_row5_col0, #T_e550b_row6_col0, #T_e550b_row7_col0, #T_e550b_row8_col0, #T_e550b_row9_col0, #T_e550b_row10_col0, #T_e550b_row11_col0, #T_e550b_row12_col0, #T_e550b_row13_col0, #T_e550b_row14_col0, #T_e550b_row15_col0, #T_e550b_row16_col0, #T_e550b_row17_col0, #T_e550b_row18_col0, #T_e550b_row19_col0, #T_e550b_row20_col0, #T_e550b_row21_col0, #T_e550b_row22_col0, #T_e550b_row23_col0, #T_e550b_row24_col0, #T_e550b_row25_col0 {\n",
       "  text-align: left;\n",
       "  font-weight: bold;\n",
       "  font-size: 120%;\n",
       "}\n",
       "#T_e550b_row0_col1, #T_e550b_row1_col1, #T_e550b_row2_col1, #T_e550b_row3_col1, #T_e550b_row4_col1, #T_e550b_row5_col1, #T_e550b_row6_col1, #T_e550b_row7_col1, #T_e550b_row8_col1, #T_e550b_row9_col1, #T_e550b_row10_col1, #T_e550b_row11_col1, #T_e550b_row12_col1, #T_e550b_row13_col1, #T_e550b_row14_col1, #T_e550b_row15_col1, #T_e550b_row16_col1, #T_e550b_row17_col1, #T_e550b_row18_col1, #T_e550b_row19_col1, #T_e550b_row20_col1, #T_e550b_row21_col1, #T_e550b_row22_col1, #T_e550b_row23_col1, #T_e550b_row24_col1, #T_e550b_row25_col1 {\n",
       "  text-align: left;\n",
       "  font-weight: bold;\n",
       "}\n",
       "#T_e550b_row0_col2, #T_e550b_row1_col2, #T_e550b_row2_col2, #T_e550b_row3_col2, #T_e550b_row4_col2, #T_e550b_row5_col2, #T_e550b_row6_col2, #T_e550b_row7_col2, #T_e550b_row8_col2, #T_e550b_row9_col2, #T_e550b_row10_col2, #T_e550b_row11_col2, #T_e550b_row12_col2, #T_e550b_row13_col2, #T_e550b_row14_col2, #T_e550b_row15_col2, #T_e550b_row16_col2, #T_e550b_row17_col2, #T_e550b_row18_col2, #T_e550b_row19_col2, #T_e550b_row20_col2, #T_e550b_row21_col2, #T_e550b_row22_col2, #T_e550b_row23_col2, #T_e550b_row24_col2, #T_e550b_row25_col2 {\n",
       "  text-align: left;\n",
       "}\n",
       "</style>\n",
       "<table id=\"T_e550b\">\n",
       "  <thead>\n",
       "    <tr>\n",
       "      <th class=\"blank level0\" >&nbsp;</th>\n",
       "      <th id=\"T_e550b_level0_col0\" class=\"col_heading level0 col0\" >section</th>\n",
       "      <th id=\"T_e550b_level0_col1\" class=\"col_heading level0 col1\" >label</th>\n",
       "      <th id=\"T_e550b_level0_col2\" class=\"col_heading level0 col2\" >text</th>\n",
       "    </tr>\n",
       "  </thead>\n",
       "  <tbody>\n",
       "    <tr>\n",
       "      <th id=\"T_e550b_level0_row0\" class=\"row_heading level0 row0\" >0</th>\n",
       "      <td id=\"T_e550b_row0_col0\" class=\"data row0 col0\" >attributes</td>\n",
       "      <td id=\"T_e550b_row0_col1\" class=\"data row0 col1\" >BILT_CUST_NBR</td>\n",
       "      <td id=\"T_e550b_row0_col2\" class=\"data row0 col2\" >Bill to customer number</td>\n",
       "    </tr>\n",
       "    <tr>\n",
       "      <th id=\"T_e550b_level0_row1\" class=\"row_heading level0 row1\" >1</th>\n",
       "      <td id=\"T_e550b_row1_col0\" class=\"data row1 col0\" ></td>\n",
       "      <td id=\"T_e550b_row1_col1\" class=\"data row1 col1\" >BU_ID</td>\n",
       "      <td id=\"T_e550b_row1_col2\" class=\"data row1 col2\" >Business Unit ID (country)</td>\n",
       "    </tr>\n",
       "    <tr>\n",
       "      <th id=\"T_e550b_level0_row2\" class=\"row_heading level0 row2\" >2</th>\n",
       "      <td id=\"T_e550b_row2_col0\" class=\"data row2 col0\" ></td>\n",
       "      <td id=\"T_e550b_row2_col1\" class=\"data row2 col1\" >CNCL_DTS</td>\n",
       "      <td id=\"T_e550b_row2_col2\" class=\"data row2 col2\" >Order Cancel date</td>\n",
       "    </tr>\n",
       "    <tr>\n",
       "      <th id=\"T_e550b_level0_row3\" class=\"row_heading level0 row3\" >3</th>\n",
       "      <td id=\"T_e550b_row3_col0\" class=\"data row3 col0\" ></td>\n",
       "      <td id=\"T_e550b_row3_col1\" class=\"data row3 col1\" >CUST_TYPE_CODE</td>\n",
       "      <td id=\"T_e550b_row3_col2\" class=\"data row3 col2\" >Customer Type (segment ex: consumer, small business)</td>\n",
       "    </tr>\n",
       "    <tr>\n",
       "      <th id=\"T_e550b_level0_row4\" class=\"row_heading level0 row4\" >4</th>\n",
       "      <td id=\"T_e550b_row4_col0\" class=\"data row4 col0\" ></td>\n",
       "      <td id=\"T_e550b_row4_col1\" class=\"data row4 col1\" >CUST_TYPE_DESC</td>\n",
       "      <td id=\"T_e550b_row4_col2\" class=\"data row4 col2\" >Customer Type (segment ex: consumer, small business)</td>\n",
       "    </tr>\n",
       "    <tr>\n",
       "      <th id=\"T_e550b_level0_row5\" class=\"row_heading level0 row5\" >5</th>\n",
       "      <td id=\"T_e550b_row5_col0\" class=\"data row5 col0\" ></td>\n",
       "      <td id=\"T_e550b_row5_col1\" class=\"data row5 col1\" >DLVR_DTS</td>\n",
       "      <td id=\"T_e550b_row5_col2\" class=\"data row5 col2\" >Delivery data (not sure how accurate this is)</td>\n",
       "    </tr>\n",
       "    <tr>\n",
       "      <th id=\"T_e550b_level0_row6\" class=\"row_heading level0 row6\" >6</th>\n",
       "      <td id=\"T_e550b_row6_col0\" class=\"data row6 col0\" ></td>\n",
       "      <td id=\"T_e550b_row6_col1\" class=\"data row6 col1\" >EXTRNL_COMB_HIER_CD</td>\n",
       "      <td id=\"T_e550b_row6_col2\" class=\"data row6 col2\" >This is the product Hierarchy Code</td>\n",
       "    </tr>\n",
       "    <tr>\n",
       "      <th id=\"T_e550b_level0_row7\" class=\"row_heading level0 row7\" >7</th>\n",
       "      <td id=\"T_e550b_row7_col0\" class=\"data row7 col0\" ></td>\n",
       "      <td id=\"T_e550b_row7_col1\" class=\"data row7 col1\" >FISC_QTR_ID</td>\n",
       "      <td id=\"T_e550b_row7_col2\" class=\"data row7 col2\" >Fiscal Quarter</td>\n",
       "    </tr>\n",
       "    <tr>\n",
       "      <th id=\"T_e550b_level0_row8\" class=\"row_heading level0 row8\" >8</th>\n",
       "      <td id=\"T_e550b_row8_col0\" class=\"data row8 col0\" ></td>\n",
       "      <td id=\"T_e550b_row8_col1\" class=\"data row8 col1\" >FISC_WK_ID</td>\n",
       "      <td id=\"T_e550b_row8_col2\" class=\"data row8 col2\" >Fiscal Week</td>\n",
       "    </tr>\n",
       "    <tr>\n",
       "      <th id=\"T_e550b_level0_row9\" class=\"row_heading level0 row9\" >9</th>\n",
       "      <td id=\"T_e550b_row9_col0\" class=\"data row9 col0\" ></td>\n",
       "      <td id=\"T_e550b_row9_col1\" class=\"data row9 col1\" >HOLD_DTS</td>\n",
       "      <td id=\"T_e550b_row9_col2\" class=\"data row9 col2\" >Date of order put on hold</td>\n",
       "    </tr>\n",
       "    <tr>\n",
       "      <th id=\"T_e550b_level0_row10\" class=\"row_heading level0 row10\" >10</th>\n",
       "      <td id=\"T_e550b_row10_col0\" class=\"data row10 col0\" ></td>\n",
       "      <td id=\"T_e550b_row10_col1\" class=\"data row10 col1\" >INV_DTS</td>\n",
       "      <td id=\"T_e550b_row10_col2\" class=\"data row10 col2\" >Date of order invoiced</td>\n",
       "    </tr>\n",
       "    <tr>\n",
       "      <th id=\"T_e550b_level0_row11\" class=\"row_heading level0 row11\" >11</th>\n",
       "      <td id=\"T_e550b_row11_col0\" class=\"data row11 col0\" ></td>\n",
       "      <td id=\"T_e550b_row11_col1\" class=\"data row11 col1\" >LOB_DESC</td>\n",
       "      <td id=\"T_e550b_row11_col2\" class=\"data row11 col2\" >Line of Business (notebooks, desktops, etc…)</td>\n",
       "    </tr>\n",
       "    <tr>\n",
       "      <th id=\"T_e550b_level0_row12\" class=\"row_heading level0 row12\" >12</th>\n",
       "      <td id=\"T_e550b_row12_col0\" class=\"data row12 col0\" ></td>\n",
       "      <td id=\"T_e550b_row12_col1\" class=\"data row12 col1\" >ORD_AMT_USD</td>\n",
       "      <td id=\"T_e550b_row12_col2\" class=\"data row12 col2\" >Amount of Order</td>\n",
       "    </tr>\n",
       "    <tr>\n",
       "      <th id=\"T_e550b_level0_row13\" class=\"row_heading level0 row13\" >13</th>\n",
       "      <td id=\"T_e550b_row13_col0\" class=\"data row13 col0\" ></td>\n",
       "      <td id=\"T_e550b_row13_col1\" class=\"data row13 col1\" >ORD_DTS</td>\n",
       "      <td id=\"T_e550b_row13_col2\" class=\"data row13 col2\" >Order date</td>\n",
       "    </tr>\n",
       "    <tr>\n",
       "      <th id=\"T_e550b_level0_row14\" class=\"row_heading level0 row14\" >14</th>\n",
       "      <td id=\"T_e550b_row14_col0\" class=\"data row14 col0\" ></td>\n",
       "      <td id=\"T_e550b_row14_col1\" class=\"data row14 col1\" >ORD_NBR</td>\n",
       "      <td id=\"T_e550b_row14_col2\" class=\"data row14 col2\" >Order number</td>\n",
       "    </tr>\n",
       "    <tr>\n",
       "      <th id=\"T_e550b_level0_row15\" class=\"row_heading level0 row15\" >15</th>\n",
       "      <td id=\"T_e550b_row15_col0\" class=\"data row15 col0\" ></td>\n",
       "      <td id=\"T_e550b_row15_col1\" class=\"data row15 col1\" >ORD_QTY</td>\n",
       "      <td id=\"T_e550b_row15_col2\" class=\"data row15 col2\" >order quantity</td>\n",
       "    </tr>\n",
       "    <tr>\n",
       "      <th id=\"T_e550b_level0_row16\" class=\"row_heading level0 row16\" >16</th>\n",
       "      <td id=\"T_e550b_row16_col0\" class=\"data row16 col0\" ></td>\n",
       "      <td id=\"T_e550b_row16_col1\" class=\"data row16 col1\" >ORD_RCPT_DTS</td>\n",
       "      <td id=\"T_e550b_row16_col2\" class=\"data row16 col2\" >Order Reciept Date (Datetime that Order was brought in to be placed - earliest DTS)</td>\n",
       "    </tr>\n",
       "    <tr>\n",
       "      <th id=\"T_e550b_level0_row17\" class=\"row_heading level0 row17\" >17</th>\n",
       "      <td id=\"T_e550b_row17_col0\" class=\"data row17 col0\" ></td>\n",
       "      <td id=\"T_e550b_row17_col1\" class=\"data row17 col1\" >ORD_STAT_CD</td>\n",
       "      <td id=\"T_e550b_row17_col2\" class=\"data row17 col2\" >Order Status Code (Indicating which step the order is in)</td>\n",
       "    </tr>\n",
       "    <tr>\n",
       "      <th id=\"T_e550b_level0_row18\" class=\"row_heading level0 row18\" >18</th>\n",
       "      <td id=\"T_e550b_row18_col0\" class=\"data row18 col0\" ></td>\n",
       "      <td id=\"T_e550b_row18_col1\" class=\"data row18 col1\" >PNDG_DTS</td>\n",
       "      <td id=\"T_e550b_row18_col2\" class=\"data row18 col2\" >Date Time Stamp of the Order being in Pending Status</td>\n",
       "    </tr>\n",
       "    <tr>\n",
       "      <th id=\"T_e550b_level0_row19\" class=\"row_heading level0 row19\" >19</th>\n",
       "      <td id=\"T_e550b_row19_col0\" class=\"data row19 col0\" ></td>\n",
       "      <td id=\"T_e550b_row19_col1\" class=\"data row19 col1\" >PRF_OF_DLVR_DTS</td>\n",
       "      <td id=\"T_e550b_row19_col2\" class=\"data row19 col2\" >Proof of delivery (not sure these dates are actual delivery dates)</td>\n",
       "    </tr>\n",
       "    <tr>\n",
       "      <th id=\"T_e550b_level0_row20\" class=\"row_heading level0 row20\" >20</th>\n",
       "      <td id=\"T_e550b_row20_col0\" class=\"data row20 col0\" ></td>\n",
       "      <td id=\"T_e550b_row20_col1\" class=\"data row20 col1\" >PRODCTN_DTS</td>\n",
       "      <td id=\"T_e550b_row20_col2\" class=\"data row20 col2\" >Date order went into production</td>\n",
       "    </tr>\n",
       "    <tr>\n",
       "      <th id=\"T_e550b_level0_row21\" class=\"row_heading level0 row21\" >21</th>\n",
       "      <td id=\"T_e550b_row21_col0\" class=\"data row21 col0\" ></td>\n",
       "      <td id=\"T_e550b_row21_col1\" class=\"data row21 col1\" >PROD_GRP_DESC</td>\n",
       "      <td id=\"T_e550b_row21_col2\" class=\"data row21 col2\" >Product Group Description</td>\n",
       "    </tr>\n",
       "    <tr>\n",
       "      <th id=\"T_e550b_level0_row22\" class=\"row_heading level0 row22\" >22</th>\n",
       "      <td id=\"T_e550b_row22_col0\" class=\"data row22 col0\" ></td>\n",
       "      <td id=\"T_e550b_row22_col1\" class=\"data row22 col1\" >SHIP_DTS</td>\n",
       "      <td id=\"T_e550b_row22_col2\" class=\"data row22 col2\" >Date order shipped</td>\n",
       "    </tr>\n",
       "    <tr>\n",
       "      <th id=\"T_e550b_level0_row23\" class=\"row_heading level0 row23\" >23</th>\n",
       "      <td id=\"T_e550b_row23_col0\" class=\"data row23 col0\" ></td>\n",
       "      <td id=\"T_e550b_row23_col1\" class=\"data row23 col1\" >SO_FULFLT_LOC_CD</td>\n",
       "      <td id=\"T_e550b_row23_col2\" class=\"data row23 col2\" >Fulfillment location</td>\n",
       "    </tr>\n",
       "    <tr>\n",
       "      <th id=\"T_e550b_level0_row24\" class=\"row_heading level0 row24\" >24</th>\n",
       "      <td id=\"T_e550b_row24_col0\" class=\"data row24 col0\" ></td>\n",
       "      <td id=\"T_e550b_row24_col1\" class=\"data row24 col1\" >SRC_LCL_CHNL_CD</td>\n",
       "      <td id=\"T_e550b_row24_col2\" class=\"data row24 col2\" >Local Channel Code - indicating that the Orders are Consumer</td>\n",
       "    </tr>\n",
       "    <tr>\n",
       "      <th id=\"T_e550b_level0_row25\" class=\"row_heading level0 row25\" >25</th>\n",
       "      <td id=\"T_e550b_row25_col0\" class=\"data row25 col0\" ></td>\n",
       "      <td id=\"T_e550b_row25_col1\" class=\"data row25 col1\" >SYS_QTY</td>\n",
       "      <td id=\"T_e550b_row25_col2\" class=\"data row25 col2\" >Quantity of Systems on order</td>\n",
       "    </tr>\n",
       "  </tbody>\n",
       "</table>\n"
      ],
      "text/plain": [
       "<pandas.io.formats.style.Styler at 0x7fcb29e6b0a0>"
      ]
     },
     "execution_count": 11,
     "metadata": {},
     "output_type": "execute_result"
    }
   ],
   "source": [
    "tr.report_notes(drop_dates=True)"
   ]
  },
  {
   "cell_type": "markdown",
   "id": "4e8532f7",
   "metadata": {},
   "source": [
    "#### Report Filtering\n",
    "\n",
    "Sometimes bulk uploads can result in a large amount of added information.  Our reporting tool has the ability to filter what we visualize giving us a clean summery of items of interest.  In our example we are filtering on 'label' across all sections, or catalogues.\n"
   ]
  },
  {
   "cell_type": "code",
   "execution_count": 12,
   "id": "a2c59d62",
   "metadata": {},
   "outputs": [
    {
     "data": {
      "text/html": [
       "<style type=\"text/css\">\n",
       "#T_78bb9 th {\n",
       "  font-size: 120%;\n",
       "  text-align: center;\n",
       "}\n",
       "#T_78bb9 .row_heading {\n",
       "  display: none;;\n",
       "}\n",
       "#T_78bb9  .blank {\n",
       "  display: none;;\n",
       "}\n",
       "#T_78bb9_row0_col0, #T_78bb9_row1_col0, #T_78bb9_row2_col0 {\n",
       "  text-align: left;\n",
       "  font-weight: bold;\n",
       "  font-size: 120%;\n",
       "}\n",
       "#T_78bb9_row0_col1, #T_78bb9_row1_col1, #T_78bb9_row2_col1 {\n",
       "  text-align: left;\n",
       "  font-weight: bold;\n",
       "}\n",
       "#T_78bb9_row0_col2, #T_78bb9_row1_col2, #T_78bb9_row2_col2 {\n",
       "  text-align: left;\n",
       "}\n",
       "</style>\n",
       "<table id=\"T_78bb9\">\n",
       "  <thead>\n",
       "    <tr>\n",
       "      <th class=\"blank level0\" >&nbsp;</th>\n",
       "      <th id=\"T_78bb9_level0_col0\" class=\"col_heading level0 col0\" >section</th>\n",
       "      <th id=\"T_78bb9_level0_col1\" class=\"col_heading level0 col1\" >label</th>\n",
       "      <th id=\"T_78bb9_level0_col2\" class=\"col_heading level0 col2\" >text</th>\n",
       "    </tr>\n",
       "  </thead>\n",
       "  <tbody>\n",
       "    <tr>\n",
       "      <th id=\"T_78bb9_level0_row0\" class=\"row_heading level0 row0\" >0</th>\n",
       "      <td id=\"T_78bb9_row0_col0\" class=\"data row0 col0\" >attributes</td>\n",
       "      <td id=\"T_78bb9_row0_col1\" class=\"data row0 col1\" >HOLD_DTS</td>\n",
       "      <td id=\"T_78bb9_row0_col2\" class=\"data row0 col2\" >Date of order put on hold</td>\n",
       "    </tr>\n",
       "    <tr>\n",
       "      <th id=\"T_78bb9_level0_row1\" class=\"row_heading level0 row1\" >1</th>\n",
       "      <td id=\"T_78bb9_row1_col0\" class=\"data row1 col0\" ></td>\n",
       "      <td id=\"T_78bb9_row1_col1\" class=\"data row1 col1\" >INV_DTS</td>\n",
       "      <td id=\"T_78bb9_row1_col2\" class=\"data row1 col2\" >Date of order invoiced</td>\n",
       "    </tr>\n",
       "    <tr>\n",
       "      <th id=\"T_78bb9_level0_row2\" class=\"row_heading level0 row2\" >2</th>\n",
       "      <td id=\"T_78bb9_row2_col0\" class=\"data row2 col0\" ></td>\n",
       "      <td id=\"T_78bb9_row2_col1\" class=\"data row2 col1\" >ORD_DTS</td>\n",
       "      <td id=\"T_78bb9_row2_col2\" class=\"data row2 col2\" >Order date</td>\n",
       "    </tr>\n",
       "  </tbody>\n",
       "</table>\n"
      ],
      "text/plain": [
       "<pandas.io.formats.style.Styler at 0x7fcb29e69ff0>"
      ]
     },
     "execution_count": 12,
     "metadata": {},
     "output_type": "execute_result"
    }
   ],
   "source": [
    "tr.report_notes(labels=['ORD_DTS', 'INV_DTS', 'HOLD_DTS'], drop_dates=True)"
   ]
  },
  {
   "cell_type": "code",
   "execution_count": null,
   "id": "0247651c",
   "metadata": {},
   "outputs": [],
   "source": []
  }
 ],
 "metadata": {
  "kernelspec": {
   "display_name": "Python 3 (ipykernel)",
   "language": "python",
   "name": "python3"
  },
  "language_info": {
   "codemirror_mode": {
    "name": "ipython",
    "version": 3
   },
   "file_extension": ".py",
   "mimetype": "text/x-python",
   "name": "python",
   "nbconvert_exporter": "python",
   "pygments_lexer": "ipython3",
   "version": "3.10.6"
  }
 },
 "nbformat": 4,
 "nbformat_minor": 5
}
