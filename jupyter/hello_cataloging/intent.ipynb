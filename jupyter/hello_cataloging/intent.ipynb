{
 "cells": [
  {
   "cell_type": "markdown",
   "id": "53b740ec",
   "metadata": {},
   "source": [
    "<cite>Darryl Oatridge, August 2022<cite>"
   ]
  },
  {
   "cell_type": "markdown",
   "id": "40a4fa92",
   "metadata": {},
   "source": [
    "## Citing the Data \n",
    "- Adding citations to support appropriate attribution by third-party users in order to formally incorporate data reuse\n",
    "\n",
    "## Validation of Data\n",
    "- The review of a data set by an expert with similar credentials and subject knowledge as the data creator to validate the accuracy of the data"
   ]
  },
  {
   "cell_type": "code",
   "execution_count": 1,
   "id": "b0deea94-c732-44ea-8402-75f2c7d6ec36",
   "metadata": {},
   "outputs": [],
   "source": [
    "from ds_discovery import Transition, SyntheticBuilder\n",
    "import pandas as pd"
   ]
  },
  {
   "cell_type": "markdown",
   "id": "6b77a1cf-eaaf-40b4-9918-1d392e60f41e",
   "metadata": {},
   "source": [
    "## Intent \n",
    "\n",
    "Intent is a core concept that provides a set of intended actions relating directly to the components core task.  In this instance we are using the Transitioning component that provides selection engineering of a provided dataset.  \n",
    "\n",
    "As a core concept, Intent and its Parameterisation is captured in full giving it transparency and traceability to an expert observer.  It provides direct editability of each Intent, with each Intent a seperate concern. This means minimal rewrites, adaptability, clarity of change and reduced testing.\n",
    "\n"
   ]
  },
  {
   "cell_type": "code",
   "execution_count": 2,
   "id": "c2702f5c-53fb-443f-a96b-c215839a68c8",
   "metadata": {},
   "outputs": [],
   "source": [
    "tr = Transition.from_env('demo_intent', has_contract=False)"
   ]
  },
  {
   "cell_type": "markdown",
   "id": "339f8e42",
   "metadata": {},
   "source": [
    "#### Set File Source\n",
    "Initially set the file source for the data of interest and runs the component.\n"
   ]
  },
  {
   "cell_type": "code",
   "execution_count": 3,
   "id": "18117fe2-6532-492d-a331-bce74d4c8ca2",
   "metadata": {},
   "outputs": [],
   "source": [
    "## Set the file source location\n",
    "data = 'https://www.openml.org/data/get_csv/16826755/phpMYEkMl.csv'\n",
    "tr.set_source_uri(data)\n",
    "tr.set_persist()\n",
    "tr.set_description(\"Original Titanic Dataset\")"
   ]
  },
  {
   "cell_type": "markdown",
   "id": "19464435",
   "metadata": {},
   "source": [
    "### Parameterised Intent\n",
    "\n",
    "Through observations one identifies a number of selection engineering that needs to be done with the provided dataset.  We are therefore looking to:\n",
    "- automaticially clean the header to remove spaces and hidden characters in the header names.  In addition note that 'home.dest' is seperated with a dot and best practice is to replace that with an underscore.\n",
    "- reinstate nulls that have been obfuscated with 'question marks' in order for us to clarify data quality and make better feature engineering decisions.\n",
    "- identity selected data columns of no interest and remove them.\n",
    "- apply logic that identifies potential catagoricals and appropriately 'type' them. \n",
    "- insure the appropriate'typing' of indentifed numeric features.\n",
    "- turn our target boulian into a 0 and 1 integer type for better feature engineering, observability and decision making.\n",
    "\n",
    "Then run the pipeline to apply the Intent to the dataset."
   ]
  },
  {
   "cell_type": "code",
   "execution_count": 4,
   "id": "594c80c6",
   "metadata": {},
   "outputs": [],
   "source": [
    "df = tr.load_source_canonical()"
   ]
  },
  {
   "cell_type": "code",
   "execution_count": 5,
   "id": "fc88ae1e",
   "metadata": {},
   "outputs": [],
   "source": [
    "df = tr.tools.auto_clean_header(df, rename_map={'home.dest': 'home_dest'}, intent_level='clean_header')\n",
    "df = tr.tools.auto_reinstate_nulls(df, nulls_list=['?'], intent_level='reinstate_nulls')\n",
    "df = tr.tools.to_remove(df, headers=['body', 'name', 'ticket', 'boat'], intent_level='to_remove')\n",
    "df = tr.tools.auto_to_category(df, intent_level='auto_categorize')\n",
    "df = tr.tools.to_numeric_type(df, headers=['age', 'fare'], intent_level='to_numeric')\n",
    "df = tr.tools.to_int_type(df, headers='survived', intent_level='to_int')\n",
    "\n",
    "tr.run_component_pipeline()"
   ]
  },
  {
   "cell_type": "markdown",
   "id": "b9a0add4",
   "metadata": {},
   "source": [
    "### Report\n",
    "\n",
    "The Intent, once applied, can now be observed through the Intent's report which outlines each activity which displays each line of the Intent.  So it is worth observing that the Intent report is presented in alphabetical order and not the order in which it will run.\n",
    "\n",
    "From the report one can clearly see each Intent and its Parameterisation that can be modified by applying either a new Intent or a replacement of the already existing line of code."
   ]
  },
  {
   "cell_type": "code",
   "execution_count": 6,
   "id": "19c1e627",
   "metadata": {
    "scrolled": true
   },
   "outputs": [
    {
     "data": {
      "text/html": [
       "<style type=\"text/css\">\n",
       "#T_a42cc th {\n",
       "  font-size: 120%;\n",
       "  text-align: center;\n",
       "}\n",
       "#T_a42cc .row_heading {\n",
       "  display: none;;\n",
       "}\n",
       "#T_a42cc  .blank {\n",
       "  display: none;;\n",
       "}\n",
       "#T_a42cc_row0_col0, #T_a42cc_row1_col0, #T_a42cc_row2_col0, #T_a42cc_row3_col0, #T_a42cc_row4_col0, #T_a42cc_row5_col0 {\n",
       "  text-align: left;\n",
       "  font-weight: bold;\n",
       "  font-size: 120%;\n",
       "}\n",
       "#T_a42cc_row0_col1, #T_a42cc_row0_col2, #T_a42cc_row0_col3, #T_a42cc_row0_col4, #T_a42cc_row1_col1, #T_a42cc_row1_col2, #T_a42cc_row1_col3, #T_a42cc_row1_col4, #T_a42cc_row2_col1, #T_a42cc_row2_col2, #T_a42cc_row2_col3, #T_a42cc_row2_col4, #T_a42cc_row3_col1, #T_a42cc_row3_col2, #T_a42cc_row3_col3, #T_a42cc_row3_col4, #T_a42cc_row4_col1, #T_a42cc_row4_col2, #T_a42cc_row4_col3, #T_a42cc_row4_col4, #T_a42cc_row5_col1, #T_a42cc_row5_col2, #T_a42cc_row5_col3, #T_a42cc_row5_col4 {\n",
       "  text-align: left;\n",
       "}\n",
       "</style>\n",
       "<table id=\"T_a42cc\">\n",
       "  <thead>\n",
       "    <tr>\n",
       "      <th class=\"blank level0\" >&nbsp;</th>\n",
       "      <th id=\"T_a42cc_level0_col0\" class=\"col_heading level0 col0\" >level</th>\n",
       "      <th id=\"T_a42cc_level0_col1\" class=\"col_heading level0 col1\" >order</th>\n",
       "      <th id=\"T_a42cc_level0_col2\" class=\"col_heading level0 col2\" >intent</th>\n",
       "      <th id=\"T_a42cc_level0_col3\" class=\"col_heading level0 col3\" >parameters</th>\n",
       "      <th id=\"T_a42cc_level0_col4\" class=\"col_heading level0 col4\" >creator</th>\n",
       "    </tr>\n",
       "  </thead>\n",
       "  <tbody>\n",
       "    <tr>\n",
       "      <th id=\"T_a42cc_level0_row0\" class=\"row_heading level0 row0\" >0</th>\n",
       "      <td id=\"T_a42cc_row0_col0\" class=\"data row0 col0\" >auto_categorize</td>\n",
       "      <td id=\"T_a42cc_row0_col1\" class=\"data row0 col1\" >0</td>\n",
       "      <td id=\"T_a42cc_row0_col2\" class=\"data row0 col2\" >auto_to_category</td>\n",
       "      <td id=\"T_a42cc_row0_col3\" class=\"data row0 col3\" >[]</td>\n",
       "      <td id=\"T_a42cc_row0_col4\" class=\"data row0 col4\" >doatridge</td>\n",
       "    </tr>\n",
       "    <tr>\n",
       "      <th id=\"T_a42cc_level0_row1\" class=\"row_heading level0 row1\" >1</th>\n",
       "      <td id=\"T_a42cc_row1_col0\" class=\"data row1 col0\" >clean_header</td>\n",
       "      <td id=\"T_a42cc_row1_col1\" class=\"data row1 col1\" >0</td>\n",
       "      <td id=\"T_a42cc_row1_col2\" class=\"data row1 col2\" >auto_clean_header</td>\n",
       "      <td id=\"T_a42cc_row1_col3\" class=\"data row1 col3\" >[\"rename_map={'home.dest': 'home_dest'}\"]</td>\n",
       "      <td id=\"T_a42cc_row1_col4\" class=\"data row1 col4\" >doatridge</td>\n",
       "    </tr>\n",
       "    <tr>\n",
       "      <th id=\"T_a42cc_level0_row2\" class=\"row_heading level0 row2\" >2</th>\n",
       "      <td id=\"T_a42cc_row2_col0\" class=\"data row2 col0\" >reinstate_nulls</td>\n",
       "      <td id=\"T_a42cc_row2_col1\" class=\"data row2 col1\" >0</td>\n",
       "      <td id=\"T_a42cc_row2_col2\" class=\"data row2 col2\" >auto_reinstate_nulls</td>\n",
       "      <td id=\"T_a42cc_row2_col3\" class=\"data row2 col3\" >[\"nulls_list=['?']\"]</td>\n",
       "      <td id=\"T_a42cc_row2_col4\" class=\"data row2 col4\" >doatridge</td>\n",
       "    </tr>\n",
       "    <tr>\n",
       "      <th id=\"T_a42cc_level0_row3\" class=\"row_heading level0 row3\" >3</th>\n",
       "      <td id=\"T_a42cc_row3_col0\" class=\"data row3 col0\" >to_int</td>\n",
       "      <td id=\"T_a42cc_row3_col1\" class=\"data row3 col1\" >0</td>\n",
       "      <td id=\"T_a42cc_row3_col2\" class=\"data row3 col2\" >to_int_type</td>\n",
       "      <td id=\"T_a42cc_row3_col3\" class=\"data row3 col3\" >[\"headers='survived'\"]</td>\n",
       "      <td id=\"T_a42cc_row3_col4\" class=\"data row3 col4\" >doatridge</td>\n",
       "    </tr>\n",
       "    <tr>\n",
       "      <th id=\"T_a42cc_level0_row4\" class=\"row_heading level0 row4\" >4</th>\n",
       "      <td id=\"T_a42cc_row4_col0\" class=\"data row4 col0\" >to_numeric</td>\n",
       "      <td id=\"T_a42cc_row4_col1\" class=\"data row4 col1\" >0</td>\n",
       "      <td id=\"T_a42cc_row4_col2\" class=\"data row4 col2\" >to_numeric_type</td>\n",
       "      <td id=\"T_a42cc_row4_col3\" class=\"data row4 col3\" >[\"headers=['age', 'fare']\"]</td>\n",
       "      <td id=\"T_a42cc_row4_col4\" class=\"data row4 col4\" >doatridge</td>\n",
       "    </tr>\n",
       "    <tr>\n",
       "      <th id=\"T_a42cc_level0_row5\" class=\"row_heading level0 row5\" >5</th>\n",
       "      <td id=\"T_a42cc_row5_col0\" class=\"data row5 col0\" >to_remove</td>\n",
       "      <td id=\"T_a42cc_row5_col1\" class=\"data row5 col1\" >0</td>\n",
       "      <td id=\"T_a42cc_row5_col2\" class=\"data row5 col2\" >to_remove</td>\n",
       "      <td id=\"T_a42cc_row5_col3\" class=\"data row5 col3\" >[\"headers=['body', 'name', 'ticket', 'boat']\"]</td>\n",
       "      <td id=\"T_a42cc_row5_col4\" class=\"data row5 col4\" >doatridge</td>\n",
       "    </tr>\n",
       "  </tbody>\n",
       "</table>\n"
      ],
      "text/plain": [
       "<pandas.io.formats.style.Styler at 0x7f8c132e3910>"
      ]
     },
     "execution_count": 6,
     "metadata": {},
     "output_type": "execute_result"
    }
   ],
   "source": [
    "tr.report_intent()"
   ]
  },
  {
   "cell_type": "markdown",
   "id": "4c143082",
   "metadata": {},
   "source": [
    "### Intent Metadata\n",
    "\n",
    "To enhance the readability and understanding of each intended action one can also add metadata to help explain ones thinking. This can be used in conjunction with the Intent report to provided a full picture of the actions that were taken and their changes and those actions changes to the outgoing dataset. "
   ]
  },
  {
   "cell_type": "code",
   "execution_count": 7,
   "id": "60e60080",
   "metadata": {},
   "outputs": [],
   "source": [
    "tr.add_intent_level_description(level='clean_header', text=\"clean_header\")\n",
    "tr.add_intent_level_description(level='reinstate_nulls', text=\"replace in question marks with nulls so its data can be properly typed\")\n",
    "tr.add_intent_level_description(level='to_remove', text=\"Selective engineering to remove features of no interest\")\n",
    "tr.add_intent_level_description(level='auto_categorize', text=\"categorise feature object types \")\n",
    "tr.add_intent_level_description(level='to_numeric', text=\"with nulls reinstated we can now reset the feature type\")\n",
    "tr.add_intent_level_description(level='to_int', text=\"make the target type int rather than bool passing decision making down to the feature engineering\")\n"
   ]
  },
  {
   "cell_type": "code",
   "execution_count": 8,
   "id": "da80a7cf",
   "metadata": {},
   "outputs": [
    {
     "data": {
      "text/html": [
       "<style type=\"text/css\">\n",
       "#T_815c3 th {\n",
       "  font-size: 120%;\n",
       "  text-align: center;\n",
       "}\n",
       "#T_815c3 .row_heading {\n",
       "  display: none;;\n",
       "}\n",
       "#T_815c3  .blank {\n",
       "  display: none;;\n",
       "}\n",
       "#T_815c3_row0_col0, #T_815c3_row1_col0, #T_815c3_row2_col0, #T_815c3_row3_col0, #T_815c3_row4_col0, #T_815c3_row5_col0 {\n",
       "  text-align: left;\n",
       "  font-weight: bold;\n",
       "}\n",
       "#T_815c3_row0_col1, #T_815c3_row1_col1, #T_815c3_row2_col1, #T_815c3_row3_col1, #T_815c3_row4_col1, #T_815c3_row5_col1 {\n",
       "  text-align: left;\n",
       "}\n",
       "</style>\n",
       "<table id=\"T_815c3\">\n",
       "  <thead>\n",
       "    <tr>\n",
       "      <th class=\"blank level0\" >&nbsp;</th>\n",
       "      <th id=\"T_815c3_level0_col0\" class=\"col_heading level0 col0\" >column_name</th>\n",
       "      <th id=\"T_815c3_level0_col1\" class=\"col_heading level0 col1\" >description</th>\n",
       "    </tr>\n",
       "  </thead>\n",
       "  <tbody>\n",
       "    <tr>\n",
       "      <th id=\"T_815c3_level0_row0\" class=\"row_heading level0 row0\" >0</th>\n",
       "      <td id=\"T_815c3_row0_col0\" class=\"data row0 col0\" >auto_categorize</td>\n",
       "      <td id=\"T_815c3_row0_col1\" class=\"data row0 col1\" >categorise feature object types </td>\n",
       "    </tr>\n",
       "    <tr>\n",
       "      <th id=\"T_815c3_level0_row1\" class=\"row_heading level0 row1\" >1</th>\n",
       "      <td id=\"T_815c3_row1_col0\" class=\"data row1 col0\" >clean_header</td>\n",
       "      <td id=\"T_815c3_row1_col1\" class=\"data row1 col1\" >clean_header</td>\n",
       "    </tr>\n",
       "    <tr>\n",
       "      <th id=\"T_815c3_level0_row2\" class=\"row_heading level0 row2\" >2</th>\n",
       "      <td id=\"T_815c3_row2_col0\" class=\"data row2 col0\" >reinstate_nulls</td>\n",
       "      <td id=\"T_815c3_row2_col1\" class=\"data row2 col1\" >replace in question marks with nulls so its data can be properly typed</td>\n",
       "    </tr>\n",
       "    <tr>\n",
       "      <th id=\"T_815c3_level0_row3\" class=\"row_heading level0 row3\" >3</th>\n",
       "      <td id=\"T_815c3_row3_col0\" class=\"data row3 col0\" >to_int</td>\n",
       "      <td id=\"T_815c3_row3_col1\" class=\"data row3 col1\" >make the target type int rather than bool passing decision making down to the feature engineering</td>\n",
       "    </tr>\n",
       "    <tr>\n",
       "      <th id=\"T_815c3_level0_row4\" class=\"row_heading level0 row4\" >4</th>\n",
       "      <td id=\"T_815c3_row4_col0\" class=\"data row4 col0\" >to_numeric</td>\n",
       "      <td id=\"T_815c3_row4_col1\" class=\"data row4 col1\" >with nulls reinstated we can now reset the feature type</td>\n",
       "    </tr>\n",
       "    <tr>\n",
       "      <th id=\"T_815c3_level0_row5\" class=\"row_heading level0 row5\" >5</th>\n",
       "      <td id=\"T_815c3_row5_col0\" class=\"data row5 col0\" >to_remove</td>\n",
       "      <td id=\"T_815c3_row5_col1\" class=\"data row5 col1\" >Selective engineering to remove features of no interest</td>\n",
       "    </tr>\n",
       "  </tbody>\n",
       "</table>\n"
      ],
      "text/plain": [
       "<pandas.io.formats.style.Styler at 0x7f8c13663160>"
      ]
     },
     "execution_count": 8,
     "metadata": {},
     "output_type": "execute_result"
    }
   ],
   "source": [
    "tr.report_column_catalog()"
   ]
  },
  {
   "cell_type": "markdown",
   "id": "4b62f238",
   "metadata": {},
   "source": [
    "### Run Book\n",
    "\n",
    "If not provided, the actions of the Intent will be aligned in the order given but if one wishes to change this order\n",
    "it has the ability to taylor the sequence using a Run Book.  A Run Book provides the facility to define run order to insure actions are run appropriate to the Sequence they were intended.  This is particulary useful when editing an existing Intent pipeline or where changes effect other actions.\n",
    "\n",
    "Run books can also be used to create multiple pipelines whereby a sequence of Intent is created  with multiple outcomes available for a particular dataset.  This is an advanced topic and not covered here.\n",
    "\n",
    "As usual the Run Book comes with its own reporting tool for easy visualisation.\n",
    "\n"
   ]
  },
  {
   "cell_type": "code",
   "execution_count": 9,
   "id": "2b25753e",
   "metadata": {},
   "outputs": [],
   "source": [
    "tr.add_run_book(run_levels=['clean_header', 'to_remove', 'reinstate_nulls', 'auto_categorize', 'to_numeric', 'to_int'])"
   ]
  },
  {
   "cell_type": "code",
   "execution_count": 10,
   "id": "92e82409",
   "metadata": {},
   "outputs": [
    {
     "data": {
      "text/html": [
       "<style type=\"text/css\">\n",
       "#T_38149 th {\n",
       "  font-size: 120%;\n",
       "  text-align: center;\n",
       "}\n",
       "#T_38149 .row_heading {\n",
       "  display: none;;\n",
       "}\n",
       "#T_38149  .blank {\n",
       "  display: none;;\n",
       "}\n",
       "#T_38149_row0_col0 {\n",
       "  text-align: left;\n",
       "  font-weight: bold;\n",
       "  font-size: 120%;\n",
       "}\n",
       "#T_38149_row0_col1 {\n",
       "  text-align: left;\n",
       "}\n",
       "</style>\n",
       "<table id=\"T_38149\">\n",
       "  <thead>\n",
       "    <tr>\n",
       "      <th class=\"blank level0\" >&nbsp;</th>\n",
       "      <th id=\"T_38149_level0_col0\" class=\"col_heading level0 col0\" >name</th>\n",
       "      <th id=\"T_38149_level0_col1\" class=\"col_heading level0 col1\" >run_book</th>\n",
       "    </tr>\n",
       "  </thead>\n",
       "  <tbody>\n",
       "    <tr>\n",
       "      <th id=\"T_38149_level0_row0\" class=\"row_heading level0 row0\" >0</th>\n",
       "      <td id=\"T_38149_row0_col0\" class=\"data row0 col0\" >primary_run_book</td>\n",
       "      <td id=\"T_38149_row0_col1\" class=\"data row0 col1\" >['clean_header', 'to_remove', 'reinstate_nulls', 'auto_categorize', 'to_numeric', 'to_int']</td>\n",
       "    </tr>\n",
       "  </tbody>\n",
       "</table>\n"
      ],
      "text/plain": [
       "<pandas.io.formats.style.Styler at 0x7f8c13661ba0>"
      ]
     },
     "execution_count": 10,
     "metadata": {},
     "output_type": "execute_result"
    }
   ],
   "source": [
    "tr.report_run_book()"
   ]
  }
 ],
 "metadata": {
  "kernelspec": {
   "display_name": "Python 3 (ipykernel)",
   "language": "python",
   "name": "python3"
  },
  "language_info": {
   "codemirror_mode": {
    "name": "ipython",
    "version": 3
   },
   "file_extension": ".py",
   "mimetype": "text/x-python",
   "name": "python",
   "nbconvert_exporter": "python",
   "pygments_lexer": "ipython3",
   "version": "3.10.6"
  }
 },
 "nbformat": 4,
 "nbformat_minor": 5
}
