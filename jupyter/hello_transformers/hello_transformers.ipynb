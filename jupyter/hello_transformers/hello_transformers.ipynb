{
 "cells": [
  {
   "cell_type": "markdown",
   "id": "a46ece51",
   "metadata": {},
   "source": [
    "# Feature Engineering  & Synthetic Transformers\n",
    "Project Hadron provides a library of transformers, which may clean, reduce, expand or generate feature representations. Machine learning models have very specific ingestion needs such as numeric only non-null data, normalised looking distributions and optimised features of interest, without which the model will produce poor results.\n",
    "\n",
    "The main agenda for a model to be accurate and precise in predictions, is that the algorithm should be able to easily interpret the data's features. The majority of the real-world datasets for machine learning are highly susceptible to be sparce, inconsistent, and noisy due to their heterogeneous origin, while models have high expectations of the format, veracity, size and quality of the data they ingest.\n",
    "\n",
    "Data transformation is a required first step before any machine learning model can be applied, because the algorithms learn from the data and the learning outcome for problem solving heavily depends on the proper data needed to solve a particular problem. Data transformation is an integral step in Machine Learning as the quality of data and the useful information that can be derived from it directly affects the ability of a model to learn."
   ]
  },
  {
   "cell_type": "code",
   "execution_count": 1,
   "id": "eb842ddb",
   "metadata": {},
   "outputs": [],
   "source": [
    "# saves you having to use print as all exposed variables are printed in the cell\n",
    "from IPython.core.interactiveshell import InteractiveShell\n",
    "InteractiveShell.ast_node_interactivity = \"all\""
   ]
  },
  {
   "cell_type": "code",
   "execution_count": 2,
   "id": "6057223d",
   "metadata": {},
   "outputs": [],
   "source": [
    "from ds_discovery import Wrangle, SyntheticBuilder, Transition, Commons"
   ]
  },
  {
   "cell_type": "code",
   "execution_count": 3,
   "id": "333e5e8b",
   "metadata": {},
   "outputs": [],
   "source": [
    "import numpy as np\n",
    "import pandas as pd\n",
    "import matplotlib.pyplot as plt\n",
    "import seaborn as sns"
   ]
  },
  {
   "cell_type": "markdown",
   "id": "1cd89f4d",
   "metadata": {},
   "source": [
    "## Components Used"
   ]
  },
  {
   "cell_type": "code",
   "execution_count": 4,
   "id": "cfae501c",
   "metadata": {},
   "outputs": [],
   "source": [
    "# in-memory instances\n",
    "builder = SyntheticBuilder.from_memory()\n",
    "tr = Transition.from_memory()\n",
    "wr = Wrangle.from_memory()"
   ]
  },
  {
   "cell_type": "markdown",
   "id": "c18ea014",
   "metadata": {},
   "source": [
    "## Dimensionality Reduction\n",
    "Dimensionality reduction is a machine learning or statistical technique of reducing the features of a given dataset in a problem by obtaining a set of principal features of relevance whose representation retains some meaningful properties of the original dataset."
   ]
  },
  {
   "cell_type": "code",
   "execution_count": 5,
   "id": "b891d766",
   "metadata": {},
   "outputs": [
    {
     "data": {
      "text/plain": [
       "['nulls', 'ones', 'more_ones', 'zeroes', 'cats', 'nums', 'more_nums']"
      ]
     },
     "execution_count": 5,
     "metadata": {},
     "output_type": "execute_result"
    }
   ],
   "source": [
    "sample_size = 1000\n",
    "df = pd.DataFrame(index=range(sample_size))\n",
    "df['nulls'] = [np.nan] * sample_size\n",
    "df['ones'] = builder.tools.get_ones_zeros(sample_size)\n",
    "df['more_ones'] = df['ones']\n",
    "df['zeroes'] = builder.tools.get_ones_zeros(sample_size, ones=False)\n",
    "df['cats'] = builder.tools.get_category(selection=['A','B'], size=sample_size)\n",
    "df['nums'] = builder.tools.get_number(100, size=sample_size)\n",
    "df['more_nums'] = builder.tools.correlate_values(df, header='nums', jitter=0.3)\n",
    "df.columns.to_list()"
   ]
  },
  {
   "cell_type": "markdown",
   "id": "ac90bd64",
   "metadata": {},
   "source": [
    "### Feature selection\n",
    "Feature selection is the process of selecting a subset of relevant features or variables, reducing the dimensionality of the dataset. There are three strategies for future selection, filter methods, wrapper methods, and embedded methods. Preprocessing predominantly tends to use filter methods which rely on the characteristics of the data. These tend to not use machine learning algorithms and are thus model agnostic giving them more scope as a pre-processing tool. Finally they are less computationally expensive and though they give a lower prediction performance they are suited for quick removal of irrelevant features.\n",
    "\n",
    "Wrapper methods are not commonally used as they are computationaly very expensive. Embedded methods are found closer to the model and tend to perform feature selection as part of the model's construction process."
   ]
  },
  {
   "cell_type": "code",
   "execution_count": 6,
   "id": "c0494d90",
   "metadata": {},
   "outputs": [],
   "source": [
    "df = tr.tools.auto_drop_duplicates(df)"
   ]
  },
  {
   "cell_type": "code",
   "execution_count": 7,
   "id": "765619a1",
   "metadata": {},
   "outputs": [
    {
     "data": {
      "text/plain": [
       "['nulls', 'more_ones', 'zeroes', 'cats', 'nums', 'more_nums']"
      ]
     },
     "execution_count": 7,
     "metadata": {},
     "output_type": "execute_result"
    }
   ],
   "source": [
    "# 'ones' column has been dropped\n",
    "df.columns.to_list()"
   ]
  },
  {
   "cell_type": "code",
   "execution_count": 8,
   "id": "08c2f692",
   "metadata": {},
   "outputs": [],
   "source": [
    "df = tr.tools.auto_drop_columns(df)"
   ]
  },
  {
   "cell_type": "code",
   "execution_count": 9,
   "id": "a0178d54",
   "metadata": {},
   "outputs": [
    {
     "data": {
      "text/plain": [
       "['cats', 'nums', 'more_nums']"
      ]
     },
     "execution_count": 9,
     "metadata": {},
     "output_type": "execute_result"
    }
   ],
   "source": [
    "# 'zeros' and 'nulls' columns have been dropped\n",
    "df.columns.to_list()"
   ]
  },
  {
   "cell_type": "code",
   "execution_count": 10,
   "id": "2b861c40",
   "metadata": {},
   "outputs": [],
   "source": [
    "df = tr.tools.auto_drop_correlated(df, threshold=0.8)"
   ]
  },
  {
   "cell_type": "code",
   "execution_count": 11,
   "id": "3dd9abd6",
   "metadata": {},
   "outputs": [
    {
     "data": {
      "text/plain": [
       "['cats', 'more_nums']"
      ]
     },
     "execution_count": 11,
     "metadata": {},
     "output_type": "execute_result"
    }
   ],
   "source": [
    "# 'nums' column has been dropped\n",
    "df.columns.to_list()"
   ]
  },
  {
   "cell_type": "markdown",
   "id": "f74a4f2e",
   "metadata": {},
   "source": [
    "### Feature projection\n",
    "Feature projection transforms the data from the high-dimensional space to a space of fewer dimensions. To achieve this transformation we use principal component analysis (PCA). PCA, is a dimensionality-reduction method that transforms a large set of features into a more manageable smaller set that still contain most of the information in the large set.\n",
    "\n",
    "We start with a dimensionality of 1000x22."
   ]
  },
  {
   "cell_type": "code",
   "execution_count": 12,
   "id": "c2edc3a0",
   "metadata": {},
   "outputs": [
    {
     "data": {
      "text/plain": [
       "(1000, 22)"
      ]
     },
     "execution_count": 12,
     "metadata": {},
     "output_type": "execute_result"
    }
   ],
   "source": [
    "df = builder.tools.model_synthetic_classification(sample_size, n_features=20)\n",
    "df['cats'] = builder.tools.get_category(selection=['A','B'], size=sample_size)\n",
    "df.shape"
   ]
  },
  {
   "cell_type": "code",
   "execution_count": 13,
   "id": "a04147ad",
   "metadata": {},
   "outputs": [],
   "source": [
    "df = tr.tools.auto_projection(df, headers=['target'], drop=True, n_components=4)"
   ]
  },
  {
   "cell_type": "markdown",
   "id": "3f47537e",
   "metadata": {},
   "source": [
    "After running our projection we have reduced the dimensionality to 1000x6. We specifically didn't include ``target`` and ``cats`` was excluded as it isn't numeric. "
   ]
  },
  {
   "cell_type": "code",
   "execution_count": 14,
   "id": "1fa9c99f",
   "metadata": {},
   "outputs": [
    {
     "data": {
      "text/plain": [
       "['target', 'cats', 'pca_A', 'pca_B', 'pca_C', 'pca_D']"
      ]
     },
     "execution_count": 14,
     "metadata": {},
     "output_type": "execute_result"
    }
   ],
   "source": [
    "df.columns.to_list()"
   ]
  },
  {
   "cell_type": "markdown",
   "id": "d3762a36",
   "metadata": {},
   "source": [
    "## Missing data imputation\n",
    "Imputation is the act of replacing missing data with statistical estimates of the missing values. The goal of any imputation technique is to produce a complete dataset that can be used to train machine learning models.  There are three types of missing data:\n",
    "* Missing Completely at Random (MCAR); where the missing data has nothing to do with another feature(s)\n",
    "* Missing at Random (MAR); where missing data can be interpreted from another feature(s)\n",
    "* Missing not at Random (MNAR); where missing data is not random and can be interpreted from another feature(s)\n",
    "\n",
    "When choosing a strategy to replace missing data, understanding the type of data that is missing is critical to the approach one takes in replacing it.\n"
   ]
  },
  {
   "cell_type": "code",
   "execution_count": 15,
   "id": "1c7eaa03",
   "metadata": {},
   "outputs": [
    {
     "data": {
      "text/html": [
       "<div>\n",
       "<style scoped>\n",
       "    .dataframe tbody tr th:only-of-type {\n",
       "        vertical-align: middle;\n",
       "    }\n",
       "\n",
       "    .dataframe tbody tr th {\n",
       "        vertical-align: top;\n",
       "    }\n",
       "\n",
       "    .dataframe thead th {\n",
       "        text-align: right;\n",
       "    }\n",
       "</style>\n",
       "<table border=\"1\" class=\"dataframe\">\n",
       "  <thead>\n",
       "    <tr style=\"text-align: right;\">\n",
       "      <th></th>\n",
       "      <th>Attributes (1)</th>\n",
       "      <th>dType</th>\n",
       "      <th>%_Null</th>\n",
       "      <th>%_Dom</th>\n",
       "      <th>Count</th>\n",
       "      <th>Unique</th>\n",
       "      <th>Observations</th>\n",
       "    </tr>\n",
       "  </thead>\n",
       "  <tbody>\n",
       "    <tr>\n",
       "      <th>0</th>\n",
       "      <td>num_nulls</td>\n",
       "      <td>float64</td>\n",
       "      <td>0.1</td>\n",
       "      <td>0.1</td>\n",
       "      <td>100</td>\n",
       "      <td>90</td>\n",
       "      <td>max=2.024 | min=-1.92 | mean=0.01 | dominant=-0.814</td>\n",
       "    </tr>\n",
       "  </tbody>\n",
       "</table>\n",
       "</div>"
      ],
      "text/plain": [
       "  Attributes (1)    dType  %_Null  %_Dom  Count  Unique  \\\n",
       "0      num_nulls  float64     0.1    0.1    100      90   \n",
       "\n",
       "                                          Observations  \n",
       "0  max=2.024 | min=-1.92 | mean=0.01 | dominant=-0.814  "
      ]
     },
     "execution_count": 15,
     "metadata": {},
     "output_type": "execute_result"
    }
   ],
   "source": [
    "sample_size = 100\n",
    "df = pd.DataFrame(index=range(sample_size))\n",
    "df['num_nulls'] = builder.tools.get_dist_normal(mean=0, std=1, quantity=.9, size=sample_size, seed=11)\n",
    "builder.canonical_report(df, stylise=False)"
   ]
  },
  {
   "cell_type": "markdown",
   "id": "f60c8e33",
   "metadata": {},
   "source": [
    "Mean and median imputation is a commonly used technique, consisting of replacing all occurrences of missing values by the mean, if the variable has a Gaussian distribution, or median, if the variable has a skewed distribution. Replacing missing data by the mode is not common practice. As the mean and median methods apply to numeric values only, they are only suitable for continuous and discrete numerical variables. "
   ]
  },
  {
   "cell_type": "code",
   "execution_count": 16,
   "id": "f6d9a33b",
   "metadata": {},
   "outputs": [],
   "source": [
    "df['mean'] = wr.tools.correlate_missing(df, header='num_nulls', method='mean', seed=11)"
   ]
  },
  {
   "cell_type": "code",
   "execution_count": 17,
   "id": "a33c0267",
   "metadata": {},
   "outputs": [
    {
     "data": {
      "text/plain": [
       "<Figure size 600x400 with 0 Axes>"
      ]
     },
     "execution_count": 17,
     "metadata": {},
     "output_type": "execute_result"
    },
    {
     "data": {
      "text/plain": [
       "<AxesSubplot: xlabel='num_nulls', ylabel='Density'>"
      ]
     },
     "execution_count": 17,
     "metadata": {},
     "output_type": "execute_result"
    },
    {
     "data": {
      "text/plain": [
       "<AxesSubplot: xlabel='num_nulls', ylabel='Density'>"
      ]
     },
     "execution_count": 17,
     "metadata": {},
     "output_type": "execute_result"
    },
    {
     "data": {
      "text/plain": [
       "<matplotlib.legend.Legend at 0x7ff11a1c46a0>"
      ]
     },
     "execution_count": 17,
     "metadata": {},
     "output_type": "execute_result"
    },
    {
     "data": {
      "image/png": "[encoded data removed]",
      "text/plain": [
       "<Figure size 600x400 with 1 Axes>"
      ]
     },
     "metadata": {},
     "output_type": "display_data"
    }
   ],
   "source": [
    "plt.figure(figsize=(6,4))\n",
    "sns.set()\n",
    "sns.kdeplot(data=df['num_nulls'])\n",
    "sns.kdeplot(data=df['mean'], fill=True)\n",
    "plt.legend(labels=[\"original\", \"transformed\"])\n",
    "plt.show()"
   ]
  },
  {
   "cell_type": "markdown",
   "id": "a54d6bca",
   "metadata": {},
   "source": [
    "A popular approach to missing data imputation is to use a model to predict the missing values. Although any one among a range of different models can be used to predict the missing values, the k-nearest neighbor (KNN) algorithm has proven to be generally effective. We use it here where a new sample is imputed by finding the samples in the dataset closest to that sample and average nearby points to fill in the value."
   ]
  },
  {
   "cell_type": "code",
   "execution_count": 18,
   "id": "8a721b7a",
   "metadata": {},
   "outputs": [],
   "source": [
    "df['knn'] = wr.tools.correlate_missing(df, header='num_nulls', method='neighbour', weights='weighted', seed=11)"
   ]
  },
  {
   "cell_type": "code",
   "execution_count": 19,
   "id": "a0e32b3d",
   "metadata": {},
   "outputs": [
    {
     "data": {
      "text/plain": [
       "<Figure size 600x400 with 0 Axes>"
      ]
     },
     "execution_count": 19,
     "metadata": {},
     "output_type": "execute_result"
    },
    {
     "data": {
      "text/plain": [
       "<AxesSubplot: xlabel='num_nulls', ylabel='Density'>"
      ]
     },
     "execution_count": 19,
     "metadata": {},
     "output_type": "execute_result"
    },
    {
     "data": {
      "text/plain": [
       "<AxesSubplot: xlabel='num_nulls', ylabel='Density'>"
      ]
     },
     "execution_count": 19,
     "metadata": {},
     "output_type": "execute_result"
    },
    {
     "data": {
      "text/plain": [
       "<matplotlib.legend.Legend at 0x7ff0fd07f9d0>"
      ]
     },
     "execution_count": 19,
     "metadata": {},
     "output_type": "execute_result"
    },
    {
     "data": {
      "image/png": "[encoded data removed]",
      "text/plain": [
       "<Figure size 600x400 with 1 Axes>"
      ]
     },
     "metadata": {},
     "output_type": "display_data"
    }
   ],
   "source": [
    "plt.figure(figsize=(6,4))\n",
    "sns.set()\n",
    "sns.kdeplot(data=df['num_nulls'])\n",
    "sns.kdeplot(data=df['knn'], fill=True)\n",
    "plt.legend(labels=[\"original\", \"transformed\"])\n",
    "plt.show()"
   ]
  },
  {
   "cell_type": "markdown",
   "id": "fcf39add",
   "metadata": {},
   "source": [
    "Random sampling imputation is in principle similar to mean, median, and mode imputation in that it considers that missing values should look like those already existing in the distribution. Random sampling consists of taking random observations from the pool of available data and using them to replace the missing data. In random sample imputation, we take as many random observations as missing values exist in the variable.\n",
    "\n",
    "In both numerical and categorical variables, the distribution of the variable is preserved by sampling observations at random to replace missing data.\n",
    "\n"
   ]
  },
  {
   "cell_type": "code",
   "execution_count": 20,
   "id": "23e69eb9",
   "metadata": {},
   "outputs": [],
   "source": [
    "df['random'] = wr.tools.correlate_missing(df, header='num_nulls', method='random', seed=11)"
   ]
  },
  {
   "cell_type": "code",
   "execution_count": 21,
   "id": "b28b8e18",
   "metadata": {},
   "outputs": [
    {
     "data": {
      "text/plain": [
       "<Figure size 600x400 with 0 Axes>"
      ]
     },
     "execution_count": 21,
     "metadata": {},
     "output_type": "execute_result"
    },
    {
     "data": {
      "text/plain": [
       "<AxesSubplot: xlabel='num_nulls', ylabel='Density'>"
      ]
     },
     "execution_count": 21,
     "metadata": {},
     "output_type": "execute_result"
    },
    {
     "data": {
      "text/plain": [
       "<AxesSubplot: xlabel='num_nulls', ylabel='Density'>"
      ]
     },
     "execution_count": 21,
     "metadata": {},
     "output_type": "execute_result"
    },
    {
     "data": {
      "text/plain": [
       "<matplotlib.legend.Legend at 0x7ff11a1c5480>"
      ]
     },
     "execution_count": 21,
     "metadata": {},
     "output_type": "execute_result"
    },
    {
     "data": {
      "image/png": "[encoded data removed]",
      "text/plain": [
       "<Figure size 600x400 with 1 Axes>"
      ]
     },
     "metadata": {},
     "output_type": "display_data"
    }
   ],
   "source": [
    "plt.figure(figsize=(6,4))\n",
    "sns.set()\n",
    "sns.kdeplot(data=df['num_nulls'])\n",
    "sns.kdeplot(data=df['random'], fill=True)\n",
    "plt.legend(labels=[\"original\", \"transformed\"])\n",
    "plt.show()"
   ]
  },
  {
   "cell_type": "markdown",
   "id": "736a3ae6",
   "metadata": {},
   "source": [
    "One of the metod options is Indicator. Indicator is not an imputation method but an imputation techniques. Imputations such as mean, median and random will affect the variable distribution quite dramatically and is a good idea to flag them with a missing indicator before their imputation to tag values are where real and those that have been modified."
   ]
  },
  {
   "cell_type": "code",
   "execution_count": 22,
   "id": "2c549747",
   "metadata": {},
   "outputs": [],
   "source": [
    "df['indicator'] = wr.tools.correlate_missing(df, header='num_nulls', method='indicator')"
   ]
  },
  {
   "cell_type": "code",
   "execution_count": 23,
   "id": "75477649",
   "metadata": {},
   "outputs": [
    {
     "data": {
      "text/plain": [
       "0    90\n",
       "1    10\n",
       "Name: indicator, dtype: int64"
      ]
     },
     "execution_count": 23,
     "metadata": {},
     "output_type": "execute_result"
    }
   ],
   "source": [
    "df['indicator'].value_counts()"
   ]
  },
  {
   "cell_type": "markdown",
   "id": "d8b9d64b",
   "metadata": {},
   "source": [
    "## Categorical encoding\n",
    "Categorical encoding is a process where we transform categorical data into representative numerical data. It is a critical step in data pre-processing where most models expect numerical input."
   ]
  },
  {
   "cell_type": "code",
   "execution_count": 24,
   "id": "37badf65",
   "metadata": {},
   "outputs": [],
   "source": [
    "sample_size = 100\n",
    "df = pd.DataFrame(index=range(sample_size))\n",
    "df['gender'] = builder.tools.get_category(selection=['M','F','U'], relative_freq=[6,4,1], size=sample_size, seed=11)\n",
    "df['code'] = builder.tools.get_category(selection=['90674', '90682', '90686', '90688', '90694', '90756'], relative_freq=[13, 9, 7, 4, 2, 1], size=sample_size, seed=11)"
   ]
  },
  {
   "cell_type": "markdown",
   "id": "6830d90e",
   "metadata": {},
   "source": [
    "We start with count encoding where by we replace the categories by the count of the observations for that category. The assumption of this technique is that the number observations shown by each variable is somewhat informative of the predictive power of the category. The obvious danger is if 2 different categories appear the same amount of times in the dataset."
   ]
  },
  {
   "cell_type": "code",
   "execution_count": 25,
   "id": "765c532f",
   "metadata": {},
   "outputs": [],
   "source": [
    "df_encoded = wr.tools.model_encode_count(df, headers=['gender', 'code'],)"
   ]
  },
  {
   "cell_type": "code",
   "execution_count": 26,
   "id": "b115036f",
   "metadata": {},
   "outputs": [
    {
     "data": {
      "text/html": [
       "<div>\n",
       "<style scoped>\n",
       "    .dataframe tbody tr th:only-of-type {\n",
       "        vertical-align: middle;\n",
       "    }\n",
       "\n",
       "    .dataframe tbody tr th {\n",
       "        vertical-align: top;\n",
       "    }\n",
       "\n",
       "    .dataframe thead th {\n",
       "        text-align: right;\n",
       "    }\n",
       "</style>\n",
       "<table border=\"1\" class=\"dataframe\">\n",
       "  <thead>\n",
       "    <tr style=\"text-align: right;\">\n",
       "      <th></th>\n",
       "      <th>gender</th>\n",
       "      <th>code</th>\n",
       "    </tr>\n",
       "  </thead>\n",
       "  <tbody>\n",
       "    <tr>\n",
       "      <th>0</th>\n",
       "      <td>58</td>\n",
       "      <td>28</td>\n",
       "    </tr>\n",
       "    <tr>\n",
       "      <th>1</th>\n",
       "      <td>58</td>\n",
       "      <td>28</td>\n",
       "    </tr>\n",
       "    <tr>\n",
       "      <th>2</th>\n",
       "      <td>36</td>\n",
       "      <td>9</td>\n",
       "    </tr>\n",
       "    <tr>\n",
       "      <th>3</th>\n",
       "      <td>6</td>\n",
       "      <td>10</td>\n",
       "    </tr>\n",
       "    <tr>\n",
       "      <th>4</th>\n",
       "      <td>36</td>\n",
       "      <td>10</td>\n",
       "    </tr>\n",
       "  </tbody>\n",
       "</table>\n",
       "</div>"
      ],
      "text/plain": [
       "   gender  code\n",
       "0      58    28\n",
       "1      58    28\n",
       "2      36     9\n",
       "3       6    10\n",
       "4      36    10"
      ]
     },
     "execution_count": 26,
     "metadata": {},
     "output_type": "execute_result"
    }
   ],
   "source": [
    "df_encoded.head()"
   ]
  },
  {
   "cell_type": "code",
   "execution_count": 27,
   "id": "00498bf8",
   "metadata": {},
   "outputs": [
    {
     "data": {
      "text/plain": [
       "<Figure size 600x300 with 0 Axes>"
      ]
     },
     "execution_count": 27,
     "metadata": {},
     "output_type": "execute_result"
    },
    {
     "data": {
      "text/plain": [
       "<AxesSubplot: >"
      ]
     },
     "execution_count": 27,
     "metadata": {},
     "output_type": "execute_result"
    },
    {
     "data": {
      "text/plain": [
       "<AxesSubplot: xlabel='gender', ylabel='Count'>"
      ]
     },
     "execution_count": 27,
     "metadata": {},
     "output_type": "execute_result"
    },
    {
     "data": {
      "text/plain": [
       "Text(0.5, 1.0, 'Original')"
      ]
     },
     "execution_count": 27,
     "metadata": {},
     "output_type": "execute_result"
    },
    {
     "data": {
      "text/plain": [
       "<AxesSubplot: >"
      ]
     },
     "execution_count": 27,
     "metadata": {},
     "output_type": "execute_result"
    },
    {
     "data": {
      "text/plain": [
       "<AxesSubplot: xlabel='gender', ylabel='Count'>"
      ]
     },
     "execution_count": 27,
     "metadata": {},
     "output_type": "execute_result"
    },
    {
     "data": {
      "text/plain": [
       "Text(0.5, 1.0, 'Count Encoded')"
      ]
     },
     "execution_count": 27,
     "metadata": {},
     "output_type": "execute_result"
    },
    {
     "data": {
      "image/png": "[encoded data removed]",
      "text/plain": [
       "<Figure size 600x300 with 2 Axes>"
      ]
     },
     "metadata": {},
     "output_type": "display_data"
    }
   ],
   "source": [
    "plt.figure(figsize=(6,3))\n",
    "plt.subplot(121)\n",
    "sns.histplot(data=df['gender'])\n",
    "plt.title('Original')\n",
    "plt.subplot(122)\n",
    "sns.histplot(data=df_encoded['gender'])\n",
    "plt.title('Count Encoded')"
   ]
  },
  {
   "cell_type": "markdown",
   "id": "6458632c",
   "metadata": {},
   "source": [
    "Integer encoding replaces the categories by digits from 1 to n, where n is the number of distinct categories of the variable. Integer encoding can be either nominal or orinal.\n",
    "\n",
    "Nominal data is categorical variables without any particular order between categories. This means that the categories cannot be sorted and there is no natural order between them. \n",
    "\n",
    "Ordinal data represents categories with a natural, ordered relationship between each category. This means that the categories can be sorted in either ascending or descending order. In order to encode integers as ordinal, a ranking must be provided."
   ]
  },
  {
   "cell_type": "code",
   "execution_count": 28,
   "id": "0eb7dc0d",
   "metadata": {},
   "outputs": [
    {
     "ename": "AttributeError",
     "evalue": "'WrangleIntentModel' object has no attribute 'model_encode_interger'",
     "output_type": "error",
     "traceback": [
      "\u001b[0;31m---------------------------------------------------------------------------\u001b[0m",
      "\u001b[0;31mAttributeError\u001b[0m                            Traceback (most recent call last)",
      "Cell \u001b[0;32mIn[28], line 1\u001b[0m\n\u001b[0;32m----> 1\u001b[0m df_encoded \u001b[38;5;241m=\u001b[39m \u001b[43mwr\u001b[49m\u001b[38;5;241;43m.\u001b[39;49m\u001b[43mtools\u001b[49m\u001b[38;5;241;43m.\u001b[39;49m\u001b[43mmodel_encode_interger\u001b[49m(df, headers\u001b[38;5;241m=\u001b[39m[\u001b[38;5;124m'\u001b[39m\u001b[38;5;124mgender\u001b[39m\u001b[38;5;124m'\u001b[39m, \u001b[38;5;124m'\u001b[39m\u001b[38;5;124mcode\u001b[39m\u001b[38;5;124m'\u001b[39m])\n",
      "\u001b[0;31mAttributeError\u001b[0m: 'WrangleIntentModel' object has no attribute 'model_encode_interger'"
     ]
    }
   ],
   "source": [
    "df_encoded = wr.tools.model_encode_interger(df, headers=['gender', 'code'])"
   ]
  },
  {
   "cell_type": "code",
   "execution_count": null,
   "id": "014c5862",
   "metadata": {},
   "outputs": [],
   "source": [
    "plt.figure(figsize=(9,3))\n",
    "plt.subplot(121)\n",
    "sns.histplot(data=df['code'])\n",
    "plt.title('Original')\n",
    "plt.subplot(122)\n",
    "sns.histplot(data=df_encoded['code'])\n",
    "plt.title('Ordinal Encoded')"
   ]
  },
  {
   "cell_type": "markdown",
   "id": "08c04dfe",
   "metadata": {},
   "source": [
    "One hot encoding, creates a new column for each categorical variable taking values 0 or 1 indicating if a category is present in an observation. One hot encoding makes data more useful and expressive, and it can be rescaled easily. It provides more nuanced predictions than single labels."
   ]
  },
  {
   "cell_type": "code",
   "execution_count": null,
   "id": "e0235c74",
   "metadata": {},
   "outputs": [],
   "source": [
    "df_encoded = wr.tools.model_encode_one_hot(df, headers=['gender', 'code'])"
   ]
  },
  {
   "cell_type": "code",
   "execution_count": null,
   "id": "95b05b89",
   "metadata": {},
   "outputs": [],
   "source": [
    "wr.canonical_report(df_encoded, stylise=False)"
   ]
  },
  {
   "cell_type": "markdown",
   "id": "42c0a1b6",
   "metadata": {},
   "source": [
    "One hot encoding into k-1 binary variables takes into account that we can use 1 less dimension and still represent the whole information. Most machine learning algorithms, consider the entire data set and therefore, encoding categorical variables into k-1 binary variables is better as it avoids introducing redundant information and can reduce bias."
   ]
  },
  {
   "cell_type": "code",
   "execution_count": null,
   "id": "8b096a6a",
   "metadata": {},
   "outputs": [],
   "source": [
    "df_encoded = wr.tools.model_encode_one_hot(df, headers=['gender', 'code'], drop_first=True)"
   ]
  },
  {
   "cell_type": "code",
   "execution_count": null,
   "id": "b579cdef",
   "metadata": {},
   "outputs": [],
   "source": [
    "wr.canonical_report(df_encoded, stylise=False)"
   ]
  },
  {
   "cell_type": "markdown",
   "id": "b4b079d1",
   "metadata": {},
   "source": [
    "## Discretisation\n",
    "Discretisation is the process of transforming continuous variables into discrete variables by creating a set of contiguous intervals that span the range of the variable's values. Discretisation helps handle outliers by placing these values into the lower or higher intervals, together with the remaining values of the distribution. Thus, these outlier observations no longer differ from the rest of the values at the tails of the distribution, as they are now all together in the same interval. In addition, by creating appropriate intervals, discretisation can help spread the values of a skewed variable across a set of intervals with an equal number of observations.\n"
   ]
  },
  {
   "cell_type": "code",
   "execution_count": null,
   "id": "9aae78c2",
   "metadata": {},
   "outputs": [],
   "source": [
    "sample_size = 100\n",
    "df = pd.DataFrame(index=range(sample_size))\n",
    "df['num'] = builder.tools.get_distribution(distribution='lognormal', size=sample_size, seed=11, mean=0, sigma=1)"
   ]
  },
  {
   "cell_type": "markdown",
   "id": "28dd36cc",
   "metadata": {},
   "source": [
    "Setting ``granularity`` as an integer evenly creates that number of intervals"
   ]
  },
  {
   "cell_type": "code",
   "execution_count": null,
   "id": "5f8ed4ec",
   "metadata": {},
   "outputs": [],
   "source": [
    "df['cat'] = wr.tools.correlate_discrete_intervals(df, header='num', granularity=6)"
   ]
  },
  {
   "cell_type": "code",
   "execution_count": null,
   "id": "78168da3",
   "metadata": {},
   "outputs": [],
   "source": [
    "df['cat'].value_counts()"
   ]
  },
  {
   "cell_type": "markdown",
   "id": "251b39c7",
   "metadata": {},
   "source": [
    "Setting ``granularity`` as a float indicates the gap between each interval"
   ]
  },
  {
   "cell_type": "code",
   "execution_count": null,
   "id": "e1b0a90a",
   "metadata": {},
   "outputs": [],
   "source": [
    "df['cat'] = wr.tools.correlate_discrete_intervals(df, header='num', granularity=1.0)"
   ]
  },
  {
   "cell_type": "code",
   "execution_count": null,
   "id": "4bf51c31",
   "metadata": {},
   "outputs": [],
   "source": [
    "df['cat'].value_counts()"
   ]
  },
  {
   "cell_type": "markdown",
   "id": "21d0f3c3",
   "metadata": {},
   "source": [
    "Setting ``granularity`` as a list gives the percentile or quantities, All should fall between 0 an 1"
   ]
  },
  {
   "cell_type": "code",
   "execution_count": null,
   "id": "3979b991",
   "metadata": {},
   "outputs": [],
   "source": [
    "df['cat'] = wr.tools.correlate_discrete_intervals(df, header='num', granularity=[0.1,0.25,0.5,0.75,0.9])"
   ]
  },
  {
   "cell_type": "code",
   "execution_count": null,
   "id": "c252c5a8",
   "metadata": {
    "scrolled": true
   },
   "outputs": [],
   "source": [
    "df['cat'].value_counts()"
   ]
  },
  {
   "cell_type": "markdown",
   "id": "bd56e3ef",
   "metadata": {},
   "source": [
    "Setting ``granularity`` as a list of tuples gives us domain knowledge discretisation where the user provides specific interval periods."
   ]
  },
  {
   "cell_type": "code",
   "execution_count": null,
   "id": "5473233c",
   "metadata": {},
   "outputs": [],
   "source": [
    "df['cat'] = wr.tools.correlate_discrete_intervals(df, header='num', granularity=[(0,0.2),(0.2,0.7),(0.7,2),(2,3),(3,8)])"
   ]
  },
  {
   "cell_type": "code",
   "execution_count": null,
   "id": "86260ddc",
   "metadata": {},
   "outputs": [],
   "source": [
    "df['cat'].value_counts()"
   ]
  },
  {
   "cell_type": "markdown",
   "id": "103e2a8a",
   "metadata": {},
   "source": [
    "With the intervals created we are also able to rename the new features appropriate for their use. In this case we are creating three even bins and naming them low, medium and high."
   ]
  },
  {
   "cell_type": "code",
   "execution_count": null,
   "id": "8a194108",
   "metadata": {},
   "outputs": [],
   "source": [
    "df['cat'] = wr.tools.correlate_discrete_intervals(df, header='num', granularity=3, categories=['low', 'mid', 'high'])"
   ]
  },
  {
   "cell_type": "code",
   "execution_count": null,
   "id": "40eee797",
   "metadata": {
    "scrolled": true
   },
   "outputs": [],
   "source": [
    "df['cat'].value_counts()"
   ]
  },
  {
   "cell_type": "markdown",
   "id": "dcdc7539",
   "metadata": {},
   "source": [
    "## Outlier capping or removal\n",
    "An outlier is a data point which is significantly different from the remaining data. Statistics such as the mean and variance are very susceptible to outliers. In addition, some machine learning models are sensitive to outliers which may decrease their performance. \n",
    "\n",
    "Note we have have already seen discretisation used as a means of outlier capping."
   ]
  },
  {
   "cell_type": "code",
   "execution_count": null,
   "id": "4c9c4aba",
   "metadata": {},
   "outputs": [],
   "source": [
    "# create a dataset with outliers\n",
    "sample_size = 100\n",
    "df = pd.DataFrame(index=range(sample_size))\n",
    "df['num'] = builder.tools.get_dist_bounded_normal(mean=0, std=0.3, upper=1, lower=-1, size=sample_size, seed=11)\n",
    "df['num'].iloc[:4] = [1.2, 1.03, 1.12, -1.04]"
   ]
  },
  {
   "cell_type": "code",
   "execution_count": null,
   "id": "ee4dba61",
   "metadata": {},
   "outputs": [],
   "source": [
    "_ = plt.figure(figsize=(3,4))\n",
    "_ = sns.boxplot(df['num'], palette='rainbow')\n",
    "_ = plt.title(\"outliers\")"
   ]
  },
  {
   "cell_type": "markdown",
   "id": "d4f02a33",
   "metadata": {},
   "source": [
    "This technique creates a column that marks outliers with a 1 if identified or a 0 if not. This allows us to create a broader set of options to deal with outlier variables."
   ]
  },
  {
   "cell_type": "code",
   "execution_count": null,
   "id": "71e04af4",
   "metadata": {},
   "outputs": [],
   "source": [
    "df['outliers'] = wr.tools.correlate_mark_outliers(df, header='num')\n",
    "df['outliers'].value_counts()"
   ]
  },
  {
   "cell_type": "markdown",
   "id": "b1bf50b2",
   "metadata": {},
   "source": [
    "The 'empirical' rule states that for a normal distribution, nearly all of the data will fall within three standard deviations of the mean. Given mu and sigma, a simple way to identify outliers is to compute a z-score for every value, which is defined as the number of standard deviations away a value is from the mean. therefor measure given should be the z-score or the number of standard deviations away a value is from the mean. The 68–95–99.7 rule, guide the percentage of values that lie within a band around the mean in a normal distribution with a width of two, four and six standard deviations, respectively and thus the choice of z-score"
   ]
  },
  {
   "cell_type": "code",
   "execution_count": null,
   "id": "6eb44b08",
   "metadata": {},
   "outputs": [],
   "source": [
    "df_cap = wr.tools.model_drop_outliers(df, header='num', method='empirical', measure=4)"
   ]
  },
  {
   "cell_type": "code",
   "execution_count": null,
   "id": "42d0bf6d",
   "metadata": {},
   "outputs": [],
   "source": [
    "_ = plt.figure(figsize=(7,4))\n",
    "plt.subplot(121)\n",
    "sns.boxplot(df['num'], palette='rainbow')\n",
    "plt.title('Original')\n",
    "plt.subplot(122)\n",
    "sns.boxplot(df_cap['num'], palette='rainbow')\n",
    "plt.title('Empirical Remove Outliers')"
   ]
  },
  {
   "cell_type": "markdown",
   "id": "b73d0e17",
   "metadata": {},
   "source": [
    "For the 'interquartile' range (IQR), also called the midspread, middle 50%, or H‑spread, is a measure of statistical dispersion, being equal to the difference between 75th and 25th percentiles, or between upper and lower quartiles of a sample set. The IQR can be used to identify outliers by defining limits on the sample values that are a factor k of the IQR below the 25th percentile or above the 75th percentile. The common value for the factor k is 1.5. A factor k of 3 or more can be used to identify values that are extreme outliers.\n"
   ]
  },
  {
   "cell_type": "code",
   "execution_count": null,
   "id": "ccf2f311",
   "metadata": {},
   "outputs": [],
   "source": [
    "df_cap = wr.tools.model_drop_outliers(df, header='num', method='interquartile', measure=3)"
   ]
  },
  {
   "cell_type": "code",
   "execution_count": null,
   "id": "bc7cbafc",
   "metadata": {},
   "outputs": [],
   "source": [
    "_ = plt.figure(figsize=(7,4))\n",
    "plt.subplot(121)\n",
    "sns.boxplot(df['num'], palette='rainbow')\n",
    "plt.title('Original')\n",
    "plt.subplot(122)\n",
    "sns.boxplot(df_cap['num'], palette='rainbow')\n",
    "plt.title('IRQ Remove Outliers')"
   ]
  },
  {
   "cell_type": "markdown",
   "id": "8611f513",
   "metadata": {},
   "source": [
    "## Feature Scaling\n",
    "Feature scaling refers to the methods or techniques used to normalize the range of independent variables in our data, or in other words, the methods to set the feature value range within a similar scale. Feature scaling is generally the last step in the data preprocessing pipeline, performed just before training the machine learning algorithms.\n",
    "\n",
    "Feature magnitude matters because:\n",
    "* The regression coefficients of linear models are directly influenced by the scale of the variable.\n",
    "* Gradient descent converges faster when features are on similar scales\n",
    "* Feature scaling helps decrease the time to find support vectors for SVMs\n",
    "* Euclidean distances are sensitive to feature magnitude.\n",
    "* Some algorithms, like PCA require the features to be centered at 0."
   ]
  },
  {
   "cell_type": "code",
   "execution_count": null,
   "id": "f162f931",
   "metadata": {},
   "outputs": [],
   "source": [
    "sample_size = 100\n",
    "df = pd.DataFrame(index=range(sample_size))\n",
    "df['dist'] = builder.tools.get_dist_normal(mean=10, std=3, size=sample_size, seed=11)\n",
    "print(f\"mean: {np.around(df['dist'].mean())}, std {np.around(df['dist'].std())}, min {np.around(df['dist'].min())}, max {np.around(df['dist'].max())}\")"
   ]
  },
  {
   "cell_type": "markdown",
   "id": "13610a84",
   "metadata": {},
   "source": [
    "Standardisation involves centering the variable at zero, and standardising the variance to 1. The procedure involves subtracting the mean of each observation and then dividing by the standard deviation."
   ]
  },
  {
   "cell_type": "code",
   "execution_count": null,
   "id": "7a9f1952",
   "metadata": {},
   "outputs": [],
   "source": [
    "df['standardize'] = wr.tools.correlate_numbers(df, header='dist', standardize=True)"
   ]
  },
  {
   "cell_type": "code",
   "execution_count": null,
   "id": "61361002",
   "metadata": {
    "scrolled": true
   },
   "outputs": [],
   "source": [
    "print(f\"mean: {np.around(df['standardize'].mean())} - std {np.around(df['standardize'].std())}\")"
   ]
  },
  {
   "cell_type": "code",
   "execution_count": null,
   "id": "dfedc597",
   "metadata": {},
   "outputs": [],
   "source": [
    "plt.subplot(121)\n",
    "sns.histplot(data=df['dist'], bins=20, kde=True)\n",
    "plt.title('Original')\n",
    "plt.subplot(122)\n",
    "sns.histplot(data=df['standardize'], bins=20, kde=True)\n",
    "plt.title('standardize')"
   ]
  },
  {
   "cell_type": "markdown",
   "id": "59acfe9b",
   "metadata": {},
   "source": [
    "Normalization is a data preparation technique that is frequently used. Normalisation involves centering the variable at zero, and re-scaling a given value range. The procedure involves subtracting the mean of each observation and then dividing it by difference between the minimum and maximum value."
   ]
  },
  {
   "cell_type": "code",
   "execution_count": null,
   "id": "67dd3e18",
   "metadata": {},
   "outputs": [],
   "source": [
    "df['normalize'] = wr.tools.correlate_numbers(df, header='dist', normalize=(-1,1))"
   ]
  },
  {
   "cell_type": "code",
   "execution_count": null,
   "id": "b172b493",
   "metadata": {},
   "outputs": [],
   "source": [
    "print(f\"mean: {np.around(df['normalize'].mean())}, min {np.around(df['normalize'].min())}, max {np.around(df['normalize'].max())}\")"
   ]
  },
  {
   "cell_type": "code",
   "execution_count": null,
   "id": "692b6ac8",
   "metadata": {},
   "outputs": [],
   "source": [
    "plt.subplot(121)\n",
    "sns.histplot(data=df['dist'], bins=20, kde=True)\n",
    "plt.title('Original')\n",
    "plt.subplot(122)\n",
    "sns.histplot(data=df['normalize'], bins=20, kde=True)\n",
    "plt.title('normalize')"
   ]
  },
  {
   "cell_type": "markdown",
   "id": "191841e9",
   "metadata": {},
   "source": [
    "## Variable transformation\n",
    "Some machine learning models like linear and logistic regression assume that the variables are normally distributed. Often, variables are not normally distributed, but, transforming the variables to map their distribution to a Gaussian distribution may, and often does, boost the performance of the machine learning algorithm.The most commonly used "
   ]
  },
  {
   "cell_type": "code",
   "execution_count": null,
   "id": "6e2883b0",
   "metadata": {},
   "outputs": [],
   "source": [
    "sample_size = 100\n",
    "df = pd.DataFrame(index=range(sample_size))\n",
    "df['dist'] = builder.tools.get_distribution(distribution='beta', size=sample_size, seed=11, a=1, b=5)"
   ]
  },
  {
   "cell_type": "markdown",
   "id": "c9e78358",
   "metadata": {},
   "source": [
    "The most commonly used methods to transform variables are:\n",
    "\n",
    "* Logarithmic transformation - $ \\log(x) $\n",
    "* Square root transformation - $ \\sqrt{x} $\n",
    "* Qube root transformation - $ \\sqrt[3]{x} $\n",
    "\n",
    "In our example we show the ``transformation`` parameter set to ``sqrt`` but can be set to ``log`` or ``cbrt``"
   ]
  },
  {
   "cell_type": "code",
   "execution_count": null,
   "id": "9ef9af48",
   "metadata": {},
   "outputs": [],
   "source": [
    "df['sqrt'] = wr.tools.correlate_numbers(df, header='dist', transform='sqrt')"
   ]
  },
  {
   "cell_type": "code",
   "execution_count": null,
   "id": "f45e8c97",
   "metadata": {},
   "outputs": [],
   "source": [
    "#create histograms\n",
    "plt.subplot(121)\n",
    "sns.histplot(data=df['dist'], bins=20, kde=True)\n",
    "plt.title('Original')\n",
    "plt.subplot(122)\n",
    "sns.histplot(data=df['sqrt'], bins=20, kde=True)\n",
    "plt.title('Square Root Transformed')"
   ]
  },
  {
   "cell_type": "markdown",
   "id": "3694ac49",
   "metadata": {},
   "source": [
    "The Box-Cox transformation is an adaptation of the exponential transformation, scanning through various exponents, and it already represents the untransformed variable, as well as the log transformed, reciprocal, square and cube root transformed, as the lambda varies across the range of -5 to 5. So by doing Box-Cox transformation, in a way, we are evaluating all the other transformations and choosing the best one. Box-Cox can only be applied to positive variables."
   ]
  },
  {
   "cell_type": "code",
   "execution_count": null,
   "id": "d0092577",
   "metadata": {},
   "outputs": [],
   "source": [
    "df['boxcox'] = wr.tools.correlate_numbers(df, header='dist', transform='boxcox')"
   ]
  },
  {
   "cell_type": "code",
   "execution_count": null,
   "id": "cbab7193",
   "metadata": {},
   "outputs": [],
   "source": [
    "#create histograms\n",
    "plt.subplot(121)\n",
    "sns.histplot(data=df['dist'], bins=20, kde=True)\n",
    "plt.title('Original')\n",
    "plt.subplot(122)\n",
    "sns.histplot(data=df['boxcox'], bins=20, kde=True)\n",
    "plt.title('Boxcox Transformed')"
   ]
  },
  {
   "cell_type": "markdown",
   "id": "cd351969",
   "metadata": {},
   "source": [
    "Yeo-Johnson is a modification of the Box-Cox transformation so that it can be applied as well to non-positive variables"
   ]
  },
  {
   "cell_type": "code",
   "execution_count": null,
   "id": "ca78f6d0",
   "metadata": {},
   "outputs": [],
   "source": [
    "df['yeojohnson'] = wr.tools.correlate_numbers(df, header='dist', transform='yeojohnson')"
   ]
  },
  {
   "cell_type": "code",
   "execution_count": null,
   "id": "e58cb6d0",
   "metadata": {},
   "outputs": [],
   "source": [
    "#create histograms\n",
    "plt.subplot(121)\n",
    "sns.histplot(data=df['dist'], bins=20, kde=True)\n",
    "plt.title('Original')\n",
    "plt.subplot(122)\n",
    "sns.histplot(data=df['yeojohnson'], bins=20, kde=True)\n",
    "plt.title('Yeo Johnson Transformed')"
   ]
  },
  {
   "cell_type": "code",
   "execution_count": null,
   "id": "1d681ccb",
   "metadata": {},
   "outputs": [],
   "source": []
  }
 ],
 "metadata": {
  "kernelspec": {
   "display_name": "Python 3 (ipykernel)",
   "language": "python",
   "name": "python3"
  },
  "language_info": {
   "codemirror_mode": {
    "name": "ipython",
    "version": 3
   },
   "file_extension": ".py",
   "mimetype": "text/x-python",
   "name": "python",
   "nbconvert_exporter": "python",
   "pygments_lexer": "ipython3",
   "version": "3.10.8"
  }
 },
 "nbformat": 4,
 "nbformat_minor": 5
}
